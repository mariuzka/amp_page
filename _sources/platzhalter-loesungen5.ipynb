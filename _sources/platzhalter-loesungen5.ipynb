{
 "cells": [
  {
   "cell_type": "markdown",
   "id": "dd2ff8ca",
   "metadata": {},
   "source": [
    "# Lösungen\n",
    "\n",
    "Die Lösungen wurden temporär entfernt und werden bald wieder online gestellt."
   ]
  }
 ],
 "metadata": {
  "kernelspec": {
   "display_name": "Python 3",
   "language": "python",
   "name": "python3"
  },
  "language_info": {
   "codemirror_mode": {
    "name": "ipython",
    "version": 3
   },
   "file_extension": ".py",
   "mimetype": "text/x-python",
   "name": "python",
   "nbconvert_exporter": "python",
   "pygments_lexer": "ipython3",
   "version": "3.8.8"
  }
 },
 "nbformat": 4,
 "nbformat_minor": 5
}
