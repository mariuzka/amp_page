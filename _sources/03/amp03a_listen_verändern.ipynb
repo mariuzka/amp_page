{
 "cells": [
  {
   "cell_type": "markdown",
   "id": "d0331e52",
   "metadata": {},
   "source": [
    "# Listen verändern im Loop\n",
    "\n",
    "Oft verwendet man For-Loops nicht nur, um auf die Elemente einer Liste (oder eines sonstigen iterierbaren Objektes) nacheinander zuzugreifen, sondern diese auch zu verändern. Dabei gibt es zwei verschiedene Wege, Elemente einer Liste innerhalb eines For-Loops zu verändern und man muss je nachdem, mit welchen Objekten man es innerhalb der Liste zu tun hat, einen bestimmten Weg wählen. Zu unterscheiden sind dabei sogenannte *unveränderbare* Objekte und *veränderbare* Objekte. \n",
    "\n",
    "Bei veränderbaren Objekten können wir diese unter Umständen direkt anhand der Schleifenvariable verändern. Bei unveränderbaren Objekten hingegen ändert sich bei Veränderung der Schleifenvariable nichts am repräsentierten Objekt. In diesem Fall muss das Objekt per Listenindizierung direkt in der Liste mit dem neuen Wert überschrieben werden.\n",
    "\n",
    "\n",
    "## Listen mit unveränderbaren Elementen\n",
    "\n",
    "Angenommen wir wir haben eine Liste `money`, welche 3 Elemente des Typs `int` enthält. Diese erstelle ich im Folgenden:"
   ]
  },
  {
   "cell_type": "code",
   "execution_count": 40,
   "id": "39fd716e",
   "metadata": {},
   "outputs": [],
   "source": [
    "money = [100, 200, 500]"
   ]
  },
  {
   "cell_type": "markdown",
   "id": "660bfad7",
   "metadata": {},
   "source": [
    "Nun wollen wir die 3 Elemente innerhalb der Liste `money` jeweils um den Wert 50 erhöhen. Probieren wir es mal mit folgendem For-Loop:"
   ]
  },
  {
   "cell_type": "code",
   "execution_count": 41,
   "id": "1bc8fc23",
   "metadata": {},
   "outputs": [],
   "source": [
    "for m in money:\n",
    "    m = m + 50"
   ]
  },
  {
   "cell_type": "markdown",
   "id": "41994fd4",
   "metadata": {},
   "source": [
    "Die Hoffnung ist nun, dass sich jedes Element der Liste `money` um den Wert 50 erhöht hat. Schauen wir mal nach:"
   ]
  },
  {
   "cell_type": "code",
   "execution_count": 42,
   "id": "d8d076ee",
   "metadata": {},
   "outputs": [
    {
     "data": {
      "text/plain": [
       "[100, 200, 500]"
      ]
     },
     "execution_count": 42,
     "metadata": {},
     "output_type": "execute_result"
    }
   ],
   "source": [
    "money"
   ]
  },
  {
   "cell_type": "markdown",
   "id": "5d481f53",
   "metadata": {},
   "source": [
    "Das hat leider nicht geklappt. Wir haben zwar innerhalb des For-Loops die Schleifenvariable `m` jeweils um 50 erhöht, allerdings haben wir die Elemente der Liste nicht überschrieben. Das liegt daran, dass die Elemente der Liste `money` unveränderbare Objekte sind. *Verändern* wir die Schleifenvariable indem wir diese mit einem neuen Wert überschreiben, dann ändern wir nicht das Objekt, das in der Liste liegt, sondern weisen der Schleifenvariable ein neues Objekt zu. Damit kappen wir gleichzeitig die Verbindung zwischen der Schleifenvariable und dem Objekt, das in der Liste liegt und wir eigentlich ja verändern wollten.\n",
    "\n",
    "Um unveränderbare Objekte innerhalb von Listen in einem For-Loop zu \"ändern\", müssen wir diese direkt in der Liste überschreiben. Um das zu tun, müssen wir innerhalb des For-Loops per Listenindizierung direkt auf die Position des Elements in der Liste zugreifen und für diese Position ein neues Objekt einfügen und somit das vorherige Objekt überschreiben. Um Listenindizierung zu nutzen, brauchen wir die entsprechenden Indizes der zu verändernden Elemente in der Liste, die wir uns mit `range()` und `len()` produzieren. Im Folgenden greife ich innerhalb des For-Loops per Indizierung nacheinander auf die Elemente des For-Loops zu und überschreibe jedes Element in der Liste mit einem neuen Wert bzw. ich füge für jede Position der Liste ein neues Objekt ein, das ich mir aber mithilfe des vorherigen Objektes auf dieser Position berechne."
   ]
  },
  {
   "cell_type": "code",
   "execution_count": 43,
   "id": "5b52d0b9",
   "metadata": {},
   "outputs": [],
   "source": [
    "for i in range(len(money)):\n",
    "    money[i] = money[i] + 50"
   ]
  },
  {
   "cell_type": "markdown",
   "id": "d43818e4",
   "metadata": {},
   "source": [
    "Werfen wir nun einen Blick auf die Liste `money`, sehen wir, dass sich die Elemente nun wirklich verändert haben."
   ]
  },
  {
   "cell_type": "code",
   "execution_count": 44,
   "id": "95ddb02e",
   "metadata": {
    "scrolled": true
   },
   "outputs": [
    {
     "data": {
      "text/plain": [
       "[150, 250, 550]"
      ]
     },
     "execution_count": 44,
     "metadata": {},
     "output_type": "execute_result"
    }
   ],
   "source": [
    "money"
   ]
  },
  {
   "cell_type": "markdown",
   "id": "0bfda6a8",
   "metadata": {},
   "source": [
    "**Wir merken uns:** Sind die Elemente/Objekte, auf die die Schleifenvariable nach und nach zeigt, unveränderbar, dann können wir diese nicht direkt über die Schleifenvariable selbst ändern, sondern müssen per Listenindizierung auf die Elemente/Objekte zugreifen und diese überschreiben."
   ]
  },
  {
   "cell_type": "markdown",
   "id": "d8001c9e",
   "metadata": {},
   "source": [
    "## Listen mit veränderbaren Elementen\n",
    "\n",
    "Das Vorgehen von oben müssen wir allerdings nicht jedes mal so machen, sondern eben nur, wenn wir eigentlich unveränderbare Objekte innerhalb einer Liste in einem For-Loop \"verändern\" wollen. Im Falle von sogenannten veränderbaren Objekten müssen wir diesen Umweg über die Listenindizierung allerdings nicht nehmen, sondern können die Schleifenvariable so behandeln als wäre es das Objekt selbst: Jede Veränderung an der Schleifenvariable ist eine Veränderung am eigentlichen Objekt in der Liste, über die wir loopen.\n",
    "\n",
    "Schauen wir uns das Ganze anhand eines Beispieles bei der wir den Inhalt einer Liste von Listen (also Listen) innerhalb eines For-Loops verändern wollen. Wie gesagt, eine Liste ist ein veränderbares Objekt. Dadurch können wir in einem For-Loop diesmal direkt nacheinander auf den Inhalt der geschachtelten Liste zugreifen und diesen direkt anhand der Schleifenvariable verändern. Denn der Inhalt der geschachtelten Liste sind Listen und Listen sind veränderbare Objekte.\n",
    "\n",
    "Hier erstelle ich zunächst die geschachtelte Liste:"
   ]
  },
  {
   "cell_type": "code",
   "execution_count": 45,
   "id": "cefc553e",
   "metadata": {},
   "outputs": [],
   "source": [
    "population = [[\"Hartmut\"], [\"Anna\"], [\"Michael\"]]"
   ]
  },
  {
   "cell_type": "code",
   "execution_count": 46,
   "id": "b922ee55",
   "metadata": {},
   "outputs": [
    {
     "data": {
      "text/plain": [
       "[['Hartmut'], ['Anna'], ['Michael']]"
      ]
     },
     "execution_count": 46,
     "metadata": {},
     "output_type": "execute_result"
    }
   ],
   "source": [
    "population"
   ]
  },
  {
   "cell_type": "markdown",
   "id": "048c8f5d",
   "metadata": {},
   "source": [
    "Nun gehe ich per For-Loop diese geschachtelte Liste durch. Der For-Loop weist nacheinander der Schleifenvariable `agent` ein Element (eine Liste) der geschachtelten Liste zu. Diese jeweils durch die Schleifenvariable repräsentierte Liste kann ich innerhalb des For-Loops direkt verändern. Im Beispiel nutze ich die Methode `append()`, um jeder Sub-Liste der geschachtelten Liste eine `100` anzuhängen."
   ]
  },
  {
   "cell_type": "code",
   "execution_count": 47,
   "id": "c83a95e7",
   "metadata": {},
   "outputs": [],
   "source": [
    "for agent in population:\n",
    "    agent.append(100)"
   ]
  },
  {
   "cell_type": "markdown",
   "id": "5adc2bfd",
   "metadata": {},
   "source": [
    "Wenn wir uns nun die Variable `population` anschauen, dann sehen wir, dass sich tatsächlich die damit beschriftete Liste bzw. der Inhalt dieser geschachtelten Liste verändert hat:"
   ]
  },
  {
   "cell_type": "code",
   "execution_count": 48,
   "id": "77c551b1",
   "metadata": {},
   "outputs": [
    {
     "data": {
      "text/plain": [
       "[['Hartmut', 100], ['Anna', 100], ['Michael', 100]]"
      ]
     },
     "execution_count": 48,
     "metadata": {},
     "output_type": "execute_result"
    }
   ],
   "source": [
    "population"
   ]
  }
 ],
 "metadata": {
  "kernelspec": {
   "display_name": "Python [conda env:amp_book]",
   "language": "python",
   "name": "conda-env-amp_book-py"
  },
  "language_info": {
   "codemirror_mode": {
    "name": "ipython",
    "version": 3
   },
   "file_extension": ".py",
   "mimetype": "text/x-python",
   "name": "python",
   "nbconvert_exporter": "python",
   "pygments_lexer": "ipython3",
   "version": "3.7.10"
  }
 },
 "nbformat": 4,
 "nbformat_minor": 5
}
