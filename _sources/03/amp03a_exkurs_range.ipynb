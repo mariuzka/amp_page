{
 "cells": [
  {
   "cell_type": "markdown",
   "id": "ba43eafe",
   "metadata": {},
   "source": [
    "# Exkurs: Zahlenreihen erstellen\n",
    "\n",
    "Schauen wir uns nun die Funktion `range()` an, die man in vielen For-Loops braucht. Die Funktion `range()` erstellt eine Zahlenreihe einer bestimmten Länge. Das ist vor allem in zwei Situationen praktisch:\n",
    "\n",
    "1. Wenn uns der Inhalt der Liste, über die der For-Loop \"looped\", eigentlich egal ist, wir aber eine Liste einer bestimmten Länge brauchen, um dem Loop zu sagen, wie oft er loopen soll. (Wir wollen einfach nur für jeden Chip einmal in die Hände klatschen, die Chips an sich sind uns aber eigentlich komplett egal.)\n",
    "\n",
    "2. Wenn wir tatsächlich über eine Liste mit einer Zahlenreihe loopen wollen, weil wir die Zahlen beispielsweise als Index beim Zugriff auf Listen verwenden wollen.\n",
    "\n",
    "Schauen wir uns die Funktion `range()` mal genauer an. Geben wir nur ein Argument in die Funktion `range()` ein, so steht dieses Argument praktisch für die Länge der zurückgegebenen Sequenz, wobei das Argument ein `int` d.h. eine ganz Zahl sein muss. Beispiel:"
   ]
  },
  {
   "cell_type": "code",
   "execution_count": 1,
   "id": "8bd3ddaf",
   "metadata": {},
   "outputs": [
    {
     "data": {
      "text/plain": [
       "range(0, 3)"
      ]
     },
     "execution_count": 1,
     "metadata": {},
     "output_type": "execute_result"
    }
   ],
   "source": [
    "range(3)"
   ]
  },
  {
   "cell_type": "markdown",
   "id": "b740098d",
   "metadata": {},
   "source": [
    "Ok, aber das sieht jetzt weder nach einer *Zahlenreihe* noch nach einer Liste aus. Tatsächlich gibt uns `range()` auch nicht direkt eine *Zahlenreihe* oder eine Liste zurück, sondern ein spezielles \"range-Objekt\". Wenn wir wirklich eine Liste mit Zahlen haben wollen, müssen wir das erstellte range-Objekt noch mittels der Funktion `list()` in eine Liste umwandeln:"
   ]
  },
  {
   "cell_type": "code",
   "execution_count": 2,
   "id": "ecc4f921",
   "metadata": {
    "scrolled": true
   },
   "outputs": [
    {
     "data": {
      "text/plain": [
       "[0, 1, 2]"
      ]
     },
     "execution_count": 2,
     "metadata": {},
     "output_type": "execute_result"
    }
   ],
   "source": [
    "list(range(3))"
   ]
  },
  {
   "cell_type": "markdown",
   "id": "ee54ee95",
   "metadata": {},
   "source": [
    "Nun sehen wir besser, welche Sequenz an Zahlen `range(3)` produziert. Geben wir das Argument `3` in die Funktion ein, dann fängt `range()` bei 0 an zu \"zählen\" bis die Sequenz die Länge 3 erreicht hat. Wenn wir beispielsweise eine Sequenz der Länge 10 haben wollen, müssen wir entsprechend eine `10` als Argument angeben und wir bekommen eine Zahlenreihe von 0 bis 9 zurück:"
   ]
  },
  {
   "cell_type": "code",
   "execution_count": 3,
   "id": "5d81911f",
   "metadata": {},
   "outputs": [
    {
     "data": {
      "text/plain": [
       "[0, 1, 2, 3, 4, 5, 6, 7, 8, 9]"
      ]
     },
     "execution_count": 3,
     "metadata": {},
     "output_type": "execute_result"
    }
   ],
   "source": [
    "list(range(10))"
   ]
  }
 ],
 "metadata": {
  "kernelspec": {
   "display_name": "Python [conda env:amp_book]",
   "language": "python",
   "name": "conda-env-amp_book-py"
  },
  "language_info": {
   "codemirror_mode": {
    "name": "ipython",
    "version": 3
   },
   "file_extension": ".py",
   "mimetype": "text/x-python",
   "name": "python",
   "nbconvert_exporter": "python",
   "pygments_lexer": "ipython3",
   "version": "3.7.10"
  }
 },
 "nbformat": 4,
 "nbformat_minor": 5
}
