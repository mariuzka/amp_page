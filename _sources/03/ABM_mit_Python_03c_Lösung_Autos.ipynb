{
 "cells": [
  {
   "cell_type": "markdown",
   "metadata": {},
   "source": [
    "# Lösungen Kapitel 3"
   ]
  },
  {
   "cell_type": "markdown",
   "metadata": {},
   "source": [
    "## 1"
   ]
  },
  {
   "cell_type": "code",
   "execution_count": 1,
   "metadata": {},
   "outputs": [],
   "source": [
    "STREET_LEN = 10"
   ]
  },
  {
   "cell_type": "markdown",
   "metadata": {},
   "source": [
    "## 2"
   ]
  },
  {
   "cell_type": "code",
   "execution_count": 2,
   "metadata": {},
   "outputs": [],
   "source": [
    "population = [[\"A\", 0, 1], [\"B\", 5, 1]]"
   ]
  },
  {
   "cell_type": "markdown",
   "metadata": {},
   "source": [
    "## 3"
   ]
  },
  {
   "cell_type": "code",
   "execution_count": 3,
   "metadata": {},
   "outputs": [],
   "source": [
    "# Leere Straßen-Liste erstellen\n",
    "street = []\n",
    "\n",
    "# für die Länge der Straße\n",
    "for i in range(STREET_LEN):\n",
    "    \n",
    "    # Straßenelemente einfügen\n",
    "    street.append(\"_\")"
   ]
  },
  {
   "cell_type": "code",
   "execution_count": 4,
   "metadata": {
    "scrolled": true
   },
   "outputs": [
    {
     "data": {
      "text/plain": [
       "['_', '_', '_', '_', '_', '_', '_', '_', '_', '_']"
      ]
     },
     "execution_count": 4,
     "metadata": {},
     "output_type": "execute_result"
    }
   ],
   "source": [
    "street"
   ]
  },
  {
   "cell_type": "markdown",
   "metadata": {},
   "source": [
    "## 4"
   ]
  },
  {
   "cell_type": "code",
   "execution_count": 5,
   "metadata": {},
   "outputs": [],
   "source": [
    "# für jeden Agenten\n",
    "for agent in population:\n",
    "    \n",
    "    # Position abrufen\n",
    "    position = agent[1]\n",
    "\n",
    "    # Namen abrufen\n",
    "    name = agent[0]\n",
    "\n",
    "    # Agentenposition auf Straße mit Name markieren\n",
    "    # Entsprechendes Listenelement der Straße wird durch Name ersetzt\n",
    "    street[position] = name"
   ]
  },
  {
   "cell_type": "markdown",
   "metadata": {},
   "source": [
    "## 5"
   ]
  },
  {
   "cell_type": "code",
   "execution_count": 6,
   "metadata": {},
   "outputs": [
    {
     "data": {
      "text/plain": [
       "['A', '_', '_', '_', '_', 'B', '_', '_', '_', '_']"
      ]
     },
     "execution_count": 6,
     "metadata": {},
     "output_type": "execute_result"
    }
   ],
   "source": [
    "street"
   ]
  },
  {
   "cell_type": "markdown",
   "metadata": {},
   "source": [
    "## 6"
   ]
  },
  {
   "cell_type": "code",
   "execution_count": 7,
   "metadata": {},
   "outputs": [
    {
     "name": "stdout",
     "output_type": "stream",
     "text": [
      "A____B____\n"
     ]
    }
   ],
   "source": [
    "street_as_string = \"\"\n",
    "\n",
    "# Für jedes Element der Straße\n",
    "for s in street:\n",
    "    \n",
    "    # Inhalt anfügen\n",
    "    street_as_string = street_as_string + s\n",
    "\n",
    "print(street_as_string)"
   ]
  },
  {
   "cell_type": "markdown",
   "metadata": {},
   "source": [
    "Eine kurze Alternative zu obigem Code-Block ohne For-Loop sähe übrigens so aus:"
   ]
  },
  {
   "cell_type": "code",
   "execution_count": 8,
   "metadata": {},
   "outputs": [
    {
     "name": "stdout",
     "output_type": "stream",
     "text": [
      "A____B____\n"
     ]
    }
   ],
   "source": [
    "print(\"\".join(street))"
   ]
  },
  {
   "cell_type": "markdown",
   "metadata": {},
   "source": [
    "## 7"
   ]
  },
  {
   "cell_type": "code",
   "execution_count": 9,
   "metadata": {},
   "outputs": [
    {
     "name": "stdout",
     "output_type": "stream",
     "text": [
      "A____B____\n",
      "A____B____\n",
      "A____B____\n"
     ]
    }
   ],
   "source": [
    "# Für jeden Zeitschritt\n",
    "for i in range(3):\n",
    "    \n",
    "    # Leere Straßen-Liste erstellen\n",
    "    street = []\n",
    "    # für die Länge der Straße\n",
    "    for i in range(STREET_LEN):\n",
    "        # Straßenelemente einfügen\n",
    "        street.append(\"_\")\n",
    "    \n",
    "    \n",
    "    # für jeden Agenten\n",
    "    for agent in population:\n",
    "        # Position abrufen\n",
    "        position = agent[1]\n",
    "        \n",
    "        # Namen abrufen\n",
    "        name = agent[0]\n",
    "        \n",
    "        # Agentenposition auf Straße mit Name markieren\n",
    "        # Entsprechendes Listenelement der Straße wird durch Name ersetzt\n",
    "        street[position] = name\n",
    "    \n",
    "    \n",
    "    # Straße in einen String umwandeln und printen\n",
    "    street_as_string = \"\"\n",
    "    for s in street:\n",
    "        street_as_string = street_as_string + s\n",
    "    print(street_as_string)"
   ]
  },
  {
   "cell_type": "markdown",
   "metadata": {},
   "source": [
    "## 8"
   ]
  },
  {
   "cell_type": "code",
   "execution_count": 10,
   "metadata": {},
   "outputs": [
    {
     "name": "stdout",
     "output_type": "stream",
     "text": [
      "A____B____\n",
      "_A____B___\n",
      "__A____B__\n"
     ]
    }
   ],
   "source": [
    "# Für jeden Zeitschritt\n",
    "for i in range(3):\n",
    "    \n",
    "    # Leere Straßen-Liste erstellen\n",
    "    street = []\n",
    "    # für die Länge der Straße\n",
    "    for i in range(STREET_LEN):\n",
    "        # Straßenelemente einfügen\n",
    "        street.append(\"_\")\n",
    "    \n",
    "    \n",
    "    # für jeden Agenten\n",
    "    for agent in population:\n",
    "        # Position abrufen\n",
    "        position = agent[1]\n",
    "        \n",
    "        # Namen abrufen\n",
    "        name = agent[0]\n",
    "        \n",
    "        # Agentenposition auf Straße mit Name markieren\n",
    "        # Entsprechendes Listenelement der Straße wird durch Name ersetzt\n",
    "        street[position] = name\n",
    "    \n",
    "    \n",
    "    # Straße in einen String umwandeln und printen\n",
    "    street_as_string = \"\"\n",
    "    for s in street:\n",
    "        street_as_string = street_as_string + s\n",
    "    print(street_as_string)\n",
    "    \n",
    "    \n",
    "    # für Jeden Agenten\n",
    "    for agent in population:\n",
    "        \n",
    "        # aktuelle Position abrufen\n",
    "        position = agent[1]\n",
    "        \n",
    "        # aktuelle Geschwindigkeit abrufen\n",
    "        speed = agent[2]\n",
    "        \n",
    "        # neue Position berechnen\n",
    "        new_position = position + speed\n",
    "            \n",
    "        # neue Position einspeichern\n",
    "        agent[1] = new_position"
   ]
  },
  {
   "cell_type": "markdown",
   "metadata": {},
   "source": [
    "## 9, 10, 11 & 12"
   ]
  },
  {
   "cell_type": "code",
   "execution_count": 11,
   "metadata": {},
   "outputs": [
    {
     "name": "stdout",
     "output_type": "stream",
     "text": [
      "ABCD______________________________________________\n",
      "_A_B_C_D__________________________________________\n",
      "__A__B__C__D______________________________________\n",
      "___A___B___C___D__________________________________\n",
      "____A____B____C____D______________________________\n",
      "_____A_____B_____C_____D__________________________\n",
      "______A______B______C______D______________________\n",
      "_______A_______B_______C_______D__________________\n",
      "________A________B________C________D______________\n",
      "_________A_________B_________C_________D__________\n",
      "__________A__________B__________C__________D______\n",
      "___________A___________B___________C___________D__\n",
      "_D__________A____________B____________C___________\n",
      "_____D_______A_____________B_____________C________\n",
      "_________D____A______________B______________C_____\n",
      "_____________D_A_______________B_______________C__\n",
      "C_______________AD_______________B________________\n",
      "___C_____________A___D_____________B______________\n",
      "______C___________A______D___________B____________\n",
      "_________C_________A_________D_________B__________\n",
      "____________C_______A____________D_______B________\n",
      "_______________C_____A_______________D_____B______\n",
      "__________________C___A__________________D___B____\n",
      "_____________________C_A_____________________D_B__\n",
      "________________________C________________________D\n",
      "_B_D_____________________A_C______________________\n",
      "___B___D__________________A___C___________________\n",
      "_____B_____D_______________A_____C________________\n",
      "_______B_______D____________A_______C_____________\n",
      "_________B_________D_________A_________C__________\n",
      "___________B___________D______A___________C_______\n",
      "_____________B_____________D___A_____________C____\n",
      "_______________B_______________DA_______________C_\n",
      "_C_______________B_______________A_D______________\n",
      "____C______________B______________A____D__________\n",
      "_______C_____________B_____________A_______D______\n",
      "__________C____________B____________A__________D__\n",
      "_D___________C___________B___________A____________\n",
      "_____D__________C__________B__________A___________\n",
      "_________D_________C_________B_________A__________\n",
      "_____________D________C________B________A_________\n",
      "_________________D_______C_______B_______A________\n",
      "_____________________D______C______B______A_______\n",
      "_________________________D_____C_____B_____A______\n",
      "_____________________________D____C____B____A_____\n",
      "_________________________________D___C___B___A____\n",
      "_____________________________________D__C__B__A___\n",
      "_________________________________________D_C_B_A__\n",
      "_____________________________________________DCBA_\n",
      "_________________________________________________D\n"
     ]
    }
   ],
   "source": [
    "#### Initialisierung ####\n",
    "\n",
    "STREET_LEN = 50\n",
    "population = [[\"A\", 0, 1], [\"B\", 1, 2], [\"C\", 2, 3], [\"D\", 3, 4]]\n",
    "\n",
    "\n",
    "#### Simulationsloop ####\n",
    "\n",
    "# Für jeden Zeitschritt\n",
    "for i in range(50):\n",
    "    \n",
    "    #### graphische Darstellung ####\n",
    "    \n",
    "    # Leere Straßen-Liste erstellen\n",
    "    street = []\n",
    "    # für die Länge der Straße\n",
    "    for i in range(STREET_LEN):\n",
    "        # Straßenelemente einfügen\n",
    "        street.append(\"_\")\n",
    "    \n",
    "    \n",
    "    # für jeden Agenten\n",
    "    for agent in population:\n",
    "        # Position abrufen\n",
    "        position = agent[1]\n",
    "        \n",
    "        # Namen abrufen\n",
    "        name = agent[0]\n",
    "        \n",
    "        # Agentenposition auf Straße mit Name markieren\n",
    "        # Entsprechendes Listenelement der Straße wird durch Name ersetzt\n",
    "        street[position] = name\n",
    "    \n",
    "    \n",
    "    # Straße in einen String umwandeln und printen\n",
    "    street_as_string = \"\"\n",
    "    for s in street:\n",
    "        street_as_string = street_as_string + s\n",
    "    print(street_as_string)\n",
    "    \n",
    "    # kurze Alternative zu obigen For-Loop\n",
    "    # print(\"\".join(street))\n",
    "    \n",
    "    \n",
    "    \n",
    "    #### Handlung der Agenten (fahren) ####\n",
    "    \n",
    "    # für Jeden Agenten\n",
    "    for agent in population:\n",
    "        \n",
    "        # aktuelle Position abrufen\n",
    "        position = agent[1]\n",
    "        \n",
    "        # aktuelle Geschwindigkeit abrufen\n",
    "        speed = agent[2]\n",
    "        \n",
    "        # neue Position berechnen\n",
    "        new_position = position + speed\n",
    "        \n",
    "        # Modulus anwenden\n",
    "        new_position = new_position % STREET_LEN\n",
    "            \n",
    "        # neue Position einspeichern\n",
    "        agent[1] = new_position"
   ]
  },
  {
   "cell_type": "markdown",
   "metadata": {},
   "source": [
    "## 13\n",
    "\n",
    "Statt die Geschwindigkeit auf die Position eines Agenten zu addieren, müssen wir diese von der Position abziehen, um die Agenten rückwärts fahren zu lassen."
   ]
  }
 ],
 "metadata": {
  "kernelspec": {
   "display_name": "Python 3",
   "language": "python",
   "name": "python3"
  },
  "language_info": {
   "codemirror_mode": {
    "name": "ipython",
    "version": 3
   },
   "file_extension": ".py",
   "mimetype": "text/x-python",
   "name": "python",
   "nbconvert_exporter": "python",
   "pygments_lexer": "ipython3",
   "version": "3.8.8"
  }
 },
 "nbformat": 4,
 "nbformat_minor": 2
}
