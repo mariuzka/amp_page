{
 "cells": [
  {
   "cell_type": "markdown",
   "metadata": {},
   "source": [
    "# Was ist ein For-Loop?\n",
    "\n",
    "Haben wir unseren Code einmal aufgeschrieben, so können wir diesen immer und immer wieder ausführen. Das ist ziemlich praktisch. Die Lösung sich wiederholender Probleme muss nur ein einziges mal in einem Computerprogramm festgehalten werden und kann dann immer wieder verwendet werden. Dies kann uns Menschen eine Menge unliebsam repetitiver Arbeit ersparen. Das Einzige was wir dann noch machen müssen, ist einfach immer wieder auf den *Start-Knopf* zu drücken. Doch selbst innerhalb eines Computerprogrammes kann es dazu kommen, dass bestimmte Aktionen häufig wiederholt werden müssen. Schnell kann das dazu führen, dass die Programmierarbeit, die ja eigentlich repetitive Arbeit verhindern soll, selbst zur repetitiven Arbeit wird. Das will niemand! Um solche Wiederholungen innerhalb des Codes zu vermeiden, gibt es eine tolle Erfindung: der sogenannte **Loop** bzw. die **Schleife**. Ein Loop ermöglicht uns, eine Aktion bzw. einen Codeblock beliebig oft innerhalb des Programmes automatisch wiederholen zu lassen. Bei Loops unterscheidet man in der Regel zwischen sogenannten *While-Loops* und sogenannten *For-Loops*. In diesem Kapitel werden wir uns die For-Loops anschauen, da wir v.a. diese bei der Programmierung von ABM brauchen werden. \n",
    "\n",
    "Was ist ein For-Loop? Ein For-Loop führt für jedes Element einer Reihe von Elementen (also z.B. eine Liste) eine von uns angegebene \"Aktion\" aus. Deswegen heißt diese Form des Loops auch **For**-Loop: **FÜR** jedes Element einer Reihe von Elementen wird eine Aktion ausgeführt. Im Rahmen von ABM könnte das z.B. sein, dass wir *für jeden Agenten* unserer Liste `population` eine Funktion/Aktion (oder was auch immer) ausführen lassen wollen.\n",
    "\n",
    "Schauen wir uns das Ganze mal an einem ganz alltäglichen Beispiel an: Du sitzt auf dem Sofa. Vor dir liegt eine geöffnete Tüte Chips. Plötzlich kannst du einfach nicht mehr aufhören und du isst die gesamte Tüte Chips. Man könnte dein Verhalten dann ganz knapp etwa so zusammenfassen:\n",
    "\n",
    "`\n",
    "Für jeden Chip in Chipstüte:\n",
    "    Chip essen\n",
    "`\n",
    "\n",
    "Du befindest dich praktisch in einem For-Loop! Du führst *für jeden Chip in der Chipstüte* immer wieder dieselbe Handlung aus. Diese Dauerschleife hält so lange an, bis du jeden Chip in der Chipstüte durchgegangen bist und für diesen die Handlung \"Chip essen\" ausgeführt hast. Du könntest dein Handlungsspektrum natürlich auch noch erweitern und für jeden Chip zwei Handlungen ausführen. Zum Beispiel:\n",
    "\n",
    "`\n",
    "Für jeden Chip in Chipstüte:\n",
    "    Chip essen\n",
    "    Sich denken: \"Ok, das war jetzt aber wirklich der Letzte.\"\n",
    "`"
   ]
  },
  {
   "cell_type": "markdown",
   "metadata": {},
   "source": [
    "# For-Loops in Python\n",
    "\n",
    "Ungefähr so wie in dem obigen Beispiel funktionieren auch For-Loops in Python. Wir haben immer eine Menge an Elementen (z.B. in einer Liste) und geben dann an, was wir *mit* bzw. *für* jedes Element machen wollen. Oben war die Menge an Elementen eben der Inhalt der Chipstüte und dann haben wir angegeben, was mit jedem bzw. für jeden Chip gemacht wird. Das Gute ist, dass so ähnlich, wie wir den Chipstüten-For-Loop aufgeschrieben haben, auch For-Loops in Python aufgeschrieben werden. Allgemein und abstrakt formuliert sieht ein For-Loop in Python immer so aus:\n",
    "\n",
    "```python\n",
    "for ELEMENT in MENGE:\n",
    "    IRGENDEINE_AKTION\n",
    "```\n",
    "\n",
    "Zunächst einmal würde Python hier erwarten, dass das Objekt MENGE ein sogenanntes *iterierbares* Objekt ist. Das bedeutet erstmal ganz einfach formuliert, dass dieses Objekt eine Reihe von Elementen enthält, die innerhalb eines For-Loops überhaupt durchgegangen werden könnten. Ist das der Fall, dann würde Python bei diesem For-Loop jedes \"ELEMENT\" der \"MENGE\" durchgehen und **für** jedes \"ELEMENT\" den Code \"IRGENDEINE_AKTION\" ausführen. ELEMENT, MENGE und IRGENDEINE_AKTION sind natürlich nur Platzhalter für in unserem Programm *wirklich existierende* Python-Objekte und \"Aktionen\".\n",
    "\n",
    "Werden wir mal etwas konkreter und schauen uns For-Loops an einem richtigen Beispiel in Python an. Angenommen wir haben eine Liste mit Wörtern und würden gerne die Länge jeden Wortes in dieser Liste messen. Im Folgenden erstelle ich zunächst diese Liste mit Wörtern und nenne sie `list_of_words`."
   ]
  },
  {
   "cell_type": "code",
   "execution_count": 1,
   "metadata": {},
   "outputs": [
    {
     "data": {
      "text/plain": [
       "['Kraftfahrzeug-Haftpflichtversicherung',\n",
       " 'Donau-Dampfschifffahrtsgesellschaft',\n",
       " 'psychophysicotherapeutics',\n",
       " 'Arbeiterunfallversicherungsgesetz',\n",
       " 'pneumonoultramicroscopicsilicovolcanoconiosis']"
      ]
     },
     "execution_count": 1,
     "metadata": {},
     "output_type": "execute_result"
    }
   ],
   "source": [
    "list_of_words = [\n",
    "    \"Kraftfahrzeug-Haftpflichtversicherung\", \n",
    "    \"Donau-Dampfschifffahrtsgesellschaft\", \n",
    "    \"psychophysicotherapeutics\", \n",
    "    \"Arbeiterunfallversicherungsgesetz\",\n",
    "    \"pneumonoultramicroscopicsilicovolcanoconiosis\",\n",
    "]\n",
    "\n",
    "list_of_words"
   ]
  },
  {
   "cell_type": "markdown",
   "metadata": {},
   "source": [
    "Die Liste `list_of_words` ist erstellt und die Wörter sind so lang, dass wir keine Lust haben, die Länge der Wörter jeweils selbst zu zählen. Wie gut, dass es in Python die Funktion `len()` gibt, welche die Länge eines Objektes misst. Wenden wir die Funktion `len()` zusammen mit Listindizierung und der Funktion `print()` an, dann können wir ganz entspannt die Länge eines jeden Wortes in unserer Liste `list_of_words` ausgeben lassen. Wir müssen einfach nur den folgenden Code eintippen:"
   ]
  },
  {
   "cell_type": "code",
   "execution_count": 2,
   "metadata": {},
   "outputs": [
    {
     "name": "stdout",
     "output_type": "stream",
     "text": [
      "37\n",
      "35\n",
      "25\n",
      "33\n",
      "45\n"
     ]
    }
   ],
   "source": [
    "print(len(list_of_words[0]))\n",
    "print(len(list_of_words[1]))\n",
    "print(len(list_of_words[2]))\n",
    "print(len(list_of_words[3]))\n",
    "print(len(list_of_words[4]))"
   ]
  },
  {
   "cell_type": "markdown",
   "metadata": {},
   "source": [
    "**HALT STOPP!!!** Genau das ist ein Beispiel für \"repetitives\" Programmieren und somit etwas, was wir mit For-Loops verhindern können! Im Grunde wird ja im obigen Code in jeder Zeile *derselbe Code* angewendet: In jeder Zeile wird per Listenindizierung zunächst auf ein Element der Liste `list_of_words` zugegriffen, dann die Länge dieses Elements gemessen und schließlich mit der Funktion `print()` die gemessene Länge *geprintet*. Genau dafür gibt es For-Loops! \n",
    "\n",
    "Wie sieht der For-Loop für dieses Beispiel aus? Statt\n",
    "\n",
    "    `für jeden Chip in Chipstüte:`\n",
    "\n",
    "oder\n",
    "\n",
    "```python\n",
    "for ELEMENT in MENGE:\n",
    "```\n",
    "\n",
    "schreiben wir nun\n",
    "\n",
    "``` python\n",
    "for word in list_of_words:\n",
    "```\n",
    "\n",
    "und statt der Aktion `Chip essen` bzw. `IRGENDEINE_AKTION` führen wir nun die beiden Funktionen `print()` und `len()` auf das jeweilige `word` aus. Insgesamt ergibt sich somit folgender For-Loop:"
   ]
  },
  {
   "cell_type": "code",
   "execution_count": 3,
   "metadata": {
    "scrolled": true
   },
   "outputs": [
    {
     "name": "stdout",
     "output_type": "stream",
     "text": [
      "37\n",
      "35\n",
      "25\n",
      "33\n",
      "45\n"
     ]
    }
   ],
   "source": [
    "for word in list_of_words:\n",
    "    print(len(word))"
   ]
  },
  {
   "cell_type": "markdown",
   "metadata": {},
   "source": [
    "Na das ist ja praktisch! Wir bekommen dasselbe Ergebnis wie oben, müssen aber deutlich weniger tippen.\n",
    "Python ist nun nacheinander jedes `word` in der Liste `list_of_words` durchgegangen und hat für jedes `word` die Funktionen `len()` und `print()` auf das `word` angewendet. "
   ]
  },
  {
   "cell_type": "markdown",
   "metadata": {},
   "source": [
    "### Die Schleifenvariable\n",
    "\n",
    "Wichtig ist bei dem obigen Beispiel noch zu wissen, dass der Name `word` nicht durch Python vorgegeben ist, sondern ich frei gewählt habe. Das *Wort* `word` ist in diesem Fall die sogenannte **Schleifenvariable**. Die Schleifenvariable ist bei einem For-Loop in Python immer das *Wort*, das hinter dem Schlüsselwort `for` steht. Diese Schleifenvariable kann von uns, genau wie jede andere *Variable*, fast beliebig benannt werden. Doch was ist eine Schleifenvariable? \n",
    "\n",
    "Ein For-Loop geht ja immer eine Menge von Elementen Schritt für Schritt von vorne nach hinten durch. Und dabei repräsentiert die Schleifenvariable immer genau das spezifische Element, auf das der For-Loop in dieser Runde gerade zugreift und *für* welches er gerade eine \"Aktion\" ausführt. Stell dir vor, du nimmst nacheinander die Chips aus der Chipstüte. Die Schleifenvariable repräsentiert dabei immer genau den Chip, den du gerade in der Hand hälst, sodass du mit diesem irgendetwas machen kannst (z.B. essen). In jeder Runde des For-Loops d.h. für jedes \"*in die Chipstüte greifen*\", steht die Schleifenvariable für einen anderen \"Chip\".\n",
    "\n",
    "**Ein Beispiel:** Wir haben die Liste `[0, 1, 2, 3]`. Diese gehen wir mittels For-Loop einmal von vorne nach hinten durch und rufen jedes Element auf. Diesmal nennen wir unsere Schleifenvariable `i`. Für jedes Element in der Liste `[0, 1, 2, 3]` führen wir den Code `print(\"Die Schleifenvariable hat den Wert:\", i)` aus. Da `i` in jeder Runde neu definiert wird und immer den Wert des jeweils aufgerufenen Elements annimmt, variiert der Output an der Stelle, an der die Variable `i` aufgerufen wird."
   ]
  },
  {
   "cell_type": "code",
   "execution_count": 4,
   "metadata": {},
   "outputs": [
    {
     "name": "stdout",
     "output_type": "stream",
     "text": [
      "Die Schleifenvariable hat den Wert: 0\n",
      "Die Schleifenvariable hat den Wert: 1\n",
      "Die Schleifenvariable hat den Wert: 2\n",
      "Die Schleifenvariable hat den Wert: 3\n"
     ]
    }
   ],
   "source": [
    "for i in [0, 1, 2, 3]:\n",
    "    print(\"Die Schleifenvariable hat den Wert:\", i)"
   ]
  },
  {
   "cell_type": "markdown",
   "metadata": {},
   "source": [
    "In jeder Runde des For-Loops wird `i` durch das jeweilige Element der Liste ersetzt. Wir weisen also dem Variablennamen `i` praktisch in jeder Runde des For-Loops den Wert des jeweiligen Elements der Liste zu. Das ist eben in der ersten Runde die `0`, in der zweiten Runde die `1`, in der dritten Runde die `2` und in der vierten Runde die `3`.\n",
    "\n",
    "Zum einen ermöglicht uns das nach und nach auf jedes Element der Liste zuzugreifen, indem es der Schleifenvariable zugewiesen wird - ganz egal, ob wir die Schleifenvariable `Chip`, `word` oder `i` nennen. \n",
    "Zum anderen ermöglicht uns die Schleifenvariable eine gewisse Variation in den For-Loop einzubauen, denn mit jedem Element, auf das der For-Loop zugreift, wechselt der Wert der Schleifenvariable. Dadurch wird in jeder Runde des For-Loops die Aktion *für* ein anderes Element ausgeführt. Daher führen wir innerhalb eines For-Loops eigentlich auch immer nur \"strukturell\" bzw. \"abstrakt\" gleichen Code aus, die konkreten Variablenwerte können sich durchaus pro Runde ändern. Wir essen ja niemals immer wieder genau denselben Chip, sondern immer wieder einen anderen. Und ein Chip ist auch nie in Gänze gleich einem anderen Chip in der Chipstüte, dennoch können wir alle essen.\n",
    "\n",
    "Zwar muss man die Schleifenvariable bei einem For-Loop *immer* angeben, wir können sie aber danach im wiederholt ausgeführten Code-Block des For-Loops auch vollkommen ignorieren, so wie ich das hier tue:"
   ]
  },
  {
   "cell_type": "code",
   "execution_count": 5,
   "metadata": {
    "scrolled": true
   },
   "outputs": [
    {
     "name": "stdout",
     "output_type": "stream",
     "text": [
      "Dies hier hat nichts mit dem Wert der Schleifenvariable zu tun.\n",
      "Dies hier hat nichts mit dem Wert der Schleifenvariable zu tun.\n",
      "Dies hier hat nichts mit dem Wert der Schleifenvariable zu tun.\n",
      "Dies hier hat nichts mit dem Wert der Schleifenvariable zu tun.\n"
     ]
    }
   ],
   "source": [
    "numbers = [1, 3, 1, 4]\n",
    "for n in numbers:\n",
    "    print(\"Dies hier hat nichts mit dem Wert der Schleifenvariable zu tun.\")"
   ]
  },
  {
   "cell_type": "markdown",
   "metadata": {},
   "source": [
    "Das ist praktisch, wenn man einfach ein und denselben Code X-mal ausführen möchte, ohne sich dabei wirklich für die Elemente in einer Liste zu interessieren. Wir brauchen die Liste aber, um anzugeben, wie viele Runden der Loop haben soll. Die Anzahl der Runden entspricht dann einfach der Länge der angegebenen Liste. Das ist ungefähr so, als würden wir für jeden Chip in einer Chipstüte einmal in die Hände klatschen ohne sonst noch irgendwas mit dem Chip zu machen. Die Anzahl der Chips in der Chipstüte bestimmt dann, wie oft wir in die Hände klatschen. Weitere Auswirkungen haben die konkreten Chips in der Chipstüte dann aber nicht auf uns. Die Chips in der Chipstüte sind also nur ein Vorwand, um irgendeine Aktion zu wiederholen.\n",
    "\n",
    "Tatsächlich kommt dieser Fall, dass wir die Liste bzw. irgendeine Menge an Elementen nur brauchen, um die Wiederholungsanzahl des For-Loops festzulegen, ziemlich häufig vor. Dann ist es aber ziemlich unpraktisch, jedes mal eine Liste mit der richtigen Länge im For-Loop anzugeben. Stell dir vor, wir wollen einen For-Loop mit 1000 Runden ausführen. Dann müssen wir eine Liste der Länge 1000 angeben. An dieser Stelle wird eine Funktion namens `range()` nützlich, mit welcher wir \"Listen\" einer beliebigen Länge unkompliziert und kompakt erstellen können. Diese Funktion schauen wir uns gleich weiter unten an. Vorher werfen wir aber noch kurz einen Blick auf eine andere wichtige Sache bei For-Loops."
   ]
  },
  {
   "cell_type": "markdown",
   "metadata": {},
   "source": [
    "### Verrückter Code\n",
    "\n",
    "Bestimmt ist dir aufgefallen, dass ich den **Code-Block** eines For-Loops, in welchem die zu wiederholende \"Aktion\" definiert wird (wie z.B. \"Chip essen\"), immer etwas nach rechts eingerückt habe. Dieses Einrücken dient nicht nur der Übersichtlichkeit für uns Menschen, sondern wird von Python auch explizit gelesen und ist daher in einem For-Loop absolut notwendig. Python erwartet unter der **Kopf-Zeile** eines For-Loops, also einer Zeile der Form `for ELEMENT in MENGE:` immer mindestens eine Zeile, die eine Tab-Breite (4 Leerzeichen) weiter nach rechts eingerückt ist. Wenn das nicht der Fall ist, dann entsteht ein Fehler, wie man hier sieht:"
   ]
  },
  {
   "cell_type": "code",
   "execution_count": 6,
   "metadata": {},
   "outputs": [
    {
     "ename": "IndentationError",
     "evalue": "expected an indented block (<ipython-input-6-66deb0d4d4f6>, line 2)",
     "output_type": "error",
     "traceback": [
      "\u001b[1;36m  File \u001b[1;32m\"<ipython-input-6-66deb0d4d4f6>\"\u001b[1;36m, line \u001b[1;32m2\u001b[0m\n\u001b[1;33m    print(len(word))\u001b[0m\n\u001b[1;37m    ^\u001b[0m\n\u001b[1;31mIndentationError\u001b[0m\u001b[1;31m:\u001b[0m expected an indented block\n"
     ]
    }
   ],
   "source": [
    "for word in list_of_words:\n",
    "print(len(word))"
   ]
  },
  {
   "cell_type": "markdown",
   "metadata": {},
   "source": [
    "Python liest jede Zeile, die nach der \"For-Loop-Kopfzeile\" kommt und eine Tab-Breite eingerückt ist, als Aktions-Teil dieses For-Loops. Durch das Einrücken können wir Python dann auch sagen, dass mehrere Zeilen Teil des Loops sein sollen und somit in jeder Runde des For-Loops bzw. *für* jedes Element ausgeführt werden sollen. Im folgenden Code sind z.B. zwei Zeilen im \"Aktions-Teil\" des For-Loops:"
   ]
  },
  {
   "cell_type": "code",
   "execution_count": 7,
   "metadata": {},
   "outputs": [
    {
     "name": "stdout",
     "output_type": "stream",
     "text": [
      "37\n",
      "35\n",
      "25\n",
      "33\n",
      "45\n"
     ]
    }
   ],
   "source": [
    "for word in list_of_words:\n",
    "    word_length = len(word)\n",
    "    print(word_length)"
   ]
  },
  {
   "cell_type": "markdown",
   "metadata": {},
   "source": [
    "Mit der ersten Code-Zeile, die nicht mehr in Bezug zur Kopfzeile des For-Loops eingerückt ist, endet der zum For-Loop zugehörige Code. Im Folgenden zwei Beispiele dafür: Im ersten Beispiel ist der Befehl `print(\"yo yo yo\")` eingerückt, im zweiten Beispiel ist dieser nicht eingerückt. Einmal wird `print(\"yo yo yo\")` daher als Teil des Loops gelesen und mehrmals wiederholt und einmal wird `print(\"yo yo yo\")` einfach als neue Code-Zeile nach dem Loop gelesen und daher nur einmal ausgeführt. Das Einrücken des Codes macht daher einen bedeutenden Unterschied in Python!"
   ]
  },
  {
   "cell_type": "code",
   "execution_count": 8,
   "metadata": {},
   "outputs": [
    {
     "name": "stdout",
     "output_type": "stream",
     "text": [
      "37\n",
      "yo yo yo\n",
      "35\n",
      "yo yo yo\n",
      "25\n",
      "yo yo yo\n",
      "33\n",
      "yo yo yo\n",
      "45\n",
      "yo yo yo\n"
     ]
    }
   ],
   "source": [
    "for word in list_of_words:\n",
    "    word_length = len(word)\n",
    "    print(word_length)\n",
    "    print(\"yo yo yo\")"
   ]
  },
  {
   "cell_type": "code",
   "execution_count": 9,
   "metadata": {
    "scrolled": false
   },
   "outputs": [
    {
     "name": "stdout",
     "output_type": "stream",
     "text": [
      "37\n",
      "35\n",
      "25\n",
      "33\n",
      "45\n",
      "yo yo yo\n"
     ]
    }
   ],
   "source": [
    "for word in list_of_words:\n",
    "    word_length = len(word)\n",
    "    print(word_length)\n",
    "print(\"yo yo yo\")"
   ]
  },
  {
   "cell_type": "markdown",
   "metadata": {},
   "source": [
    "## Exkurs: Eine Zahlenreihe erstellen mit range()\n",
    "\n",
    "Schauen wir uns nun die Funktion `range()` an, die man in vielen For-Loops braucht. Die Funktion `range()` erstellt eine Zahlenreihe einer bestimmten Länge. Das ist vor allem in zwei Situationen praktisch:\n",
    "\n",
    "1. Wenn uns der Inhalt der Liste, über die der For-Loop \"looped\", eigentlich egal ist, wir aber eine Liste einer bestimmten Länge brauchen, um dem Loop zu sagen, wie oft er loopen soll. (Wir wollen einfach nur für jeden Chip einmal in die Hände klatschen, die Chips an sich sind uns aber eigentlich komplett egal.)\n",
    "\n",
    "2. Wenn wir tatsächlich über eine Liste mit einer Zahlenreihe loopen wollen, weil wir die Zahlen beispielsweise als Index beim Zugriff auf Listen verwenden wollen.\n",
    "\n",
    "Schauen wir uns die Funktion `range()` mal genauer an. Geben wir nur ein Argument in die Funktion `range()` ein, so steht dieses Argument praktisch für die Länge der zurückgegebenen Sequenz, wobei das Argument ein `int` d.h. eine ganz Zahl sein muss. Beispiel:"
   ]
  },
  {
   "cell_type": "code",
   "execution_count": 10,
   "metadata": {},
   "outputs": [
    {
     "data": {
      "text/plain": [
       "range(0, 3)"
      ]
     },
     "execution_count": 10,
     "metadata": {},
     "output_type": "execute_result"
    }
   ],
   "source": [
    "range(3)"
   ]
  },
  {
   "cell_type": "markdown",
   "metadata": {},
   "source": [
    "Ok, aber das sieht jetzt weder nach einer *Zahlenreihe* noch nach einer Liste aus. Tatsächlich gibt uns `range()` auch nicht direkt eine *Zahlenreihe* oder eine Liste zurück, sondern ein spezielles \"range-Objekt\". Wenn wir wirklich eine Liste mit Zahlen haben wollen, müssen wir das erstellte range-Objekt noch mittels der Funktion `list()` in eine Liste umwandeln:"
   ]
  },
  {
   "cell_type": "code",
   "execution_count": 11,
   "metadata": {
    "scrolled": true
   },
   "outputs": [
    {
     "data": {
      "text/plain": [
       "[0, 1, 2]"
      ]
     },
     "execution_count": 11,
     "metadata": {},
     "output_type": "execute_result"
    }
   ],
   "source": [
    "list(range(3))"
   ]
  },
  {
   "cell_type": "markdown",
   "metadata": {},
   "source": [
    "Nun sehen wir besser, welche Sequenz an Zahlen `range(3)` produziert. Geben wir das Argument `3` in die Funktion ein, dann fängt `range()` bei 0 an zu \"zählen\" bis die Sequenz die Länge 3 erreicht hat. Wenn wir beispielsweise eine Sequenz der Länge 10 haben wollen, müssen wir entsprechend eine `10` als Argument angeben und wir bekommen eine Zahlenreihe von 0 bis 9 zurück:"
   ]
  },
  {
   "cell_type": "code",
   "execution_count": 12,
   "metadata": {},
   "outputs": [
    {
     "data": {
      "text/plain": [
       "[0, 1, 2, 3, 4, 5, 6, 7, 8, 9]"
      ]
     },
     "execution_count": 12,
     "metadata": {},
     "output_type": "execute_result"
    }
   ],
   "source": [
    "list(range(10))"
   ]
  },
  {
   "cell_type": "markdown",
   "metadata": {},
   "source": [
    "### Über eine Zahlenreihe loopen (mit range())\n",
    "\n",
    "Wir können die durch `range()` produzierte Zahlenreihe nun auch als diejenige Menge nehmen, durch die ein For-Loop looped, nacheinander ein Element herausgreift und *für* jedes Element irgendetwas macht. Das Gute ist, dass wir ein range-Objekt nicht zwingend in eine richtige Liste umwandeln müssen, wenn wir über die produzierte Zahlenreihe loopen wollen. Denn For-Loops können ja nicht nur über Listen loopen, sondern ganz allgemein über sogenannte *iterierbare* Objekte. Eine Liste ist ein solches iterierbares Objekt, das durch die Funktion `range()` produzierte range-Objekt ist aber glücklicherweise auch \"iterierbar\", sodass der For-Loop auch ein solches \"lesen\" kann. \n",
    "\n",
    "Im untigen Beispiel loope ich über eine Zahlenreihe der Länge 5 und führe für jede Zahl der Zahlenreihe den Befehl `print(\"hello world\")` aus. Die konkreten Zahlen des range-Objektes sind uns dabei komplett egal, uns geht es hier nur darum, dass der Loop 5 Runden lang läuft."
   ]
  },
  {
   "cell_type": "code",
   "execution_count": 13,
   "metadata": {
    "scrolled": false
   },
   "outputs": [
    {
     "name": "stdout",
     "output_type": "stream",
     "text": [
      "2 Kugeln Eis bitte!\n",
      "2 Kugeln Eis bitte!\n",
      "2 Kugeln Eis bitte!\n",
      "2 Kugeln Eis bitte!\n",
      "2 Kugeln Eis bitte!\n"
     ]
    }
   ],
   "source": [
    "for i in range(5):\n",
    "    print(\"2 Kugeln Eis bitte!\")"
   ]
  },
  {
   "cell_type": "markdown",
   "metadata": {},
   "source": [
    "Beachte auch hier wieder, dass die Schleifenvariable `i` eigentlich komplett willkürlich benannt werden kann. Wir hätten auch `for blablabla in range(5):` schreiben können. Es hat sich aber eingebürgert, für das Loopen über reine Zahlenreihen ein `i` als Name für die Schleifenvariable zu verwenden (wenn möglich). Das `i` steht dabei für Integer, Index, Iterator oder \"incrementing number\".\n",
    "\n",
    "Wie bei jedem For-Loop gilt auch bei For-Loops auf Basis der Funktion `range()`, dass die Schleifenvariable in jeder Runde den Wert des gerade durch den For-Loop aufgerufenen Elements der Liste bzw. des iterierbaren Objekts annimmt. Wir haben das `i` oben im Loop vollkommen ignoriert. Wenn wir es aber für irgendetwas brauchen, dann können wir es natürlich auch wieder im Code-Block des For-Loops verwenden, wie ich es hier tue:"
   ]
  },
  {
   "cell_type": "code",
   "execution_count": 14,
   "metadata": {
    "scrolled": true
   },
   "outputs": [
    {
     "name": "stdout",
     "output_type": "stream",
     "text": [
      "0 Kugeln Eis bitte!\n",
      "1 Kugeln Eis bitte!\n",
      "2 Kugeln Eis bitte!\n",
      "3 Kugeln Eis bitte!\n",
      "4 Kugeln Eis bitte!\n"
     ]
    }
   ],
   "source": [
    "for i in range(5):\n",
    "    print(i, \"Kugeln Eis bitte!\")"
   ]
  },
  {
   "cell_type": "markdown",
   "metadata": {},
   "source": [
    "Besonders hilfreich ist die Funktion `range()` auch dann, wenn innerhalb eines For-Loops die Schleifenvariable dazu genutzt werden soll, um per Indizierung auf die Elemente einer Liste zuzugreifen. Denn *ganz zufälligerweise* fangen ja auch die Indizes von Listen bei 0 an. Wir könnten also den jeweiligen Wert der Schleifenvariable nutzen, um damit per Index an die bestimmten Elemente einer Liste zu kommen.\n",
    "\n",
    "Unten erstelle ich zunächst die Liste `ABC`. Innerhalb eines For-Loops wird dann nacheinander per Indizierung auf die Elemente der Liste `ABC` zugegriffen.  Der jeweilige Index wird dabei aus der durch `range(5)` produzierten Zahlenreihe entnommen und in jeder Runde des Loops der Schleifenvariable `i` zugeordnet."
   ]
  },
  {
   "cell_type": "code",
   "execution_count": 15,
   "metadata": {},
   "outputs": [],
   "source": [
    "ABC = [\"a\", \"b\", \"c\", \"d\", \"e\"]"
   ]
  },
  {
   "cell_type": "code",
   "execution_count": 16,
   "metadata": {},
   "outputs": [
    {
     "data": {
      "text/plain": [
       "['a', 'b', 'c', 'd', 'e']"
      ]
     },
     "execution_count": 16,
     "metadata": {},
     "output_type": "execute_result"
    }
   ],
   "source": [
    "ABC"
   ]
  },
  {
   "cell_type": "code",
   "execution_count": 17,
   "metadata": {},
   "outputs": [
    {
     "name": "stdout",
     "output_type": "stream",
     "text": [
      "a\n",
      "b\n",
      "c\n",
      "d\n",
      "e\n"
     ]
    }
   ],
   "source": [
    "for i in range(5):\n",
    "    print(ABC[i])"
   ]
  },
  {
   "cell_type": "markdown",
   "metadata": {},
   "source": [
    "Wir werden später noch lernen, warum es manchmal sinnvoll bzw. notwendig ist, per Indizierung auf die Elemente einer Liste zuzugreifen, statt direkt über die Schleifenvariable des For-Loops. Wichtiger ist hier zunächst was anderes: Im obigen Beispiel war es noch einfach die richtige Länge der Liste `ABC` im Kopf abzuzählen, um dann die Länge `5` an `range()` zu übergeben, damit wir eine Zahlenreihe der richtigen Länge und somit die richtigen Indizes für den Listenzugriff erhalten. Was ist aber, wenn wir die Länge der Liste gar nicht kennen, weil sie z.B. sehr lang ist oder sich im Verlauf des Programms immer wieder ändert? Dann hilft uns die Funktion `len()` weiter!\n",
    "\n",
    "Im Folgenden übergebe ich `range()` die Länge der Liste `ABC` dadurch, dass ich sie mit `len()` messe:"
   ]
  },
  {
   "cell_type": "code",
   "execution_count": 18,
   "metadata": {},
   "outputs": [
    {
     "name": "stdout",
     "output_type": "stream",
     "text": [
      "a\n",
      "b\n",
      "c\n",
      "d\n",
      "e\n"
     ]
    }
   ],
   "source": [
    "for i in range(len(ABC)):\n",
    "    print(ABC[i])"
   ]
  },
  {
   "cell_type": "markdown",
   "metadata": {},
   "source": [
    "Die `range()`-Funktion kann noch ein bisschen mehr als hier gezeigt wurde. Zunächst reicht uns das aber. \n",
    "Wenn du dir aber nochmal ein Video anschauen möchtest, in dem u.a. auch noch weiterführende Informationen zur `range()`-Funktion und deren Verwendung in For-Loops gezeigt werden, schau doch mal hier rein:"
   ]
  },
  {
   "cell_type": "code",
   "execution_count": 19,
   "metadata": {},
   "outputs": [
    {
     "data": {
      "image/jpeg": "[encoded data removed]",
      "text/html": [
       "\n",
       "        <iframe\n",
       "            width=\"400\"\n",
       "            height=\"300\"\n",
       "            src=\"https://www.youtube.com/embed/XUN9kvXxGp4\"\n",
       "            frameborder=\"0\"\n",
       "            allowfullscreen\n",
       "        ></iframe>\n",
       "        "
      ],
      "text/plain": [
       "<IPython.lib.display.YouTubeVideo at 0x1b4a88580a0>"
      ]
     },
     "execution_count": 19,
     "metadata": {},
     "output_type": "execute_result"
    }
   ],
   "source": [
    "from IPython.display import YouTubeVideo\n",
    "YouTubeVideo(\"XUN9kvXxGp4\")"
   ]
  },
  {
   "cell_type": "markdown",
   "metadata": {},
   "source": [
    "## Mit For-Loops Variablen verändern\n",
    "\n",
    "Mittels For-Loops können bestimmte Programmprozeduren mehrmals hintereinander wiederholt werden. Eine typische Programmprozedur, die innerhalb von For-Loops wiederholt wird, ist das Verändern von Variablen.\n",
    "\n",
    "**Ein Beispiel:** Wir haben eine Variable `counter`, die zunächst den Wert `0` aufweist. Danach startet ein For-Loop, wobei in jeder Runde des For-Loops die Variable `counter` um 1 erhöht wird."
   ]
  },
  {
   "cell_type": "code",
   "execution_count": 20,
   "metadata": {
    "scrolled": true
   },
   "outputs": [],
   "source": [
    "counter = 0"
   ]
  },
  {
   "cell_type": "code",
   "execution_count": 21,
   "metadata": {},
   "outputs": [
    {
     "data": {
      "text/plain": [
       "0"
      ]
     },
     "execution_count": 21,
     "metadata": {},
     "output_type": "execute_result"
    }
   ],
   "source": [
    "counter"
   ]
  },
  {
   "cell_type": "code",
   "execution_count": 22,
   "metadata": {},
   "outputs": [],
   "source": [
    "for i in range(10):\n",
    "    counter = counter + 1"
   ]
  },
  {
   "cell_type": "markdown",
   "metadata": {},
   "source": [
    "Da der Loop 10 Runden gelaufen ist und somit die Variable 10 mal um 1 erhöht wurde, weist die Variable `counter` nun den Wert 10 auf:"
   ]
  },
  {
   "cell_type": "code",
   "execution_count": 23,
   "metadata": {},
   "outputs": [
    {
     "data": {
      "text/plain": [
       "10"
      ]
     },
     "execution_count": 23,
     "metadata": {},
     "output_type": "execute_result"
    }
   ],
   "source": [
    "counter"
   ]
  },
  {
   "cell_type": "markdown",
   "metadata": {},
   "source": [
    "**Ein weiteres Beispiel:** Wir haben eine Population aus Agenten, welche wir in einer Liste speichern. \n",
    "Auch jeder Agent besteht wiederum aus einer Liste. \n",
    "Das erste Element in der Liste eines jeden Agenten repräsentiert jeweils den Namen und das zweite Element repräsentiert jeweils die Anzahl der vom Agenten gegessenen Eiskugeln."
   ]
  },
  {
   "cell_type": "code",
   "execution_count": 24,
   "metadata": {},
   "outputs": [],
   "source": [
    "# Population erstellen\n",
    "population = [[\"anna\", 2], [\"tom\", 3], [\"max\", 1], [\"lisa\", 3]]"
   ]
  },
  {
   "cell_type": "markdown",
   "metadata": {},
   "source": [
    "Nun wollen wir wissen, wie viele Eiskugeln insgesamt von allen Agenten gegessen wurden. Wir können nun nicht einfach die Eiskugeln zusammenrechnen, da diese ja nicht als einzelne Variablen vorliegen, sondern jeweils schön verpackt innerhalb einer \"Agenten-Liste\" liegen. Wir müssen also bei jedem Agenten zunächst auf das entsprechende Element zugreifen, um an die Eiskugelanzahl zu kommen und diese für unsere Berechnung zu nutzen.\n",
    "\n",
    "Eine Möglichkeit, um die Gesamtanzahl an Eiskugeln (für beliebig viele Agenten) berechnen zu lassen sieht so aus: Wir erstellen eine Variable namens `kugel_counter` mit dem Wert `0`. Dann gehen wir mittels For-Loop die Liste `population` Agent für Agent nacheinander durch und greifen bei jedem Agenten jeweils per Listenindizierung auf die Anzahl der gegessenen Eiskugeln zu und erhöhen die Variable `kugel_counter` um genau diesen Wert. Nachdem der For-Loop durchgelaufen ist und die Variable `kugel_counter` für jeden Agenten um dessen Anzahl an Eiskugeln erhöht wurde, sollte die Variable `kugel_counter` der Gesamtzahl an gegessenen Eiskugeln entsprechen."
   ]
  },
  {
   "cell_type": "code",
   "execution_count": 25,
   "metadata": {
    "scrolled": true
   },
   "outputs": [
    {
     "name": "stdout",
     "output_type": "stream",
     "text": [
      "2\n",
      "5\n",
      "6\n",
      "9\n"
     ]
    }
   ],
   "source": [
    "# Variable, die die Kugeln Eis zählt\n",
    "kugel_counter = 0\n",
    "\n",
    "# Für jeden Agenten\n",
    "for agent in population:\n",
    "    \n",
    "    # Anzahl der Eiskugeln des Agenten abrufen. Die Anzahl der Eiskugeln steht an zweiter Stelle.\n",
    "    anzahl_eiskugeln = agent[1]\n",
    "    \n",
    "    # neuen Wert von kugel_counter berechnen\n",
    "    kugel_counter = kugel_counter + anzahl_eiskugeln\n",
    "    \n",
    "    # neuen Wert anzeigen lassen\n",
    "    print(kugel_counter)"
   ]
  },
  {
   "cell_type": "markdown",
   "metadata": {},
   "source": [
    "Die Variable `kugel_counter` zeigt nun die Summe aller gegessenen Eiskugeln an:"
   ]
  },
  {
   "cell_type": "code",
   "execution_count": 26,
   "metadata": {
    "scrolled": true
   },
   "outputs": [
    {
     "data": {
      "text/plain": [
       "9"
      ]
     },
     "execution_count": 26,
     "metadata": {},
     "output_type": "execute_result"
    }
   ],
   "source": [
    "kugel_counter"
   ]
  },
  {
   "cell_type": "markdown",
   "metadata": {},
   "source": [
    "**Übrigens:** Es gibt in Python für den Fall, in dem der neue Wert einer Variable sich aus dessen altem Wert plus einem weiteren Wert ergibt, eine Kurzschreibweise. Statt wie beispielsweise oben zu schreiben:\n",
    "\n",
    "``` python\n",
    "counter = counter + 1\n",
    "```\n",
    "\n",
    "hätten wir auch schreiben können\n",
    "\n",
    "```python\n",
    "counter += 1\n",
    "```\n",
    "\n",
    "Beide Ausdrücke liefern dasselbe Ergebnis. Ähnliche Kurzschreibweisen gibt es beispielsweise auch noch für Subtraktion, Multiplikation, Division und noch ein paar mehr Operationen."
   ]
  },
  {
   "cell_type": "markdown",
   "metadata": {},
   "source": [
    "## Mit For-Loops Listen erstellen\n",
    "\n",
    "Eine häufige Anwendung von For-Loops ist auch das Erstellen von Listen. Eigentlich ist das auch nur eine weitere Form davon, wie man mit For-Loops Variablen dauerhaft verändern kann. Praktisch ist das z.B. wenn man große Populationen von Agenten erstellen möchte.\n",
    "\n",
    "Das Vorgehen ist dabei so: Wir erstellen zunächst eine leere Liste. Dann fügen wir innerhalb eines For-Loops in jeder Runde des Loops ein Element mittels der Listen-Methode `append()` zur Liste hinzu. Beispiel:"
   ]
  },
  {
   "cell_type": "code",
   "execution_count": 27,
   "metadata": {},
   "outputs": [
    {
     "name": "stdout",
     "output_type": "stream",
     "text": [
      "[0, 1, 4, 9, 16, 25, 36, 49, 64, 81]\n"
     ]
    }
   ],
   "source": [
    "# leere Liste erstellen\n",
    "population = []\n",
    "\n",
    "# 10 mal\n",
    "for i in range(10):\n",
    "    # neuen Agenten (als Zahl) erstellen\n",
    "    neuer_agent = i*i\n",
    "    \n",
    "    # Agenten an Populations-Liste anhängen\n",
    "    population.append(neuer_agent)\n",
    "\n",
    "# Nach dem Loop die erstellte Liste anzeigen lassen\n",
    "print(population)"
   ]
  },
  {
   "cell_type": "markdown",
   "metadata": {},
   "source": [
    "**Übrigens:** Da man sehr oft mittels For-Loop Listen erstellen oder verändern muss, gibt es in Python auch für das Erstellen und Verändern von Listen mittels For-Loop eine sehr nützliche Kurzschreibweise, die sogenannte [list comprehension](https://www.youtube.com/watch?v=AhSvKGTh28Q). Da diese jedoch am Anfang etwas gewöhnungsbedürftig ist und an dieser Stelle noch nicht notwendig ist, werden wir uns diese erst später anschauen."
   ]
  },
  {
   "cell_type": "markdown",
   "metadata": {},
   "source": [
    "# Exkurs: Veränderbare und unveränderbare Objekte\n",
    "\n",
    "In Python gibt es veränderbare und unveränderbare Objekte. Die eine Art von Objekten kann man also verändern, die andere Art von Objekten kann man nicht verändern. \n",
    "\n",
    "Stell dir vor, du besitzt ein Auto. Um damit ordentlich Eindruck auf der Straße zu machen, möchtest du gerne dein Auto tunen lassen und von 100 PS auf 150 PS upgraden. Du fährst also in eine Werkstatt und bittest um die gewünschte Veränderung. In der Werkstatt könntest du nun zwei Dinge zu hören bekommen, nämlich entweder\n",
    "\n",
    "- \"Ja, kein Problem, wir können dein Auto wie gewünscht verändern!\"\n",
    "\n",
    "oder \n",
    "\n",
    "- \"Nein, deinen Autotyp kann man leider nicht wie gewünscht verändern. Wir können dir aber anbieten, dein Auto gegen ein anderes mit den gewünschten Eigenschaften einzutauschen!\".\n",
    "\n",
    "Dein Auto ist also entweder ein *veränderbares Objekt* oder ein *unveränderbares Objekt*. Ist dein Auto veränderbar, so kann man es verändern, aber \"dein Auto\" ist nach der Veränderung immer noch \"dein Auto\" d.h. dasselbe (aber eben nun veränderte) Objekt. Ist dein Auto hingegen unveränderbar, du möchtest aber trotzdem die Veränderung, so bleibt dir nichts anderes übrig als \"dein Auto\" durch ein \"anderes Auto\" auszutauschen. Dadurch wird ein anderes Auto schließlich zu \"deinem Auto\". Ein anderes Objekt nimmt dann also den Platz \"deines Autos\" ein.\n",
    "\n",
    "Genau so ist das auch in Python. Es gibt Objekte, die kann man verändern, und Objekte, die kann man nicht verändern, sondern nur austauschen, wenn man etwas anderes will. Das ist relevant, wenn man Variablen bzw. die Objekte *hinter* den Variablen verändern möchten. In Python sind Variablen immer nur Beschriftungen für bzw. Zeiger auf Objekte, nicht aber die Objekte selbst. Das ist so, wie der Begriff \"mein Auto\" auf ein Auto verweist, aber nicht das Auto selbst ist, sondern nur ein Begriff bzw. Gedanke. Möchte man eine Variable in Python verändern, hängt es vom Objekt-Typ des von der Variable beschrifteten Objektes ab, ob \n",
    "\n",
    "- das Objekt verändert werden kann und die Variable nach der Veränderung immer noch auf dasselbe (aber eben nun veränderte) Objekt zeigt\n",
    "\n",
    "oder\n",
    "\n",
    "- das Objekt nicht verändert werden kann, ausgetauscht werden muss und die Variable nach der Veränderung auf ein komplett anderes Objekt zeigt\n",
    "\n",
    "Das ist so, wie im Beispiel oben, wo je nach Auto-Typ entweder das durch \"mein Auto\" beschriftete Auto verändert werden kann oder man tauscht das gesamte Auto aus, sodass die Beschriftung \"mein Auto\" einem neuen Objekt zugeordnet wird.\n",
    "\n",
    "Schauen wir uns das mal konkret in Python an. Die meisten Standard-Objekte in Python sind unveränderbar. Dazu gehören z.B. Objekte vom Typ Integer, Float und String. Wenn wir z.B. das Integer-Objekt `100` einer Variable zuweisen, dann beschriften wir das Objekt `100` mit dem gewählten Variablennamen. Das mache ich beispielsweise hier:"
   ]
  },
  {
   "cell_type": "code",
   "execution_count": 28,
   "metadata": {},
   "outputs": [],
   "source": [
    "my_integer = 100"
   ]
  },
  {
   "cell_type": "markdown",
   "metadata": {},
   "source": [
    "Eine Variable ist aber, wie gesagt, wirklich immer nur eine Beschriftung eines Objektes und nicht das Objekt selbst. Daher verändere ich mit folgendem Code auch nicht das Objekt `100` in das Objekt `150`, sondern beschrifte nun das Objekt `150` mit dem Namen `my_integer`:"
   ]
  },
  {
   "cell_type": "code",
   "execution_count": 29,
   "metadata": {},
   "outputs": [],
   "source": [
    "my_integer = my_integer + 50"
   ]
  },
  {
   "cell_type": "code",
   "execution_count": 30,
   "metadata": {},
   "outputs": [
    {
     "data": {
      "text/plain": [
       "150"
      ]
     },
     "execution_count": 30,
     "metadata": {},
     "output_type": "execute_result"
    }
   ],
   "source": [
    "my_integer"
   ]
  },
  {
   "cell_type": "markdown",
   "metadata": {},
   "source": [
    "Das Objekt `100` wurde also nicht verändert, sondern der Wert des Variablennamen `my_variable` überschrieben bzw. dem Variablenname `my_variable` wurde ein anderes Objekt zugewiesen.\n",
    "\n",
    "Woher weiß ich, dass sich hinter der Variable `my_integer` nun ein vollkommen neues Objekt verbirgt und nicht dasselbe Objekt in veränderter Form? Das kann man u.a. mit der Funktion `id()` sehen. Steckt man ein Objekt in die Funktion `id()`, dann bekommt man eine Art Identifikationsnummer heraus über welche man ein Objekt eindeutig identifizieren kann. Gehen wir das obige Beispiel nochmal durch, aber wenden dabei immer wieder die Funktion `id()` an, um die wahre Identität der Objekte und Variablen zu enthüllen.\n",
    "\n",
    "Hier weise ich zunächst die `100` der Variable `my_integer` zu:"
   ]
  },
  {
   "cell_type": "code",
   "execution_count": 31,
   "metadata": {},
   "outputs": [],
   "source": [
    "my_integer = 100"
   ]
  },
  {
   "cell_type": "markdown",
   "metadata": {},
   "source": [
    "Gucken wir mal, welche Identifikationsnummer uns die Funktion `id()` für die Variable `my_integer` bzw. für das Objekt, welches wir mit `my_integer` benannt haben, herausgibt:"
   ]
  },
  {
   "cell_type": "code",
   "execution_count": 32,
   "metadata": {
    "scrolled": true
   },
   "outputs": [
    {
     "data": {
      "text/plain": [
       "140718436266880"
      ]
     },
     "execution_count": 32,
     "metadata": {},
     "output_type": "execute_result"
    }
   ],
   "source": [
    "id(my_integer)"
   ]
  },
  {
   "cell_type": "markdown",
   "metadata": {},
   "source": [
    "Aha. Diese Zahl sagt uns alleine nicht wirklich viel. Interessanterweise ist aber diese Identifikationsnummer nichts anderes als die Identifikationsnummer des Objekts `100` selbst:"
   ]
  },
  {
   "cell_type": "code",
   "execution_count": 33,
   "metadata": {
    "scrolled": true
   },
   "outputs": [
    {
     "data": {
      "text/plain": [
       "140718436266880"
      ]
     },
     "execution_count": 33,
     "metadata": {},
     "output_type": "execute_result"
    }
   ],
   "source": [
    "id(100)"
   ]
  },
  {
   "cell_type": "markdown",
   "metadata": {},
   "source": [
    "Das ist logisch, wenn man bedenkt, dass die Variable `my_integer` nur eine Beschriftung für das eigentliche Objekt `100` ist. Die Variable `my_integer` verweist nur auf das Objekt `100`.\n",
    "\n",
    "Nun verändere ich die Variable `my_integer`, indem ich sie überschreibe:"
   ]
  },
  {
   "cell_type": "code",
   "execution_count": 34,
   "metadata": {},
   "outputs": [],
   "source": [
    "my_integer = my_integer + 50"
   ]
  },
  {
   "cell_type": "markdown",
   "metadata": {},
   "source": [
    "Welches Objekt versteckt sich jetzt hinter `my_integer`?"
   ]
  },
  {
   "cell_type": "code",
   "execution_count": 35,
   "metadata": {},
   "outputs": [
    {
     "data": {
      "text/plain": [
       "140718436268480"
      ]
     },
     "execution_count": 35,
     "metadata": {},
     "output_type": "execute_result"
    }
   ],
   "source": [
    "id(my_integer)"
   ]
  },
  {
   "cell_type": "markdown",
   "metadata": {},
   "source": [
    "Jetzt hat sich die Identifikationsnummer verändert. Diese Identifikationsnummer ist nun die Identifikationsummer für das Objekt `150`, auf welches die Variable `my_integer` nun verweist."
   ]
  },
  {
   "cell_type": "code",
   "execution_count": 36,
   "metadata": {
    "scrolled": true
   },
   "outputs": [
    {
     "data": {
      "text/plain": [
       "140718436268480"
      ]
     },
     "execution_count": 36,
     "metadata": {},
     "output_type": "execute_result"
    }
   ],
   "source": [
    "id(150)"
   ]
  },
  {
   "cell_type": "markdown",
   "metadata": {},
   "source": [
    "Das ist alles etwas verwirrend. Denn eigentlich fühlt es sich ja so an, dass wir das \"Objekt\" `my_integer` verändern würden, wenn wir dieser Variable einen neuen Wert zuweisen. In Wahrheit ist die Variable `my_integer` ja aber nicht das Objekt selbst, sondern nur eine Beschriftung für ein Objekt. Wir ändern somit also die Zuordnung der Beschriftung. Wir tauschen das Objekt `100` gegen das Objekt `150` und beschriften nun eben die `150` mit `my_integer`. Das ist so, wie wenn wir bei \"mein Auto\" anfangen an ein neues Auto zu denken, falls das alte Auto ausgetauscht werden musste, weil es unveränderbar war.\n",
    "\n",
    "Es gibt jedoch auch Objekte in Python, die können wir tatsächlich verändern. Bei diesen ist es dann so, dass wir wirklich das Objekt hinter dem Variablennamen verändern, sodass der Variablenname immer noch dasselbe, aber eben nun veränderte Objekt beschriftet (\"mein Auto\" bleibt \"mein Auto\", wurde aber verändert). Zu den veränderbaren Objekten, die wir schon kennengelernt haben, gehören in Python z.B. die Listen!\n",
    "\n",
    "Im Folgenden erstelle ich zunächst eine Liste und lasse mir dann die Identifikationsnummer der Liste ausgeben. Dann verändere ich die Liste und schaue, ob die Identität der Liste gleichgeblieben ist."
   ]
  },
  {
   "cell_type": "code",
   "execution_count": 37,
   "metadata": {},
   "outputs": [
    {
     "data": {
      "text/plain": [
       "1875432623680"
      ]
     },
     "execution_count": 37,
     "metadata": {},
     "output_type": "execute_result"
    }
   ],
   "source": [
    "# Liste erstellen\n",
    "my_list = [100, 200, 300]\n",
    "\n",
    "# Identifikationsnummer ausgeben\n",
    "id(my_list)"
   ]
  },
  {
   "cell_type": "code",
   "execution_count": 38,
   "metadata": {},
   "outputs": [
    {
     "data": {
      "text/plain": [
       "[0, 200, 300, 400]"
      ]
     },
     "execution_count": 38,
     "metadata": {},
     "output_type": "execute_result"
    }
   ],
   "source": [
    "# Liste verändern\n",
    "my_list.append(400)\n",
    "\n",
    "# Liste nochmal verändern\n",
    "my_list[0] = 0\n",
    "\n",
    "# Liste angucken\n",
    "my_list"
   ]
  },
  {
   "cell_type": "code",
   "execution_count": 39,
   "metadata": {},
   "outputs": [
    {
     "data": {
      "text/plain": [
       "1875432623680"
      ]
     },
     "execution_count": 39,
     "metadata": {},
     "output_type": "execute_result"
    }
   ],
   "source": [
    "# Identifikationsnummer angucken\n",
    "id(my_list)"
   ]
  },
  {
   "cell_type": "markdown",
   "metadata": {},
   "source": [
    "Wir sehen, die Liste wurde verändert, ist aber nach wie vor dasselbe Objekt mit derselben Identifikationsnummer. Die Variable `my_list` verweist also nach wie vor auf dasselbe Objekt. Das Objekt selbst wurde aber verändert.\n",
    "\n",
    "Uff! Das ist schon echt kompliziert. Nun wissen wir, dass es veränderbare und unveränderbare Objekte in Python gibt. Aber warum ist das wichtig? Ob ein Objekt veränderbar oder unveränderbar ist, macht eben immer dann einen Unterschied, wenn wir ein Objekt bzw. eine Variable verändern wollen. Und im Folgenden schauen wir uns an, wie man innerhalb von For-Loops die Elemente der Liste, auf die man im For-Loop zugreift, verändern kann. Je nachdem, ob die Elemente der Liste veränderbar sind oder nicht, müssen wir einen bestimmten Weg verwenden, um die Elemente in der Liste zu ändern."
   ]
  },
  {
   "cell_type": "markdown",
   "metadata": {},
   "source": [
    "## Mit For-Loops die Elemente einer Liste verändern\n",
    "\n",
    "Oft verwendet man For-Loops nicht nur, um auf die Elemente einer Liste (oder eines sonstigen iterierbaren Objektes) nacheinander zuzugreifen, sondern diese auch zu verändern. Dabei gibt es zwei verschiedene Wege, Elemente einer Liste innerhalb eines For-Loops zu verändern und man muss je nachdem, mit welchen Objekten man es innerhalb der Liste zu tun hat, einen bestimmten Weg wählen. Zu unterscheiden sind dabei sogenannte *unveränderbare* Objekte und *veränderbare* Objekte. \n",
    "\n",
    "Bei veränderbaren Objekten können wir diese unter Umständen direkt anhand der Schleifenvariable verändern. Bei unveränderbaren Objekten hingegen ändert sich bei Veränderung der Schleifenvariable nichts am repräsentierten Objekt. In diesem Fall muss das Objekt per Listenindizierung direkt in der Liste mit dem neuen Wert überschrieben werden.\n",
    "\n",
    "\n",
    "### Unveränderbare Elemente in einer Liste im For-Loop per Listenindizierung überschreiben\n",
    "\n",
    "Angenommen wir wir haben eine Liste `money`, welche 3 Elemente des Typs `int` enthält. Diese erstelle ich im Folgenden:"
   ]
  },
  {
   "cell_type": "code",
   "execution_count": 40,
   "metadata": {},
   "outputs": [],
   "source": [
    "money = [100, 200, 500]"
   ]
  },
  {
   "cell_type": "markdown",
   "metadata": {},
   "source": [
    "Nun wollen wir die 3 Elemente innerhalb der Liste `money` jeweils um den Wert 50 erhöhen. Probieren wir es mal mit folgendem For-Loop:"
   ]
  },
  {
   "cell_type": "code",
   "execution_count": 41,
   "metadata": {},
   "outputs": [],
   "source": [
    "for m in money:\n",
    "    m = m + 50"
   ]
  },
  {
   "cell_type": "markdown",
   "metadata": {},
   "source": [
    "Die Hoffnung ist nun, dass sich jedes Element der Liste `money` um den Wert 50 erhöht hat. Schauen wir mal nach:"
   ]
  },
  {
   "cell_type": "code",
   "execution_count": 42,
   "metadata": {},
   "outputs": [
    {
     "data": {
      "text/plain": [
       "[100, 200, 500]"
      ]
     },
     "execution_count": 42,
     "metadata": {},
     "output_type": "execute_result"
    }
   ],
   "source": [
    "money"
   ]
  },
  {
   "cell_type": "markdown",
   "metadata": {},
   "source": [
    "Das hat leider nicht geklappt. Wir haben zwar innerhalb des For-Loops die Schleifenvariable `m` jeweils um 50 erhöht, allerdings haben wir die Elemente der Liste nicht überschrieben. Das liegt daran, dass die Elemente der Liste `money` unveränderbare Objekte sind. *Verändern* wir die Schleifenvariable indem wir diese mit einem neuen Wert überschreiben, dann ändern wir nicht das Objekt, das in der Liste liegt, sondern weisen der Schleifenvariable ein neues Objekt zu. Damit kappen wir gleichzeitig die Verbindung zwischen der Schleifenvariable und dem Objekt, das in der Liste liegt und wir eigentlich ja verändern wollten.\n",
    "\n",
    "Um unveränderbare Objekte innerhalb von Listen in einem For-Loop zu \"ändern\", müssen wir diese direkt in der Liste überschreiben. Um das zu tun, müssen wir innerhalb des For-Loops per Listenindizierung direkt auf die Position des Elements in der Liste zugreifen und für diese Position ein neues Objekt einfügen und somit das vorherige Objekt überschreiben. Um Listenindizierung zu nutzen, brauchen wir die entsprechenden Indizes der zu verändernden Elemente in der Liste, die wir uns mit `range()` und `len()` produzieren. Im Folgenden greife ich innerhalb des For-Loops per Indizierung nacheinander auf die Elemente des For-Loops zu und überschreibe jedes Element in der Liste mit einem neuen Wert bzw. ich füge für jede Position der Liste ein neues Objekt ein, das ich mir aber mithilfe des vorherigen Objektes auf dieser Position berechne."
   ]
  },
  {
   "cell_type": "code",
   "execution_count": 43,
   "metadata": {},
   "outputs": [],
   "source": [
    "for i in range(len(money)):\n",
    "    money[i] = money[i] + 50"
   ]
  },
  {
   "cell_type": "markdown",
   "metadata": {},
   "source": [
    "Werfen wir nun einen Blick auf die Liste `money`, sehen wir, dass sich die Elemente nun wirklich verändert haben."
   ]
  },
  {
   "cell_type": "code",
   "execution_count": 44,
   "metadata": {
    "scrolled": true
   },
   "outputs": [
    {
     "data": {
      "text/plain": [
       "[150, 250, 550]"
      ]
     },
     "execution_count": 44,
     "metadata": {},
     "output_type": "execute_result"
    }
   ],
   "source": [
    "money"
   ]
  },
  {
   "cell_type": "markdown",
   "metadata": {},
   "source": [
    "**Wir merken uns:** Sind die Elemente/Objekte, auf die die Schleifenvariable nach und nach zeigt, unveränderbar, dann können wir diese nicht direkt über die Schleifenvariable selbst ändern, sondern müssen per Listenindizierung auf die Elemente/Objekte zugreifen und diese überschreiben."
   ]
  },
  {
   "cell_type": "markdown",
   "metadata": {},
   "source": [
    "### Veränderbare Elemente in einer Liste im For-Loop direkt verändern\n",
    "\n",
    "Das Vorgehen von oben müssen wir allerdings nicht jedes mal so machen, sondern eben nur, wenn wir eigentlich unveränderbare Objekte innerhalb einer Liste in einem For-Loop \"verändern\" wollen. Im Falle von sogenannten veränderbaren Objekten müssen wir diesen Umweg über die Listenindizierung allerdings nicht nehmen, sondern können die Schleifenvariable so behandeln als wäre es das Objekt selbst: Jede Veränderung an der Schleifenvariable ist eine Veränderung am eigentlichen Objekt in der Liste, über die wir loopen.\n",
    "\n",
    "Schauen wir uns das Ganze anhand eines Beispieles bei der wir den Inhalt einer Liste von Listen (also Listen) innerhalb eines For-Loops verändern wollen. Wie gesagt, eine Liste ist ein veränderbares Objekt. Dadurch können wir in einem For-Loop diesmal direkt nacheinander auf den Inhalt der geschachtelten Liste zugreifen und diesen direkt anhand der Schleifenvariable verändern. Denn der Inhalt der geschachtelten Liste sind Listen und Listen sind veränderbare Objekte.\n",
    "\n",
    "Hier erstelle ich zunächst die geschachtelte Liste:"
   ]
  },
  {
   "cell_type": "code",
   "execution_count": 45,
   "metadata": {},
   "outputs": [],
   "source": [
    "population = [[\"Hartmut\"], [\"Anna\"], [\"Michael\"]]"
   ]
  },
  {
   "cell_type": "code",
   "execution_count": 46,
   "metadata": {},
   "outputs": [
    {
     "data": {
      "text/plain": [
       "[['Hartmut'], ['Anna'], ['Michael']]"
      ]
     },
     "execution_count": 46,
     "metadata": {},
     "output_type": "execute_result"
    }
   ],
   "source": [
    "population"
   ]
  },
  {
   "cell_type": "markdown",
   "metadata": {},
   "source": [
    "Nun gehe ich per For-Loop diese geschachtelte Liste durch. Der For-Loop weist nacheinander der Schleifenvariable `agent` ein Element (eine Liste) der geschachtelten Liste zu. Diese jeweils durch die Schleifenvariable repräsentierte Liste kann ich innerhalb des For-Loops direkt verändern. Im Beispiel nutze ich die Methode `append()`, um jeder Sub-Liste der geschachtelten Liste eine `100` anzuhängen."
   ]
  },
  {
   "cell_type": "code",
   "execution_count": 47,
   "metadata": {},
   "outputs": [],
   "source": [
    "for agent in population:\n",
    "    agent.append(100)"
   ]
  },
  {
   "cell_type": "markdown",
   "metadata": {},
   "source": [
    "Wenn wir uns nun die Variable `population` anschauen, dann sehen wir, dass sich tatsächlich die damit beschriftete Liste bzw. der Inhalt dieser geschachtelten Liste verändert hat:"
   ]
  },
  {
   "cell_type": "code",
   "execution_count": 48,
   "metadata": {},
   "outputs": [
    {
     "data": {
      "text/plain": [
       "[['Hartmut', 100], ['Anna', 100], ['Michael', 100]]"
      ]
     },
     "execution_count": 48,
     "metadata": {},
     "output_type": "execute_result"
    }
   ],
   "source": [
    "population"
   ]
  },
  {
   "cell_type": "markdown",
   "metadata": {},
   "source": [
    "## Exkurs: Modulo\n",
    "\n",
    "Weil wir sowieso gerade dabei sind, relativ kompliziertes Zeug zu besprechen, schauen wir uns nun noch den Modulo an. Dieser hat nicht zwingend etwas mit Loops zu tun, kann aber sehr praktisch innerhalb von Loops sein. Der Modulo gibt uns den Rest einer \"Division mit Rest\" zurück. Teilt man beispielsweise 5 durch 2, dann \"passt\" die 2 genau zwei mal vollständig in die 5. Es bleibt aber ein ungeteilter Rest von 1. Dieser Rest entspricht dem Wert, der durch den Modulo-Operator zurückgegeben wird.\n",
    "\n",
    "Der Modulo-Operator wird in Python durch das Prozentzeichen `%` dargestellt. Wenn man den Rest einer Division haben möchte, dann setzt man einfach an die Stelle, wo bei einer \"normalen\" Division der Divisions-Operator `/` stehen würde, den Modulo-Operator `%`.\n",
    "\n",
    "Der Rest von \"5 geteilt durch 2\" ist wie gesagt 1. So würden wir diesen Rest in Python erhalten:"
   ]
  },
  {
   "cell_type": "code",
   "execution_count": 49,
   "metadata": {},
   "outputs": [
    {
     "data": {
      "text/plain": [
       "1"
      ]
     },
     "execution_count": 49,
     "metadata": {},
     "output_type": "execute_result"
    }
   ],
   "source": [
    "5 % 2"
   ]
  },
  {
   "cell_type": "markdown",
   "metadata": {},
   "source": [
    "`5 % 5 ` ergibt beispielsweise 0, da kein Rest zurück bleibt:"
   ]
  },
  {
   "cell_type": "code",
   "execution_count": 50,
   "metadata": {},
   "outputs": [
    {
     "data": {
      "text/plain": [
       "0"
      ]
     },
     "execution_count": 50,
     "metadata": {},
     "output_type": "execute_result"
    }
   ],
   "source": [
    "5 % 5"
   ]
  },
  {
   "cell_type": "markdown",
   "metadata": {},
   "source": [
    "Was ist, wenn die teilende Zahl (Divisor) größer ist als die zu teilende Zahl (Dividend)? Dann bekommen wir den gesamten Dividenden zurück, da der Divisor ja kein einziges mal in den Dividenden passt, sodass der gesamte Dividend ungeteilt als Rest zurückbleibt. Beispiel: Der Rest von \"3 geteilt durch 5\" ist 3, da die 5 kein einziges mal vollständig in die 3 passt und somit die gesamte 3 als unteilbarer Rest zurück bleibt:"
   ]
  },
  {
   "cell_type": "code",
   "execution_count": 51,
   "metadata": {
    "scrolled": true
   },
   "outputs": [
    {
     "data": {
      "text/plain": [
       "3"
      ]
     },
     "execution_count": 51,
     "metadata": {},
     "output_type": "execute_result"
    }
   ],
   "source": [
    "3 % 5"
   ]
  },
  {
   "cell_type": "markdown",
   "metadata": {},
   "source": [
    "Eine gute Erklärung des Modulo findet ihr auch in diesem Video:"
   ]
  },
  {
   "cell_type": "code",
   "execution_count": 52,
   "metadata": {},
   "outputs": [
    {
     "data": {
      "image/jpeg": "[encoded data removed]",
      "text/html": [
       "\n",
       "        <iframe\n",
       "            width=\"400\"\n",
       "            height=\"300\"\n",
       "            src=\"https://www.youtube.com/embed/rVGrds7AbPw\"\n",
       "            frameborder=\"0\"\n",
       "            allowfullscreen\n",
       "        ></iframe>\n",
       "        "
      ],
      "text/plain": [
       "<IPython.lib.display.YouTubeVideo at 0x1b4a8887070>"
      ]
     },
     "execution_count": 52,
     "metadata": {},
     "output_type": "execute_result"
    }
   ],
   "source": [
    "YouTubeVideo(\"rVGrds7AbPw\")"
   ]
  },
  {
   "cell_type": "markdown",
   "metadata": {},
   "source": [
    "Und wofür brauchen wir das Ganze? Der Modulo-Operator ist praktisch, wenn man beispielsweise automatisiert aufsteigend zählen möchte, aber ab einem bestimmten Wert automatisch immer wieder bei 0 anfangen möchte. \n",
    "\n",
    "**Ein Beispiel:** Angenommen wir wollen immer wieder \"0 1 2\", \"0 1 2\", \"0 1 2\" zählen - also nach drei Zahlen immer wieder bei der 0 anfangen zu zählen. Mit dem Modulo-Operator und einem For-Loop können wir das ganz einfach machen:"
   ]
  },
  {
   "cell_type": "code",
   "execution_count": 53,
   "metadata": {
    "scrolled": false
   },
   "outputs": [
    {
     "name": "stdout",
     "output_type": "stream",
     "text": [
      "0\n",
      "1\n",
      "2\n",
      "0\n",
      "1\n",
      "2\n",
      "0\n",
      "1\n",
      "2\n"
     ]
    }
   ],
   "source": [
    "for i in range(9):\n",
    "    print(i % 3)"
   ]
  },
  {
   "cell_type": "markdown",
   "metadata": {},
   "source": [
    "Warum funktioniert das? In jedem Schritt wird der Rest der \"Division mit Rest\" von i / 3 ermittelt. Und `i` steigt im Verlauf des For-Loops von 0 auf 8. Gehen wir kurz ein paar Schritte des For-Loops durch:\n",
    "\n",
    "1. Im ersten Schritt wird der Rest von 0 / 3 gesucht. Dieser ist 0.\n",
    "2. In der zweiten Runde des Loops wird der Rest von 1 / 3 gesucht, also 1.\n",
    "3. In der dritten Runde wird der Rest von 2 / 3 gesucht, also 2.\n",
    "4. In der vierten Runde wird der Rest von 3 / 3 gesucht, also? 0!\n",
    "5. In der fünften Runde wird der Rest von 4 / 3 gesucht, also 1.\n",
    "6. In der sechsten Runde wird der Rest von 5 / 3 gesucht, also 2.\n",
    "7. in der siebten Runde wird der Rest von 6 / 3 gesucht und wir sind wieder bei der 0!\n",
    "\n",
    "Und so weiter...\n",
    "\n",
    "Wir sehen, es wird immer so lange aufsteigend gezählt, bis bei der \"Division mit Rest\" kein Rest mehr übrig bleibt. Dann geht es wieder von 0 los. Hier nochmal eine modifzierte Variante des obigen For-Loops:"
   ]
  },
  {
   "cell_type": "code",
   "execution_count": 54,
   "metadata": {},
   "outputs": [
    {
     "name": "stdout",
     "output_type": "stream",
     "text": [
      "Der Rest von 0 / 3 ist 0\n",
      "Der Rest von 1 / 3 ist 1\n",
      "Der Rest von 2 / 3 ist 2\n",
      "Der Rest von 3 / 3 ist 0\n",
      "Der Rest von 4 / 3 ist 1\n",
      "Der Rest von 5 / 3 ist 2\n",
      "Der Rest von 6 / 3 ist 0\n",
      "Der Rest von 7 / 3 ist 1\n",
      "Der Rest von 8 / 3 ist 2\n"
     ]
    }
   ],
   "source": [
    "for i in range(9):\n",
    "    print(\"Der Rest von\", i, \"/ 3 ist\", i % 3)"
   ]
  },
  {
   "cell_type": "markdown",
   "metadata": {},
   "source": [
    "Okay, und wofür brauchen das jetzt? Eine mögliche Anwendung des Modulo liegt für uns im Bereich der Listenindizierung. Angenommen wir haben - warum auch immer - eine stetig aufsteigende Zahl, die wir als Index für einen Listenzugriff verwenden. Doch sobald diese Zahl höher als der höchste Index der Liste ist, enteht ein Fehler. Wie z.B. hier:"
   ]
  },
  {
   "cell_type": "code",
   "execution_count": 55,
   "metadata": {
    "scrolled": true
   },
   "outputs": [
    {
     "name": "stdout",
     "output_type": "stream",
     "text": [
      "hallo\n",
      "was\n",
      "geht\n"
     ]
    },
    {
     "ename": "IndexError",
     "evalue": "list index out of range",
     "output_type": "error",
     "traceback": [
      "\u001b[1;31m---------------------------------------------------------------------------\u001b[0m",
      "\u001b[1;31mIndexError\u001b[0m                                Traceback (most recent call last)",
      "\u001b[1;32m<ipython-input-55-045d77d229d9>\u001b[0m in \u001b[0;36m<module>\u001b[1;34m\u001b[0m\n\u001b[0;32m      2\u001b[0m \u001b[1;32mfor\u001b[0m \u001b[0mi\u001b[0m \u001b[1;32min\u001b[0m \u001b[0mrange\u001b[0m\u001b[1;33m(\u001b[0m\u001b[1;36m10\u001b[0m\u001b[1;33m)\u001b[0m\u001b[1;33m:\u001b[0m\u001b[1;33m\u001b[0m\u001b[1;33m\u001b[0m\u001b[0m\n\u001b[0;32m      3\u001b[0m     \u001b[0mindex\u001b[0m \u001b[1;33m=\u001b[0m \u001b[0mi\u001b[0m\u001b[1;33m\u001b[0m\u001b[1;33m\u001b[0m\u001b[0m\n\u001b[1;32m----> 4\u001b[1;33m     \u001b[0mprint\u001b[0m\u001b[1;33m(\u001b[0m\u001b[0mliste\u001b[0m\u001b[1;33m[\u001b[0m\u001b[0mindex\u001b[0m\u001b[1;33m]\u001b[0m\u001b[1;33m)\u001b[0m\u001b[1;33m\u001b[0m\u001b[1;33m\u001b[0m\u001b[0m\n\u001b[0m",
      "\u001b[1;31mIndexError\u001b[0m: list index out of range"
     ]
    }
   ],
   "source": [
    "liste = [\"hallo\", \"was\", \"geht\"]\n",
    "for i in range(10):\n",
    "    index = i\n",
    "    print(liste[index])"
   ]
  },
  {
   "cell_type": "markdown",
   "metadata": {},
   "source": [
    "Mit dem Modulo-Operator kann man nun erreichen, dass der Index immer wieder auf 0 gesetzt wird, sobald dieser gleich der Länge der Liste ist. Die Länge der Liste ist ja gleich dem ersten \"ungültigen\" Index (Weil der höchste Index einer Liste gleich der Länge der Liste minus 1 ist. Der letzte bzw. höchste Index einer Liste der Länge 4 ist z.B. die 3.). Wir bekommen nun immer einen gültigen Index, wenn wir die Schleifenvariable \"modulo\" der Länge der Liste nehmen. Dadurch wird der Index immer wieder im richtigen Moment, d.h. wenn der Index den höchst möglichen Index erreicht hat, auf 0 gesetzt."
   ]
  },
  {
   "cell_type": "code",
   "execution_count": 56,
   "metadata": {},
   "outputs": [
    {
     "name": "stdout",
     "output_type": "stream",
     "text": [
      "hallo\n",
      "was\n",
      "geht\n",
      "hallo\n",
      "was\n",
      "geht\n",
      "hallo\n",
      "was\n",
      "geht\n",
      "hallo\n"
     ]
    }
   ],
   "source": [
    "liste = [\"hallo\", \"was\", \"geht\"]\n",
    "for i in range(10):\n",
    "    index = i % len(liste)\n",
    "    print(liste[index])"
   ]
  },
  {
   "cell_type": "markdown",
   "metadata": {},
   "source": [
    "## Geschachtelte For-Loops\n",
    "\n",
    "In Python kann man so gut wie alles schachteln - auch For-Loops. Wir können innerhalb eines For-Loops also noch einen For-Loop starten. Den Inhalt dieses zweiten For-Loops muss man damm dementsprechend noch eine Ebene weiter einrücken.\n",
    "\n",
    "Im untigen Beispiel sieht man zwei geschachtelte For-Loops. Der erste For-Loop looped dabei über das range-Objekt `range(3)` und führt in jeder Runde einen weiteren For-Loop aus, welcher jedes mal komplett über die Liste `population` looped."
   ]
  },
  {
   "cell_type": "code",
   "execution_count": 57,
   "metadata": {},
   "outputs": [
    {
     "name": "stdout",
     "output_type": "stream",
     "text": [
      "Zeitschritt: 0 /// Handelnder Agent: agent1\n",
      "Zeitschritt: 0 /// Handelnder Agent: agent2\n",
      "Zeitschritt: 0 /// Handelnder Agent: agent3\n",
      "Zeitschritt: 1 /// Handelnder Agent: agent1\n",
      "Zeitschritt: 1 /// Handelnder Agent: agent2\n",
      "Zeitschritt: 1 /// Handelnder Agent: agent3\n",
      "Zeitschritt: 2 /// Handelnder Agent: agent1\n",
      "Zeitschritt: 2 /// Handelnder Agent: agent2\n",
      "Zeitschritt: 2 /// Handelnder Agent: agent3\n"
     ]
    }
   ],
   "source": [
    "population = [\"agent1\", \"agent2\", \"agent3\"]\n",
    "\n",
    "for tick in range(3):\n",
    "    for agent in population:\n",
    "        print(\"Zeitschritt:\", tick, \"///\", \"Handelnder Agent:\", agent)"
   ]
  },
  {
   "cell_type": "markdown",
   "metadata": {},
   "source": [
    "Theoretisch kann man beliebig viele For-Loops ineinander schachteln. Beachten muss man dabei v.a. die verschiedenen Einrück-Level des Codes, da diese anzeigen, welcher Code zu welchem For-Loop gehört. Unten füge ich z.B. noch eine Code-Zeile hinzu. Aufgrund des Einrück-Levels wird diese Zeile zwar als Zeil des äußeren For-Loops gelesen, nicht aber als Teil des inneren For-Loops."
   ]
  },
  {
   "cell_type": "code",
   "execution_count": 58,
   "metadata": {},
   "outputs": [
    {
     "name": "stdout",
     "output_type": "stream",
     "text": [
      "Zeitschritt: 0 /// Handelnder Agent: agent1\n",
      "Zeitschritt: 0 /// Handelnder Agent: agent2\n",
      "Zeitschritt: 0 /// Handelnder Agent: agent3\n",
      "#####################\n",
      "Zeitschritt: 1 /// Handelnder Agent: agent1\n",
      "Zeitschritt: 1 /// Handelnder Agent: agent2\n",
      "Zeitschritt: 1 /// Handelnder Agent: agent3\n",
      "#####################\n",
      "Zeitschritt: 2 /// Handelnder Agent: agent1\n",
      "Zeitschritt: 2 /// Handelnder Agent: agent2\n",
      "Zeitschritt: 2 /// Handelnder Agent: agent3\n",
      "#####################\n"
     ]
    }
   ],
   "source": [
    "population = [\"agent1\", \"agent2\", \"agent3\"]\n",
    "\n",
    "for tick in range(3):\n",
    "    for agent in population:\n",
    "        print(\"Zeitschritt:\", tick, \"///\", \"Handelnder Agent:\", agent)\n",
    "    print(\"#####################\")"
   ]
  },
  {
   "cell_type": "markdown",
   "metadata": {},
   "source": [
    "## Wofür wir For-Loops brauchen\n",
    "\n",
    "Wir haben jetzt eine ganze Menge über For-Loops gelernt. For-Loops sind allgemein in der Programmierung essentiell. Und wie immer gilt daher: ABM sind Computerprogramme, weshalb auch in ABM For-Loops essentiell sind. Doch was sind die typischen Anwendungen von For-Loops innerhalb von ABM? In eigentlich jedem ABM brauchen wir For-Loops mindestens in diesen beiden Situationen:\n",
    "\n",
    "1. Einerseits modellieren wir ja bei ABM das Handeln vieler Akteure. Und damit jeder einzelne Akteur auch wirklich \"handelt\", müssen wir jedem einzelnen Akteur direkt ansprechen und sagen: \"Ey du! Jetzt handel doch mal!\". Und jetzt stell dir mal vor, dass wir mehrere Hundert oder Tausende Akteure haben. Deswegen schreiben wir unseren \"Befehl\" an die Agenten in der Regel nur genau einmal auf und verwenden dann einen Loop, um jeden einzelnen Agenten automatisch \"direkt anzusprechen\".\n",
    "\n",
    "2. Durch einen solchen Loop wie bei Punkt 1 hätten wir es schonmal geschafft, ganz bequem alle Akteure zum handeln zu bewegen. Das Ding ist aber, dass wir ja die Akteure nicht nur einmal handeln lassen wollen, sondern mehrmals im Zeitverlauf. Erst durch das wiederholte, aufeinanderbezogene Handeln mehrerer Akteure entstehen ja typischerweise die zu erklärenden sozialen Phänomene, soziale Strukturen oder soziale Systeme. Deswegen nutzen wir auch hier wieder einen Loop, der macht, dass der Loop aus Punkt 1 immer wieder ausgeführt wird. Ein Loop im Loop also. Der eine Loop \"looped\" durch die Agenten, der andere Loop \"looped\" durch die Zeit und macht, dass alle Agenten in jedem Zeitschritt handeln.\n",
    "\n",
    "Nicht selten weist der eigentliche Simulationsablauf im Code also allgemein folgende Struktur mit mindestens zwei geschachtelten Loops auf:\n",
    "\n",
    "``` python\n",
    "for TICK in TIME:\n",
    "    for AGENT in POPULATION:\n",
    "        DO_SOMETHING\n",
    "```\n",
    "\n",
    "**Für jeden Zeitschritt** wird **für jeden Agenten** etwas getan, bspw. den Agenten zum handeln gebracht. Diese Loops sind dann der eigentliche \"run\" der Simulation. Bevor die Loops jedoch anlaufen, werden in einer Initialisierungsphase noch die benötigten Variablen definiert z.B. die Populationsliste erstellt (für deren Erstellung wir nicht selten auch einen For-Loop verwenden), die Agenten definiert oder die Zeitspanne festgelegt. Das wird alles später an konkreten Beispielen noch klarer. Zumindest hast du jetzt schon mal eine grobe Idee davon, wofür wir Loops hauptsächlich brauchen werden. Neben diesen beiden zentralen Anwendungen, brauchen wir Loops auch in anderen Situationen, die in den obigen Beispielen angedeutet wurden, sehr oft."
   ]
  }
 ],
 "metadata": {
  "kernelspec": {
   "display_name": "Python 3",
   "language": "python",
   "name": "python3"
  },
  "language_info": {
   "codemirror_mode": {
    "name": "ipython",
    "version": 3
   },
   "file_extension": ".py",
   "mimetype": "text/x-python",
   "name": "python",
   "nbconvert_exporter": "python",
   "pygments_lexer": "ipython3",
   "version": "3.7.10"
  }
 },
 "nbformat": 4,
 "nbformat_minor": 2
}
