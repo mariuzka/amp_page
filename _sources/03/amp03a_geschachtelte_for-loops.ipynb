{
 "cells": [
  {
   "cell_type": "markdown",
   "id": "145045bb",
   "metadata": {},
   "source": [
    "# Geschachtelte For-Loops\n",
    "\n",
    "In Python kann man so gut wie alles schachteln - auch For-Loops. Wir können innerhalb eines For-Loops also noch einen For-Loop starten. Den Inhalt dieses zweiten For-Loops muss man damm dementsprechend noch eine Ebene weiter einrücken.\n",
    "\n",
    "Im untigen Beispiel sieht man zwei geschachtelte For-Loops. Der erste For-Loop looped dabei über das range-Objekt `range(3)` und führt in jeder Runde einen weiteren For-Loop aus, welcher jedes mal komplett über die Liste `population` looped."
   ]
  },
  {
   "cell_type": "code",
   "execution_count": 57,
   "id": "a91a0ece",
   "metadata": {},
   "outputs": [
    {
     "name": "stdout",
     "output_type": "stream",
     "text": [
      "Zeitschritt: 0 /// Handelnder Agent: agent1\n",
      "Zeitschritt: 0 /// Handelnder Agent: agent2\n",
      "Zeitschritt: 0 /// Handelnder Agent: agent3\n",
      "Zeitschritt: 1 /// Handelnder Agent: agent1\n",
      "Zeitschritt: 1 /// Handelnder Agent: agent2\n",
      "Zeitschritt: 1 /// Handelnder Agent: agent3\n",
      "Zeitschritt: 2 /// Handelnder Agent: agent1\n",
      "Zeitschritt: 2 /// Handelnder Agent: agent2\n",
      "Zeitschritt: 2 /// Handelnder Agent: agent3\n"
     ]
    }
   ],
   "source": [
    "population = [\"agent1\", \"agent2\", \"agent3\"]\n",
    "\n",
    "for tick in range(3):\n",
    "    for agent in population:\n",
    "        print(\"Zeitschritt:\", tick, \"///\", \"Handelnder Agent:\", agent)"
   ]
  },
  {
   "cell_type": "markdown",
   "id": "79026819",
   "metadata": {},
   "source": [
    "Theoretisch kann man beliebig viele For-Loops ineinander schachteln. Beachten muss man dabei v.a. die verschiedenen Einrück-Level des Codes, da diese anzeigen, welcher Code zu welchem For-Loop gehört. Unten füge ich z.B. noch eine Code-Zeile hinzu. Aufgrund des Einrück-Levels wird diese Zeile zwar als Zeil des äußeren For-Loops gelesen, nicht aber als Teil des inneren For-Loops."
   ]
  },
  {
   "cell_type": "code",
   "execution_count": 58,
   "id": "0e438ee9",
   "metadata": {},
   "outputs": [
    {
     "name": "stdout",
     "output_type": "stream",
     "text": [
      "Zeitschritt: 0 /// Handelnder Agent: agent1\n",
      "Zeitschritt: 0 /// Handelnder Agent: agent2\n",
      "Zeitschritt: 0 /// Handelnder Agent: agent3\n",
      "#####################\n",
      "Zeitschritt: 1 /// Handelnder Agent: agent1\n",
      "Zeitschritt: 1 /// Handelnder Agent: agent2\n",
      "Zeitschritt: 1 /// Handelnder Agent: agent3\n",
      "#####################\n",
      "Zeitschritt: 2 /// Handelnder Agent: agent1\n",
      "Zeitschritt: 2 /// Handelnder Agent: agent2\n",
      "Zeitschritt: 2 /// Handelnder Agent: agent3\n",
      "#####################\n"
     ]
    }
   ],
   "source": [
    "population = [\"agent1\", \"agent2\", \"agent3\"]\n",
    "\n",
    "for tick in range(3):\n",
    "    for agent in population:\n",
    "        print(\"Zeitschritt:\", tick, \"///\", \"Handelnder Agent:\", agent)\n",
    "    print(\"#####################\")"
   ]
  }
 ],
 "metadata": {
  "kernelspec": {
   "display_name": "Python [conda env:amp_book]",
   "language": "python",
   "name": "conda-env-amp_book-py"
  },
  "language_info": {
   "codemirror_mode": {
    "name": "ipython",
    "version": 3
   },
   "file_extension": ".py",
   "mimetype": "text/x-python",
   "name": "python",
   "nbconvert_exporter": "python",
   "pygments_lexer": "ipython3",
   "version": "3.7.10"
  }
 },
 "nbformat": 4,
 "nbformat_minor": 5
}
