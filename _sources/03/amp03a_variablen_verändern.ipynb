{
 "cells": [
  {
   "cell_type": "markdown",
   "id": "1757c492",
   "metadata": {},
   "source": [
    "# Variablen verändern im Loop\n",
    "\n",
    "Mittels For-Loops können bestimmte Programmprozeduren mehrmals hintereinander wiederholt werden. Eine typische Programmprozedur, die innerhalb von For-Loops wiederholt wird, ist das Verändern von Variablen.\n",
    "\n",
    "**Ein Beispiel:** Wir haben eine Variable `counter`, die zunächst den Wert `0` aufweist. Danach startet ein For-Loop, wobei in jeder Runde des For-Loops die Variable `counter` um 1 erhöht wird."
   ]
  },
  {
   "cell_type": "code",
   "execution_count": 1,
   "id": "0c34348c",
   "metadata": {
    "scrolled": true
   },
   "outputs": [],
   "source": [
    "counter = 0"
   ]
  },
  {
   "cell_type": "code",
   "execution_count": 2,
   "id": "2cb63be2",
   "metadata": {},
   "outputs": [
    {
     "data": {
      "text/plain": [
       "0"
      ]
     },
     "execution_count": 2,
     "metadata": {},
     "output_type": "execute_result"
    }
   ],
   "source": [
    "counter"
   ]
  },
  {
   "cell_type": "code",
   "execution_count": 3,
   "id": "13db7a22",
   "metadata": {},
   "outputs": [],
   "source": [
    "for i in range(10):\n",
    "    counter = counter + 1"
   ]
  },
  {
   "cell_type": "markdown",
   "id": "f019cdd1",
   "metadata": {},
   "source": [
    "Da der Loop 10 Runden gelaufen ist und somit die Variable 10 mal um 1 erhöht wurde, weist die Variable `counter` nun den Wert 10 auf:"
   ]
  },
  {
   "cell_type": "code",
   "execution_count": 4,
   "id": "2dceee52",
   "metadata": {},
   "outputs": [
    {
     "data": {
      "text/plain": [
       "10"
      ]
     },
     "execution_count": 4,
     "metadata": {},
     "output_type": "execute_result"
    }
   ],
   "source": [
    "counter"
   ]
  },
  {
   "cell_type": "markdown",
   "id": "418d601e",
   "metadata": {},
   "source": [
    "**Ein weiteres Beispiel:** Wir haben eine Population aus Agenten, welche wir in einer Liste speichern. \n",
    "Auch jeder Agent besteht wiederum aus einer Liste. \n",
    "Das erste Element in der Liste eines jeden Agenten repräsentiert jeweils den Namen und das zweite Element repräsentiert jeweils die Anzahl der vom Agenten gegessenen Eiskugeln."
   ]
  },
  {
   "cell_type": "code",
   "execution_count": 24,
   "id": "47aa1560",
   "metadata": {},
   "outputs": [],
   "source": [
    "# Population erstellen\n",
    "population = [[\"anna\", 2], [\"tom\", 3], [\"max\", 1], [\"lisa\", 3]]"
   ]
  },
  {
   "cell_type": "markdown",
   "id": "60e8c610",
   "metadata": {},
   "source": [
    "Nun wollen wir wissen, wie viele Eiskugeln insgesamt von allen Agenten gegessen wurden. Wir können nun nicht einfach die Eiskugeln zusammenrechnen, da diese ja nicht als einzelne Variablen vorliegen, sondern jeweils schön verpackt innerhalb einer \"Agenten-Liste\" liegen. Wir müssen also bei jedem Agenten zunächst auf das entsprechende Element zugreifen, um an die Eiskugelanzahl zu kommen und diese für unsere Berechnung zu nutzen.\n",
    "\n",
    "Eine Möglichkeit, um die Gesamtanzahl an Eiskugeln (für beliebig viele Agenten) berechnen zu lassen sieht so aus: Wir erstellen eine Variable namens `kugel_counter` mit dem Wert `0`. Dann gehen wir mittels For-Loop die Liste `population` Agent für Agent nacheinander durch und greifen bei jedem Agenten jeweils per Listenindizierung auf die Anzahl der gegessenen Eiskugeln zu und erhöhen die Variable `kugel_counter` um genau diesen Wert. Nachdem der For-Loop durchgelaufen ist und die Variable `kugel_counter` für jeden Agenten um dessen Anzahl an Eiskugeln erhöht wurde, sollte die Variable `kugel_counter` der Gesamtzahl an gegessenen Eiskugeln entsprechen."
   ]
  },
  {
   "cell_type": "code",
   "execution_count": 25,
   "id": "f5689be2",
   "metadata": {
    "scrolled": true
   },
   "outputs": [
    {
     "name": "stdout",
     "output_type": "stream",
     "text": [
      "2\n",
      "5\n",
      "6\n",
      "9\n"
     ]
    }
   ],
   "source": [
    "# Variable, die die Kugeln Eis zählt\n",
    "kugel_counter = 0\n",
    "\n",
    "# Für jeden Agenten\n",
    "for agent in population:\n",
    "    \n",
    "    # Anzahl der Eiskugeln des Agenten abrufen. Die Anzahl der Eiskugeln steht an zweiter Stelle.\n",
    "    anzahl_eiskugeln = agent[1]\n",
    "    \n",
    "    # neuen Wert von kugel_counter berechnen\n",
    "    kugel_counter = kugel_counter + anzahl_eiskugeln\n",
    "    \n",
    "    # neuen Wert anzeigen lassen\n",
    "    print(kugel_counter)"
   ]
  },
  {
   "cell_type": "markdown",
   "id": "6f2b9301",
   "metadata": {},
   "source": [
    "Die Variable `kugel_counter` zeigt nun die Summe aller gegessenen Eiskugeln an:"
   ]
  },
  {
   "cell_type": "code",
   "execution_count": 26,
   "id": "9bc79b22",
   "metadata": {
    "scrolled": true
   },
   "outputs": [
    {
     "data": {
      "text/plain": [
       "9"
      ]
     },
     "execution_count": 26,
     "metadata": {},
     "output_type": "execute_result"
    }
   ],
   "source": [
    "kugel_counter"
   ]
  },
  {
   "cell_type": "markdown",
   "id": "42d6cedf",
   "metadata": {},
   "source": [
    "````{admonition} Pro-Tipp\n",
    ":class: tip\n",
    "\n",
    "Es gibt in Python für den Fall, in dem der neue Wert einer Variable sich aus dessen altem Wert plus einem weiteren Wert ergibt, eine Kurzschreibweise. Statt wie beispielsweise oben zu schreiben:\n",
    "\n",
    "``` python\n",
    "counter = counter + 1\n",
    "```\n",
    "\n",
    "hätten wir auch schreiben können\n",
    "\n",
    "```python\n",
    "counter += 1\n",
    "```\n",
    "\n",
    "Beide Ausdrücke liefern dasselbe Ergebnis. Ähnliche Kurzschreibweisen gibt es beispielsweise auch noch für Subtraktion, Multiplikation, Division und noch ein paar mehr Operationen. Mehr dazu erfährst du z.B. [hier]().\n",
    "````"
   ]
  },
  {
   "cell_type": "markdown",
   "id": "72a903fd",
   "metadata": {},
   "source": [
    "## Mit For-Loops Listen erstellen\n",
    "\n",
    "Eine häufige Anwendung von For-Loops ist auch das Erstellen von Listen. Eigentlich ist das auch nur eine weitere Form davon, wie man mit For-Loops Variablen dauerhaft verändern kann. Praktisch ist das z.B. wenn man große Populationen von Agenten erstellen möchte.\n",
    "\n",
    "Das Vorgehen ist dabei so: Wir erstellen zunächst eine leere Liste. Dann fügen wir innerhalb eines For-Loops in jeder Runde des Loops ein Element mittels der Listen-Methode `append()` zur Liste hinzu. Beispiel:"
   ]
  },
  {
   "cell_type": "code",
   "execution_count": 5,
   "id": "3e1b3bc9",
   "metadata": {},
   "outputs": [
    {
     "name": "stdout",
     "output_type": "stream",
     "text": [
      "[0, 1, 4, 9, 16, 25, 36, 49, 64, 81]\n"
     ]
    }
   ],
   "source": [
    "# leere Liste erstellen\n",
    "population = []\n",
    "\n",
    "# 10 mal\n",
    "for i in range(10):\n",
    "    # neuen Agenten (als Zahl) erstellen\n",
    "    neuer_agent = i*i\n",
    "    \n",
    "    # Agenten an Populations-Liste anhängen\n",
    "    population.append(neuer_agent)\n",
    "\n",
    "# Nach dem Loop die erstellte Liste anzeigen lassen\n",
    "print(population)"
   ]
  },
  {
   "cell_type": "markdown",
   "id": "620fdf54",
   "metadata": {},
   "source": [
    "````{admonition} Übrigens\n",
    "Da man sehr oft mittels For-Loop Listen erstellen muss, gibt es in Python auch für das Erstellen mittels For-Loop eine sehr nützliche Kurzschreibweise, die sogenannte [list comprehension](https://www.youtube.com/watch?v=AhSvKGTh28Q). Da diese jedoch am Anfang etwas gewöhnungsbedürftig ist und an dieser Stelle noch nicht notwendig ist, werden wir uns diese erst später anschauen.\n",
    "````"
   ]
  }
 ],
 "metadata": {
  "kernelspec": {
   "display_name": "Python [conda env:amp_book]",
   "language": "python",
   "name": "conda-env-amp_book-py"
  },
  "language_info": {
   "codemirror_mode": {
    "name": "ipython",
    "version": 3
   },
   "file_extension": ".py",
   "mimetype": "text/x-python",
   "name": "python",
   "nbconvert_exporter": "python",
   "pygments_lexer": "ipython3",
   "version": "3.7.10"
  }
 },
 "nbformat": 4,
 "nbformat_minor": 5
}
