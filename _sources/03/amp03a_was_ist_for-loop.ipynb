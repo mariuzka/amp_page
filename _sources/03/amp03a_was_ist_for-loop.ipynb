{
 "cells": [
  {
   "cell_type": "markdown",
   "id": "8e840905",
   "metadata": {},
   "source": [
    "# Was ist ein For-Loop?\n",
    "\n",
    "Haben wir unseren Code einmal aufgeschrieben, so können wir diesen immer und immer wieder ausführen. Das ist ziemlich praktisch. Die Lösung sich wiederholender Probleme muss nur ein einziges mal in einem Computerprogramm festgehalten werden und kann dann immer wieder verwendet werden. Dies kann uns Menschen eine Menge unliebsam repetitiver Arbeit ersparen. Das Einzige was wir dann noch machen müssen, ist einfach immer wieder auf den *Start-Knopf* zu drücken. Doch selbst innerhalb eines Computerprogrammes kann es dazu kommen, dass bestimmte Aktionen häufig wiederholt werden müssen. Schnell kann das dazu führen, dass die Programmierarbeit, die ja eigentlich repetitive Arbeit verhindern soll, selbst zur repetitiven Arbeit wird. Das will niemand! Um solche Wiederholungen innerhalb des Codes zu vermeiden, gibt es eine tolle Erfindung: der sogenannte **Loop** bzw. die **Schleife**. Ein Loop ermöglicht uns, eine Aktion bzw. einen Codeblock beliebig oft innerhalb des Programmes automatisch wiederholen zu lassen. Bei Loops unterscheidet man in der Regel zwischen sogenannten *While-Loops* und sogenannten *For-Loops*. In diesem Kapitel werden wir uns die For-Loops anschauen, da wir v.a. diese bei der Programmierung von ABM brauchen werden. \n",
    "\n",
    "Was ist ein For-Loop? Ein For-Loop führt für jedes Element einer Reihe von Elementen (also z.B. eine Liste) eine von uns angegebene \"Aktion\" aus. Deswegen heißt diese Form des Loops auch **For**-Loop: **FÜR** jedes Element einer Reihe von Elementen wird eine Aktion ausgeführt. Im Rahmen von ABM könnte das z.B. sein, dass wir *für jeden Agenten* unserer Liste `population` eine Funktion/Aktion (oder was auch immer) ausführen lassen wollen.\n",
    "\n",
    "Schauen wir uns das Ganze mal an einem ganz alltäglichen Beispiel an: Du sitzt auf dem Sofa. Vor dir liegt eine geöffnete Tüte Chips. Plötzlich kannst du einfach nicht mehr aufhören und du isst die gesamte Tüte Chips. Man könnte dein Verhalten dann ganz knapp etwa so zusammenfassen:\n",
    "\n",
    "```\n",
    "Für jeden Chip in Chipstüte:\n",
    "    Chip essen\n",
    "```\n",
    "\n",
    "Du befindest dich praktisch in einem For-Loop! Du führst *für jeden Chip in der Chipstüte* immer wieder dieselbe Handlung aus. Diese Dauerschleife hält so lange an, bis du jeden Chip in der Chipstüte durchgegangen bist und für diesen die Handlung \"Chip essen\" ausgeführt hast. Du könntest dein Handlungsspektrum natürlich auch noch erweitern und für jeden Chip zwei Handlungen ausführen. Zum Beispiel:\n",
    "\n",
    "```\n",
    "Für jeden Chip in Chipstüte:\n",
    "    Chip essen\n",
    "    Sich denken: \"Ok, das war jetzt aber wirklich der Letzte.\"\n",
    "```"
   ]
  }
 ],
 "metadata": {
  "kernelspec": {
   "display_name": "Python [conda env:amp_book]",
   "language": "python",
   "name": "conda-env-amp_book-py"
  },
  "language_info": {
   "codemirror_mode": {
    "name": "ipython",
    "version": 3
   },
   "file_extension": ".py",
   "mimetype": "text/x-python",
   "name": "python",
   "nbconvert_exporter": "python",
   "pygments_lexer": "ipython3",
   "version": "3.7.10"
  }
 },
 "nbformat": 4,
 "nbformat_minor": 5
}
