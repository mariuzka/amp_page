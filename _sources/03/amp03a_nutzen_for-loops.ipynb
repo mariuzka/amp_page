{
 "cells": [
  {
   "cell_type": "markdown",
   "id": "daff5915",
   "metadata": {},
   "source": [
    "# ABM & For-Loops\n",
    "\n",
    "Wir haben jetzt eine ganze Menge über For-Loops gelernt. For-Loops sind allgemein in der Programmierung essentiell. Und wie immer gilt daher: ABM sind Computerprogramme, weshalb auch in ABM For-Loops essentiell sind. Doch was sind die typischen Anwendungen von For-Loops innerhalb von ABM? In eigentlich jedem ABM brauchen wir For-Loops mindestens in diesen beiden Situationen:\n",
    "\n",
    "1. Einerseits modellieren wir ja bei ABM das Handeln vieler Akteure. Und damit jeder einzelne Akteur auch wirklich \"handelt\", müssen wir jedem einzelnen Akteur direkt ansprechen und sagen: \"Ey du! Jetzt handel doch mal!\". Und jetzt stell dir mal vor, dass wir mehrere Hundert oder Tausende Akteure haben. Deswegen schreiben wir unseren \"Befehl\" an die Agenten in der Regel nur genau einmal auf und verwenden dann einen Loop, um jeden einzelnen Agenten automatisch \"direkt anzusprechen\".\n",
    "\n",
    "2. Durch einen solchen Loop wie bei Punkt 1 hätten wir es schonmal geschafft, ganz bequem alle Akteure zum handeln zu bewegen. Das Ding ist aber, dass wir ja die Akteure nicht nur einmal handeln lassen wollen, sondern mehrmals im Zeitverlauf. Erst durch das wiederholte, aufeinanderbezogene Handeln mehrerer Akteure entstehen ja typischerweise die zu erklärenden sozialen Phänomene, soziale Strukturen oder soziale Systeme. Deswegen nutzen wir auch hier wieder einen Loop, der macht, dass der Loop aus Punkt 1 immer wieder ausgeführt wird. Ein Loop im Loop also. Der eine Loop \"looped\" durch die Agenten, der andere Loop \"looped\" durch die Zeit und macht, dass alle Agenten in jedem Zeitschritt handeln.\n",
    "\n",
    "Nicht selten weist der eigentliche Simulationsablauf im Code also allgemein folgende Struktur mit mindestens zwei geschachtelten Loops auf:\n",
    "\n",
    "``` python\n",
    "for TICK in TIME:\n",
    "    for AGENT in POPULATION:\n",
    "        DO_SOMETHING\n",
    "```\n",
    "\n",
    "**Für jeden Zeitschritt** wird **für jeden Agenten** etwas getan, bspw. den Agenten zum handeln gebracht. Diese Loops sind dann der eigentliche \"run\" der Simulation. Bevor die Loops jedoch anlaufen, werden in einer Initialisierungsphase noch die benötigten Variablen definiert z.B. die Populationsliste erstellt (für deren Erstellung wir nicht selten auch einen For-Loop verwenden), die Agenten definiert oder die Zeitspanne festgelegt. Das wird alles später an konkreten Beispielen noch klarer. Zumindest hast du jetzt schon mal eine grobe Idee davon, wofür wir Loops hauptsächlich brauchen werden. Neben diesen beiden zentralen Anwendungen, brauchen wir Loops auch in anderen Situationen, die in den obigen Beispielen angedeutet wurden, sehr oft."
   ]
  }
 ],
 "metadata": {
  "kernelspec": {
   "display_name": "Python [conda env:amp_book]",
   "language": "python",
   "name": "conda-env-amp_book-py"
  },
  "language_info": {
   "codemirror_mode": {
    "name": "ipython",
    "version": 3
   },
   "file_extension": ".py",
   "mimetype": "text/x-python",
   "name": "python",
   "nbconvert_exporter": "python",
   "pygments_lexer": "ipython3",
   "version": "3.7.10"
  }
 },
 "nbformat": 4,
 "nbformat_minor": 5
}
