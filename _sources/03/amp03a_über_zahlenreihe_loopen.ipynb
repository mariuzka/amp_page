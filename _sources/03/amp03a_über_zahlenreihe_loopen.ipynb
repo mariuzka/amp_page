{
 "cells": [
  {
   "cell_type": "markdown",
   "id": "6f06af21",
   "metadata": {},
   "source": [
    "# Loop durch Zahlenreihe\n",
    "\n",
    "Wir können die durch `range()` produzierte Zahlenreihe nun auch als diejenige Menge nehmen, durch die ein For-Loop looped, nacheinander ein Element herausgreift und *für* jedes Element irgendetwas macht. Das Gute ist, dass wir ein range-Objekt nicht zwingend in eine richtige Liste umwandeln müssen, wenn wir über die produzierte Zahlenreihe loopen wollen. Denn For-Loops können ja nicht nur über Listen loopen, sondern ganz allgemein über sogenannte *iterierbare* Objekte. Eine Liste ist ein solches iterierbares Objekt, das durch die Funktion `range()` produzierte range-Objekt ist aber glücklicherweise auch \"iterierbar\", sodass der For-Loop auch ein solches \"lesen\" kann. \n",
    "\n",
    "Im untigen Beispiel loope ich über eine Zahlenreihe der Länge 5 und führe für jede Zahl der Zahlenreihe den Befehl `print(\"hello world\")` aus. Die konkreten Zahlen des range-Objektes sind uns dabei komplett egal, uns geht es hier nur darum, dass der Loop 5 Runden lang läuft."
   ]
  },
  {
   "cell_type": "code",
   "execution_count": 1,
   "id": "7f12ab47",
   "metadata": {
    "scrolled": false
   },
   "outputs": [
    {
     "name": "stdout",
     "output_type": "stream",
     "text": [
      "2 Kugeln Eis bitte!\n",
      "2 Kugeln Eis bitte!\n",
      "2 Kugeln Eis bitte!\n",
      "2 Kugeln Eis bitte!\n",
      "2 Kugeln Eis bitte!\n"
     ]
    }
   ],
   "source": [
    "for i in range(5):\n",
    "    print(\"2 Kugeln Eis bitte!\")"
   ]
  },
  {
   "cell_type": "markdown",
   "id": "35f4fc81",
   "metadata": {},
   "source": [
    "Beachte auch hier wieder, dass die Schleifenvariable `i` eigentlich komplett willkürlich benannt werden kann. Wir hätten auch `for blablabla in range(5):` schreiben können. Es hat sich aber eingebürgert, für das Loopen über reine Zahlenreihen ein `i` als Name für die Schleifenvariable zu verwenden (wenn möglich). Das `i` steht dabei für Integer, Index, Iterator oder \"incrementing number\".\n",
    "\n",
    "Wie bei jedem For-Loop gilt auch bei For-Loops auf Basis der Funktion `range()`, dass die Schleifenvariable in jeder Runde den Wert des gerade durch den For-Loop aufgerufenen Elements der Liste bzw. des iterierbaren Objekts annimmt. Wir haben das `i` oben im Loop vollkommen ignoriert. Wenn wir es aber für irgendetwas brauchen, dann können wir es natürlich auch wieder im Code-Block des For-Loops verwenden, wie ich es hier tue:"
   ]
  },
  {
   "cell_type": "code",
   "execution_count": 2,
   "id": "1faea191",
   "metadata": {
    "scrolled": true
   },
   "outputs": [
    {
     "name": "stdout",
     "output_type": "stream",
     "text": [
      "0 Kugeln Eis bitte!\n",
      "1 Kugeln Eis bitte!\n",
      "2 Kugeln Eis bitte!\n",
      "3 Kugeln Eis bitte!\n",
      "4 Kugeln Eis bitte!\n"
     ]
    }
   ],
   "source": [
    "for i in range(5):\n",
    "    print(i, \"Kugeln Eis bitte!\")"
   ]
  },
  {
   "cell_type": "markdown",
   "id": "4dd7c524",
   "metadata": {},
   "source": [
    "Besonders hilfreich ist die Funktion `range()` auch dann, wenn innerhalb eines For-Loops die Schleifenvariable dazu genutzt werden soll, um per Indizierung auf die Elemente einer Liste zuzugreifen. Denn *ganz zufälligerweise* fangen ja auch die Indizes von Listen bei 0 an. Wir könnten also den jeweiligen Wert der Schleifenvariable nutzen, um damit per Index an die bestimmten Elemente einer Liste zu kommen.\n",
    "\n",
    "Unten erstelle ich zunächst die Liste `ABC`. Innerhalb eines For-Loops wird dann nacheinander per Indizierung auf die Elemente der Liste `ABC` zugegriffen.  Der jeweilige Index wird dabei aus der durch `range(5)` produzierten Zahlenreihe entnommen und in jeder Runde des Loops der Schleifenvariable `i` zugeordnet."
   ]
  },
  {
   "cell_type": "code",
   "execution_count": 3,
   "id": "4460c560",
   "metadata": {},
   "outputs": [],
   "source": [
    "ABC = [\"a\", \"b\", \"c\", \"d\", \"e\"]"
   ]
  },
  {
   "cell_type": "code",
   "execution_count": 4,
   "id": "4d8220a3",
   "metadata": {},
   "outputs": [
    {
     "data": {
      "text/plain": [
       "['a', 'b', 'c', 'd', 'e']"
      ]
     },
     "execution_count": 4,
     "metadata": {},
     "output_type": "execute_result"
    }
   ],
   "source": [
    "ABC"
   ]
  },
  {
   "cell_type": "code",
   "execution_count": 5,
   "id": "bb9cc175",
   "metadata": {},
   "outputs": [
    {
     "name": "stdout",
     "output_type": "stream",
     "text": [
      "a\n",
      "b\n",
      "c\n",
      "d\n",
      "e\n"
     ]
    }
   ],
   "source": [
    "for i in range(5):\n",
    "    print(ABC[i])"
   ]
  },
  {
   "cell_type": "markdown",
   "id": "faab4dd0",
   "metadata": {},
   "source": [
    "Wir werden später noch lernen, warum es manchmal sinnvoll bzw. notwendig ist, per Indizierung auf die Elemente einer Liste zuzugreifen, statt direkt über die Schleifenvariable des For-Loops. Wichtiger ist hier zunächst was anderes: Im obigen Beispiel war es noch einfach die richtige Länge der Liste `ABC` im Kopf abzuzählen, um dann die Länge `5` an `range()` zu übergeben, damit wir eine Zahlenreihe der richtigen Länge und somit die richtigen Indizes für den Listenzugriff erhalten. Was ist aber, wenn wir die Länge der Liste gar nicht kennen, weil sie z.B. sehr lang ist oder sich im Verlauf des Programms immer wieder ändert? Dann hilft uns die Funktion `len()` weiter!\n",
    "\n",
    "Im Folgenden übergebe ich `range()` die Länge der Liste `ABC` dadurch, dass ich sie mit `len()` messe:"
   ]
  },
  {
   "cell_type": "code",
   "execution_count": 6,
   "id": "cde9f31c",
   "metadata": {},
   "outputs": [
    {
     "name": "stdout",
     "output_type": "stream",
     "text": [
      "a\n",
      "b\n",
      "c\n",
      "d\n",
      "e\n"
     ]
    }
   ],
   "source": [
    "for i in range(len(ABC)):\n",
    "    print(ABC[i])"
   ]
  }
 ],
 "metadata": {
  "kernelspec": {
   "display_name": "Python [conda env:amp_book]",
   "language": "python",
   "name": "conda-env-amp_book-py"
  },
  "language_info": {
   "codemirror_mode": {
    "name": "ipython",
    "version": 3
   },
   "file_extension": ".py",
   "mimetype": "text/x-python",
   "name": "python",
   "nbconvert_exporter": "python",
   "pygments_lexer": "ipython3",
   "version": "3.7.10"
  }
 },
 "nbformat": 4,
 "nbformat_minor": 5
}
