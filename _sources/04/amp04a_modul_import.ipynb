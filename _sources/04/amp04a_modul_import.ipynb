{
 "cells": [
  {
   "cell_type": "markdown",
   "id": "95a96560",
   "metadata": {},
   "source": [
    "# Exkurs 1: Module importieren\n",
    "\n",
    "Bisher haben wir ausschließlich Code aus dem Basis-Python und nur sogenannte Built-in-Funktionen verwendet. Das ist der Python-Code, der uns unmittelbar mit jedem Python-Interpreter zur Verfügung steht. Allein damit kann man schon ziemlich viel machen. Man kann das Spektrum an verfügbaren Funktionen usw. aber noch enorm erweitern, wenn man sogenannte Module importiert. Module stellen uns weitere Objekte und Funktionen zur Verfügung, die wir (im aktuellen Programm) nicht selber geschrieben haben, aber anwenden können. Im einfachsten Fall ist ein Modul selbst wiederum ein Python-Skript, in dem jemand nützliche Funktionen definiert hat, sodass wir diese nicht mehr selbst schreiben müssen. Python verfügt über eine sogenannte Standardbibliothek, in der schon eine ganze Reihe nützliche Module vorhanden sind. \n",
    "Manche Module muss man aber auch extra installieren. Wie das funktioniert, schauen wir uns in einem der nächsten Kapitel an. Hier beschränken wir uns darauf, wie man bereits installierte Module aus der Python-Standard-Bibliothek nutzen kann.\n",
    "\n",
    "Ist ein Modul installiert, heißt es noch nicht, dass es wir es benutzen können. Wir müssen es zunächst in unser Programm importieren. Im Folgenden importiere ich das Modul `random`:"
   ]
  },
  {
   "cell_type": "code",
   "execution_count": 48,
   "id": "1aab9abf",
   "metadata": {},
   "outputs": [],
   "source": [
    "import random"
   ]
  },
  {
   "cell_type": "markdown",
   "id": "ea28c435",
   "metadata": {},
   "source": [
    "Alle von `random` mitgelieferten Objekte und Funktionen sind nun in Python bzw. in der aktuellen \"Konsole\" (genauer: dem Python-Kernel) geladen, sodass ich diese benutzen kann. Diesen Modul-Import macht man in der Regel zu Beginn eines Programms ganz oben im Skript.\n",
    "\n",
    "Wir können natürlich auch mehrere Module importieren:"
   ]
  },
  {
   "cell_type": "code",
   "execution_count": 49,
   "id": "62b271dd",
   "metadata": {},
   "outputs": [],
   "source": [
    "import random\n",
    "import os"
   ]
  },
  {
   "cell_type": "markdown",
   "id": "49f52df7",
   "metadata": {},
   "source": [
    "Aufgerufen werden modulspezifische Funktionen usw. indem deren Name hinten an den Modulnamen gehängt werden. Z.B. rufe ich im Folgenden die `random`-Funktion `randint()`, welche mir einen zufälligen Integer aus einem Zahlenintervall ausgibt, auf."
   ]
  },
  {
   "cell_type": "code",
   "execution_count": 50,
   "id": "2f328e34",
   "metadata": {},
   "outputs": [
    {
     "data": {
      "text/plain": [
       "6"
      ]
     },
     "execution_count": 50,
     "metadata": {},
     "output_type": "execute_result"
    }
   ],
   "source": [
    "random.randint(0, 10)"
   ]
  },
  {
   "cell_type": "markdown",
   "id": "e47ab963",
   "metadata": {},
   "source": [
    "Durch das anhängen der Funktionen usw. an die Modulnamen, bleibt kenntlich, woher diese Funktion ist und es besteht auch nicht die Gefahr, dass wir Funktionen mit demselben Namen beim Import des Moduls überschreiben. Manchmal kann es aber etwas nervig sein, immer den vollen Namen eines Moduls ausschreiben zu müssen. Daher gibt es die Option, Module unter einer (selbstgewählten) Kurzbezeichnung zu laden. Z.B. könnte ich das Modul `random` auch unter dem Namen `rdm` laden. Das macht man so:"
   ]
  },
  {
   "cell_type": "code",
   "execution_count": 51,
   "id": "1e4d85f3",
   "metadata": {},
   "outputs": [
    {
     "data": {
      "text/plain": [
       "9"
      ]
     },
     "execution_count": 51,
     "metadata": {},
     "output_type": "execute_result"
    }
   ],
   "source": [
    "import random as rdm\n",
    "\n",
    "rdm.randint(0, 20)"
   ]
  },
  {
   "cell_type": "markdown",
   "id": "9c0d8140",
   "metadata": {},
   "source": [
    "Man kann natürlich auch einzelne oder alle Funktionen/Objekte eines Moduls ohne den Modulnamen laden. Das ist aber überhaupt **nicht** zu empfehlen. Eine spezielle Funktion/Objekt eines Moduls könnte man laden indem man allgemein schreibt `from MODULE import OBJECT_NAME`"
   ]
  },
  {
   "cell_type": "code",
   "execution_count": 52,
   "id": "9ba6099f",
   "metadata": {},
   "outputs": [
    {
     "data": {
      "text/plain": [
       "76"
      ]
     },
     "execution_count": 52,
     "metadata": {},
     "output_type": "execute_result"
    }
   ],
   "source": [
    "from random import randint\n",
    "\n",
    "randint(10, 100)"
   ]
  },
  {
   "cell_type": "markdown",
   "id": "122f507e",
   "metadata": {},
   "source": [
    "## Zwei nützliche Funktionen des Moduls random\n",
    "\n",
    "Das Modul `random` ist insgesamt ein super praktisches Modul. Es liefert uns ein paar nützliche Funktionen, mit der wir Zufallszahlen generieren oder Zufallswahlen vollziehen können.\n",
    "\n",
    "\n",
    "#### random.random()\n",
    "\n",
    "Eine oft gebrauchte Funktion ist die Funktion `random()`. Nicht verwirren lassen dadurch, dass die Funktion genauso wie das Modul heißt. Die Funktion `random()` liefert einen Zufalls-`float` zwischen 0 und 1."
   ]
  },
  {
   "cell_type": "code",
   "execution_count": 53,
   "id": "20f8f31c",
   "metadata": {},
   "outputs": [
    {
     "data": {
      "text/plain": [
       "0.27564418946799973"
      ]
     },
     "execution_count": 53,
     "metadata": {},
     "output_type": "execute_result"
    }
   ],
   "source": [
    "import random\n",
    "\n",
    "random.random()"
   ]
  },
  {
   "cell_type": "markdown",
   "id": "d8cf6a71",
   "metadata": {},
   "source": [
    "Das ist praktisch, wenn man an einer bestimmten Stelle im Programm etwas mit einer bestimmten Wahrscheinlichkeit machen möchte. Möchten wir z.B. mit einer Wahrscheinlichkeit von 0.3 den String `\"Du hast gewonnen!\"` printen, dann könnten wir das so machen:"
   ]
  },
  {
   "cell_type": "code",
   "execution_count": 54,
   "id": "cf96b44d",
   "metadata": {},
   "outputs": [
    {
     "name": "stdout",
     "output_type": "stream",
     "text": [
      "Niete!\n"
     ]
    }
   ],
   "source": [
    "if random.random() <= 0.3:\n",
    "    print(\"Du hast gewonnen!\")\n",
    "else:\n",
    "    print(\"Niete!\")"
   ]
  },
  {
   "cell_type": "markdown",
   "id": "a0cd254d",
   "metadata": {},
   "source": [
    "Da die Funtion `random()` eine (gleichverteilte) Zufallszahl zwischen 0 und 1 ausgibt, wird die von `random.random()` ausgegebene Zahl mit einer Wahrscheinlichkeit von 0.3 kleiner oder gleich dem Wert 0.3 sein. Wenn wir etwas mit der Wahrscheinlichkeit von 0.3 machen wollen, dann müssen wir also einfach mithilfe eines If-Statements sagen: Wenn der ausgegebene Zufallswert kleiner oder gleich 0.3 ist, dann mache das und das.\n",
    "\n",
    "#### random.choice()\n",
    "\n",
    "Die Funktion `choice()` wurde oben schon kurz verwendet, aber nicht erläutert. Diese Funktion zieht ein Element zufällig aus einer Menge z.B. einer Liste. Das ist z.B. praktisch, wenn wir pro Zeiteinheit nur genau einen zufälligen Agenten handeln lassen wollen und daher einen Agenten zufällig aus der Populations-Liste ziehen wollen. Als Argument wird die Menge, aus der gezogen werden soll, in die Funktion `choice()` eingegeben. Ein Beispiel:"
   ]
  },
  {
   "cell_type": "code",
   "execution_count": 55,
   "id": "32d76439",
   "metadata": {},
   "outputs": [
    {
     "data": {
      "text/plain": [
       "'Agent2'"
      ]
     },
     "execution_count": 55,
     "metadata": {},
     "output_type": "execute_result"
    }
   ],
   "source": [
    "population = [\"Agent1\", \"Agent2\", \"Agent3\"]\n",
    "\n",
    "agent = random.choice(population)\n",
    "\n",
    "agent"
   ]
  },
  {
   "cell_type": "code",
   "execution_count": null,
   "id": "54b9ffad",
   "metadata": {},
   "outputs": [],
   "source": []
  }
 ],
 "metadata": {
  "kernelspec": {
   "display_name": "Python [conda env:amp_book]",
   "language": "python",
   "name": "conda-env-amp_book-py"
  },
  "language_info": {
   "codemirror_mode": {
    "name": "ipython",
    "version": 3
   },
   "file_extension": ".py",
   "mimetype": "text/x-python",
   "name": "python",
   "nbconvert_exporter": "python",
   "pygments_lexer": "ipython3",
   "version": "3.7.10"
  }
 },
 "nbformat": 4,
 "nbformat_minor": 5
}
