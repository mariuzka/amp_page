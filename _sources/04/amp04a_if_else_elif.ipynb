{
 "cells": [
  {
   "cell_type": "markdown",
   "id": "7cca36e2",
   "metadata": {},
   "source": [
    "# If, else, elif\n",
    "\n",
    "\n",
    "## Wenn dies, dann das - If-Statements mit if.\n",
    "\n",
    "Nun haben wir uns sehr genau einen bestimmten Bestandteil der If-Statements angeschaut. Kommen wir nun dazu, If-Statements als Ganzes zu benutzen, um damit die Ausführung unseres Codes situationsspezifisch zu steuern. Wie oben bereits gezeigt, besteht ein If-Statement im einfachsten Fall aus zwei Bestandteilen: dem Wenn-Teil und dem Dann-Teil. \n",
    "\n",
    "Der Wenn-Teil beginnt mit dem Schlüsselwort `if` und endet mit einem `:`. Dazwischen, also dort wo unten der Platzhalter `THIS_STATEMENT_IS_TRUE` steht, muss ein boolscher Ausdruck stehen. Ist der boolsche Ausdruck wahr d.h. wird er letztlich auf den Wert `True` reduziert, dann wird der eingerückte Codeblock darunter ausgeführt. Wenn der boolsche Ausdruck falsch ist, dann wird der eingerückte Codeblock einfach ignoriert. Die Bedingung dafür, dass der Codeblock ausgeführt wird, ist also dass der boolsche Ausdruck wahr ist.\n",
    "\n",
    "```python\n",
    "if THIS_STATEMENT_IS_TRUE: # Wenn-Teil\n",
    "    DO_THAT                # Dann-Teil\n",
    "```\n",
    "\n",
    "Schauen wir uns das an einem konkreten Beispiel an. Wie wir oben gelernt haben, sind die einfachsten boolschen Ausdrücke einfach die beiden Wahrheitswerte `True` und `False` selbst. Füge ich also als boolschen Ausdruck in ein If-Statement z.B. einfach ein `True` ein, dann ist das eine wahre Aussage, sodass die Bedingung erfüllt ist und somit der Codeblock des If-Statements ausgeführt wird:"
   ]
  },
  {
   "cell_type": "code",
   "execution_count": 1,
   "id": "71f87f90",
   "metadata": {},
   "outputs": [
    {
     "name": "stdout",
     "output_type": "stream",
     "text": [
      "Diese Aussage ist wahr!\n"
     ]
    }
   ],
   "source": [
    "if True:\n",
    "    print(\"Diese Aussage ist wahr!\")"
   ]
  },
  {
   "cell_type": "markdown",
   "id": "a1925339",
   "metadata": {},
   "source": [
    "Setzen wir stattedessen die einfachst mögliche falsche Aussage - ein `False` - ein, dann ist die Bedingung der wahren Aussage nicht erfüllt, wodurch der eingerückte Codeblock ignoriert wird. Es passiert dann einfach ertmal gar nichts:"
   ]
  },
  {
   "cell_type": "code",
   "execution_count": 2,
   "id": "93da041e",
   "metadata": {},
   "outputs": [],
   "source": [
    "if False:\n",
    "    print(\"Diese Aussage ist wahr!\")"
   ]
  },
  {
   "cell_type": "markdown",
   "id": "8bc78e78",
   "metadata": {},
   "source": [
    "Natürlich ist es etwas sinnlos, wenn man in If-Statements direkt einen nicht weiter zu reduzierenden Wahrheitswert einsetzt. Unten setze ich daher beispielhaft einen Vergleich als boolschen Ausdruck ein:"
   ]
  },
  {
   "cell_type": "code",
   "execution_count": 3,
   "id": "c5da1a7a",
   "metadata": {},
   "outputs": [
    {
     "name": "stdout",
     "output_type": "stream",
     "text": [
      "Diese Aussage ist wahr!\n"
     ]
    }
   ],
   "source": [
    "if 1 < 2:\n",
    "    print(\"Diese Aussage ist wahr!\")"
   ]
  },
  {
   "cell_type": "markdown",
   "id": "0c8ea2fc",
   "metadata": {},
   "source": [
    "Da die Aussage \"*1 ist kleiner 2*\" natürlich wahr ist, wird der eingerückte Codeblock ausgeführt. Aber natürlich machen auch If-Statements erst wieder wirklich Sinn, wenn die Wahrheit oder Falschheit der Bedingung nicht schon bereits zum Zeitpunkt der Programmierung klar ist bzw. für jeden Fall gleich ist. If-Statements machen v.a. Sinn, wenn sich das Programm in spezifischen Situationen spezfisch verhalten soll.\n",
    "\n",
    "Im untigen Beispiel wird innerhalb eines For-Loops die Liste `age_list` durchgegangen und für jedes Element in einem If-Statement erfragt, ob es größer als 40 ist. Wenn das Element größer als 40 ist und somit die Bedingung des If-Statements erfüllt ist, wird das Element an die anfangs noch leere Liste `Ü40` angehängt."
   ]
  },
  {
   "cell_type": "code",
   "execution_count": 4,
   "id": "331f8f83",
   "metadata": {},
   "outputs": [],
   "source": [
    "# Daten\n",
    "age_list = [25, 39, 45, 61]\n",
    "\n",
    "Ü40 = []\n",
    "\n",
    "# für jedes Alter\n",
    "for age in age_list:\n",
    "    # wenn größer 40\n",
    "    if age > 40:\n",
    "        # an die Liste Ü40 anhängen\n",
    "        Ü40.append(age)"
   ]
  },
  {
   "cell_type": "markdown",
   "id": "6b6b5464",
   "metadata": {},
   "source": [
    "Und wir sehen, dass sich in der Liste `Ü40` nun alle Elemente größer 40 befinden:"
   ]
  },
  {
   "cell_type": "code",
   "execution_count": 5,
   "id": "587e1666",
   "metadata": {},
   "outputs": [
    {
     "data": {
      "text/plain": [
       "[45, 61]"
      ]
     },
     "execution_count": 5,
     "metadata": {},
     "output_type": "execute_result"
    }
   ],
   "source": [
    "Ü40"
   ]
  },
  {
   "cell_type": "markdown",
   "id": "a1cd3092",
   "metadata": {},
   "source": [
    "## Nein? Dann das! If-Statements mit else.\n",
    "\n",
    "Wir können nun If-Statements schreiben, welche bestimmten Code ausführen, sobald eine Bedingung erfüllt ist. Falls die Bedingung allerdings nicht erfüllt ist, dann passiert in unseren bisherigen If-Statements einfach gar nichts. Manchmal ist es aber sehr praktisch auch bei Nicht-Erfüllung der Bedingung etwas auszuführen - nur dann eben etwas anderes. Das können wir in Python mit dem Schlüsselwort `else`. Mit `else` können wir unseren Wenn-Dann-Satz praktisch um einen \"Ansonsten\"-Teil erweitern, welcher eintritt, wenn die Bedingung nicht zutrifft. Ein Beispiel aus dem Alltag: **Wenn** das Paket heute ankommt, **dann** freue ich mich, **ansonsten** bin ich sehr traurig.\n",
    "\n",
    "Allgemein formuliert können wir unser If-Statement also wie folgt erweitern:\n",
    "\n",
    "```python\n",
    "if THIS_STATEMENT_IS_TRUE: \n",
    "    DO_THAT               \n",
    "else:\n",
    "    DO_THAT_INSTEAD      \n",
    "```\n",
    "\n",
    "Ein konkretes Beispiel: Der folgende Code prüft mithilfe der Funktion `type()`, inwiefern die Variable `element` vom Datentyp `str` ist. Wenn die Variable `element` vom Typ `str` ist, dann soll `\"String!\"` angezeigt werden, ist sie nicht vom Typ `str`, soll hingegen `\"Kein String!\"` angezeigt."
   ]
  },
  {
   "cell_type": "code",
   "execution_count": 6,
   "id": "d7112213",
   "metadata": {},
   "outputs": [
    {
     "name": "stdout",
     "output_type": "stream",
     "text": [
      "Kein String!\n"
     ]
    }
   ],
   "source": [
    "element = 10\n",
    "\n",
    "if type(element) == str:\n",
    "    print(\"String!\")\n",
    "else:\n",
    "    print(\"Kein String!\")"
   ]
  },
  {
   "cell_type": "markdown",
   "id": "d8027d59",
   "metadata": {},
   "source": [
    "Da die Variable `element` den Wert `10` aufweist, vom Typ `int` ist und somit nicht vom Typ `str`, wird die aufgestellte Bedingung nicht erfüllt. Daher springt Python direkt zum Ansonsten-Teil und führt den zugehörigen Code-Block aus. Im nächsten Beispiel ist die Variable `element` nun vom Typ `str`. Die Bedingung des Wenn-Teils wird also erfüllt und der entsprechende Dann-Teil ausgeführt. Dadurch wird diesmal der Ansonsten-Teil ignoriert."
   ]
  },
  {
   "cell_type": "code",
   "execution_count": 7,
   "id": "363bd0ef",
   "metadata": {},
   "outputs": [
    {
     "name": "stdout",
     "output_type": "stream",
     "text": [
      "String!\n"
     ]
    }
   ],
   "source": [
    "element = \"python\"\n",
    "\n",
    "if type(element) == str:\n",
    "    print(\"String!\")\n",
    "else:\n",
    "    print(\"Kein String!\")"
   ]
  },
  {
   "cell_type": "markdown",
   "id": "d7bac825",
   "metadata": {},
   "source": [
    "Im Folgenden sollen die Elemente der Liste `stuff` danach sortiert werden, ob sie vom Datentyp `str` sind oder nicht. Daher wird innerhalb eines For-Loops die Liste `stuff` durchgegangen und für jedes Element geprüft, ob dieses vom Typ `str` ist. Falls dies der Fall ist, wird das entsprechende Element an die Liste `strings` angehängt. Wenn dies nicht der Fall ist, wird das entsprechende Element an die Liste `no_strings` angehängt."
   ]
  },
  {
   "cell_type": "code",
   "execution_count": 8,
   "id": "d0c4861f",
   "metadata": {},
   "outputs": [],
   "source": [
    "# zu sortierende Liste\n",
    "stuff = [10,\"python\", 1.2, True, \"15\", \"Zwanzig\", str]\n",
    "\n",
    "# leere Listen erstellen\n",
    "strings = []\n",
    "no_strings = []\n",
    "\n",
    "# für jedes Element der Liste stuff\n",
    "for element in stuff:\n",
    "    # wenn das Element ein String ist\n",
    "    if type(element) == str:\n",
    "        # an Liste strings anhängen\n",
    "        strings.append(element)\n",
    "    # Ansonsten\n",
    "    else:\n",
    "        # an Liste no_strings anhängen\n",
    "        no_strings.append(element)"
   ]
  },
  {
   "cell_type": "code",
   "execution_count": 9,
   "id": "64afbcab",
   "metadata": {},
   "outputs": [
    {
     "data": {
      "text/plain": [
       "['python', '15', 'Zwanzig']"
      ]
     },
     "execution_count": 9,
     "metadata": {},
     "output_type": "execute_result"
    }
   ],
   "source": [
    "strings"
   ]
  },
  {
   "cell_type": "code",
   "execution_count": 10,
   "id": "5933aeff",
   "metadata": {},
   "outputs": [
    {
     "data": {
      "text/plain": [
       "[10, 1.2, True, str]"
      ]
     },
     "execution_count": 10,
     "metadata": {},
     "output_type": "execute_result"
    }
   ],
   "source": [
    "no_strings"
   ]
  },
  {
   "cell_type": "markdown",
   "id": "0a5c38de",
   "metadata": {},
   "source": [
    "## Nein? Dann vielleicht das hier? If-Statements mit elif.\n",
    "\n",
    "Mit `if` und `else` können wir angeben, was passieren soll, wenn ein bestimmter Fall eintritt und was passieren soll, wenn dieser bestimmte Fall nicht eintritt. Was ist aber, wenn wir nicht nur zwischen *das* und *nicht das*, sondern feiner zwischen verschiedenen Fällen differenzieren wollen? Dann brauchen wir `elif`! Mit `elif` können wir unserem If-Statement weitere Bedingungen hinzufügen. Diese werden geprüft, wenn die Bedingung davor nicht erfüllt wurde. Wir können also die Struktur der folgenden fiktiven Wenn-Dann-Satz-Konstruktion in Python bilden:\n",
    "\n",
    "*Wenn es Burger gibt, dann esse ich Burger.*\n",
    "\n",
    "*Wenn es keine Burger gibt, aber es Maultaschen gibt, dann esse ich Maultaschen.*\n",
    "\n",
    "*Ansonsten gehe ich zum Buffet.*\n",
    "\n",
    "\n",
    "In dieser Wenn-Dann-Aussage werden für mehrere mögliche Fälle, bestimmte Folgen angegeben. Dabei sind die Bedingungen nach der gegebenen Reihenfolge der einzelnen Wenn-Dann-Aussagen priorisiert. Die Bedingungen werden von vorne nach hinten nacheinander durchgegangen und immer nur wenn die vorherige Bedingung nicht erfüllt ist, wird die nächste Bedingung geprüft. Gibt es beispielsweise Burger, so ist sofort klar, dass Burger gegessen werden. Die anderen Möglichkeiten bzw. Bedingungen werden nicht einmal angeschaut, selbst wenn es beispielsweise neben den Burgern auch Maultaschen geben sollte. Erst wenn die erste Bedingung nicht erfüllt ist und es keine Burger gibt, wird geprüft, ob es Maultaschen gibt. Und nur wenn es weder Burger noch Maultaschen gibt, dann tritt der Notfall-Plan des Buffets in Kraft.\n",
    "\n",
    "Etwas allgemeiner könnte man dies so formulieren:\n",
    "\n",
    "```python\n",
    "Wenn Fall1:\n",
    "    ...\n",
    "Wenn nicht Fall1, aber Fall2:\n",
    "    ...\n",
    "Ansonsten:\n",
    "    ...\n",
    "```\n",
    "\n",
    "Tatsächlich bewahrt uns das Wort `elif` (das eine Zusammensetzung aus `else` und `if` ist) davor, geschachtelte If-Statements schreiben zu müssen. Denn wir hätten deneselben Inhalt von oben durchaus auch ohne `elif` bzw. ohne \"wenn nicht Fall1, aber Fall2\" schreiben können, indem wir einfach in den Ansonsten-Teil ein zweites ganz normales If-Statement gesetzt hätten, wie ich unten beispielhaft zeige:\n",
    "\n",
    "```python\n",
    "Wenn Fall1:\n",
    "    dann ...\n",
    "Ansonsten:\n",
    "    wenn Fall2:\n",
    "        dann ...\n",
    "    Ansonsten:\n",
    "        ...\n",
    "```\n",
    "\n",
    "Und nochmal als \"Python-Code\" ausgedrückt:\n",
    "\n",
    "```python\n",
    "if Fall1:\n",
    "    ...\n",
    "else:\n",
    "    if Fall2:\n",
    "        ...\n",
    "    else:\n",
    "        ...\n",
    "```\n",
    "\n",
    "Spätestens wenn man noch eine Bedingung hinzufügen möchte, werden geschachtelte If-Statements ziemlich unübersichtlich. Genau deswegen gibt es das Wort `elif`. Mit `elif` würden dann die obigen abstrakten Beispiele so aussehen:\n",
    "\n",
    "```python\n",
    "if Fall1:\n",
    "    ...\n",
    "elif Fall2:\n",
    "    ...\n",
    "else:\n",
    "    ...\n",
    "```\n",
    "\n",
    "Wir können mit `elif` also einen weiteren Wenn-Teil bzw. eine weitere Bedingung zu unserem If-Statement hinzufügen. Diese zusätzlichen Wenn-Dann-Blöcke mit `elif` kommen immer erst nach einem ersten, mit `if` eingeleiteten Wenn-Teil und immer vor einem eventuellen Ansonsten-Teil mit `else`. Während wir in einem If-Statement genau einmal zu Beginn das Schlüsselwort `if` benutzen und auch maximal einmal am Ende das Schlüsselwort `else` benutzen können, können wir das Schlüsselwort `elif` beliebig oft verwenden. Die Bedingungen werden solange bis eine der Bedingungen `True` ist, von oben nach unten nacheinander überprüft. Ist eine Bedingung `True`, dann wird der zugehörige Code-Block ausgeführt. Alle folgenden Bedingungen dieses If-Statements werden dann ignoriert.\n",
    "\n",
    "Wollen wir beispielsweise die Elemente der Liste `stuff` nicht nur danach sortieren, ob sie vom Typ String oder nicht vom Typ String sind, sondern auch danach, ob sie vom Datentyp `int` sind, dann könnte das z.B. so mit einem `elif` aussehen:"
   ]
  },
  {
   "cell_type": "code",
   "execution_count": 11,
   "id": "a9351f85",
   "metadata": {},
   "outputs": [],
   "source": [
    "# zu sortierende Liste\n",
    "stuff = [10,\"python\", 1.2, True, \"15\", \"Zwanzig\", str]\n",
    "\n",
    "# leere Listen zum einsortieren\n",
    "strings = []\n",
    "integers = []\n",
    "other = []\n",
    "\n",
    "\n",
    "# für jedes Element der Liste stuff\n",
    "for element in stuff:\n",
    "    \n",
    "    # wenn es ein String ist\n",
    "    if type(element) == str:\n",
    "        strings.append(element)\n",
    "    \n",
    "    # wenn es kein String, aber ein Integer ist\n",
    "    elif type(element) == int:\n",
    "        integers.append(element)\n",
    "    \n",
    "    # ansonsten\n",
    "    else:\n",
    "        other.append(element)"
   ]
  },
  {
   "cell_type": "code",
   "execution_count": 12,
   "id": "42b9deb4",
   "metadata": {},
   "outputs": [
    {
     "data": {
      "text/plain": [
       "['python', '15', 'Zwanzig']"
      ]
     },
     "execution_count": 12,
     "metadata": {},
     "output_type": "execute_result"
    }
   ],
   "source": [
    "strings"
   ]
  },
  {
   "cell_type": "code",
   "execution_count": 13,
   "id": "8c16bae0",
   "metadata": {},
   "outputs": [
    {
     "data": {
      "text/plain": [
       "[10]"
      ]
     },
     "execution_count": 13,
     "metadata": {},
     "output_type": "execute_result"
    }
   ],
   "source": [
    "integers"
   ]
  },
  {
   "cell_type": "code",
   "execution_count": 14,
   "id": "1c938d10",
   "metadata": {},
   "outputs": [
    {
     "data": {
      "text/plain": [
       "[1.2, True, str]"
      ]
     },
     "execution_count": 14,
     "metadata": {},
     "output_type": "execute_result"
    }
   ],
   "source": [
    "other"
   ]
  },
  {
   "cell_type": "markdown",
   "id": "7933265f",
   "metadata": {},
   "source": [
    "Ich füge nun noch eine weitere Bedingung hinzu. Diesmal füge ich eine Bedingung ein, die abfragt, inwiefern das Element keine `10` ist. Diese Bedingung schreibe ich an den Anfang des If-Statements hinter das Schlüsselwort `if`, sodass diese Bedingung die erste ist, die evaluiert wird. Was verändert dies am Ergebnis?"
   ]
  },
  {
   "cell_type": "code",
   "execution_count": 15,
   "id": "6ab1cfb1",
   "metadata": {},
   "outputs": [],
   "source": [
    "# zu sortierende Liste\n",
    "stuff = [10,\"python\", 1.2, True, \"15\", \"Zwanzig\", str]\n",
    "\n",
    "# leere Listen zum einsortieren\n",
    "not_ten = []\n",
    "strings = []\n",
    "integers = []\n",
    "other = []\n",
    "\n",
    "\n",
    "# für jedes Element der Liste stuff\n",
    "for element in stuff:\n",
    "    \n",
    "    # wenn es keine 10 ist\n",
    "    if element != 10:\n",
    "        not_ten.append(element)\n",
    "    \n",
    "    # wenn es eine 10 ist, aber ein String\n",
    "    elif type(element) == str:\n",
    "        strings.append(element)\n",
    "    \n",
    "    # wenn es eine 10 und kein String ist, aber ein Integer\n",
    "    elif type(element) == int:\n",
    "        integers.append(element)\n",
    "    \n",
    "    # ansonsten\n",
    "    else:\n",
    "        other.append(element)"
   ]
  },
  {
   "cell_type": "code",
   "execution_count": 16,
   "id": "09e2ac09",
   "metadata": {},
   "outputs": [
    {
     "data": {
      "text/plain": [
       "['python', 1.2, True, '15', 'Zwanzig', str]"
      ]
     },
     "execution_count": 16,
     "metadata": {},
     "output_type": "execute_result"
    }
   ],
   "source": [
    "not_ten"
   ]
  },
  {
   "cell_type": "code",
   "execution_count": 17,
   "id": "68e54832",
   "metadata": {},
   "outputs": [
    {
     "data": {
      "text/plain": [
       "[]"
      ]
     },
     "execution_count": 17,
     "metadata": {},
     "output_type": "execute_result"
    }
   ],
   "source": [
    "strings"
   ]
  },
  {
   "cell_type": "code",
   "execution_count": 18,
   "id": "319998f5",
   "metadata": {},
   "outputs": [
    {
     "data": {
      "text/plain": [
       "[10]"
      ]
     },
     "execution_count": 18,
     "metadata": {},
     "output_type": "execute_result"
    }
   ],
   "source": [
    "integers"
   ]
  },
  {
   "cell_type": "code",
   "execution_count": 19,
   "id": "30b4c8ee",
   "metadata": {},
   "outputs": [
    {
     "data": {
      "text/plain": [
       "[]"
      ]
     },
     "execution_count": 19,
     "metadata": {},
     "output_type": "execute_result"
    }
   ],
   "source": [
    "other"
   ]
  },
  {
   "cell_type": "markdown",
   "id": "2a11dfc8",
   "metadata": {},
   "source": [
    "Da für fast alle Elemente zutrifft, dass sie keine `10` sind, wurden fast alle Elemente der Liste `not_ten` angehängt. Da die Bedingung in der Reihenfolge als erstes kommt, ist es auch egal, ob unter den Elementen, welche nicht `10` sind, Strings und Integers sind. Allein die `10` ist nicht ungleich `10`, weshalb die erste Bedingung nicht erfüllt ist und dann weitere Bedingungen evaluiert werden.\n",
    "\n"
   ]
  },
  {
   "cell_type": "markdown",
   "id": "6adb7347",
   "metadata": {},
   "source": [
    "```{admonition} Wichtig\n",
    ":class: important\n",
    "Die Reihenfolge der Bedingungen kann bei längeren If-Elif-Else-Statements sehr wichtig sein!\n",
    "```"
   ]
  },
  {
   "cell_type": "code",
   "execution_count": null,
   "id": "b3dd84dc",
   "metadata": {},
   "outputs": [],
   "source": []
  }
 ],
 "metadata": {
  "kernelspec": {
   "display_name": "Python [conda env:amp_book]",
   "language": "python",
   "name": "conda-env-amp_book-py"
  },
  "language_info": {
   "codemirror_mode": {
    "name": "ipython",
    "version": 3
   },
   "file_extension": ".py",
   "mimetype": "text/x-python",
   "name": "python",
   "nbconvert_exporter": "python",
   "pygments_lexer": "ipython3",
   "version": "3.7.10"
  }
 },
 "nbformat": 4,
 "nbformat_minor": 5
}
