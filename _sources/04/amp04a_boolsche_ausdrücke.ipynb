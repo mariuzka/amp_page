{
 "cells": [
  {
   "cell_type": "markdown",
   "id": "11d0aa8c",
   "metadata": {},
   "source": [
    "# Boolesche Ausdrücke\n",
    "\n",
    "Boolsche Ausdrücke kann man ganz generell als \"logische\" Aussagen, die entweder **wahr** oder **falsch** sein können, verstehen. Wichtig ist, dass ein boolscher Ausdruck auf jeden Fall immer entweder ausschließlich 100% wahr oder ausschließlich 100% falsch ist. Niemals ist ein boolscher Ausdruck irgendwas dazwischen oder beides. Boolsche Ausdrücke gibt es übrigens nicht nur in Python, sondern diese sind elementarer Bestandteil in der Mathematik, Informatik und Logik. In Python können boolsche Ausdrücke in unterschiedlicher Form vorkommen, aber immer wenn Python einen boolschen Ausdruck *sieht*, dann versucht Python herauszufinden, ob die Aussage wahr oder falsh ist. Am Ende eines solchen Wahrheitsfindungsprozesses gibt Python dann entweder den Wert `True` oder den Wert `False` aus und sagt uns damit praktisch, ob der soeben evaluierte boolsche Ausdruck bzw. die Aussage `True` (wahr) oder `False` (falsch) ist.\n",
    "\n",
    "Wie sieht denn nun ein solcher Boolscher Ausdruck in Python aus? Die einfachste und elementarste Form eines boolschen Ausdrucks sind die beiden Wahrheitswerte `True` und `False` selbst. Diese beiden Werte sind in Python Werte des Typs `bool` und nicht nur das Ergebnis einer jeden Evaluation boolscher Ausdrücke sondern für sich genommen eben selbst boolsche Ausdrücke. Evaluiert man die Aussage `True` auf ihren Wahrheitsgehalt, so kommt man natürlich selbst wieder auf das Ergebnis `True`. Evaluiert man die Aussage `False` auf ihren Wahrheitsgehalt, so kommt man natürlich auch hier wieder auf das Ergebnis `False`."
   ]
  },
  {
   "cell_type": "code",
   "execution_count": 1,
   "id": "f2e3dc47",
   "metadata": {},
   "outputs": [
    {
     "data": {
      "text/plain": [
       "True"
      ]
     },
     "execution_count": 1,
     "metadata": {},
     "output_type": "execute_result"
    }
   ],
   "source": [
    "True"
   ]
  },
  {
   "cell_type": "code",
   "execution_count": 2,
   "id": "bfa0d83f",
   "metadata": {
    "scrolled": true
   },
   "outputs": [
    {
     "data": {
      "text/plain": [
       "False"
      ]
     },
     "execution_count": 2,
     "metadata": {},
     "output_type": "execute_result"
    }
   ],
   "source": [
    "False"
   ]
  },
  {
   "cell_type": "markdown",
   "id": "b48b8332",
   "metadata": {},
   "source": [
    "## Vergleiche\n",
    "\n",
    "Man versteht am besten, was boolsche Ausdrücke sind, wenn man etwas über ihre elementarste (aber noch etwas *inhaltslose*) Existenzweise als `True` und `False` hinausgeht und sich anschaut, in welcher Form uns boolsche Ausdrücke in *richtigen Programmen* oft begegnen. Eine sehr wichtige Form boolscher Ausdrücke sind **Vergleiche**. In Vergleichen können wir zwei Werte bzw. Variablen miteinander vergleichen. Dabei stehen uns die typischen **Vergleichsoperatoren**, die dir bestimmt bekannt sind, zur Verfügung. \n",
    "\n",
    "Ein Beispiel: Unten vergleiche ich die beiden Werte `1` und `2` daraufhin, ob `1` kleiner als `2` ist. Python führt für uns den Vergleich aus und gibt uns eine Antwort:"
   ]
  },
  {
   "cell_type": "code",
   "execution_count": 3,
   "id": "b41dfdc0",
   "metadata": {},
   "outputs": [
    {
     "data": {
      "text/plain": [
       "True"
      ]
     },
     "execution_count": 3,
     "metadata": {},
     "output_type": "execute_result"
    }
   ],
   "source": [
    "1 < 2"
   ]
  },
  {
   "cell_type": "markdown",
   "id": "85e62eb5",
   "metadata": {},
   "source": [
    "Wir können uns vorstellen, dass wir oben gerade Python *gefragt* haben, ob `1` kleiner als `2` ist. Python hat sich dann den Sachverhalt angenommen, die beiden Zahlen miteinander vergleichen und uns die Antwort ausgegeben. In diesem Fall war die Antwort \"Ja, 1 ist kleiner als 2.\" weshalb uns Python mit `True` geantwortet hat. Unten frage ich nun, ob `1` größer als `2` ist und Python antwortet uns dann diesmal natürlich mir `False` d.h. \"nein\":"
   ]
  },
  {
   "cell_type": "code",
   "execution_count": 4,
   "id": "d7aa4e7f",
   "metadata": {},
   "outputs": [
    {
     "data": {
      "text/plain": [
       "False"
      ]
     },
     "execution_count": 4,
     "metadata": {},
     "output_type": "execute_result"
    }
   ],
   "source": [
    "1 > 2"
   ]
  },
  {
   "cell_type": "markdown",
   "id": "20d90ef7",
   "metadata": {},
   "source": [
    "Wir können uns das Ganze aber nicht nur als **Ja-Nein-Frage**, sondern auch als eine von uns formulierte und von Python **zu prüfende Aussage** vorstellen. \n",
    "Wenn ich sage \"*1 ist kleiner als 2*\", dann antwortet uns Python \"*ja, das stimmt*\". \n",
    "Wenn ich sage, \"*1 ist größer als 2*\", dann antwortet Python mit \"*nein, das ist falsch*\".\n",
    "\n",
    "In Python stehen uns neben den beiden Vergleichs-Operatoren `<` und `>` noch eine Menge weiterer Vergleichsoperatoren zur Verfügung. Hier eine Übersicht über die gängisten Vergleichsoperatoren:\n",
    "\n",
    "| Bedeutung         | Symbol | \n",
    "|----------------   |--------|\n",
    "|    kleiner        | `<`    |    \n",
    "|    kleinergleich  | `<=`   |   \n",
    "|    gleich         | `==`   |   \n",
    "|    ungleich       | `!=`   |    \n",
    "|    größergleich   | `>=`   |    \n",
    "|    größer         | `>`    | "
   ]
  },
  {
   "cell_type": "markdown",
   "id": "bcf68977",
   "metadata": {},
   "source": [
    "Nicht alle Vergleichsoperatoren beziehen sich zwangsläufig auf Zahlen. So kann man mit dem `==`-Operator z.B. auch prüfen, ob zwei Zeichenketten gleich sind:"
   ]
  },
  {
   "cell_type": "code",
   "execution_count": 5,
   "id": "baff2959",
   "metadata": {},
   "outputs": [
    {
     "data": {
      "text/plain": [
       "True"
      ]
     },
     "execution_count": 5,
     "metadata": {},
     "output_type": "execute_result"
    }
   ],
   "source": [
    "\"python\" == \"python\""
   ]
  },
  {
   "cell_type": "code",
   "execution_count": 6,
   "id": "f272a6aa",
   "metadata": {
    "scrolled": true
   },
   "outputs": [
    {
     "data": {
      "text/plain": [
       "False"
      ]
     },
     "execution_count": 6,
     "metadata": {},
     "output_type": "execute_result"
    }
   ],
   "source": [
    "\"python\" == \"pyton\""
   ]
  },
  {
   "cell_type": "markdown",
   "id": "cb89bcde",
   "metadata": {},
   "source": [
    "Wir können damit aber auch z.B. prüfen, ob zwei Listen identisch sind:"
   ]
  },
  {
   "cell_type": "code",
   "execution_count": 7,
   "id": "22cf6a38",
   "metadata": {},
   "outputs": [
    {
     "data": {
      "text/plain": [
       "True"
      ]
     },
     "execution_count": 7,
     "metadata": {},
     "output_type": "execute_result"
    }
   ],
   "source": [
    "[1, 2, 3] == [1, 2, 3]"
   ]
  },
  {
   "cell_type": "code",
   "execution_count": 8,
   "id": "bc49b679",
   "metadata": {},
   "outputs": [
    {
     "data": {
      "text/plain": [
       "False"
      ]
     },
     "execution_count": 8,
     "metadata": {},
     "output_type": "execute_result"
    }
   ],
   "source": [
    "[1, 2, 3] == [3, 2, 1]"
   ]
  },
  {
   "cell_type": "markdown",
   "id": "1d046e1a",
   "metadata": {},
   "source": [
    "Innerhalb von Bedingungen können wir natürlich auch alle möglichen Funktionen verwenden, z.B. die Funktion `len()`: "
   ]
  },
  {
   "cell_type": "code",
   "execution_count": 9,
   "id": "f2905dc8",
   "metadata": {},
   "outputs": [
    {
     "data": {
      "text/plain": [
       "True"
      ]
     },
     "execution_count": 9,
     "metadata": {},
     "output_type": "execute_result"
    }
   ],
   "source": [
    "len([1, 2, 3]) == 3"
   ]
  },
  {
   "cell_type": "markdown",
   "id": "eef16249",
   "metadata": {},
   "source": [
    "## Abstrakte Variablen statt konkrete Werte\n",
    "\n",
    "In den obigen Beispielen habe ich die zu vergleichenden Werte immer direkt innerhalb des Vergleiches konkret ausformuliert. Das werden wir innerhalb eines richtigen Programmes aber eigentlich niemals in der Form tun. Stattdessen werden wir in den meisten Fällen innerhalb von Vergleichen bzw. allgemein innerhalb von boolschen Ausdrücken nicht alle Werte konkret ausschreiben, sondern Variablen als Platzhalter für konkrete Werte einfügen. Dadurch können wir dann Werte miteinander vergleichen, die wir zum Zeitpunkt des Programmierens nicht genau kennen, weil diese sich entweder aus einem sehr großen Datensatz ergeben oder sogar vielleicht erst \"dynamisch\" innerhalb unseres Programmes entstehen oder verändert werden. Erst wenn wir die Antwort nicht genau kennen, machen solche Vergleiche ja erst wirklich Sinn.\n",
    "\n",
    "Unten im Beispiel gehe ich z.B. die Liste `age_list` durch und frage für jedes Element nach, ob dieses größer 40 ist. Das funktioniert, weil der Vergleich `age > 40` diesmal nich nur direkt ausformulierte Werte, sondern u.a. die Variable `age` enthält. In jeder Runde des For-Loops bekommt die Variable `age` den Wert eines anderen Elementes der Liste `age_list` zugewiesen, sodass dieselbe \"Vergleichsstruktur\" für unterschiedliche konkrete Werte durchgeführt wird."
   ]
  },
  {
   "cell_type": "code",
   "execution_count": 10,
   "id": "230fe98c",
   "metadata": {},
   "outputs": [
    {
     "name": "stdout",
     "output_type": "stream",
     "text": [
      "False\n",
      "False\n",
      "True\n",
      "True\n"
     ]
    }
   ],
   "source": [
    "# Daten\n",
    "age_list = [25, 39, 45, 61]\n",
    "\n",
    "# Jeden Wert der Daten durchgehen\n",
    "for age in age_list:\n",
    "    # größer 40?\n",
    "    print(age > 40)"
   ]
  },
  {
   "cell_type": "markdown",
   "id": "5a27c194",
   "metadata": {},
   "source": [
    "## Die logischen Operatoren NICHT, UND & ODER\n",
    "\n",
    "Mithilfe der Operatoren `and`, `or` und `not` können wir auch kompliziertere, verknüpfte Bedingungen aufstellen. Die Funktionsweise der drei Operatoren entspricht dabei der Funktionsweise der logischen Operatoren UND, ODER und NICHT der klassischen Aussagenlogik.\n",
    "\n",
    "Ein Video zur klassichen Aussagenlogik und der grundlegenden Funktionsweise der logischen Operatoren bzw. Verknüpfungen findest du hier:"
   ]
  },
  {
   "cell_type": "code",
   "execution_count": 11,
   "id": "6a37626e",
   "metadata": {},
   "outputs": [
    {
     "data": {
      "image/jpeg": "[encoded data removed]",
      "text/html": [
       "\n",
       "        <iframe\n",
       "            width=\"400\"\n",
       "            height=\"300\"\n",
       "            src=\"https://www.youtube.com/embed/inwIsNIaWJM\"\n",
       "            frameborder=\"0\"\n",
       "            allowfullscreen\n",
       "        ></iframe>\n",
       "        "
      ],
      "text/plain": [
       "<IPython.lib.display.YouTubeVideo at 0x1ff99922508>"
      ]
     },
     "execution_count": 11,
     "metadata": {},
     "output_type": "execute_result"
    }
   ],
   "source": [
    "from IPython.display import YouTubeVideo\n",
    "YouTubeVideo(\"inwIsNIaWJM\")"
   ]
  },
  {
   "cell_type": "markdown",
   "id": "24e51c1f",
   "metadata": {},
   "source": [
    "### Negation: not\n",
    "\n",
    "Das Wörtchen `not` ermöglicht uns \"verneinte\" Aussagen aufzustellen d.h. Aussagen, welche besagen, dass *etwas* **nicht** wahr ist. Ganz allgemein wird durch ein `not` aus jedem `True` ein `False` und aus jedem `False` ein `True`."
   ]
  },
  {
   "cell_type": "code",
   "execution_count": 12,
   "id": "47eb3c4c",
   "metadata": {},
   "outputs": [
    {
     "data": {
      "text/plain": [
       "False"
      ]
     },
     "execution_count": 12,
     "metadata": {},
     "output_type": "execute_result"
    }
   ],
   "source": [
    "not True"
   ]
  },
  {
   "cell_type": "code",
   "execution_count": 13,
   "id": "8cc9c7e6",
   "metadata": {},
   "outputs": [
    {
     "data": {
      "text/plain": [
       "True"
      ]
     },
     "execution_count": 13,
     "metadata": {},
     "output_type": "execute_result"
    }
   ],
   "source": [
    "not False"
   ]
  },
  {
   "cell_type": "code",
   "execution_count": 14,
   "id": "0fadcc5e",
   "metadata": {},
   "outputs": [
    {
     "data": {
      "text/plain": [
       "True"
      ]
     },
     "execution_count": 14,
     "metadata": {},
     "output_type": "execute_result"
    }
   ],
   "source": [
    "not not True"
   ]
  },
  {
   "cell_type": "markdown",
   "id": "15f32053",
   "metadata": {},
   "source": [
    "Wir könnten aber beispielsweise auch die Aussage \"*1 ist größer 0*\" mithilfe dem Schlüssel-Wort `not` in die Aussage \"*1 ist nicht größer 0*\" umwandeln:"
   ]
  },
  {
   "cell_type": "code",
   "execution_count": 15,
   "id": "7d850356",
   "metadata": {},
   "outputs": [
    {
     "data": {
      "text/plain": [
       "False"
      ]
     },
     "execution_count": 15,
     "metadata": {},
     "output_type": "execute_result"
    }
   ],
   "source": [
    "not 1 > 0"
   ]
  },
  {
   "cell_type": "markdown",
   "id": "f4a22a26",
   "metadata": {},
   "source": [
    "Die Aussage \"*1 ist nicht größer 0*\" ist natürlich `False`. Wir können obige \"Aussage\" natürlich auch wieder als \"Frage\" lesen: \"*Ist 1 nicht größer 0?*\". Darauf wäre die Antwort dann \"*Nein*\"."
   ]
  },
  {
   "cell_type": "markdown",
   "id": "7f0126f3",
   "metadata": {},
   "source": [
    "### Konjunktion: and\n",
    "\n",
    "Bisher haben wir immer nur \"einfache\" Aussagen aufgestellt (z.B. einen Vergleich auf einmal durchgeführt). Mithilfe von `and` und `or` können wir mehrere Aussagen gleichzeitig aufstellen und somit mehrere Teil-Aussagen zu einer Gesamt-Aussage verknüpfen (wir können dadurch z.B. mehrere Vergleiche auf einmal durchführen). Schauen wir uns an dieser Stelle zunächst die sogenannte UND-Verknüpfung an.\n",
    "\n",
    "Der logische Operator `and` ermöglicht es uns, zwei Teilaussagen so zu verknüpfen, dass die Gesamtaussage genau dann wahr ist, wenn alle Teilaussagen wahr sind. \n",
    "Ich könnte beispielsweise gleichzeitig die Aussagen \"*1 ist größer 0*\" und \"*2 ist gleich 3*\" aufstellen. Wenn ich diese nun mit einem \"und\" verknüpfe, dann sage ich \"*1 ist größer 0 und 2 ist gleich 3*\". Damit impliziere ich, dass ich für beide Aussagen annehme, dass sie wahr sind. Python überprüft das und sagt mir, ob es wahr ist, das beide Teil-Aussagen wahr sind:"
   ]
  },
  {
   "cell_type": "code",
   "execution_count": 16,
   "id": "c50d86dc",
   "metadata": {},
   "outputs": [
    {
     "data": {
      "text/plain": [
       "False"
      ]
     },
     "execution_count": 16,
     "metadata": {},
     "output_type": "execute_result"
    }
   ],
   "source": [
    "1 > 0 and 2 == 3"
   ]
  },
  {
   "cell_type": "markdown",
   "id": "e5717abd",
   "metadata": {},
   "source": [
    "Python sagt mir, dass die Aussage, dass beide Teil-Aussagen wahr sind, nicht stimmt. Das liegt daran, dass die Aussage \"2 ist gleich 3\" falsch ist, wodurch es auch nicht mehr stimmt, dass beide Teil-Aussagen wahr sind.\n",
    "\n",
    "Immer wenn mehrere Teil-Aussagen zu einer Gesamt-Aussage verknüpft sind, dann geht Python Schritt für Schritt die Teil-Aussagen durch, prüft deren Wahrheitsgehalt, schaut dann, welche neue Aussage durch die \"Lösung\" der Teil-Aussagen entsteht und prüft dann diese. Je nach Anzahl von Teil-Aussagen oder Schachtelung von Teil-Aussagen, wird dieses Vorgehen mehrmals wiederholt. Aber egal, aus vielen Teil-Aussagen eine Gesamt-Aussage besteht, am Ende wird jede Gesamtaussage auf einen einzigen Wert reduziert: `True` oder `False`.\n",
    "\n",
    "Schauen wir uns diese schrittweise Reduktion der obigen verknüpften Aussage mal Schritt für Schritt an. Im ersten Schritt \"reduziert\" Python den Ausdruck\n",
    "\n",
    "``` python\n",
    "1 > 0 and 2 == 3\n",
    "```\n",
    "\n",
    "zu\n",
    "\n",
    "``` python\n",
    "True and False\n",
    "```\n",
    "\n",
    "Zwei durch `and` verknüpfte Aussagen werden nur dann `True`, wenn beide Teil-Aussagen `True` sind. Daher wird aus\n",
    "\n",
    "``` python\n",
    "True and False\n",
    "```\n",
    "\n",
    "nun\n",
    "\n",
    "``` python\n",
    "False\n",
    "```\n",
    "\n",
    "weil nicht auf beiden Seiten des `and` ein `True` steht.\n",
    "\n",
    "Da es bei der Verknüpfung von Aussagen durch `and` letztlich nur um Kombinationen von `True` und `False` geht, weil jede Aussage auf `True` oder `False` redziert wird, können wir Python für Demonstrationszwecke auch einfach direkt nach der \"Wahrheit\" verschiedener `and`-Verknüpfungen von `True` und `False` fragen, wie ich es im Folgenden tue:"
   ]
  },
  {
   "cell_type": "code",
   "execution_count": 17,
   "id": "ac07f71f",
   "metadata": {},
   "outputs": [
    {
     "data": {
      "text/plain": [
       "True"
      ]
     },
     "execution_count": 17,
     "metadata": {},
     "output_type": "execute_result"
    }
   ],
   "source": [
    "True and True"
   ]
  },
  {
   "cell_type": "code",
   "execution_count": 18,
   "id": "66034081",
   "metadata": {},
   "outputs": [
    {
     "data": {
      "text/plain": [
       "False"
      ]
     },
     "execution_count": 18,
     "metadata": {},
     "output_type": "execute_result"
    }
   ],
   "source": [
    "True and False"
   ]
  },
  {
   "cell_type": "code",
   "execution_count": 19,
   "id": "bc485f66",
   "metadata": {},
   "outputs": [
    {
     "data": {
      "text/plain": [
       "False"
      ]
     },
     "execution_count": 19,
     "metadata": {},
     "output_type": "execute_result"
    }
   ],
   "source": [
    "False and True"
   ]
  },
  {
   "cell_type": "code",
   "execution_count": 20,
   "id": "f19960e3",
   "metadata": {},
   "outputs": [
    {
     "data": {
      "text/plain": [
       "False"
      ]
     },
     "execution_count": 20,
     "metadata": {},
     "output_type": "execute_result"
    }
   ],
   "source": [
    "False and False"
   ]
  },
  {
   "cell_type": "markdown",
   "id": "f0a5e50f",
   "metadata": {},
   "source": [
    "Wir sehen, eine UND-Verknüpfung wird nur genau dann `True`, wenn beide Teil-Aussagen `True` sind."
   ]
  },
  {
   "cell_type": "markdown",
   "id": "f97cd35b",
   "metadata": {},
   "source": [
    "### Disjunktion: or\n",
    "\n",
    "Mit `and` können wir sehr detailreiche & spezifische Aussagen aufstellen bzw. fragen, die nur `True` sind, wenn auch alle Teil-Aussagen `True` sind. Dadurch können wir später sehr strenge Bedingungen aufstellen. Hingegen eignet sich der Operator `or` sehr gut, wenn wir etwas \"lockerere\" Bedingungen aufstellen wollen. Ein `or` verknüpft zwei Teil-Aussagen so, dass die Gesamtaussage genau dann wahr ist, wenn mindestens eine der beiden Teil-Aussagen wahr ist. Es kann also die eine, die andere oder beide Teil-Aussagen wahr sein, damit die Gesamt-Aussage wahr wird. Nur wenn beide Teil-Aussagen falsch sind, wird auch die Gesamt-Aussage falsch.\n",
    "\n",
    "Verknüpft man z.B. die wahre Aussage \"*1 ist größer 0*\" und die falsche Aussage \"*2 ist gleich 3*\" mit einem `or` zur Aussage \"*1 ist größer 0 oder 2 ist gleich 3*\", dann ist diese Gesamt-Aussage wahr, weil man mit einem `or` impliziert, dass es sein kann, dass nur eine von beiden Aussagen wahr ist.\n",
    "\n",
    "Aus\n",
    "\n",
    "``` python\n",
    "1 > 0 or 2 == 3\n",
    "```\n",
    "\n",
    "wird\n",
    "\n",
    "``` python\n",
    "True or False\n",
    "```\n",
    "\n",
    "woraus dann\n",
    "\n",
    "``` python\n",
    "True\n",
    "```\n",
    "\n",
    "wird.\n",
    "\n",
    "\n",
    "Die Aussage \"*1 ist größer 0 oder 2 ist gleich 3*\" ist also wahr, weil eine der Teilaussagen wahr ist.\n",
    "\n",
    "Da `or`-verknüpfte Aussagen bzw. Bedingungen immer `True` sind, wenn mindestens eine der Teilaussagen `True` ist, wird die `or`-verknüpfte Gesamtaussage nur genau dann `False`, wenn beide Teilaussagen `False` sind. Dies kann man selbst überprüfen, wenn man alle möglichen `or`-Verknüpfungen von `True` und `False` von Python evaluieren lässt:"
   ]
  },
  {
   "cell_type": "code",
   "execution_count": 21,
   "id": "7ad10402",
   "metadata": {},
   "outputs": [
    {
     "data": {
      "text/plain": [
       "True"
      ]
     },
     "execution_count": 21,
     "metadata": {},
     "output_type": "execute_result"
    }
   ],
   "source": [
    "True or True"
   ]
  },
  {
   "cell_type": "code",
   "execution_count": 22,
   "id": "5c5b7961",
   "metadata": {},
   "outputs": [
    {
     "data": {
      "text/plain": [
       "True"
      ]
     },
     "execution_count": 22,
     "metadata": {},
     "output_type": "execute_result"
    }
   ],
   "source": [
    "True or False"
   ]
  },
  {
   "cell_type": "code",
   "execution_count": 23,
   "id": "19a28675",
   "metadata": {},
   "outputs": [
    {
     "data": {
      "text/plain": [
       "True"
      ]
     },
     "execution_count": 23,
     "metadata": {},
     "output_type": "execute_result"
    }
   ],
   "source": [
    "False or True"
   ]
  },
  {
   "cell_type": "code",
   "execution_count": 24,
   "id": "c689cd70",
   "metadata": {
    "scrolled": true
   },
   "outputs": [
    {
     "data": {
      "text/plain": [
       "False"
      ]
     },
     "execution_count": 24,
     "metadata": {},
     "output_type": "execute_result"
    }
   ],
   "source": [
    "False or False"
   ]
  },
  {
   "cell_type": "markdown",
   "id": "62ce8709",
   "metadata": {},
   "source": [
    "Wie dir vielleicht schon aufgefallen ist, hat ein \"oder\" innerhalb der klassichen Aussagenlogik eine leicht andere Bedeutung als ein \"oder\" in der Alltagssprache. In der Alltagssprache meinen wir mit \"oder\" typischerweise, dass wir erwarten, dass **genau eine** der beiden Aussagen wahr sein kann (entweder die eine oder die andere). In der Aussagenlogik bzw. hier in Python meinen wir mit \"oder\", dass wir die Richtigkeit **mindestens** einer der beiden Aussagen erwarten. Das \"oder\", das wir hier benutzen, nennt man übrigens auch \"nichtausschließendes oder\". Das \"oder\" der Alltagssprache nennt man \"ausschließendes oder\"."
   ]
  },
  {
   "cell_type": "markdown",
   "id": "db80f486",
   "metadata": {},
   "source": [
    "### Mehrere Verknüpfungen"
   ]
  },
  {
   "cell_type": "markdown",
   "id": "3830aeaa",
   "metadata": {},
   "source": [
    "Wir können natürlich auch mehrere `and`- und `or`-Verknüpfungen kombinieren, z.B.:\n",
    "\n",
    "\"2 ist gleich 2 oder 2 ist gleich 3 und 0 ist größer 1\"\n",
    "\n",
    "Diese Aussage sieht in Python-Code so aus:\n",
    "\n",
    "```python\n",
    "2 == 2 or 2 == 3 and 0 > 1\n",
    "```\n",
    "\n",
    "Ist diese Aussage wahr oder falsch? \n",
    "\n",
    "Fangen wir mal an, diese Aussage auf ihre Wahrheit zu evaluieren. Im ersten Schritt können wir alle Teil-Aussagen, die keine weiteren Verknüpfungen beinhalten, auf ihren Wahrheitswert reduzieren.\n",
    "\n",
    "Aus \n",
    "\n",
    "```python\n",
    "2 == 2 or 2 == 3 and 0 > 1\n",
    "```\n",
    "\n",
    "wird dadurch\n",
    "\n",
    "```python\n",
    "True or False and False\n",
    "```\n",
    "\n",
    "Wie gehts nun aber weiter? Müssen wir zuerst die `or`-Verknüpfung oder die `and`-Verknüpfung evaluieren? Tatsächlich macht die Reihenfolge einen großen Unterschied! \n",
    "\n",
    "Würden wir zuerst die `and`-Verknüpfung evaluieren, wird\n",
    "\n",
    "```python\n",
    "True or False and False\n",
    "```\n",
    "\n",
    "zu\n",
    "\n",
    "```python\n",
    "True or False\n",
    "```\n",
    "\n",
    "was dann schließlich zu\n",
    "\n",
    "```python\n",
    "True\n",
    "```\n",
    "\n",
    "wird.\n",
    "\n",
    "Würden wir hingegen zuerst die `or`-Verknüpfung evaluieren, würde\n",
    "\n",
    "```python\n",
    "True or False and False\n",
    "```\n",
    "\n",
    "zu\n",
    "\n",
    "```python\n",
    "True and False\n",
    "```\n",
    "werden, was dann ingesamt zu \n",
    "\n",
    "```python\n",
    "False\n",
    "```\n",
    "führt.\n",
    "\n",
    "Je nach Reihenfolge der Evaluation der Verknüpfungen wird die Gesamtaussage einmal wahr und einmal falsch. Jedoch ist die Priorität logischer Operatoren d.h. die Reihenfolge, in welcher die Operatoren evaluiert werden, festgelegt. So wie Punktrechnung vor Strichrechnung durchgeführt wird, wird das `and` immer vor dem `or` ausgeführt. \n",
    "\n",
    "Daher wird die obige Beispielaussage insgesamt zu `True`:"
   ]
  },
  {
   "cell_type": "code",
   "execution_count": 25,
   "id": "13b238c2",
   "metadata": {
    "scrolled": true
   },
   "outputs": [
    {
     "data": {
      "text/plain": [
       "True"
      ]
     },
     "execution_count": 25,
     "metadata": {},
     "output_type": "execute_result"
    }
   ],
   "source": [
    "2 == 2 or 2 == 3 and 0 > 1"
   ]
  },
  {
   "cell_type": "markdown",
   "id": "4ce05fc1",
   "metadata": {},
   "source": [
    "Vollständigerweise lautet die Reihenfolge bzw. Priorotät der logischen Operatoren wie folgt:\n",
    "\n",
    "1. `not`\n",
    "2. `and`\n",
    "3. `or`"
   ]
  },
  {
   "cell_type": "markdown",
   "id": "3c92efe9",
   "metadata": {},
   "source": [
    "Das `not` bezieht sich also immer nur auf die unmittelbar dahinter stehende, einzelne und nicht weiter verknüpfte Aussage.\n",
    "\n",
    "In diesem Beispiel würde sich das `not` also nur auf das `True` beziehen:\n",
    "\n",
    "```python\n",
    "not True or False\n",
    "```\n",
    "\n",
    "Dadurch wird der Ausdruck erst zu \n",
    "\n",
    "```python\n",
    "False or False\n",
    "```\n",
    "\n",
    "und dann zu \n",
    "\n",
    "```python\n",
    "False\n",
    "```\n",
    "\n",
    "Des Weiteren gelten für logische Ausdrücke und deren Priorität auch die typischen Klammergesetze der Mathematik. So kann beispielsweise die Priorität des `and` vor dem `or` durch entsprechende Klammersetzung durchbrochen werden."
   ]
  },
  {
   "cell_type": "markdown",
   "id": "e0e92ddc",
   "metadata": {},
   "source": [
    "## Das Keyword \"in\"\n",
    "\n",
    "Bedingungen können nicht nur mathematische Vergleiche beinhalten. Das super praktische Keyword `in` ermöglicht es uns z.B. zu erfragen, ob ein bestimmter Wert in einem sequentiellen Datentyp (z.B. Liste oder String) ist.\n",
    "\n",
    "Fragen wir uns beispielsweise, ob der Wert `10` in der Liste `[3, 2, 8, 1]` vorkommt, können wir schreiben:"
   ]
  },
  {
   "cell_type": "code",
   "execution_count": 26,
   "id": "44b1f825",
   "metadata": {},
   "outputs": [
    {
     "data": {
      "text/plain": [
       "False"
      ]
     },
     "execution_count": 26,
     "metadata": {},
     "output_type": "execute_result"
    }
   ],
   "source": [
    "10 in [3, 2, 8, 1]"
   ]
  },
  {
   "cell_type": "markdown",
   "id": "042b2fc4",
   "metadata": {},
   "source": [
    "Die Aussage \"Der Wert 10 befindet sich in der Liste [3, 2, 8, 1]\" ist falsch, weshalb wir `False` ausgegeben bekommen.\n",
    "\n",
    "Das Keyword `in` können wir auch benutzen, um zu erfragen, ob ein bestimmtes Symbol in einem String auftaucht. Hier frage ich z.B., ob das Symbol `\"n\"` im Wort `\"Python\"` ist:"
   ]
  },
  {
   "cell_type": "code",
   "execution_count": 27,
   "id": "d44f86d5",
   "metadata": {},
   "outputs": [
    {
     "data": {
      "text/plain": [
       "True"
      ]
     },
     "execution_count": 27,
     "metadata": {},
     "output_type": "execute_result"
    }
   ],
   "source": [
    "\"n\" in \"Python\""
   ]
  }
 ],
 "metadata": {
  "kernelspec": {
   "display_name": "Python [conda env:amp_book]",
   "language": "python",
   "name": "conda-env-amp_book-py"
  },
  "language_info": {
   "codemirror_mode": {
    "name": "ipython",
    "version": 3
   },
   "file_extension": ".py",
   "mimetype": "text/x-python",
   "name": "python",
   "nbconvert_exporter": "python",
   "pygments_lexer": "ipython3",
   "version": "3.7.10"
  }
 },
 "nbformat": 4,
 "nbformat_minor": 5
}
