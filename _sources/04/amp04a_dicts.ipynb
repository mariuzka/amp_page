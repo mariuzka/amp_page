{
 "cells": [
  {
   "cell_type": "markdown",
   "id": "af54b2ab",
   "metadata": {},
   "source": [
    "# Exkurs 2: das Dictionary\n",
    "\n",
    "Schauen wir uns an dieser Stelle einen neuen Objekt-Typ an, der sich gut dazu eignet, einen Agenten mit mehreren Eigenschaften darzustellen: **das Dictionary** bzw. `dict`. Ein Dictionary ist ähnlich wie eine Liste ein Form von Datencontainer, in den wir alle möglichen Objekte ablegen können. Listen sind zwar praktisch, weil man dort relativ unkompliziert, relativ viele Dinge einfach \"reinwerfen\" kann. Will man aus der Liste allerdings ein ganz spezifisches Objekt wiederfinden, dann ist das nicht mehr so unkompliziert. Dann müsste man entweder den spezifischen Positionsindex wissen oder das Objekt mit verschiedenen Methoden suchen. Eine Liste eignet sich daher v.a. dafür, wenn man viele gleiche oder unspezifische Objekte einfach irgendwo \"sammeln\" muss, damit man dann z.B. innerhalb eines For-Loops diese Objekte nacheinander abarbeiten kann. Eine Liste ist also z.B. perfekt, um eine Population von Agenten abzuspeichern. Um die Agenten selbst zu repräsentieren, mit den je spezifischen Eigenschaften der Agenten, auf die man beim Handeln der Agenten ganz gezielt zugreifen muss, eignen sich Listen also eigentlich gar nicht so wirklich gut. Viel besser sind tatsächlich Dictionaries.\n",
    "\n",
    "Ein Dictionary sind ein Datencontainer, in welchen man Objekte unter einem (sinnvollen) Namen ablegen kann. Diesen Namen nennt man auch **Key**. Mithilfe eines solchen Keys kann man dann, ganz gezielt die Objekte wiederfinden und darauf zugreifen. Das ist praktisch, wenn man Objekte etwas \"geordneter\" als in Listen verstauen möchte. Wie sehen solche Dictionaries aus? Während Listen mit zwei eckigen Klammern `[]` erzeugt werden, erzeugt man Dictionaries mit zwei geschweiften Klammern: `{}`. `{}` ist ein leeres Dictionary. \n",
    "\n",
    "Möchte man ein Dictionary mit Inhalt erstellen, dann muss man den Inhalt immer in sogenannten Key-Value-Paaren aufschreiben, was allgemein so aussieht:\n",
    "\n",
    "```python\n",
    "{KEY: VALUE}\n",
    "```\n",
    "Während der KEY ein Platzhalter für irgendeinen Namen ist, ist VALUE ein Platzhalter für irgendein Objekt, das dort unter dem gewählten Namen KEY abgelegt wird. KEY und VALUE sind immer durch einen Doppelpunkt getrennt bzw. verbunden. Möchte man mehrere Objekte in einem Dictionary ablegen, dann muss man die Key-Value-Paare durch Kommas trennen, was allgemein dann so aussieht:\n",
    "\n",
    "```python\n",
    "{KEY1: VALUE1, KEY2: VALUE2, KEY3: VALUE3}\n",
    "```\n",
    "\n",
    "Schauen wir uns das mal konkret in Python an. Unten erstelle ich ein Dictionary und weise es der Variable `agent` zu. Im Dictionary `agent` habe ich das Objekt `10` unter dem Namen \"opinion\" abgelegt."
   ]
  },
  {
   "cell_type": "code",
   "execution_count": 1,
   "id": "7e6b926d",
   "metadata": {},
   "outputs": [],
   "source": [
    "agent = {\"opinion\": 10}"
   ]
  },
  {
   "cell_type": "code",
   "execution_count": 2,
   "id": "174f6cc1",
   "metadata": {},
   "outputs": [
    {
     "data": {
      "text/plain": [
       "{'opinion': 10}"
      ]
     },
     "execution_count": 2,
     "metadata": {},
     "output_type": "execute_result"
    }
   ],
   "source": [
    "agent"
   ]
  },
  {
   "cell_type": "markdown",
   "id": "f289ff4c",
   "metadata": {},
   "source": [
    "Möchte ich nun auf die `\"opinion\"` des `agent` zugreifen, muss ich dafür ähnlich wie bei Listen eine Form der Indexierung anwenden. Statt des Positionsindex muss ich nun aber einfach den Namen d.h. den Key, unter dem ich das Objekt im Dictionary abgelegt habe, in eckigen Klammern angeben:"
   ]
  },
  {
   "cell_type": "code",
   "execution_count": 3,
   "id": "73f177a1",
   "metadata": {},
   "outputs": [
    {
     "data": {
      "text/plain": [
       "10"
      ]
     },
     "execution_count": 3,
     "metadata": {},
     "output_type": "execute_result"
    }
   ],
   "source": [
    "agent[\"opinion\"]"
   ]
  },
  {
   "cell_type": "markdown",
   "id": "385f65dd",
   "metadata": {},
   "source": [
    "Allgemein formuliert greift man auf ein unter `KEY` in `DICTIONARY` abgelegtes Objekt immer so zu:  `DICTIONARY[KEY]`.\n",
    "\n",
    "Unten erstelle ich ein Dictionary namens `agent` und füge diesmal drei Key-Value-Paare ein:"
   ]
  },
  {
   "cell_type": "code",
   "execution_count": 4,
   "id": "4130db95",
   "metadata": {},
   "outputs": [],
   "source": [
    "agent = {\"opinion\": 10, \"name\": \"Hartmut\", \"age\": 77}"
   ]
  },
  {
   "cell_type": "markdown",
   "id": "1aa478ef",
   "metadata": {},
   "source": [
    "Es hat sich übrigens ähnlich wie bei Listen auch eine solche Schreibweise eingebürgert:"
   ]
  },
  {
   "cell_type": "code",
   "execution_count": 5,
   "id": "399db38a",
   "metadata": {},
   "outputs": [],
   "source": [
    "agent = {\n",
    "    \"opinion\": 10, \n",
    "    \"name\": \"Hartmut\", \n",
    "    \"age\": 77,\n",
    "}"
   ]
  },
  {
   "cell_type": "code",
   "execution_count": 6,
   "id": "3afafbc9",
   "metadata": {
    "scrolled": true
   },
   "outputs": [
    {
     "data": {
      "text/plain": [
       "{'opinion': 10, 'name': 'Hartmut', 'age': 77}"
      ]
     },
     "execution_count": 6,
     "metadata": {},
     "output_type": "execute_result"
    }
   ],
   "source": [
    "agent"
   ]
  },
  {
   "cell_type": "markdown",
   "id": "03b82720",
   "metadata": {},
   "source": [
    "Nun kann ich ganz gezielt und ohne mir irgendeinen Positionsindex merken zu müssen, auf die Eigenschaften des `agent` zugreifen. Stattdessen muss ich natürlich wissen, unter welchem Key die Objekte jeweils zu finden sind."
   ]
  },
  {
   "cell_type": "code",
   "execution_count": 7,
   "id": "227a9354",
   "metadata": {},
   "outputs": [
    {
     "data": {
      "text/plain": [
       "'Hartmut'"
      ]
     },
     "execution_count": 7,
     "metadata": {},
     "output_type": "execute_result"
    }
   ],
   "source": [
    "agent[\"name\"]"
   ]
  },
  {
   "cell_type": "code",
   "execution_count": 8,
   "id": "be8b0a93",
   "metadata": {},
   "outputs": [
    {
     "data": {
      "text/plain": [
       "10"
      ]
     },
     "execution_count": 8,
     "metadata": {},
     "output_type": "execute_result"
    }
   ],
   "source": [
    "agent[\"opinion\"]"
   ]
  },
  {
   "cell_type": "code",
   "execution_count": 9,
   "id": "8bb213b5",
   "metadata": {},
   "outputs": [
    {
     "data": {
      "text/plain": [
       "77"
      ]
     },
     "execution_count": 9,
     "metadata": {},
     "output_type": "execute_result"
    }
   ],
   "source": [
    "agent[\"age\"]"
   ]
  },
  {
   "cell_type": "markdown",
   "id": "3f47a411",
   "metadata": {},
   "source": [
    "Unten sieht man ein typisches Szenario, das man fast am Anfang jeder Simulation sieht. Es wird eine zunächst leere Liste `population` erstellt, welche dann nach und nach innerhalb eines For-Loops mit Agenten befüllt wird. Die Agenten mit jeweils zwei Eigenschaften implementiere ich dabei als Dictionary."
   ]
  },
  {
   "cell_type": "code",
   "execution_count": 10,
   "id": "c2d98e55",
   "metadata": {},
   "outputs": [],
   "source": [
    "import random\n",
    "\n",
    "# Leere Populationsliste erstellen\n",
    "population = []\n",
    "\n",
    "# 5 mal\n",
    "for i in range(5):\n",
    "    \n",
    "    # Agenten erstellen\n",
    "    agent = {\n",
    "        \"id\": i, \n",
    "        \"opinion\": random.randint(0,10),\n",
    "    }\n",
    "    \n",
    "    # An Populationsliste anhängen\n",
    "    population.append(agent)"
   ]
  },
  {
   "cell_type": "code",
   "execution_count": 11,
   "id": "668443ae",
   "metadata": {},
   "outputs": [
    {
     "data": {
      "text/plain": [
       "[{'id': 0, 'opinion': 9},\n",
       " {'id': 1, 'opinion': 8},\n",
       " {'id': 2, 'opinion': 9},\n",
       " {'id': 3, 'opinion': 4},\n",
       " {'id': 4, 'opinion': 3}]"
      ]
     },
     "execution_count": 11,
     "metadata": {},
     "output_type": "execute_result"
    }
   ],
   "source": [
    "population"
   ]
  },
  {
   "cell_type": "markdown",
   "id": "8c322132",
   "metadata": {},
   "source": [
    "Dictionaries sind genau wie Listen veränderbare Objekte. Das ist praktisch, wie das folgende Beispiel zeigt: Angenommen wir möchten die \"Meinungen\" der Agenten verändern und alle Meinungswerte um 1 erhöhen. Nun können wir einfach innerhalb eines For-Loops alle Agenten durchgehen und den Agenten (bzw. die Meinung des Agenten) direkt über die Schleifenvariable verändern:"
   ]
  },
  {
   "cell_type": "code",
   "execution_count": 12,
   "id": "5cb657ce",
   "metadata": {},
   "outputs": [],
   "source": [
    "for agent in population:\n",
    "    agent[\"opinion\"] = agent[\"opinion\"] + 1"
   ]
  },
  {
   "cell_type": "code",
   "execution_count": 13,
   "id": "f179b845",
   "metadata": {},
   "outputs": [
    {
     "data": {
      "text/plain": [
       "[{'id': 0, 'opinion': 10},\n",
       " {'id': 1, 'opinion': 9},\n",
       " {'id': 2, 'opinion': 10},\n",
       " {'id': 3, 'opinion': 5},\n",
       " {'id': 4, 'opinion': 4}]"
      ]
     },
     "execution_count": 13,
     "metadata": {},
     "output_type": "execute_result"
    }
   ],
   "source": [
    "population"
   ]
  },
  {
   "cell_type": "markdown",
   "id": "072de0bb",
   "metadata": {},
   "source": [
    "Mit Kurzschreibweise sähe das übrigens so aus:"
   ]
  },
  {
   "cell_type": "code",
   "execution_count": 14,
   "id": "3fe1f7e8",
   "metadata": {},
   "outputs": [],
   "source": [
    "for agent in population:\n",
    "    agent[\"opinion\"] += 1"
   ]
  },
  {
   "cell_type": "code",
   "execution_count": 15,
   "id": "a07d6245",
   "metadata": {},
   "outputs": [
    {
     "data": {
      "text/plain": [
       "[{'id': 0, 'opinion': 11},\n",
       " {'id': 1, 'opinion': 10},\n",
       " {'id': 2, 'opinion': 11},\n",
       " {'id': 3, 'opinion': 6},\n",
       " {'id': 4, 'opinion': 5}]"
      ]
     },
     "execution_count": 15,
     "metadata": {},
     "output_type": "execute_result"
    }
   ],
   "source": [
    "population"
   ]
  },
  {
   "cell_type": "markdown",
   "id": "838716b6",
   "metadata": {},
   "source": [
    "## Ein Dictionary erweitern: update()"
   ]
  },
  {
   "cell_type": "markdown",
   "id": "793b5466",
   "metadata": {},
   "source": [
    "Ein Dictionary verfügt über eine ganze Reihe von Methoden. An dieser Stelle möchte ich eine davon vorstellen, die man hin und wieder braucht. Mit der Methode `update()` kann man ein bereits bestehendes Dictionary um ein oder mehr Elemente bzw. Key-Value-Paare erweitern.\n",
    "\n",
    "Man hängt die Methode `update()` wie jede Methode an das entsprechende Dictionary-Objekt an. Als Input erwartet die Methode `update()` ein weiteres Dictionary, das dann in das bereits bestehende Dictionary integriert wird. Die Methode `update()` ist letztlich genau das, was die Methode `extend()` für Listen ist.\n",
    "\n",
    "Unten erstelle ich zunächst das Dictionary `agent`."
   ]
  },
  {
   "cell_type": "code",
   "execution_count": 16,
   "id": "36a00749",
   "metadata": {},
   "outputs": [],
   "source": [
    "agent = {\n",
    "    \"opinion\": 10, \n",
    "    \"name\": \"Hartmut\", \n",
    "    \"age\": 77,\n",
    "}"
   ]
  },
  {
   "cell_type": "markdown",
   "id": "f1ac6a7f",
   "metadata": {},
   "source": [
    "Nun erweitere ich `agent` mithilfe von `update()` um ein weiteres Element namens `\"city\"`:"
   ]
  },
  {
   "cell_type": "code",
   "execution_count": 17,
   "id": "4be0a78c",
   "metadata": {},
   "outputs": [],
   "source": [
    "agent.update({\"city\": \"Mannheim\"})"
   ]
  },
  {
   "cell_type": "code",
   "execution_count": 18,
   "id": "05a1e507",
   "metadata": {},
   "outputs": [
    {
     "data": {
      "text/plain": [
       "{'opinion': 10, 'name': 'Hartmut', 'age': 77, 'city': 'Mannheim'}"
      ]
     },
     "execution_count": 18,
     "metadata": {},
     "output_type": "execute_result"
    }
   ],
   "source": [
    "agent"
   ]
  },
  {
   "cell_type": "markdown",
   "id": "07783563",
   "metadata": {},
   "source": [
    "Nun erweitere ich `agent` um zwei weitere Elemente:"
   ]
  },
  {
   "cell_type": "code",
   "execution_count": 19,
   "id": "a246d397",
   "metadata": {},
   "outputs": [],
   "source": [
    "agent.update({\n",
    "    \"work\": False,\n",
    "    \"topic\": \"migration\",\n",
    "})"
   ]
  },
  {
   "cell_type": "code",
   "execution_count": 20,
   "id": "b072b888",
   "metadata": {},
   "outputs": [
    {
     "data": {
      "text/plain": [
       "{'opinion': 10,\n",
       " 'name': 'Hartmut',\n",
       " 'age': 77,\n",
       " 'city': 'Mannheim',\n",
       " 'work': False,\n",
       " 'topic': 'migration'}"
      ]
     },
     "execution_count": 20,
     "metadata": {},
     "output_type": "execute_result"
    }
   ],
   "source": [
    "agent"
   ]
  }
 ],
 "metadata": {
  "kernelspec": {
   "display_name": "Python [conda env:amp_book]",
   "language": "python",
   "name": "conda-env-amp_book-py"
  },
  "language_info": {
   "codemirror_mode": {
    "name": "ipython",
    "version": 3
   },
   "file_extension": ".py",
   "mimetype": "text/x-python",
   "name": "python",
   "nbconvert_exporter": "python",
   "pygments_lexer": "ipython3",
   "version": "3.7.10"
  }
 },
 "nbformat": 4,
 "nbformat_minor": 5
}
