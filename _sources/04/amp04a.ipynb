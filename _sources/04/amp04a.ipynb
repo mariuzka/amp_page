{
 "cells": [
  {
   "cell_type": "markdown",
   "metadata": {},
   "source": [
    "# If-Statements\n",
    "\n",
    "Unsere Agenten sind bisher ziemlich unsensibel. Sie führen starr ihr (Verhaltens-)Programm aus, ohne auf besondere Bedingungen der aktuellen Situation zu reagieren. In den Übungsaufgaben des letzten Kapitels sind unsere z.B. Agenten im kompletten Blindflug über die Straße geheizt. Das wollen wir in diesem Kapitel ändern! Wir lernen nun, wie wir unseren Agenten bzw. unserem gesamten Computerprogramm die *Augen öffnen*, das *Wahrnehmen* und *situationsspezifishe Handeln* beibringen. Was wir dafür brauchen sind sogenannte **If-Statements**.\n",
    "\n",
    "If-Statements geben an, was im Programm gemacht werden soll, wenn eine bestimmte Bedingung erfüllt ist. Damit erlauben sie uns, den Programmablauf mittels *Wenn-Dann-Aussage* zu steuern: *Wenn dieser Fall eintritt, dann passiert das und das. Wenn X, dann Y. Wenn es Pizza gibt, dann freue ich mich. Wenn zu viele Nachbarn nicht meiner Gruppe angehören, dann ziehe ich um. Wenn vor mir ein Auto fährt, dann bremse ich ab.*\n",
    "\n",
    "Wie sehen solche If-Statements in Python aus? If-Statements kann man sich auch in Python tatsächlich wie Wenn-Dann-Sätze vorstellen, die in Python auch aus ungefähr denselben Bestandteilen in wie Wenn-Dann-Sätze in der Alltagssprache bestehen. If-Statements bestehen immer mindestens aus einem **Wenn-Teil** und einem **Dann-Teil**. \n",
    "\n",
    "\n",
    "- **Wenn-Teil**: Der Wenn-Teil ist die Bedingung bzw. Aussage, die erfüllt bzw. wahr sein muss, damit der Dann-Teil eintritt bzw. ausgeführt wird. In Python formulieren wir die Bedingung als sogenannten **Boolschen Ausdruck**. Das sind Aussagen bzw. Ausdrücke, die immer entweder eindeutig wahr oder falsch sind.\n",
    "\n",
    "- **Dann-Teil**: Der Dann-Teil ist das Ereignis, das eintritt, wenn die Bedingung des Wenn-Teils erfüllt ist. In Python kann das praktisch jegliche Form von Code sein, welcher eben immer nur genau dann ausgeführt wird, wenn der Boolsche Ausdruck wahr ist.\n",
    "\n",
    "Die einfachste Form eines If-Statements sieht in Python ganz allgemein formuliert dann so aus:\n",
    "\n",
    "```python\n",
    "if THIS_STATEMENT_IS_TRUE: # Wenn-Teil\n",
    "    DO_THAT                # Dann-Teil\n",
    "```\n",
    "\n",
    "Das If-Statement beginnt mit dem Wenn-Teil, welches durch das Schlüsselwort `if` eingeleitet wird. Nach dem einleitenden Schlüsselwort `if` folgt eine Aussage bzw. ein *boolscher Ausdruck*, welcher durch Python darauf hin untersucht wird, ob er wahr oder falsch ist. Ist die Aussage wahr, dann wird der Code, der nach dem Doppelpunkt in der nächsten Zeile eingerückt steht, ausführt.\n",
    "\n",
    "Bevor wir uns nun wirklich anschauen, wie und wo man If-Statements in Python am besten verwendet und was man damit alles für Möglichkeiten gibt, müsen wir uns zunächst einem ganz bestimmten, aber sehr zentralen Bestandteil der If-Statements widmen: den Aussagen bzw. den boolschen Ausdrücken des Wenn-Teils. Wir schauen uns also nun all das an, was oben an Stelle des Platzhalters `THIS_STATEMENT_IS_TRUE` stehen könnte. In diesem Teil des If-Statements spielt sich im wahrsten Sinne des Wortes die *Logik* von If-Statements ab."
   ]
  },
  {
   "cell_type": "markdown",
   "metadata": {},
   "source": [
    "## Boolesche Ausdrücke\n",
    "\n",
    "Boolsche Ausdrücke kann man ganz generell als \"logische\" Aussagen, die entweder **wahr** oder **falsch** sein können, verstehen. Wichtig ist, dass ein boolscher Ausdruck auf jeden Fall immer entweder ausschließlich 100% wahr oder ausschließlich 100% falsch ist. Niemals ist ein boolscher Ausdruck irgendwas dazwischen oder beides. Boolsche Ausdrücke gibt es übrigens nicht nur in Python, sondern diese sind elementarer Bestandteil in der Mathematik, Informatik und Logik. In Python können boolsche Ausdrücke in unterschiedlicher Form vorkommen, aber immer wenn Python einen boolschen Ausdruck *sieht*, dann versucht Python herauszufinden, ob die Aussage wahr oder falsh ist. Am Ende eines solchen Wahrheitsfindungsprozesses gibt Python dann entweder den Wert `True` oder den Wert `False` aus und sagt uns damit praktisch, ob der soeben evaluierte boolsche Ausdruck bzw. die Aussage `True` (wahr) oder `False` (falsch) ist.\n",
    "\n",
    "Wie sieht denn nun ein solcher Boolscher Ausdruck in Python aus? Die einfachste und elementarste Form eines boolschen Ausdrucks sind die beiden Wahrheitswerte `True` und `False` selbst. Diese beiden Werte sind in Python Werte des Typs `bool` und nicht nur das Ergebnis einer jeden Evaluation boolscher Ausdrücke sondern für sich genommen eben selbst boolsche Ausdrücke. Evaluiert man die Aussage `True` auf ihren Wahrheitsgehalt, so kommt man natürlich selbst wieder auf das Ergebnis `True`. Evaluiert man die Aussage `False` auf ihren Wahrheitsgehalt, so kommt man natürlich auch hier wieder auf das Ergebnis `False`."
   ]
  },
  {
   "cell_type": "code",
   "execution_count": 1,
   "metadata": {},
   "outputs": [
    {
     "data": {
      "text/plain": [
       "True"
      ]
     },
     "execution_count": 1,
     "metadata": {},
     "output_type": "execute_result"
    }
   ],
   "source": [
    "True"
   ]
  },
  {
   "cell_type": "code",
   "execution_count": 2,
   "metadata": {
    "scrolled": true
   },
   "outputs": [
    {
     "data": {
      "text/plain": [
       "False"
      ]
     },
     "execution_count": 2,
     "metadata": {},
     "output_type": "execute_result"
    }
   ],
   "source": [
    "False"
   ]
  },
  {
   "cell_type": "markdown",
   "metadata": {},
   "source": [
    "### Vergleiche\n",
    "\n",
    "Man versteht am besten, was boolsche Ausdrücke sind, wenn man etwas über ihre elementarste (aber noch etwas *inhaltslose*) Existenzweise als `True` und `False` hinausgeht und sich anschaut, in welcher Form uns boolsche Ausdrücke in *richtigen Programmen* oft begegnen. Eine sehr wichtige Form boolscher Ausdrücke sind **Vergleiche**. In Vergleichen können wir zwei Werte bzw. Variablen miteinander vergleichen. Dabei stehen uns die typischen **Vergleichsoperatoren**, die dir bestimmt bekannt sind, zur Verfügung. \n",
    "\n",
    "Ein Beispiel: Unten vergleiche ich die beiden Werte `1` und `2` daraufhin, ob `1` kleiner als `2` ist. Python führt für uns den Vergleich aus und gibt uns eine Antwort:"
   ]
  },
  {
   "cell_type": "code",
   "execution_count": 3,
   "metadata": {},
   "outputs": [
    {
     "data": {
      "text/plain": [
       "True"
      ]
     },
     "execution_count": 3,
     "metadata": {},
     "output_type": "execute_result"
    }
   ],
   "source": [
    "1 < 2"
   ]
  },
  {
   "cell_type": "markdown",
   "metadata": {},
   "source": [
    "Wir können uns vorstellen, dass wir oben gerade Python *gefragt* haben, ob `1` kleiner als `2` ist. Python hat sich dann den Sachverhalt angenommen, die beiden Zahlen miteinander vergleichen und uns die Antwort ausgegeben. In diesem Fall war die Antwort \"Ja, 1 ist kleiner als 2.\" weshalb uns Python mit `True` geantwortet hat. Unten frage ich nun, ob `1` größer als `2` ist und Python antwortet uns dann diesmal natürlich mir `False` d.h. \"nein\":"
   ]
  },
  {
   "cell_type": "code",
   "execution_count": 4,
   "metadata": {},
   "outputs": [
    {
     "data": {
      "text/plain": [
       "False"
      ]
     },
     "execution_count": 4,
     "metadata": {},
     "output_type": "execute_result"
    }
   ],
   "source": [
    "1 > 2"
   ]
  },
  {
   "cell_type": "markdown",
   "metadata": {},
   "source": [
    "Wir können uns das Ganze aber nicht nur als **Ja-Nein-Frage**, sondern auch als eine von uns formulierte und von Python **zu prüfende Aussage** vorstellen. \n",
    "Wenn ich sage \"*1 ist kleiner als 2*\", dann antwortet uns Python \"*ja, das stimmt*\". \n",
    "Wenn ich sage, \"*1 ist größer als 2*\", dann antwortet Python mit \"*nein, das ist falsch*\".\n",
    "\n",
    "In Python stehen uns neben den beiden Vergleichs-Operatoren `<` und `>` noch eine Menge weiterer Vergleichsoperatoren zur Verfügung. Hier eine Übersicht über die gängisten Vergleichsoperatoren:\n",
    "\n",
    "| Bedeutung         | Symbol | \n",
    "|----------------   |--------|\n",
    "|    kleiner        | `<`    |    \n",
    "|    kleinergleich  | `<=`   |   \n",
    "|    gleich         | `==`   |   \n",
    "|    ungleich       | `!=`   |    \n",
    "|    größergleich   | `>=`   |    \n",
    "|    größer         | `>`    | "
   ]
  },
  {
   "cell_type": "markdown",
   "metadata": {},
   "source": [
    "Nicht alle Vergleichsoperatoren beziehen sich zwangsläufig auf Zahlen. So kann man mit dem `==`-Operator z.B. auch prüfen, ob zwei Zeichenketten gleich sind:"
   ]
  },
  {
   "cell_type": "code",
   "execution_count": 5,
   "metadata": {},
   "outputs": [
    {
     "data": {
      "text/plain": [
       "True"
      ]
     },
     "execution_count": 5,
     "metadata": {},
     "output_type": "execute_result"
    }
   ],
   "source": [
    "\"python\" == \"python\""
   ]
  },
  {
   "cell_type": "code",
   "execution_count": 6,
   "metadata": {
    "scrolled": true
   },
   "outputs": [
    {
     "data": {
      "text/plain": [
       "False"
      ]
     },
     "execution_count": 6,
     "metadata": {},
     "output_type": "execute_result"
    }
   ],
   "source": [
    "\"python\" == \"pyton\""
   ]
  },
  {
   "cell_type": "markdown",
   "metadata": {},
   "source": [
    "Wir können damit aber auch z.B. prüfen, ob zwei Listen identisch sind:"
   ]
  },
  {
   "cell_type": "code",
   "execution_count": 7,
   "metadata": {},
   "outputs": [
    {
     "data": {
      "text/plain": [
       "True"
      ]
     },
     "execution_count": 7,
     "metadata": {},
     "output_type": "execute_result"
    }
   ],
   "source": [
    "[1, 2, 3] == [1, 2, 3]"
   ]
  },
  {
   "cell_type": "code",
   "execution_count": 8,
   "metadata": {},
   "outputs": [
    {
     "data": {
      "text/plain": [
       "False"
      ]
     },
     "execution_count": 8,
     "metadata": {},
     "output_type": "execute_result"
    }
   ],
   "source": [
    "[1, 2, 3] == [3, 2, 1]"
   ]
  },
  {
   "cell_type": "markdown",
   "metadata": {},
   "source": [
    "Innerhalb von Bedingungen können wir natürlich auch alle möglichen Funktionen verwenden, z.B. die Funktion `len()`: "
   ]
  },
  {
   "cell_type": "code",
   "execution_count": 9,
   "metadata": {},
   "outputs": [
    {
     "data": {
      "text/plain": [
       "True"
      ]
     },
     "execution_count": 9,
     "metadata": {},
     "output_type": "execute_result"
    }
   ],
   "source": [
    "len([1, 2, 3]) == 3"
   ]
  },
  {
   "cell_type": "markdown",
   "metadata": {},
   "source": [
    "### Abstrakte Variablen statt konkrete Werte\n",
    "\n",
    "In den obigen Beispielen habe ich die zu vergleichenden Werte immer direkt innerhalb des Vergleiches konkret ausformuliert. Das werden wir innerhalb eines richtigen Programmes aber eigentlich niemals in der Form tun. Stattdessen werden wir in den meisten Fällen innerhalb von Vergleichen bzw. allgemein innerhalb von boolschen Ausdrücken nicht alle Werte konkret ausschreiben, sondern Variablen als Platzhalter für konkrete Werte einfügen. Dadurch können wir dann Werte miteinander vergleichen, die wir zum Zeitpunkt des Programmierens nicht genau kennen, weil diese sich entweder aus einem sehr großen Datensatz ergeben oder sogar vielleicht erst \"dynamisch\" innerhalb unseres Programmes entstehen oder verändert werden. Erst wenn wir die Antwort nicht genau kennen, machen solche Vergleiche ja erst wirklich Sinn.\n",
    "\n",
    "Unten im Beispiel gehe ich z.B. die Liste `age_list` durch und frage für jedes Element nach, ob dieses größer 40 ist. Das funktioniert, weil der Vergleich `age > 40` diesmal nich nur direkt ausformulierte Werte, sondern u.a. die Variable `age` enthält. In jeder Runde des For-Loops bekommt die Variable `age` den Wert eines anderen Elementes der Liste `age_list` zugewiesen, sodass dieselbe \"Vergleichsstruktur\" für unterschiedliche konkrete Werte durchgeführt wird."
   ]
  },
  {
   "cell_type": "code",
   "execution_count": 10,
   "metadata": {},
   "outputs": [
    {
     "name": "stdout",
     "output_type": "stream",
     "text": [
      "False\n",
      "False\n",
      "True\n",
      "True\n"
     ]
    }
   ],
   "source": [
    "# Daten\n",
    "age_list = [25, 39, 45, 61]\n",
    "\n",
    "# Jeden Wert der Daten durchgehen\n",
    "for age in age_list:\n",
    "    # größer 40?\n",
    "    print(age > 40)"
   ]
  },
  {
   "cell_type": "markdown",
   "metadata": {},
   "source": [
    "### Die logischen Operatoren NICHT, UND & ODER\n",
    "\n",
    "Mithilfe der Operatoren `and`, `or` und `not` können wir auch kompliziertere, verknüpfte Bedingungen aufstellen. Die Funktionsweise der drei Operatoren entspricht dabei der Funktionsweise der logischen Operatoren UND, ODER und NICHT der klassischen Aussagenlogik.\n",
    "\n",
    "Ein Video zur klassichen Aussagenlogik und der grundlegenden Funktionsweise der logischen Operatoren bzw. Verknüpfungen findest du hier:"
   ]
  },
  {
   "cell_type": "code",
   "execution_count": 11,
   "metadata": {},
   "outputs": [
    {
     "data": {
      "image/jpeg": "[encoded data removed]",
      "text/html": [
       "\n",
       "        <iframe\n",
       "            width=\"400\"\n",
       "            height=\"300\"\n",
       "            src=\"https://www.youtube.com/embed/inwIsNIaWJM\"\n",
       "            frameborder=\"0\"\n",
       "            allowfullscreen\n",
       "        ></iframe>\n",
       "        "
      ],
      "text/plain": [
       "<IPython.lib.display.YouTubeVideo at 0x25c8680a9d0>"
      ]
     },
     "execution_count": 11,
     "metadata": {},
     "output_type": "execute_result"
    }
   ],
   "source": [
    "from IPython.display import YouTubeVideo\n",
    "YouTubeVideo(\"inwIsNIaWJM\")"
   ]
  },
  {
   "cell_type": "markdown",
   "metadata": {},
   "source": [
    "### Negation: not\n",
    "\n",
    "Das Wörtchen `not` ermöglicht uns \"verneinte\" Aussagen aufzustellen d.h. Aussagen, welche besagen, dass *etwas* **nicht** wahr ist. Ganz allgemein wird durch ein `not` aus jedem `True` ein `False` und aus jedem `False` ein `True`."
   ]
  },
  {
   "cell_type": "code",
   "execution_count": 12,
   "metadata": {},
   "outputs": [
    {
     "data": {
      "text/plain": [
       "False"
      ]
     },
     "execution_count": 12,
     "metadata": {},
     "output_type": "execute_result"
    }
   ],
   "source": [
    "not True"
   ]
  },
  {
   "cell_type": "code",
   "execution_count": 13,
   "metadata": {},
   "outputs": [
    {
     "data": {
      "text/plain": [
       "True"
      ]
     },
     "execution_count": 13,
     "metadata": {},
     "output_type": "execute_result"
    }
   ],
   "source": [
    "not False"
   ]
  },
  {
   "cell_type": "code",
   "execution_count": 14,
   "metadata": {},
   "outputs": [
    {
     "data": {
      "text/plain": [
       "True"
      ]
     },
     "execution_count": 14,
     "metadata": {},
     "output_type": "execute_result"
    }
   ],
   "source": [
    "not not True"
   ]
  },
  {
   "cell_type": "markdown",
   "metadata": {},
   "source": [
    "Wir könnten aber beispielsweise auch die Aussage \"*1 ist größer 0*\" mithilfe dem Schlüssel-Wort `not` in die Aussage \"*1 ist nicht größer 0*\" umwandeln:"
   ]
  },
  {
   "cell_type": "code",
   "execution_count": 15,
   "metadata": {},
   "outputs": [
    {
     "data": {
      "text/plain": [
       "False"
      ]
     },
     "execution_count": 15,
     "metadata": {},
     "output_type": "execute_result"
    }
   ],
   "source": [
    "not 1 > 0"
   ]
  },
  {
   "cell_type": "markdown",
   "metadata": {},
   "source": [
    "Die Aussage \"*1 ist nicht größer 0*\" ist natürlich `False`. Wir können obige \"Aussage\" natürlich auch wieder als \"Frage\" lesen: \"*Ist 1 nicht größer 0?*\". Darauf wäre die Antwort dann \"*Nein*\"."
   ]
  },
  {
   "cell_type": "markdown",
   "metadata": {},
   "source": [
    "### Konjunktion: and\n",
    "\n",
    "Bisher haben wir immer nur \"einfache\" Aussagen aufgestellt (z.B. einen Vergleich auf einmal durchgeführt). Mithilfe von `and` und `or` können wir mehrere Aussagen gleichzeitig aufstellen und somit mehrere Teil-Aussagen zu einer Gesamt-Aussage verknüpfen (wir können dadurch z.B. mehrere Vergleiche auf einmal durchführen). Schauen wir uns an dieser Stelle zunächst die sogenannte UND-Verknüpfung an.\n",
    "\n",
    "Der logische Operator `and` ermöglicht es uns, zwei Teilaussagen so zu verknüpfen, dass die Gesamtaussage genau dann wahr ist, wenn alle Teilaussagen wahr sind. \n",
    "Ich könnte beispielsweise gleichzeitig die Aussagen \"*1 ist größer 0*\" und \"*2 ist gleich 3*\" aufstellen. Wenn ich diese nun mit einem \"und\" verknüpfe, dann sage ich \"*1 ist größer 0 und 2 ist gleich 3*\". Damit impliziere ich, dass ich für beide Aussagen annehme, dass sie wahr sind. Python überprüft das und sagt mir, ob es wahr ist, das beide Teil-Aussagen wahr sind:"
   ]
  },
  {
   "cell_type": "code",
   "execution_count": 16,
   "metadata": {},
   "outputs": [
    {
     "data": {
      "text/plain": [
       "False"
      ]
     },
     "execution_count": 16,
     "metadata": {},
     "output_type": "execute_result"
    }
   ],
   "source": [
    "1 > 0 and 2 == 3"
   ]
  },
  {
   "cell_type": "markdown",
   "metadata": {},
   "source": [
    "Python sagt mir, dass die Aussage, dass beide Teil-Aussagen wahr sind, nicht stimmt. Das liegt daran, dass die Aussage \"2 ist gleich 3\" falsch ist, wodurch es auch nicht mehr stimmt, dass beide Teil-Aussagen wahr sind.\n",
    "\n",
    "Immer wenn mehrere Teil-Aussagen zu einer Gesamt-Aussage verknüpft sind, dann geht Python Schritt für Schritt die Teil-Aussagen durch, prüft deren Wahrheitsgehalt, schaut dann, welche neue Aussage durch die \"Lösung\" der Teil-Aussagen entsteht und prüft dann diese. Je nach Anzahl von Teil-Aussagen oder Schachtelung von Teil-Aussagen, wird dieses Vorgehen mehrmals wiederholt. Aber egal, aus vielen Teil-Aussagen eine Gesamt-Aussage besteht, am Ende wird jede Gesamtaussage auf einen einzigen Wert reduziert: `True` oder `False`.\n",
    "\n",
    "Schauen wir uns diese schrittweise Reduktion der obigen verknüpften Aussage mal Schritt für Schritt an. Im ersten Schritt \"reduziert\" Python den Ausdruck\n",
    "\n",
    "``` python\n",
    "1 > 0 and 2 == 3\n",
    "```\n",
    "\n",
    "zu\n",
    "\n",
    "``` python\n",
    "True and False\n",
    "```\n",
    "\n",
    "Zwei durch `and` verknüpfte Aussagen werden nur dann `True`, wenn beide Teil-Aussagen `True` sind. Daher wird aus\n",
    "\n",
    "``` python\n",
    "True and False\n",
    "```\n",
    "\n",
    "nun\n",
    "\n",
    "``` python\n",
    "False\n",
    "```\n",
    "\n",
    "weil nicht auf beiden Seiten des `and` ein `True` steht.\n",
    "\n",
    "Da es bei der Verknüpfung von Aussagen durch `and` letztlich nur um Kombinationen von `True` und `False` geht, weil jede Aussage auf `True` oder `False` redziert wird, können wir Python für Demonstrationszwecke auch einfach direkt nach der \"Wahrheit\" verschiedener `and`-Verknüpfungen von `True` und `False` fragen, wie ich es im Folgenden tue:"
   ]
  },
  {
   "cell_type": "code",
   "execution_count": 17,
   "metadata": {},
   "outputs": [
    {
     "data": {
      "text/plain": [
       "True"
      ]
     },
     "execution_count": 17,
     "metadata": {},
     "output_type": "execute_result"
    }
   ],
   "source": [
    "True and True"
   ]
  },
  {
   "cell_type": "code",
   "execution_count": 18,
   "metadata": {},
   "outputs": [
    {
     "data": {
      "text/plain": [
       "False"
      ]
     },
     "execution_count": 18,
     "metadata": {},
     "output_type": "execute_result"
    }
   ],
   "source": [
    "True and False"
   ]
  },
  {
   "cell_type": "code",
   "execution_count": 19,
   "metadata": {},
   "outputs": [
    {
     "data": {
      "text/plain": [
       "False"
      ]
     },
     "execution_count": 19,
     "metadata": {},
     "output_type": "execute_result"
    }
   ],
   "source": [
    "False and True"
   ]
  },
  {
   "cell_type": "code",
   "execution_count": 20,
   "metadata": {},
   "outputs": [
    {
     "data": {
      "text/plain": [
       "False"
      ]
     },
     "execution_count": 20,
     "metadata": {},
     "output_type": "execute_result"
    }
   ],
   "source": [
    "False and False"
   ]
  },
  {
   "cell_type": "markdown",
   "metadata": {},
   "source": [
    "Wir sehen, eine UND-Verknüpfung wird nur genau dann `True`, wenn beide Teil-Aussagen `True` sind."
   ]
  },
  {
   "cell_type": "markdown",
   "metadata": {},
   "source": [
    "### Disjunktion: or\n",
    "\n",
    "Mit `and` können wir sehr detailreiche & spezifische Aussagen aufstellen bzw. fragen, die nur `True` sind, wenn auch alle Teil-Aussagen `True` sind. Dadurch können wir später sehr strenge Bedingungen aufstellen. Hingegen eignet sich der Operator `or` sehr gut, wenn wir etwas \"lockerere\" Bedingungen aufstellen wollen. Ein `or` verknüpft zwei Teil-Aussagen so, dass die Gesamtaussage genau dann wahr ist, wenn mindestens eine der beiden Teil-Aussagen wahr ist. Es kann also die eine, die andere oder beide Teil-Aussagen wahr sein, damit die Gesamt-Aussage wahr wird. Nur wenn beide Teil-Aussagen falsch sind, wird auch die Gesamt-Aussage falsch.\n",
    "\n",
    "Verknüpft man z.B. die wahre Aussage \"*1 ist größer 0*\" und die falsche Aussage \"*2 ist gleich 3*\" mit einem `or` zur Aussage \"*1 ist größer 0 oder 2 ist gleich 3*\", dann ist diese Gesamt-Aussage wahr, weil man mit einem `or` impliziert, dass es sein kann, dass nur eine von beiden Aussagen wahr ist.\n",
    "\n",
    "Aus\n",
    "\n",
    "``` python\n",
    "1 > 0 or 2 == 3\n",
    "```\n",
    "\n",
    "wird\n",
    "\n",
    "``` python\n",
    "True or False\n",
    "```\n",
    "\n",
    "woraus dann\n",
    "\n",
    "``` python\n",
    "True\n",
    "```\n",
    "\n",
    "wird.\n",
    "\n",
    "\n",
    "Die Aussage \"*1 ist größer 0 oder 2 ist gleich 3*\" ist also wahr, weil eine der Teilaussagen wahr ist.\n",
    "\n",
    "Da `or`-verknüpfte Aussagen bzw. Bedingungen immer `True` sind, wenn mindestens eine der Teilaussagen `True` ist, wird die `or`-verknüpfte Gesamtaussage nur genau dann `False`, wenn beide Teilaussagen `False` sind. Dies kann man selbst überprüfen, wenn man alle möglichen `or`-Verknüpfungen von `True` und `False` von Python evaluieren lässt:"
   ]
  },
  {
   "cell_type": "code",
   "execution_count": 21,
   "metadata": {},
   "outputs": [
    {
     "data": {
      "text/plain": [
       "True"
      ]
     },
     "execution_count": 21,
     "metadata": {},
     "output_type": "execute_result"
    }
   ],
   "source": [
    "True or True"
   ]
  },
  {
   "cell_type": "code",
   "execution_count": 22,
   "metadata": {},
   "outputs": [
    {
     "data": {
      "text/plain": [
       "True"
      ]
     },
     "execution_count": 22,
     "metadata": {},
     "output_type": "execute_result"
    }
   ],
   "source": [
    "True or False"
   ]
  },
  {
   "cell_type": "code",
   "execution_count": 23,
   "metadata": {},
   "outputs": [
    {
     "data": {
      "text/plain": [
       "True"
      ]
     },
     "execution_count": 23,
     "metadata": {},
     "output_type": "execute_result"
    }
   ],
   "source": [
    "False or True"
   ]
  },
  {
   "cell_type": "code",
   "execution_count": 24,
   "metadata": {
    "scrolled": true
   },
   "outputs": [
    {
     "data": {
      "text/plain": [
       "False"
      ]
     },
     "execution_count": 24,
     "metadata": {},
     "output_type": "execute_result"
    }
   ],
   "source": [
    "False or False"
   ]
  },
  {
   "cell_type": "markdown",
   "metadata": {},
   "source": [
    "Wie dir vielleicht schon aufgefallen ist, hat ein \"oder\" innerhalb der klassichen Aussagenlogik eine leicht andere Bedeutung als ein \"oder\" in der Alltagssprache. In der Alltagssprache meinen wir mit \"oder\" typischerweise, dass wir erwarten, dass **genau eine** der beiden Aussagen wahr sein kann (entweder die eine oder die andere). In der Aussagenlogik bzw. hier in Python meinen wir mit \"oder\", dass wir die Richtigkeit **mindestens** einer der beiden Aussagen erwarten. Das \"oder\", das wir hier benutzen, nennt man übrigens auch \"nichtausschließendes oder\". Das \"oder\" der Alltagssprache nennt man \"ausschließendes oder\"."
   ]
  },
  {
   "cell_type": "markdown",
   "metadata": {},
   "source": [
    "### Mehrere Verknüpfungen"
   ]
  },
  {
   "cell_type": "markdown",
   "metadata": {},
   "source": [
    "Wir können natürlich auch mehrere `and`- und `or`-Verknüpfungen kombinieren, z.B.:\n",
    "\n",
    "\"2 ist gleich 2 oder 2 ist gleich 3 und 0 ist größer 1\"\n",
    "\n",
    "Diese Aussage sieht in Python-Code so aus:\n",
    "\n",
    "```python\n",
    "2 == 2 or 2 == 3 and 0 > 1\n",
    "```\n",
    "\n",
    "Ist diese Aussage wahr oder falsch? \n",
    "\n",
    "Fangen wir mal an, diese Aussage auf ihre Wahrheit zu evaluieren. Im ersten Schritt können wir alle Teil-Aussagen, die keine weiteren Verknüpfungen beinhalten, auf ihren Wahrheitswert reduzieren.\n",
    "\n",
    "Aus \n",
    "\n",
    "```python\n",
    "2 == 2 or 2 == 3 and 0 > 1\n",
    "```\n",
    "\n",
    "wird dadurch\n",
    "\n",
    "```python\n",
    "True or False and False\n",
    "```\n",
    "\n",
    "Wie gehts nun aber weiter? Müssen wir zuerst die `or`-Verknüpfung oder die `and`-Verknüpfung evaluieren? Tatsächlich macht die Reihenfolge einen großen Unterschied! \n",
    "\n",
    "Würden wir zuerst die `and`-Verknüpfung evaluieren, wird\n",
    "\n",
    "```python\n",
    "True or False and False\n",
    "```\n",
    "\n",
    "zu\n",
    "\n",
    "```python\n",
    "True or False\n",
    "```\n",
    "\n",
    "was dann schließlich zu\n",
    "\n",
    "```python\n",
    "True\n",
    "```\n",
    "\n",
    "wird.\n",
    "\n",
    "Würden wir hingegen zuerst die `or`-Verknüpfung evaluieren, würde\n",
    "\n",
    "```python\n",
    "True or False and False\n",
    "```\n",
    "\n",
    "zu\n",
    "\n",
    "```python\n",
    "True and False\n",
    "```\n",
    "werden, was dann ingesamt zu \n",
    "\n",
    "```python\n",
    "False\n",
    "```\n",
    "führt.\n",
    "\n",
    "Je nach Reihenfolge der Evaluation der Verknüpfungen wird die Gesamtaussage einmal wahr und einmal falsch. Jedoch ist die Priorität logischer Operatoren d.h. die Reihenfolge, in welcher die Operatoren evaluiert werden, festgelegt. So wie Punktrechnung vor Strichrechnung durchgeführt wird, wird das `and` immer vor dem `or` ausgeführt. \n",
    "\n",
    "Daher wird die obige Beispielaussage insgesamt zu `True`:"
   ]
  },
  {
   "cell_type": "code",
   "execution_count": 25,
   "metadata": {
    "scrolled": true
   },
   "outputs": [
    {
     "data": {
      "text/plain": [
       "True"
      ]
     },
     "execution_count": 25,
     "metadata": {},
     "output_type": "execute_result"
    }
   ],
   "source": [
    "2 == 2 or 2 == 3 and 0 > 1"
   ]
  },
  {
   "cell_type": "markdown",
   "metadata": {},
   "source": [
    "Vollständigerweise lautet die Reihenfolge bzw. Priorotät der logischen Operatoren wie folgt:\n",
    "\n",
    "1. `not`\n",
    "2. `and`\n",
    "3. `or`"
   ]
  },
  {
   "cell_type": "markdown",
   "metadata": {},
   "source": [
    "Das `not` bezieht sich also immer nur auf die unmittelbar dahinter stehende, einzelne und nicht weiter verknüpfte Aussage.\n",
    "\n",
    "In diesem Beispiel würde sich das `not` also nur auf das `True` beziehen:\n",
    "\n",
    "```python\n",
    "not True or False\n",
    "```\n",
    "\n",
    "Dadurch wird der Ausdruck erst zu \n",
    "\n",
    "```python\n",
    "False or False\n",
    "```\n",
    "\n",
    "und dann zu \n",
    "\n",
    "```python\n",
    "False\n",
    "```\n",
    "\n",
    "Des Weiteren gelten für logische Ausdrücke und deren Priorität auch die typischen Klammergesetze der Mathematik. So kann beispielsweise die Priorität des `and` vor dem `or` durch entsprechende Klammersetzung durchbrochen werden."
   ]
  },
  {
   "cell_type": "markdown",
   "metadata": {},
   "source": [
    "### Das Keyword \"in\"\n",
    "\n",
    "Bedingungen können nicht nur mathematische Vergleiche beinhalten. Das super praktische Keyword `in` ermöglicht es uns z.B. zu erfragen, ob ein bestimmter Wert in einem sequentiellen Datentyp (z.B. Liste oder String) ist.\n",
    "\n",
    "Fragen wir uns beispielsweise, ob der Wert `10` in der Liste `[3, 2, 8, 1]` vorkommt, können wir schreiben:"
   ]
  },
  {
   "cell_type": "code",
   "execution_count": 26,
   "metadata": {},
   "outputs": [
    {
     "data": {
      "text/plain": [
       "False"
      ]
     },
     "execution_count": 26,
     "metadata": {},
     "output_type": "execute_result"
    }
   ],
   "source": [
    "10 in [3, 2, 8, 1]"
   ]
  },
  {
   "cell_type": "markdown",
   "metadata": {},
   "source": [
    "Die Aussage \"Der Wert 10 befindet sich in der Liste [3, 2, 8, 1]\" ist falsch, weshalb wir `False` ausgegeben bekommen.\n",
    "\n",
    "Das Keyword `in` können wir auch benutzen, um zu erfragen, ob ein bestimmtes Symbol in einem String auftaucht. Hier frage ich z.B., ob das Symbol `\"n\"` im Wort `\"Python\"` ist:"
   ]
  },
  {
   "cell_type": "code",
   "execution_count": 27,
   "metadata": {},
   "outputs": [
    {
     "data": {
      "text/plain": [
       "True"
      ]
     },
     "execution_count": 27,
     "metadata": {},
     "output_type": "execute_result"
    }
   ],
   "source": [
    "\"n\" in \"Python\""
   ]
  },
  {
   "cell_type": "markdown",
   "metadata": {},
   "source": [
    "## Die Grundform der If-Statements\n",
    "\n",
    "Nun haben wir uns sehr genau einen bestimmten Bestandteil der If-Statements angeschaut. Kommen wir nun dazu, If-Statements als Ganzes zu benutzen, um damit die Ausführung unseres Codes situationsspezifisch zu steuern. Wie oben bereits gezeigt, besteht ein If-Statement im einfachsten Fall aus zwei Bestandteilen: dem Wenn-Teil und dem Dann-Teil. \n",
    "\n",
    "Der Wenn-Teil beginnt mit dem Schlüsselwort `if` und endet mit einem `:`. Dazwischen, also dort wo unten der Platzhalter `THIS_STATEMENT_IS_TRUE` steht, muss ein boolscher Ausdruck stehen. Ist der boolsche Ausdruck wahr d.h. wird er letztlich auf den Wert `True` reduziert, dann wird der eingerückte Codeblock darunter ausgeführt. Wenn der boolsche Ausdruck falsch ist, dann wird der eingerückte Codeblock einfach ignoriert. Die Bedingung dafür, dass der Codeblock ausgeführt wird, ist also dass der boolsche Ausdruck wahr ist.\n",
    "\n",
    "```python\n",
    "if THIS_STATEMENT_IS_TRUE: # Wenn-Teil\n",
    "    DO_THAT                # Dann-Teil\n",
    "```\n",
    "\n",
    "Schauen wir uns das an einem konkreten Beispiel an. Wie wir oben gelernt haben, sind die einfachsten boolschen Ausdrücke einfach die beiden Wahrheitswerte `True` und `False` selbst. Füge ich also als boolschen Ausdruck in ein If-Statement z.B. einfach ein `True` ein, dann ist das eine wahre Aussage, sodass die Bedingung erfüllt ist und somit der Codeblock des If-Statements ausgeführt wird:"
   ]
  },
  {
   "cell_type": "code",
   "execution_count": 28,
   "metadata": {},
   "outputs": [
    {
     "name": "stdout",
     "output_type": "stream",
     "text": [
      "Diese Aussage ist wahr!\n"
     ]
    }
   ],
   "source": [
    "if True:\n",
    "    print(\"Diese Aussage ist wahr!\")"
   ]
  },
  {
   "cell_type": "markdown",
   "metadata": {},
   "source": [
    "Setzen wir stattedessen die einfachst mögliche falsche Aussage - ein `False` - ein, dann ist die Bedingung der wahren Aussage nicht erfüllt, wodurch der eingerückte Codeblock ignoriert wird. Es passiert dann einfach ertmal gar nichts:"
   ]
  },
  {
   "cell_type": "code",
   "execution_count": 29,
   "metadata": {},
   "outputs": [],
   "source": [
    "if False:\n",
    "    print(\"Diese Aussage ist wahr!\")"
   ]
  },
  {
   "cell_type": "markdown",
   "metadata": {},
   "source": [
    "Natürlich ist es etwas sinnlos, wenn man in If-Statements direkt einen nicht weiter zu reduzierenden Wahrheitswert einsetzt. Unten setze ich daher beispielhaft einen Vergleich als boolschen Ausdruck ein:"
   ]
  },
  {
   "cell_type": "code",
   "execution_count": 30,
   "metadata": {},
   "outputs": [
    {
     "name": "stdout",
     "output_type": "stream",
     "text": [
      "Diese Aussage ist wahr!\n"
     ]
    }
   ],
   "source": [
    "if 1 < 2:\n",
    "    print(\"Diese Aussage ist wahr!\")"
   ]
  },
  {
   "cell_type": "markdown",
   "metadata": {},
   "source": [
    "Da die Aussage \"*1 ist kleiner 2*\" natürlich wahr ist, wird der eingerückte Codeblock ausgeführt. Aber natürlich machen auch If-Statements erst wieder wirklich Sinn, wenn die Wahrheit oder Falschheit der Bedingung nicht schon bereits zum Zeitpunkt der Programmierung klar ist bzw. für jeden Fall gleich ist. If-Statements machen v.a. Sinn, wenn sich das Programm in spezifischen Situationen spezfisch verhalten soll.\n",
    "\n",
    "Im untigen Beispiel wird innerhalb eines For-Loops die Liste `age_list` durchgegangen und für jedes Element in einem If-Statement erfragt, ob es größer als 40 ist. Wenn das Element größer als 40 ist und somit die Bedingung des If-Statements erfüllt ist, wird das Element an die anfangs noch leere Liste `Ü40` angehängt."
   ]
  },
  {
   "cell_type": "code",
   "execution_count": 31,
   "metadata": {},
   "outputs": [],
   "source": [
    "# Daten\n",
    "age_list = [25, 39, 45, 61]\n",
    "\n",
    "Ü40 = []\n",
    "\n",
    "# für jedes Alter\n",
    "for age in age_list:\n",
    "    # wenn größer 40\n",
    "    if age > 40:\n",
    "        # an die Liste Ü40 anhängen\n",
    "        Ü40.append(age)"
   ]
  },
  {
   "cell_type": "markdown",
   "metadata": {},
   "source": [
    "Und wir sehen, dass sich in der Liste `Ü40` nun alle Elemente größer 40 befinden:"
   ]
  },
  {
   "cell_type": "code",
   "execution_count": 32,
   "metadata": {},
   "outputs": [
    {
     "data": {
      "text/plain": [
       "[45, 61]"
      ]
     },
     "execution_count": 32,
     "metadata": {},
     "output_type": "execute_result"
    }
   ],
   "source": [
    "Ü40"
   ]
  },
  {
   "cell_type": "markdown",
   "metadata": {},
   "source": [
    "## Nein? Dann das! If-Statements mit else.\n",
    "\n",
    "Wir können nun If-Statements schreiben, welche bestimmten Code ausführen, sobald eine Bedingung erfüllt ist. Falls die Bedingung allerdings nicht erfüllt ist, dann passiert in unseren bisherigen If-Statements einfach gar nichts. Manchmal ist es aber sehr praktisch auch bei Nicht-Erfüllung der Bedingung etwas auszuführen - nur dann eben etwas anderes. Das können wir in Python mit dem Schlüsselwort `else`. Mit `else` können wir unseren Wenn-Dann-Satz praktisch um einen \"Ansonsten\"-Teil erweitern, welcher eintritt, wenn die Bedingung nicht zutrifft. Ein Beispiel aus dem Alltag: **Wenn** das Paket heute ankommt, **dann** freue ich mich, **ansonsten** bin ich sehr traurig.\n",
    "\n",
    "Allgemein formuliert können wir unser If-Statement also wie folgt erweitern:\n",
    "\n",
    "```python\n",
    "if THIS_STATEMENT_IS_TRUE: \n",
    "    DO_THAT               \n",
    "else:\n",
    "    DO_THAT_INSTEAD      \n",
    "```\n",
    "\n",
    "Ein konkretes Beispiel: Der folgende Code prüft mithilfe der Funktion `type()`, inwiefern die Variable `element` vom Datentyp `str` ist. Wenn die Variable `element` vom Typ `str` ist, dann soll `\"String!\"` angezeigt werden, ist sie nicht vom Typ `str`, soll hingegen `\"Kein String!\"` angezeigt."
   ]
  },
  {
   "cell_type": "code",
   "execution_count": 33,
   "metadata": {},
   "outputs": [
    {
     "name": "stdout",
     "output_type": "stream",
     "text": [
      "Kein String!\n"
     ]
    }
   ],
   "source": [
    "element = 10\n",
    "\n",
    "if type(element) == str:\n",
    "    print(\"String!\")\n",
    "else:\n",
    "    print(\"Kein String!\")"
   ]
  },
  {
   "cell_type": "markdown",
   "metadata": {},
   "source": [
    "Da die Variable `element` den Wert `10` aufweist, vom Typ `int` ist und somit nicht vom Typ `str`, wird die aufgestellte Bedingung nicht erfüllt. Daher springt Python direkt zum Ansonsten-Teil und führt den zugehörigen Code-Block aus. Im nächsten Beispiel ist die Variable `element` nun vom Typ `str`. Die Bedingung des Wenn-Teils wird also erfüllt und der entsprechende Dann-Teil ausgeführt. Dadurch wird diesmal der Ansonsten-Teil ignoriert."
   ]
  },
  {
   "cell_type": "code",
   "execution_count": 34,
   "metadata": {},
   "outputs": [
    {
     "name": "stdout",
     "output_type": "stream",
     "text": [
      "String!\n"
     ]
    }
   ],
   "source": [
    "element = \"python\"\n",
    "\n",
    "if type(element) == str:\n",
    "    print(\"String!\")\n",
    "else:\n",
    "    print(\"Kein String!\")"
   ]
  },
  {
   "cell_type": "markdown",
   "metadata": {},
   "source": [
    "Im Folgenden sollen die Elemente der Liste `stuff` danach sortiert werden, ob sie vom Datentyp `str` sind oder nicht. Daher wird innerhalb eines For-Loops die Liste `stuff` durchgegangen und für jedes Element geprüft, ob dieses vom Typ `str` ist. Falls dies der Fall ist, wird das entsprechende Element an die Liste `strings` angehängt. Wenn dies nicht der Fall ist, wird das entsprechende Element an die Liste `no_strings` angehängt."
   ]
  },
  {
   "cell_type": "code",
   "execution_count": 35,
   "metadata": {},
   "outputs": [],
   "source": [
    "# zu sortierende Liste\n",
    "stuff = [10,\"python\", 1.2, True, \"15\", \"Zwanzig\", str]\n",
    "\n",
    "# leere Listen erstellen\n",
    "strings = []\n",
    "no_strings = []\n",
    "\n",
    "# für jedes Element der Liste stuff\n",
    "for element in stuff:\n",
    "    # wenn das Element ein String ist\n",
    "    if type(element) == str:\n",
    "        # an Liste strings anhängen\n",
    "        strings.append(element)\n",
    "    # Ansonsten\n",
    "    else:\n",
    "        # an Liste no_strings anhängen\n",
    "        no_strings.append(element)"
   ]
  },
  {
   "cell_type": "code",
   "execution_count": 36,
   "metadata": {},
   "outputs": [
    {
     "data": {
      "text/plain": [
       "['python', '15', 'Zwanzig']"
      ]
     },
     "execution_count": 36,
     "metadata": {},
     "output_type": "execute_result"
    }
   ],
   "source": [
    "strings"
   ]
  },
  {
   "cell_type": "code",
   "execution_count": 37,
   "metadata": {},
   "outputs": [
    {
     "data": {
      "text/plain": [
       "[10, 1.2, True, str]"
      ]
     },
     "execution_count": 37,
     "metadata": {},
     "output_type": "execute_result"
    }
   ],
   "source": [
    "no_strings"
   ]
  },
  {
   "cell_type": "markdown",
   "metadata": {},
   "source": [
    "## Nein? Dann vielleicht das hier? If-Statements mit elif.\n",
    "\n",
    "Mit `if` und `else` können wir angeben, was passieren soll, wenn ein bestimmter Fall eintritt und was passieren soll, wenn dieser bestimmte Fall nicht eintritt. Was ist aber, wenn wir nicht nur zwischen *das* und *nicht das*, sondern feiner zwischen verschiedenen Fällen differenzieren wollen? Dann brauchen wir `elif`! Mit `elif` können wir unserem If-Statement weitere Bedingungen hinzufügen. Diese werden geprüft, wenn die Bedingung davor nicht erfüllt wurde. Wir können also die Struktur der folgenden fiktiven Wenn-Dann-Satz-Konstruktion in Python bilden:\n",
    "\n",
    "*Wenn es Burger gibt, dann esse ich Burger.*\n",
    "\n",
    "*Wenn es keine Burger gibt, aber es Maultaschen gibt, dann esse ich Maultaschen.*\n",
    "\n",
    "*Ansonsten gehe ich zum Buffet.*\n",
    "\n",
    "\n",
    "In dieser Wenn-Dann-Aussage werden für mehrere mögliche Fälle, bestimmte Folgen angegeben. Dabei sind die Bedingungen nach der gegebenen Reihenfolge der einzelnen Wenn-Dann-Aussagen priorisiert. Die Bedingungen werden von vorne nach hinten nacheinander durchgegangen und immer nur wenn die vorherige Bedingung nicht erfüllt ist, wird die nächste Bedingung geprüft. Gibt es beispielsweise Burger, so ist sofort klar, dass Burger gegessen werden. Die anderen Möglichkeiten bzw. Bedingungen werden nicht einmal angeschaut, selbst wenn es beispielsweise neben den Burgern auch Maultaschen geben sollte. Erst wenn die erste Bedingung nicht erfüllt ist und es keine Burger gibt, wird geprüft, ob es Maultaschen gibt. Und nur wenn es weder Burger noch Maultaschen gibt, dann tritt der Notfall-Plan des Buffets in Kraft.\n",
    "\n",
    "Etwas allgemeiner könnte man dies so formulieren:\n",
    "\n",
    "```python\n",
    "Wenn Fall1:\n",
    "    ...\n",
    "Wenn nicht Fall1, aber Fall2:\n",
    "    ...\n",
    "Ansonsten:\n",
    "    ...\n",
    "```\n",
    "\n",
    "Tatsächlich bewahrt uns das Wort `elif` (das eine Zusammensetzung aus `else` und `if` ist) davor, geschachtelte If-Statements schreiben zu müssen. Denn wir hätten deneselben Inhalt von oben durchaus auch ohne `elif` bzw. ohne \"wenn nicht Fall1, aber Fall2\" schreiben können, indem wir einfach in den Ansonsten-Teil ein zweites ganz normales If-Statement gesetzt hätten, wie ich unten beispielhaft zeige:\n",
    "\n",
    "```python\n",
    "Wenn Fall1:\n",
    "    dann ...\n",
    "Ansonsten:\n",
    "    wenn Fall2:\n",
    "        dann ...\n",
    "    Ansonsten:\n",
    "        ...\n",
    "```\n",
    "\n",
    "Und nochmal als \"Python-Code\" ausgedrückt:\n",
    "\n",
    "```python\n",
    "if Fall1:\n",
    "    ...\n",
    "else:\n",
    "    if Fall2:\n",
    "        ...\n",
    "    else:\n",
    "        ...\n",
    "```\n",
    "\n",
    "Spätestens wenn man noch eine Bedingung hinzufügen möchte, werden geschachtelte If-Statements ziemlich unübersichtlich. Genau deswegen gibt es das Wort `elif`. Mit `elif` würden dann die obigen abstrakten Beispiele so aussehen:\n",
    "\n",
    "```python\n",
    "if Fall1:\n",
    "    ...\n",
    "elif Fall2:\n",
    "    ...\n",
    "else:\n",
    "    ...\n",
    "```\n",
    "\n",
    "Wir können mit `elif` also einen weiteren Wenn-Teil bzw. eine weitere Bedingung zu unserem If-Statement hinzufügen. Diese zusätzlichen Wenn-Dann-Blöcke mit `elif` kommen immer erst nach einem ersten, mit `if` eingeleiteten Wenn-Teil und immer vor einem eventuellen Ansonsten-Teil mit `else`. Während wir in einem If-Statement genau einmal zu Beginn das Schlüsselwort `if` benutzen und auch maximal einmal am Ende das Schlüsselwort `else` benutzen können, können wir das Schlüsselwort `elif` beliebig oft verwenden. Die Bedingungen werden solange bis eine der Bedingungen `True` ist, von oben nach unten nacheinander überprüft. Ist eine Bedingung `True`, dann wird der zugehörige Code-Block ausgeführt. Alle folgenden Bedingungen dieses If-Statements werden dann ignoriert.\n",
    "\n",
    "Wollen wir beispielsweise die Elemente der Liste `stuff` nicht nur danach sortieren, ob sie vom Typ String oder nicht vom Typ String sind, sondern auch danach, ob sie vom Datentyp `int` sind, dann könnte das z.B. so mit einem `elif` aussehen:"
   ]
  },
  {
   "cell_type": "code",
   "execution_count": 38,
   "metadata": {},
   "outputs": [],
   "source": [
    "# zu sortierende Liste\n",
    "stuff = [10,\"python\", 1.2, True, \"15\", \"Zwanzig\", str]\n",
    "\n",
    "# leere Listen zum einsortieren\n",
    "strings = []\n",
    "integers = []\n",
    "other = []\n",
    "\n",
    "\n",
    "# für jedes Element der Liste stuff\n",
    "for element in stuff:\n",
    "    \n",
    "    # wenn es ein String ist\n",
    "    if type(element) == str:\n",
    "        strings.append(element)\n",
    "    \n",
    "    # wenn es kein String, aber ein Integer ist\n",
    "    elif type(element) == int:\n",
    "        integers.append(element)\n",
    "    \n",
    "    # ansonsten\n",
    "    else:\n",
    "        other.append(element)"
   ]
  },
  {
   "cell_type": "code",
   "execution_count": 39,
   "metadata": {},
   "outputs": [
    {
     "data": {
      "text/plain": [
       "['python', '15', 'Zwanzig']"
      ]
     },
     "execution_count": 39,
     "metadata": {},
     "output_type": "execute_result"
    }
   ],
   "source": [
    "strings"
   ]
  },
  {
   "cell_type": "code",
   "execution_count": 40,
   "metadata": {},
   "outputs": [
    {
     "data": {
      "text/plain": [
       "[10]"
      ]
     },
     "execution_count": 40,
     "metadata": {},
     "output_type": "execute_result"
    }
   ],
   "source": [
    "integers"
   ]
  },
  {
   "cell_type": "code",
   "execution_count": 41,
   "metadata": {},
   "outputs": [
    {
     "data": {
      "text/plain": [
       "[1.2, True, str]"
      ]
     },
     "execution_count": 41,
     "metadata": {},
     "output_type": "execute_result"
    }
   ],
   "source": [
    "other"
   ]
  },
  {
   "cell_type": "markdown",
   "metadata": {},
   "source": [
    "Ich füge nun noch eine weitere Bedingung hinzu. Diesmal füge ich eine Bedingung ein, die abfragt, inwiefern das Element keine `10` ist. Diese Bedingung schreibe ich an den Anfang des If-Statements hinter das Schlüsselwort `if`, sodass diese Bedingung die erste ist, die evaluiert wird. Was verändert dies am Ergebnis?"
   ]
  },
  {
   "cell_type": "code",
   "execution_count": 42,
   "metadata": {},
   "outputs": [],
   "source": [
    "# zu sortierende Liste\n",
    "stuff = [10,\"python\", 1.2, True, \"15\", \"Zwanzig\", str]\n",
    "\n",
    "# leere Listen zum einsortieren\n",
    "not_ten = []\n",
    "strings = []\n",
    "integers = []\n",
    "other = []\n",
    "\n",
    "\n",
    "# für jedes Element der Liste stuff\n",
    "for element in stuff:\n",
    "    \n",
    "    # wenn es keine 10 ist\n",
    "    if element != 10:\n",
    "        not_ten.append(element)\n",
    "    \n",
    "    # wenn es eine 10 ist, aber ein String\n",
    "    elif type(element) == str:\n",
    "        strings.append(element)\n",
    "    \n",
    "    # wenn es eine 10 und kein String ist, aber ein Integer\n",
    "    elif type(element) == int:\n",
    "        integers.append(element)\n",
    "    \n",
    "    # ansonsten\n",
    "    else:\n",
    "        other.append(element)"
   ]
  },
  {
   "cell_type": "code",
   "execution_count": 43,
   "metadata": {},
   "outputs": [
    {
     "data": {
      "text/plain": [
       "['python', 1.2, True, '15', 'Zwanzig', str]"
      ]
     },
     "execution_count": 43,
     "metadata": {},
     "output_type": "execute_result"
    }
   ],
   "source": [
    "not_ten"
   ]
  },
  {
   "cell_type": "code",
   "execution_count": 44,
   "metadata": {},
   "outputs": [
    {
     "data": {
      "text/plain": [
       "[]"
      ]
     },
     "execution_count": 44,
     "metadata": {},
     "output_type": "execute_result"
    }
   ],
   "source": [
    "strings"
   ]
  },
  {
   "cell_type": "code",
   "execution_count": 45,
   "metadata": {},
   "outputs": [
    {
     "data": {
      "text/plain": [
       "[10]"
      ]
     },
     "execution_count": 45,
     "metadata": {},
     "output_type": "execute_result"
    }
   ],
   "source": [
    "integers"
   ]
  },
  {
   "cell_type": "code",
   "execution_count": 46,
   "metadata": {},
   "outputs": [
    {
     "data": {
      "text/plain": [
       "[]"
      ]
     },
     "execution_count": 46,
     "metadata": {},
     "output_type": "execute_result"
    }
   ],
   "source": [
    "other"
   ]
  },
  {
   "cell_type": "markdown",
   "metadata": {},
   "source": [
    "Da für fast alle Elemente zutrifft, dass sie keine `10` sind, wurden fast alle Elemente der Liste `not_ten` angehängt. Da die Bedingung in der Reihenfolge als erstes kommt, ist es auch egal, ob unter den Elementen, welche nicht `10` sind, Strings und Integers sind. Allein die `10` ist nicht ungleich `10`, weshalb die erste Bedingung nicht erfüllt ist und dann weitere Bedingungen evaluiert werden.\n",
    "\n",
    "**Wir sehen:** Die Reihenfolge der Bedingungen kann bei längeren If-Elif-Else-Statements sehr wichtig sein!"
   ]
  },
  {
   "cell_type": "markdown",
   "metadata": {},
   "source": [
    "Wenn du dir ein Video über If-Statements anschauen möchtest, schau doch mal hier:"
   ]
  },
  {
   "cell_type": "code",
   "execution_count": 47,
   "metadata": {},
   "outputs": [
    {
     "data": {
      "image/jpeg": "[encoded data removed]",
      "text/html": [
       "\n",
       "        <iframe\n",
       "            width=\"400\"\n",
       "            height=\"300\"\n",
       "            src=\"https://www.youtube.com/embed/zCJ6L4hj2Js\"\n",
       "            frameborder=\"0\"\n",
       "            allowfullscreen\n",
       "        ></iframe>\n",
       "        "
      ],
      "text/plain": [
       "<IPython.lib.display.YouTubeVideo at 0x25c86840af0>"
      ]
     },
     "execution_count": 47,
     "metadata": {},
     "output_type": "execute_result"
    }
   ],
   "source": [
    "YouTubeVideo(\"zCJ6L4hj2Js\")"
   ]
  },
  {
   "cell_type": "markdown",
   "metadata": {},
   "source": [
    "## Exkurs 1: Standard-Module importieren und nutzen (am Beispiel \"random\")\n",
    "\n",
    "Bisher haben wir ausschließlich Code aus dem Basis-Python und nur sogenannte Built-in-Funktionen verwendet. Das ist der Python-Code, der uns unmittelbar mit jedem Python-Interpreter zur Verfügung steht. Allein damit kann man schon ziemlich viel machen. Man kann das Spektrum an verfügbaren Funktionen usw. aber noch enorm erweitern, wenn man sogenannte Module importiert. Module stellen uns weitere Objekte und Funktionen zur Verfügung, die wir (im aktuellen Programm) nicht selber geschrieben haben, aber anwenden können. Im einfachsten Fall ist ein Modul selbst wiederum ein Python-Skript, in dem jemand nützliche Funktionen definiert hat, sodass wir diese nicht mehr selbst schreiben müssen. Python verfügt über eine sogenannte Standardbibliothek, in der schon eine ganze Reihe nützliche Module vorhanden sind. \n",
    "Manche Module muss man aber auch extra installieren. Wie das funktioniert, schauen wir uns in einem der nächsten Kapitel an. Hier beschränken wir uns darauf, wie man bereits installierte Module aus der Python-Standard-Bibliothek nutzen kann.\n",
    "\n",
    "Ist ein Modul installiert, heißt es noch nicht, dass es wir es benutzen können. Wir müssen es zunächst in unser Programm importieren. Im Folgenden importiere ich das Modul `random`:"
   ]
  },
  {
   "cell_type": "code",
   "execution_count": 48,
   "metadata": {},
   "outputs": [],
   "source": [
    "import random"
   ]
  },
  {
   "cell_type": "markdown",
   "metadata": {},
   "source": [
    "Alle von `random` mitgelieferten Objekte und Funktionen sind nun in Python bzw. in der aktuellen \"Konsole\" (genauer: dem Python-Kernel) geladen, sodass ich diese benutzen kann. Diesen Modul-Import macht man in der Regel zu Beginn eines Programms ganz oben im Skript.\n",
    "\n",
    "Wir können natürlich auch mehrere Module importieren:"
   ]
  },
  {
   "cell_type": "code",
   "execution_count": 49,
   "metadata": {},
   "outputs": [],
   "source": [
    "import random\n",
    "import os"
   ]
  },
  {
   "cell_type": "markdown",
   "metadata": {},
   "source": [
    "Aufgerufen werden modulspezifische Funktionen usw. indem deren Name hinten an den Modulnamen gehängt werden. Z.B. rufe ich im Folgenden die `random`-Funktion `randint()`, welche mir einen zufälligen Integer aus einem Zahlenintervall ausgibt, auf."
   ]
  },
  {
   "cell_type": "code",
   "execution_count": 50,
   "metadata": {},
   "outputs": [
    {
     "data": {
      "text/plain": [
       "6"
      ]
     },
     "execution_count": 50,
     "metadata": {},
     "output_type": "execute_result"
    }
   ],
   "source": [
    "random.randint(0, 10)"
   ]
  },
  {
   "cell_type": "markdown",
   "metadata": {},
   "source": [
    "Durch das anhängen der Funktionen usw. an die Modulnamen, bleibt kenntlich, woher diese Funktion ist und es besteht auch nicht die Gefahr, dass wir Funktionen mit demselben Namen beim Import des Moduls überschreiben. Manchmal kann es aber etwas nervig sein, immer den vollen Namen eines Moduls ausschreiben zu müssen. Daher gibt es die Option, Module unter einer (selbstgewählten) Kurzbezeichnung zu laden. Z.B. könnte ich das Modul `random` auch unter dem Namen `rdm` laden. Das macht man so:"
   ]
  },
  {
   "cell_type": "code",
   "execution_count": 51,
   "metadata": {},
   "outputs": [
    {
     "data": {
      "text/plain": [
       "9"
      ]
     },
     "execution_count": 51,
     "metadata": {},
     "output_type": "execute_result"
    }
   ],
   "source": [
    "import random as rdm\n",
    "\n",
    "rdm.randint(0, 20)"
   ]
  },
  {
   "cell_type": "markdown",
   "metadata": {},
   "source": [
    "Man kann natürlich auch einzelne oder alle Funktionen/Objekte eines Moduls ohne den Modulnamen laden. Das ist aber überhaupt **nicht** zu empfehlen. Eine spezielle Funktion/Objekt eines Moduls könnte man laden indem man allgemein schreibt `from MODULE import OBJECT_NAME`"
   ]
  },
  {
   "cell_type": "code",
   "execution_count": 52,
   "metadata": {},
   "outputs": [
    {
     "data": {
      "text/plain": [
       "76"
      ]
     },
     "execution_count": 52,
     "metadata": {},
     "output_type": "execute_result"
    }
   ],
   "source": [
    "from random import randint\n",
    "\n",
    "randint(10, 100)"
   ]
  },
  {
   "cell_type": "markdown",
   "metadata": {},
   "source": [
    "### Zwei nützliche Funktionen des Moduls random\n",
    "\n",
    "Das Modul `random` ist insgesamt ein super praktisches Modul. Es liefert uns ein paar nützliche Funktionen, mit der wir Zufallszahlen generieren oder Zufallswahlen vollziehen können.\n",
    "\n",
    "\n",
    "#### random.random()\n",
    "\n",
    "Eine oft gebrauchte Funktion ist die Funktion `random()`. Nicht verwirren lassen dadurch, dass die Funktion genauso wie das Modul heißt. Die Funktion `random()` liefert einen Zufalls-`float` zwischen 0 und 1."
   ]
  },
  {
   "cell_type": "code",
   "execution_count": 53,
   "metadata": {},
   "outputs": [
    {
     "data": {
      "text/plain": [
       "0.27564418946799973"
      ]
     },
     "execution_count": 53,
     "metadata": {},
     "output_type": "execute_result"
    }
   ],
   "source": [
    "import random\n",
    "\n",
    "random.random()"
   ]
  },
  {
   "cell_type": "markdown",
   "metadata": {},
   "source": [
    "Das ist praktisch, wenn man an einer bestimmten Stelle im Programm etwas mit einer bestimmten Wahrscheinlichkeit machen möchte. Möchten wir z.B. mit einer Wahrscheinlichkeit von 0.3 den String `\"Du hast gewonnen!\"` printen, dann könnten wir das so machen:"
   ]
  },
  {
   "cell_type": "code",
   "execution_count": 54,
   "metadata": {},
   "outputs": [
    {
     "name": "stdout",
     "output_type": "stream",
     "text": [
      "Niete!\n"
     ]
    }
   ],
   "source": [
    "if random.random() <= 0.3:\n",
    "    print(\"Du hast gewonnen!\")\n",
    "else:\n",
    "    print(\"Niete!\")"
   ]
  },
  {
   "cell_type": "markdown",
   "metadata": {},
   "source": [
    "Da die Funtion `random()` eine (gleichverteilte) Zufallszahl zwischen 0 und 1 ausgibt, wird die von `random.random()` ausgegebene Zahl mit einer Wahrscheinlichkeit von 0.3 kleiner oder gleich dem Wert 0.3 sein. Wenn wir etwas mit der Wahrscheinlichkeit von 0.3 machen wollen, dann müssen wir also einfach mithilfe eines If-Statements sagen: Wenn der ausgegebene Zufallswert kleiner oder gleich 0.3 ist, dann mache das und das.\n",
    "\n",
    "#### random.choice()\n",
    "\n",
    "Die Funktion `choice()` wurde oben schon kurz verwendet, aber nicht erläutert. Diese Funktion zieht ein Element zufällig aus einer Menge z.B. einer Liste. Das ist z.B. praktisch, wenn wir pro Zeiteinheit nur genau einen zufälligen Agenten handeln lassen wollen und daher einen Agenten zufällig aus der Populations-Liste ziehen wollen. Als Argument wird die Menge, aus der gezogen werden soll, in die Funktion `choice()` eingegeben. Ein Beispiel:"
   ]
  },
  {
   "cell_type": "code",
   "execution_count": 55,
   "metadata": {},
   "outputs": [
    {
     "data": {
      "text/plain": [
       "'Agent2'"
      ]
     },
     "execution_count": 55,
     "metadata": {},
     "output_type": "execute_result"
    }
   ],
   "source": [
    "population = [\"Agent1\", \"Agent2\", \"Agent3\"]\n",
    "\n",
    "agent = random.choice(population)\n",
    "\n",
    "agent"
   ]
  },
  {
   "cell_type": "markdown",
   "metadata": {},
   "source": [
    "## Exkurs 2: das Dictionary\n",
    "\n",
    "Schauen wir uns an dieser Stelle einen neuen Objekt-Typ an, der sich gut dazu eignet, einen Agenten mit mehreren Eigenschaften darzustellen: **das Dictionary** bzw. `dict`. Ein Dictionary ist ähnlich wie eine Liste ein Form von Datencontainer, in den wir alle möglichen Objekte ablegen können. Listen sind zwar praktisch, weil man dort relativ unkompliziert, relativ viele Dinge einfach \"reinwerfen\" kann. Will man aus der Liste allerdings ein ganz spezifisches Objekt wiederfinden, dann ist das nicht mehr so unkompliziert. Dann müsste man entweder den spezifischen Positionsindex wissen oder das Objekt mit verschiedenen Methoden suchen. Eine Liste eignet sich daher v.a. dafür, wenn man viele gleiche oder unspezifische Objekte einfach irgendwo \"sammeln\" muss, damit man dann z.B. innerhalb eines For-Loops diese Objekte nacheinander abarbeiten kann. Eine Liste ist also z.B. perfekt, um eine Population von Agenten abzuspeichern. Um die Agenten selbst zu repräsentieren, mit den je spezifischen Eigenschaften der Agenten, auf die man beim Handeln der Agenten ganz gezielt zugreifen muss, eignen sich Listen also eigentlich gar nicht so wirklich gut. Viel besser sind tatsächlich Dictionaries.\n",
    "\n",
    "Ein Dictionary sind ein Datencontainer, in welchen man Objekte unter einem (sinnvollen) Namen ablegen kann. Diesen Namen nennt man auch **Key**. Mithilfe eines solchen Keys kann man dann, ganz gezielt die Objekte wiederfinden und darauf zugreifen. Das ist praktisch, wenn man Objekte etwas \"geordneter\" als in Listen verstauen möchte. Wie sehen solche Dictionaries aus? Während Listen mit zwei eckigen Klammern `[]` erzeugt werden, erzeugt man Dictionaries mit zwei geschweiften Klammern: `{}`. `{}` ist ein leeres Dictionary. \n",
    "\n",
    "Möchte man ein Dictionary mit Inhalt erstellen, dann muss man den Inhalt immer in sogenannten Key-Value-Paaren aufschreiben, was allgemein so aussieht:\n",
    "\n",
    "```python\n",
    "{KEY: VALUE}\n",
    "```\n",
    "Während der KEY ein Platzhalter für irgendeinen Namen ist, ist VALUE ein Platzhalter für irgendein Objekt, das dort unter dem gewählten Namen KEY abgelegt wird. KEY und VALUE sind immer durch einen Doppelpunkt getrennt bzw. verbunden. Möchte man mehrere Objekte in einem Dictionary ablegen, dann muss man die Key-Value-Paare durch Kommas trennen, was allgemein dann so aussieht:\n",
    "\n",
    "```python\n",
    "{KEY1: VALUE1, KEY2: VALUE2, KEY3: VALUE3}\n",
    "```\n",
    "\n",
    "Schauen wir uns das mal konkret in Python an. Unten erstelle ich ein Dictionary und weise es der Variable `agent` zu. Im Dictionary `agent` habe ich das Objekt `10` unter dem Namen \"opinion\" abgelegt."
   ]
  },
  {
   "cell_type": "code",
   "execution_count": 56,
   "metadata": {},
   "outputs": [],
   "source": [
    "agent = {\"opinion\": 10}"
   ]
  },
  {
   "cell_type": "code",
   "execution_count": 57,
   "metadata": {},
   "outputs": [
    {
     "data": {
      "text/plain": [
       "{'opinion': 10}"
      ]
     },
     "execution_count": 57,
     "metadata": {},
     "output_type": "execute_result"
    }
   ],
   "source": [
    "agent"
   ]
  },
  {
   "cell_type": "markdown",
   "metadata": {},
   "source": [
    "Möchte ich nun auf die `\"opinion\"` des `agent` zugreifen, muss ich dafür ähnlich wie bei Listen eine Form der Indexierung anwenden. Statt des Positionsindex muss ich nun aber einfach den Namen d.h. den Key, unter dem ich das Objekt im Dictionary abgelegt habe, in eckigen Klammern angeben:"
   ]
  },
  {
   "cell_type": "code",
   "execution_count": 58,
   "metadata": {},
   "outputs": [
    {
     "data": {
      "text/plain": [
       "10"
      ]
     },
     "execution_count": 58,
     "metadata": {},
     "output_type": "execute_result"
    }
   ],
   "source": [
    "agent[\"opinion\"]"
   ]
  },
  {
   "cell_type": "markdown",
   "metadata": {},
   "source": [
    "Allgemein formuliert greift man auf ein unter `KEY` in `DICTIONARY` abgelegtes Objekt immer so zu:  `DICTIONARY[KEY]`.\n",
    "\n",
    "Unten erstelle ich ein Dictionary namens `agent` und füge diesmal drei Key-Value-Paare ein:"
   ]
  },
  {
   "cell_type": "code",
   "execution_count": 59,
   "metadata": {},
   "outputs": [],
   "source": [
    "agent = {\"opinion\": 10, \"name\": \"Hartmut\", \"age\": 77}"
   ]
  },
  {
   "cell_type": "markdown",
   "metadata": {},
   "source": [
    "Es hat sich übrigens ähnlich wie bei Listen auch eine solche Schreibweise eingebürgert:"
   ]
  },
  {
   "cell_type": "code",
   "execution_count": 60,
   "metadata": {},
   "outputs": [],
   "source": [
    "agent = {\n",
    "    \"opinion\": 10, \n",
    "    \"name\": \"Hartmut\", \n",
    "    \"age\": 77,\n",
    "}"
   ]
  },
  {
   "cell_type": "code",
   "execution_count": 61,
   "metadata": {
    "scrolled": true
   },
   "outputs": [
    {
     "data": {
      "text/plain": [
       "{'opinion': 10, 'name': 'Hartmut', 'age': 77}"
      ]
     },
     "execution_count": 61,
     "metadata": {},
     "output_type": "execute_result"
    }
   ],
   "source": [
    "agent"
   ]
  },
  {
   "cell_type": "markdown",
   "metadata": {},
   "source": [
    "Nun kann ich ganz gezielt und ohne mir irgendeinen Positionsindex merken zu müssen, auf die Eigenschaften des `agent` zugreifen. Stattdessen muss ich natürlich wissen, unter welchem Key die Objekte jeweils zu finden sind."
   ]
  },
  {
   "cell_type": "code",
   "execution_count": 62,
   "metadata": {},
   "outputs": [
    {
     "data": {
      "text/plain": [
       "'Hartmut'"
      ]
     },
     "execution_count": 62,
     "metadata": {},
     "output_type": "execute_result"
    }
   ],
   "source": [
    "agent[\"name\"]"
   ]
  },
  {
   "cell_type": "code",
   "execution_count": 63,
   "metadata": {},
   "outputs": [
    {
     "data": {
      "text/plain": [
       "10"
      ]
     },
     "execution_count": 63,
     "metadata": {},
     "output_type": "execute_result"
    }
   ],
   "source": [
    "agent[\"opinion\"]"
   ]
  },
  {
   "cell_type": "code",
   "execution_count": 64,
   "metadata": {},
   "outputs": [
    {
     "data": {
      "text/plain": [
       "77"
      ]
     },
     "execution_count": 64,
     "metadata": {},
     "output_type": "execute_result"
    }
   ],
   "source": [
    "agent[\"age\"]"
   ]
  },
  {
   "cell_type": "markdown",
   "metadata": {},
   "source": [
    "Unten sieht man ein typisches Szenario, das man fast am Anfang jeder Simulation sieht. Es wird eine zunächst leere Liste `population` erstellt, welche dann nach und nach innerhalb eines For-Loops mit Agenten befüllt wird. Die Agenten mit jeweils zwei Eigenschaften implementiere ich dabei als Dictionary."
   ]
  },
  {
   "cell_type": "code",
   "execution_count": 65,
   "metadata": {},
   "outputs": [],
   "source": [
    "# Leere Populationsliste erstellen\n",
    "population = []\n",
    "\n",
    "# 5 mal\n",
    "for i in range(5):\n",
    "    \n",
    "    # Agenten erstellen\n",
    "    agent = {\n",
    "        \"id\": i, \n",
    "        \"opinion\": random.randint(0,10),\n",
    "    }\n",
    "    \n",
    "    # An Populationsliste anhängen\n",
    "    population.append(agent)"
   ]
  },
  {
   "cell_type": "code",
   "execution_count": 66,
   "metadata": {},
   "outputs": [
    {
     "data": {
      "text/plain": [
       "[{'id': 0, 'opinion': 9},\n",
       " {'id': 1, 'opinion': 2},\n",
       " {'id': 2, 'opinion': 4},\n",
       " {'id': 3, 'opinion': 4},\n",
       " {'id': 4, 'opinion': 5}]"
      ]
     },
     "execution_count": 66,
     "metadata": {},
     "output_type": "execute_result"
    }
   ],
   "source": [
    "population"
   ]
  },
  {
   "cell_type": "markdown",
   "metadata": {},
   "source": [
    "Dictionaries sind genau wie Listen veränderbare Objekte. Das ist praktisch, wie das folgende Beispiel zeigt: Angenommen wir möchten die \"Meinungen\" der Agenten verändern und alle Meinungswerte um 1 erhöhen. Nun können wir einfach innerhalb eines For-Loops alle Agenten durchgehen und den Agenten (bzw. die Meinung des Agenten) direkt über die Schleifenvariable verändern:"
   ]
  },
  {
   "cell_type": "code",
   "execution_count": 67,
   "metadata": {},
   "outputs": [],
   "source": [
    "for agent in population:\n",
    "    agent[\"opinion\"] = agent[\"opinion\"] + 1"
   ]
  },
  {
   "cell_type": "code",
   "execution_count": 68,
   "metadata": {},
   "outputs": [
    {
     "data": {
      "text/plain": [
       "[{'id': 0, 'opinion': 10},\n",
       " {'id': 1, 'opinion': 3},\n",
       " {'id': 2, 'opinion': 5},\n",
       " {'id': 3, 'opinion': 5},\n",
       " {'id': 4, 'opinion': 6}]"
      ]
     },
     "execution_count": 68,
     "metadata": {},
     "output_type": "execute_result"
    }
   ],
   "source": [
    "population"
   ]
  },
  {
   "cell_type": "markdown",
   "metadata": {},
   "source": [
    "Mit Kurzschreibweise sähe das übrigens so aus:"
   ]
  },
  {
   "cell_type": "code",
   "execution_count": 69,
   "metadata": {},
   "outputs": [],
   "source": [
    "for agent in population:\n",
    "    agent[\"opinion\"] += 1"
   ]
  },
  {
   "cell_type": "code",
   "execution_count": 70,
   "metadata": {},
   "outputs": [
    {
     "data": {
      "text/plain": [
       "[{'id': 0, 'opinion': 11},\n",
       " {'id': 1, 'opinion': 4},\n",
       " {'id': 2, 'opinion': 6},\n",
       " {'id': 3, 'opinion': 6},\n",
       " {'id': 4, 'opinion': 7}]"
      ]
     },
     "execution_count": 70,
     "metadata": {},
     "output_type": "execute_result"
    }
   ],
   "source": [
    "population"
   ]
  },
  {
   "cell_type": "markdown",
   "metadata": {},
   "source": [
    "### Ein Dictionary erweitern: update()"
   ]
  },
  {
   "cell_type": "markdown",
   "metadata": {},
   "source": [
    "Ein Dictionary verfügt über eine ganze Reihe von Methoden. An dieser Stelle möchte ich eine davon vorstellen, die man hin und wieder braucht. Mit der Methode `update()` kann man ein bereits bestehendes Dictionary um ein oder mehr Elemente bzw. Key-Value-Paare erweitern.\n",
    "\n",
    "Man hängt die Methode `update()` wie jede Methode an das entsprechende Dictionary-Objekt an. Als Input erwartet die Methode `update()` ein weiteres Dictionary, das dann in das bereits bestehende Dictionary integriert wird. Die Methode `update()` ist letztlich genau das, was die Methode `extend()` für Listen ist.\n",
    "\n",
    "Unten erstelle ich zunächst das Dictionary `agent`."
   ]
  },
  {
   "cell_type": "code",
   "execution_count": 71,
   "metadata": {},
   "outputs": [],
   "source": [
    "agent = {\n",
    "    \"opinion\": 10, \n",
    "    \"name\": \"Hartmut\", \n",
    "    \"age\": 77,\n",
    "}"
   ]
  },
  {
   "cell_type": "markdown",
   "metadata": {},
   "source": [
    "Nun erweitere ich `agent` mithilfe von `update()` um ein weiteres Element namens `\"city\"`:"
   ]
  },
  {
   "cell_type": "code",
   "execution_count": 72,
   "metadata": {},
   "outputs": [],
   "source": [
    "agent.update({\"city\": \"Mannheim\"})"
   ]
  },
  {
   "cell_type": "code",
   "execution_count": 73,
   "metadata": {},
   "outputs": [
    {
     "data": {
      "text/plain": [
       "{'opinion': 10, 'name': 'Hartmut', 'age': 77, 'city': 'Mannheim'}"
      ]
     },
     "execution_count": 73,
     "metadata": {},
     "output_type": "execute_result"
    }
   ],
   "source": [
    "agent"
   ]
  },
  {
   "cell_type": "markdown",
   "metadata": {},
   "source": [
    "Nun erweitere ich `agent` um zwei weitere Elemente:"
   ]
  },
  {
   "cell_type": "code",
   "execution_count": 74,
   "metadata": {},
   "outputs": [],
   "source": [
    "agent.update({\n",
    "    \"work\": False,\n",
    "    \"topic\": \"migration\",\n",
    "})"
   ]
  },
  {
   "cell_type": "code",
   "execution_count": 75,
   "metadata": {},
   "outputs": [
    {
     "data": {
      "text/plain": [
       "{'opinion': 10,\n",
       " 'name': 'Hartmut',\n",
       " 'age': 77,\n",
       " 'city': 'Mannheim',\n",
       " 'work': False,\n",
       " 'topic': 'migration'}"
      ]
     },
     "execution_count": 75,
     "metadata": {},
     "output_type": "execute_result"
    }
   ],
   "source": [
    "agent"
   ]
  }
 ],
 "metadata": {
  "kernelspec": {
   "display_name": "Python 3",
   "language": "python",
   "name": "python3"
  },
  "language_info": {
   "codemirror_mode": {
    "name": "ipython",
    "version": 3
   },
   "file_extension": ".py",
   "mimetype": "text/x-python",
   "name": "python",
   "nbconvert_exporter": "python",
   "pygments_lexer": "ipython3",
   "version": "3.7.10"
  }
 },
 "nbformat": 4,
 "nbformat_minor": 2
}
