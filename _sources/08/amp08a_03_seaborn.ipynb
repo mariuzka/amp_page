{
 "cells": [
  {
   "cell_type": "markdown",
   "id": "00b3e78d",
   "metadata": {},
   "source": [
    "## Exkurs: Diagramme mit Seaborn\n",
    "\n",
    "Um den gemeinsamen Effekt der Verkehrsdichte und der Trödelwahscheinlichkeit auf die Durchschnittsgeschwindigkeit darzustellen, bietet sich u.a. ein Linien-Diagramm an, in welchem der Zusammenhang zwischen Verkehrsdichte und Durchschnittsgeschwindigkeit getrennt nach jeweilige Trödelwahscheinlichkeit abgetragen ist. Für solche Diagramme ist Matplotlib allerdings unnötig kompliziert, weshalb ich empfehle mal einen Blick auf das Paket [Seaborn](https://seaborn.pydata.org/) zu werfen. Mit Seaborn kann man Daten relativ unkompliziert gruppiert nach einer dritten Variable anzeigen lassen. Zudem ist Seaborn auf die Verwendung von Pandas-Dataframes zugeschnitten.\n",
    "\n",
    "\n",
    "- Nachdem Seaborn über den Anaconda-Navigator installiert wurde, kann dieses als `import seaborn as sns` importiert werden. \n",
    "\n",
    "\n",
    "- Mit `sns.set_theme()` stelle ich das Standard-Farbschema ein. \n",
    "\n",
    "\n",
    "- Für Liniendiagramme bietet Seaborn die Funktion `lineplot()`. Diese erwartet, dass man unter dem Argument `data` einen Dataframe angibt, in dem die zu plottenden Daten stecken. Mit den Argumenten `x` und `y` gibt man jeweils die Namen der Dataframe-Spalten an, welche auf X- und Y-Achse geplottet werden sollen, an. Mit dem Argument `hue` kann man die Daten nun noch nach einer dritten Variable gruppieren. Unten gebe ich für `hue` den Spalte `\"dawdling_prob\"` an, sodass die Simulationsergebnisse jeweils getrennt nach der eingestellten Trödelwahrscheinlichkeit angezeigt werden."
   ]
  },
  {
   "cell_type": "code",
   "execution_count": 2,
   "id": "1c86208b",
   "metadata": {
    "scrolled": true
   },
   "outputs": [
    {
     "ename": "NameError",
     "evalue": "name 'df' is not defined",
     "output_type": "error",
     "traceback": [
      "\u001b[1;31m---------------------------------------------------------------------------\u001b[0m",
      "\u001b[1;31mNameError\u001b[0m                                 Traceback (most recent call last)",
      "\u001b[1;32m<ipython-input-2-75b520ea2b0e>\u001b[0m in \u001b[0;36m<module>\u001b[1;34m\u001b[0m\n\u001b[0;32m      7\u001b[0m \u001b[1;31m# Seaborn-Liniendiagramm\u001b[0m\u001b[1;33m\u001b[0m\u001b[1;33m\u001b[0m\u001b[1;33m\u001b[0m\u001b[0m\n\u001b[0;32m      8\u001b[0m sns.lineplot(\n\u001b[1;32m----> 9\u001b[1;33m     \u001b[0mdata\u001b[0m\u001b[1;33m=\u001b[0m\u001b[0mdf\u001b[0m\u001b[1;33m,\u001b[0m \u001b[1;31m# Dataframe, in welchem sich die Variablen/Spalten befinden\u001b[0m\u001b[1;33m\u001b[0m\u001b[1;33m\u001b[0m\u001b[0m\n\u001b[0m\u001b[0;32m     10\u001b[0m     \u001b[0mx\u001b[0m\u001b[1;33m=\u001b[0m\u001b[1;34m\"traffic_density\"\u001b[0m\u001b[1;33m,\u001b[0m \u001b[1;31m# X-Variable\u001b[0m\u001b[1;33m\u001b[0m\u001b[1;33m\u001b[0m\u001b[0m\n\u001b[0;32m     11\u001b[0m     \u001b[0my\u001b[0m\u001b[1;33m=\u001b[0m\u001b[1;34m\"mean_speed\"\u001b[0m\u001b[1;33m,\u001b[0m \u001b[1;31m# Y-Variable\u001b[0m\u001b[1;33m\u001b[0m\u001b[1;33m\u001b[0m\u001b[0m\n",
      "\u001b[1;31mNameError\u001b[0m: name 'df' is not defined"
     ]
    }
   ],
   "source": [
    "# Seaborn importieren\n",
    "import seaborn as sns\n",
    "\n",
    "# Standard-Farbschema einstellen\n",
    "sns.set_theme()\n",
    "\n",
    "# Seaborn-Liniendiagramm\n",
    "sns.lineplot(\n",
    "    data=df, # Dataframe, in welchem sich die Variablen/Spalten befinden\n",
    "    x=\"traffic_density\", # X-Variable\n",
    "    y=\"mean_speed\", # Y-Variable\n",
    "    hue=\"dawdling_prob\", # Gruppierungsvariable / Z-Variable\n",
    ")"
   ]
  },
  {
   "cell_type": "markdown",
   "id": "406850aa",
   "metadata": {},
   "source": [
    "Die Ergebnisse zeigen, dass das Vorhandensein von \"Trödeln\" d.h. dem Vorhandensein von unnötigem Abbremsen u.a. der Kipp-Punkt, ab welchem durch eine Erhöhung der Verkehrsdichte die gefahrene Durchschnittsgeschwindigkeit deutlich absinkt, bereits bei niedrigeren Verkehrsdichten auftritt."
   ]
  },
  {
   "cell_type": "code",
   "execution_count": null,
   "id": "fe81097b",
   "metadata": {},
   "outputs": [],
   "source": [
    "# Seaborn-Liniendiagramm\n",
    "sns.lineplot(\n",
    "    data=df, # Dataframe, in welchem sich die Variablen/Spalten befinden\n",
    "    x=\"traffic_density\", # X-Variable\n",
    "    y=\"mean_speed\", # Y-Variable\n",
    ")"
   ]
  }
 ],
 "metadata": {
  "kernelspec": {
   "display_name": "Python [conda env:amp] *",
   "language": "python",
   "name": "conda-env-amp-py"
  },
  "language_info": {
   "codemirror_mode": {
    "name": "ipython",
    "version": 3
   },
   "file_extension": ".py",
   "mimetype": "text/x-python",
   "name": "python",
   "nbconvert_exporter": "python",
   "pygments_lexer": "ipython3",
   "version": "3.7.10"
  }
 },
 "nbformat": 4,
 "nbformat_minor": 5
}
