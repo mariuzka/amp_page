{
 "cells": [
  {
   "cell_type": "markdown",
   "id": "87770050",
   "metadata": {},
   "source": [
    "# Ein kurzer Blick auf Pandas\n",
    "\n",
    "Spätestens bei der Durchführung von Simulationsexperimenten, dem systematischen Vergleich desselben Simulationsmodells mit jeweils unterschiedlichen Parametereinstellungen, macht es großen Sinn, die produzierten Daten als einen schön strukturierten, tabellförmigen Datensatz abzuspeichern - ein klassischer *Datensatz* also, wie man ihn vielleicht aus der Statistik kennt, mit *Variablen* in den Spalten und Beobachtungsfällen in den Zeilen. Das erleichtert uns nicht nur die Aufbereitung und Auswertung der Daten in Python, sondern ermöglicht uns auch das langfristige Speichern, den Export aus Python heraus und einen eventuellen Import der Daten in ein *Statistik-Programm* unserer Wahl, wie R, Stata, SPSS oder Excel. Unten siehst du ein Beispiel dafür, wie ein solcher \"tabellenförmiger\" Datensatz aussehen kann:\n",
    "\n",
    "![](img/beispiel_df.png)\n",
    "\n",
    "In Python gibt es für das Erstellen, Aufbereiten und Auswerten solcher tabellenförmiger Datensätze das Paket [**Pandas**](https://pandas.pydata.org/). Pandas gehört zu **DEN** grundlegenden Paketen für das wissenschaftliche Arbeiten mit Python, an dem man wirklich nicht vorbeikommt, wenn man Python für irgendwelche wissenschaftlichen Zwecke nutzen möchte. Der primäre Objekt-Typ, den uns Pandas liefert, ist der sogenannte **Dataframe**. Das ist eben genau ein solcher, tabellenförmiger Datensatz, wie man in der obigen Abbildung sieht. \n",
    "\n",
    "```{admonition} Zur Info\n",
    "Pandas kannst du wie gewohnt über den Anaconda-Navigator installieren. Beim Import von Pandas hat sich die Abkürzung `pd` etabliert: `import pandas as pd`\n",
    "```\n",
    "\n",
    "Wir schauen uns im Folgenden v.a. an, wie wir einen solchen Dataframe mit den Daten unserer Simulationsexperimente erstellen und auf der Festplatte abspeichern, sodass man alle weiteren Aufbereitungen und Auswertungen mit einem beliebigen Statistikprogramm vollziehen kann. Für einfache grafische Auswertungen direkt in Python werfen wir lediglich einen ganz kurzen Blick auf das Paket Seaborn.\n",
    "\n",
    "\n",
    "````{admonition} Pro-Tipp\n",
    ":class: tip\n",
    "\n",
    "Pandas kann man sich ein kleines bisschen wie eine Form von [**R**](https://de.wikipedia.org/wiki/R_(Programmiersprache)) in Python vorstellen, das alle Arten von *data wrangling* ermöglicht. Wir schauen uns hier jedoch nur einen kleinen Bruchteil der Funktionalität von Pandas an. Für eine tiefergehende Einführung in Pandas schau doch z.B. mal [hier](https://pandas.pydata.org/docs/getting_started/intro_tutorials/index.html) oder [hier](https://www.google.com/search?q=python+pandas+tutorial).\n",
    "````"
   ]
  },
  {
   "cell_type": "markdown",
   "id": "26fa370d",
   "metadata": {},
   "source": [
    "## Dataframe erstellen\n",
    "\n",
    "Bei der Durchführung von Simulationsexperimenten macht es Sinn, die Daten zunächst in *einfachen* Datenstrukturen wie Listen oder (noch besser) Dictionaries zu sammeln und dann nach dem Simulationsexperiment die gesammelten Daten in einen Dataframe zu überführen. Für die Erstellung von Dataframes aus Datentypen wie Listen oder Dictionaries gibt es in Pandas zahlreiche Möglichkeiten. Wir schauen uns nun zwei davon mit Beispieldaten an. Stell dir am besten vor, dass die Daten zuvor innerhalb einer Simulation bzw. eines Simulationsexperimentes gesammelt wurden und nun zur besseren Handhabung in einen Dataframe überführt werden sollen."
   ]
  },
  {
   "cell_type": "markdown",
   "id": "f5eb9d90",
   "metadata": {},
   "source": [
    "### Möglichkeit 1 - Dataframe aus einem Dictionary mit Listen erstellen\n",
    "\n",
    "Bei dieser Variante einen Dataframe zu erstellen, liegen die Daten in Form eines Dictionaries, das in jedem seiner *Einträge* eine Datenreihe in Form einer Liste aufweist. Absolut wichtig ist dabei, dass alle Datenreihen die **gleiche Länge** haben! Unten siehst du ein Beispiel eines solchen Dictionaries mit zwei Einträgen d.h. zwei Datenreihen (wie immer ist es natürlich so, dass wir in der Praxis die Daten nicht so wie hier per Hand als Python-Code eintippen, sondern diese - wie gessagt - z.B. innerhalb eines Simulationsexperimentes *automatisch* erstellt und ausgegeben werden):"
   ]
  },
  {
   "cell_type": "code",
   "execution_count": 1,
   "id": "8c38ec15",
   "metadata": {},
   "outputs": [],
   "source": [
    "data_dict = {\n",
    "    \"density\": [1.0, 0.5, 0.33, 0.25, 0.2, 0.1],\n",
    "    \"speed\"  : [0.0, 1.0, 2.0, 3.0, 4.0, 5.0],\n",
    "}"
   ]
  },
  {
   "cell_type": "markdown",
   "id": "c04ce487",
   "metadata": {},
   "source": [
    "Um aus dem obigen Dictionary einen Dataframe zu erstellen, muss man nichts anderes tun als das Dictionary in den Dataframe-Konstruktor `pd.DataFrame()` (Achtung: großes \"F\"!) einzugeben und den entstehenden Dataframe am besten in einer Variable zu speichern. Unten erstelle ich den Dataframe aus den obigen Daten und speichere diesen dann in der Variable `df`:"
   ]
  },
  {
   "cell_type": "code",
   "execution_count": 2,
   "id": "54debea5",
   "metadata": {},
   "outputs": [],
   "source": [
    "import pandas as pd\n",
    "\n",
    "df = pd.DataFrame(data_dict)"
   ]
  },
  {
   "cell_type": "markdown",
   "id": "a8cb14c0",
   "metadata": {},
   "source": [
    "Jetzt schaue ich mir den unter `df` gespeicherten Dataframe an:"
   ]
  },
  {
   "cell_type": "code",
   "execution_count": 3,
   "id": "f19e3941",
   "metadata": {
    "scrolled": false
   },
   "outputs": [
    {
     "data": {
      "text/html": [
       "<div>\n",
       "<style scoped>\n",
       "    .dataframe tbody tr th:only-of-type {\n",
       "        vertical-align: middle;\n",
       "    }\n",
       "\n",
       "    .dataframe tbody tr th {\n",
       "        vertical-align: top;\n",
       "    }\n",
       "\n",
       "    .dataframe thead th {\n",
       "        text-align: right;\n",
       "    }\n",
       "</style>\n",
       "<table border=\"1\" class=\"dataframe\">\n",
       "  <thead>\n",
       "    <tr style=\"text-align: right;\">\n",
       "      <th></th>\n",
       "      <th>density</th>\n",
       "      <th>speed</th>\n",
       "    </tr>\n",
       "  </thead>\n",
       "  <tbody>\n",
       "    <tr>\n",
       "      <th>0</th>\n",
       "      <td>1.00</td>\n",
       "      <td>0.0</td>\n",
       "    </tr>\n",
       "    <tr>\n",
       "      <th>1</th>\n",
       "      <td>0.50</td>\n",
       "      <td>1.0</td>\n",
       "    </tr>\n",
       "    <tr>\n",
       "      <th>2</th>\n",
       "      <td>0.33</td>\n",
       "      <td>2.0</td>\n",
       "    </tr>\n",
       "    <tr>\n",
       "      <th>3</th>\n",
       "      <td>0.25</td>\n",
       "      <td>3.0</td>\n",
       "    </tr>\n",
       "    <tr>\n",
       "      <th>4</th>\n",
       "      <td>0.20</td>\n",
       "      <td>4.0</td>\n",
       "    </tr>\n",
       "    <tr>\n",
       "      <th>5</th>\n",
       "      <td>0.10</td>\n",
       "      <td>5.0</td>\n",
       "    </tr>\n",
       "  </tbody>\n",
       "</table>\n",
       "</div>"
      ],
      "text/plain": [
       "   density  speed\n",
       "0     1.00    0.0\n",
       "1     0.50    1.0\n",
       "2     0.33    2.0\n",
       "3     0.25    3.0\n",
       "4     0.20    4.0\n",
       "5     0.10    5.0"
      ]
     },
     "execution_count": 3,
     "metadata": {},
     "output_type": "execute_result"
    }
   ],
   "source": [
    "df"
   ]
  },
  {
   "cell_type": "markdown",
   "id": "23a4e45e",
   "metadata": {},
   "source": [
    "Wir sehen: das Dictionary wurde in einen tabellenförmige Datensatz umgewandelt. Jede Liste/Datenreihe, die als Eintrag im obigen Dictionary `data_dict` vorlag, wurde in eine Spalte des Dataframes überführt. Man kann sagen, dass wir mit dieser Methode den Dataframe *spaltenweise* erstellen können."
   ]
  },
  {
   "cell_type": "markdown",
   "id": "b318ff61",
   "metadata": {},
   "source": [
    "### Möglichkeit 2 - Dataframe aus einer Liste mit Dictionaries erstellen\n",
    "\n",
    "Wir haben eben den Dataframe aus einem **Dictionary mit Listen** *spaltenweise* erstellt. Nun schauen wir uns an, wie man einen Dataframe *zeilenweise* aus einer **Liste mit Dictionaries** erstellt. Dieses Vorgehen eignet sich (meiner Ansicht nach) besonders gut, um im Rahmen von Simulationsexperimenten die Daten zunächst über verschiedene Modelle hinweg zu sammeln und dann zu einem Dataframe zusammenzusetzen. Tatsächlich ändert sich nun nur die Struktur, in der wir die Daten *vor* der Erstellung des Dataframes vorliegen haben, die Erstellung des Dataframes durch Pandas bleibt exakt gleich.\n",
    "\n",
    "Unten siehst du beispielhaft, wie eine solche *Liste mit Dictionaries* aussehen kann. Wir haben eine Liste, die Dictionaries enthält. Jedes Dictionary enthält die Daten eines \"Falles\" und entspricht somit im Dataframe einer Zeile. Jeder Eintrag eines Dictionary wird anhand des Dictionary-Keys einer Spalte zugewiesen."
   ]
  },
  {
   "cell_type": "code",
   "execution_count": 4,
   "id": "02688d60",
   "metadata": {},
   "outputs": [],
   "source": [
    "data_dicts = [\n",
    "    {\"density\": 1.0,  \"speed\": 0.0},\n",
    "    {\"density\": 0.5,  \"speed\": 1.0},\n",
    "    {\"density\": 0.33, \"speed\": 2.0},\n",
    "    {\"density\": 0.25, \"speed\": 3.0},\n",
    "    {\"density\": 0.2,  \"speed\": 4.0},\n",
    "    {\"density\": 0.1,  \"speed\": 5.0},\n",
    "]"
   ]
  },
  {
   "cell_type": "markdown",
   "id": "5f06db2a",
   "metadata": {},
   "source": [
    "Die obige Struktur ist praktisch, weil wir so für jeden *Fall* die Daten kompakt und verständlich in einem einzigen Paket(einem Dictionary) vorliegen haben und die Daten für einen Fall nicht wie in *Möglichkeit 1* über mehrere Liste verteilt sind. Das erleichtert uns u.a. das Sammeln der Daten für einzelne Beobachtungsfälle. Stell dir vor, wir führen mehrere Simulationsmodelle mittels For-Loop aus und jedes Modell gibt ein solches Dictionary mit den relevanten Simulationsdaten aus, das in die obige Liste eingefügt wird. Schon haben wir eine solche Datenstruktur vorliegen, welche sodann in einen Dataframe überführt werden kann."
   ]
  },
  {
   "cell_type": "markdown",
   "id": "33d204b0",
   "metadata": {},
   "source": [
    "Unten füge ich `data_dicts` als Input den Dataframe-Konstruktor `pd.DataFrame()` ein und speichere den entstehenden Dataframe in einer Variable namens `df`."
   ]
  },
  {
   "cell_type": "code",
   "execution_count": 5,
   "id": "68bec851",
   "metadata": {
    "scrolled": true
   },
   "outputs": [],
   "source": [
    "df = pd.DataFrame(data_dicts)"
   ]
  },
  {
   "cell_type": "code",
   "execution_count": 6,
   "id": "5981bf89",
   "metadata": {
    "scrolled": false
   },
   "outputs": [
    {
     "data": {
      "text/html": [
       "<div>\n",
       "<style scoped>\n",
       "    .dataframe tbody tr th:only-of-type {\n",
       "        vertical-align: middle;\n",
       "    }\n",
       "\n",
       "    .dataframe tbody tr th {\n",
       "        vertical-align: top;\n",
       "    }\n",
       "\n",
       "    .dataframe thead th {\n",
       "        text-align: right;\n",
       "    }\n",
       "</style>\n",
       "<table border=\"1\" class=\"dataframe\">\n",
       "  <thead>\n",
       "    <tr style=\"text-align: right;\">\n",
       "      <th></th>\n",
       "      <th>density</th>\n",
       "      <th>speed</th>\n",
       "    </tr>\n",
       "  </thead>\n",
       "  <tbody>\n",
       "    <tr>\n",
       "      <th>0</th>\n",
       "      <td>1.00</td>\n",
       "      <td>0.0</td>\n",
       "    </tr>\n",
       "    <tr>\n",
       "      <th>1</th>\n",
       "      <td>0.50</td>\n",
       "      <td>1.0</td>\n",
       "    </tr>\n",
       "    <tr>\n",
       "      <th>2</th>\n",
       "      <td>0.33</td>\n",
       "      <td>2.0</td>\n",
       "    </tr>\n",
       "    <tr>\n",
       "      <th>3</th>\n",
       "      <td>0.25</td>\n",
       "      <td>3.0</td>\n",
       "    </tr>\n",
       "    <tr>\n",
       "      <th>4</th>\n",
       "      <td>0.20</td>\n",
       "      <td>4.0</td>\n",
       "    </tr>\n",
       "    <tr>\n",
       "      <th>5</th>\n",
       "      <td>0.10</td>\n",
       "      <td>5.0</td>\n",
       "    </tr>\n",
       "  </tbody>\n",
       "</table>\n",
       "</div>"
      ],
      "text/plain": [
       "   density  speed\n",
       "0     1.00    0.0\n",
       "1     0.50    1.0\n",
       "2     0.33    2.0\n",
       "3     0.25    3.0\n",
       "4     0.20    4.0\n",
       "5     0.10    5.0"
      ]
     },
     "execution_count": 6,
     "metadata": {},
     "output_type": "execute_result"
    }
   ],
   "source": [
    "df"
   ]
  },
  {
   "cell_type": "markdown",
   "id": "57764aa7",
   "metadata": {},
   "source": [
    "Wir sehen: wir haben einen baugleichen Dataframe wie mit *Möglichkeit 1* erstellt. Der einzige Unterschied ist, dass die Daten zuvor anders strukturiert vorlagen."
   ]
  },
  {
   "cell_type": "markdown",
   "id": "d0636297",
   "metadata": {},
   "source": [
    "## Auf eine Spalte zugreifen\n",
    "\n",
    "Wenn wir einen fertigen Dataframe vorliegen haben, dann muss man oft auf einzelne Spalten des Dataframes zugreifen. Wir können einzelne Spalten eines Dataframes auswählen, indem wir - ähnlich wie bei Dictionaries - den Namen der auszuwählenden Spalte in eckige Klammern hinter den Namen des Dataframes schreiben. Allgemein formuliert sieht das dann so aus: `DATAFRAME[SPALTE]`. Unten greife ich beispielsweise auf die Spalte `\"density\"` des Dataframes `df` zu, welche dadurch ausgegeben wird."
   ]
  },
  {
   "cell_type": "code",
   "execution_count": 7,
   "id": "f4f7c688",
   "metadata": {},
   "outputs": [
    {
     "data": {
      "text/plain": [
       "0    1.00\n",
       "1    0.50\n",
       "2    0.33\n",
       "3    0.25\n",
       "4    0.20\n",
       "5    0.10\n",
       "Name: density, dtype: float64"
      ]
     },
     "execution_count": 7,
     "metadata": {},
     "output_type": "execute_result"
    }
   ],
   "source": [
    "df[\"density\"]"
   ]
  },
  {
   "cell_type": "markdown",
   "id": "232d1f88",
   "metadata": {},
   "source": [
    "Durch das Auswählen von Spalten können wir diese z.B. als Datenreihe in eine Matplotlib-Funktion eingeben. Häufiger ist aber, dass wir einzelne Spalten auswählen, um diese auf irgendeine Weise zu verändern oder z.B. auch mit anderen Spalten verrechnen."
   ]
  },
  {
   "cell_type": "markdown",
   "id": "dbe96bfc",
   "metadata": {},
   "source": [
    "```{admonition} Übrigens\n",
    "Wenn du Erfahrung mit R hast, dann erinnert dich das vermutlich gerade daran. Natürlich kann man auch in Pandas nicht nur auf einzelne Spalten, sondern auch auf einzelne Zeilen oder Zellen zugreifen. Auch kann man *per Bedingung* Teile des Dataframes auswählen bzw. filtern. Schau doch z.B. mal [hier](https://pandas.pydata.org/pandas-docs/stable/user_guide/indexing.html) für weitere Infos zum Thema \"Indizierung von Dataframes\".\n",
    "```"
   ]
  },
  {
   "cell_type": "markdown",
   "id": "3075ecda",
   "metadata": {},
   "source": [
    "## Vektorisiertes Rechnen\n",
    "\n",
    "Neben vielen weiteren ist ein riesengroßer Vorteil von Dataframes das sogenannte *vektorisierte Rechnen*. Das bedeutet, dass wir nicht mehr nur einzelne Werte miteinander verrechnen können, sondern ganze Datenreihen auf einmal miteinander verrechnen können. Was das heißt, schauen wir uns am besten direkt an einem Beispiel an. Unten erstelle ich zunächst einen Dataframe mit zwei Spalten namens `\"einkommen_1\"` und `\"einkommen_2\"`."
   ]
  },
  {
   "cell_type": "code",
   "execution_count": 8,
   "id": "7e54b3e5",
   "metadata": {},
   "outputs": [
    {
     "data": {
      "text/html": [
       "<div>\n",
       "<style scoped>\n",
       "    .dataframe tbody tr th:only-of-type {\n",
       "        vertical-align: middle;\n",
       "    }\n",
       "\n",
       "    .dataframe tbody tr th {\n",
       "        vertical-align: top;\n",
       "    }\n",
       "\n",
       "    .dataframe thead th {\n",
       "        text-align: right;\n",
       "    }\n",
       "</style>\n",
       "<table border=\"1\" class=\"dataframe\">\n",
       "  <thead>\n",
       "    <tr style=\"text-align: right;\">\n",
       "      <th></th>\n",
       "      <th>einkommen_1</th>\n",
       "      <th>einkommen_2</th>\n",
       "    </tr>\n",
       "  </thead>\n",
       "  <tbody>\n",
       "    <tr>\n",
       "      <th>0</th>\n",
       "      <td>100</td>\n",
       "      <td>100</td>\n",
       "    </tr>\n",
       "    <tr>\n",
       "      <th>1</th>\n",
       "      <td>200</td>\n",
       "      <td>100</td>\n",
       "    </tr>\n",
       "    <tr>\n",
       "      <th>2</th>\n",
       "      <td>500</td>\n",
       "      <td>300</td>\n",
       "    </tr>\n",
       "    <tr>\n",
       "      <th>3</th>\n",
       "      <td>200</td>\n",
       "      <td>1000</td>\n",
       "    </tr>\n",
       "    <tr>\n",
       "      <th>4</th>\n",
       "      <td>50</td>\n",
       "      <td>100</td>\n",
       "    </tr>\n",
       "    <tr>\n",
       "      <th>5</th>\n",
       "      <td>400</td>\n",
       "      <td>600</td>\n",
       "    </tr>\n",
       "  </tbody>\n",
       "</table>\n",
       "</div>"
      ],
      "text/plain": [
       "   einkommen_1  einkommen_2\n",
       "0          100          100\n",
       "1          200          100\n",
       "2          500          300\n",
       "3          200         1000\n",
       "4           50          100\n",
       "5          400          600"
      ]
     },
     "execution_count": 8,
     "metadata": {},
     "output_type": "execute_result"
    }
   ],
   "source": [
    "data_dicts = [\n",
    "    {\"einkommen_1\": 100, \"einkommen_2\": 100},\n",
    "    {\"einkommen_1\": 200, \"einkommen_2\": 100},\n",
    "    {\"einkommen_1\": 500, \"einkommen_2\": 300},\n",
    "    {\"einkommen_1\": 200, \"einkommen_2\": 1000},\n",
    "    {\"einkommen_1\": 50,  \"einkommen_2\": 100},\n",
    "    {\"einkommen_1\": 400, \"einkommen_2\": 600},\n",
    "]\n",
    "\n",
    "df = pd.DataFrame(data_dicts)\n",
    "\n",
    "df"
   ]
  },
  {
   "cell_type": "markdown",
   "id": "9540d6ad",
   "metadata": {},
   "source": [
    "Angenommen wir möchten für jeden Fall (jede Zeile) die Summe aus `\"einkommen_1\"` und `\"einkommen_2\"` berechnen. In Pandas können wir nun super unkompliziert beide Spalten einfach direkt miteinander verrechnen, sodass für jede Zeile die entsprechende Summe gebildet wird. Wir können nun also die beiden Spalten *entlang der Zeilen verrechnen*. Unten wähle ich die beiden zu verrechnenden Spalten aus und addiere sie:"
   ]
  },
  {
   "cell_type": "code",
   "execution_count": 9,
   "id": "4ca57322",
   "metadata": {},
   "outputs": [
    {
     "data": {
      "text/plain": [
       "0     200\n",
       "1     300\n",
       "2     800\n",
       "3    1200\n",
       "4     150\n",
       "5    1000\n",
       "dtype: int64"
      ]
     },
     "execution_count": 9,
     "metadata": {},
     "output_type": "execute_result"
    }
   ],
   "source": [
    "df[\"einkommen_1\"] + df[\"einkommen_2\"]"
   ]
  },
  {
   "cell_type": "markdown",
   "id": "e69a4aa7",
   "metadata": {},
   "source": [
    "Das Ergebnis ist eine neue Spalte/Datenreihe, welche für jede Zeile der verrechneten Spalten das entsprechende Ergebnis enthält. \n",
    "\n",
    "```{admonition} Übrigens\n",
    "Hätten wir die Daten nicht in einem Dataframe, sondern die einzelnen Spalten z.B. als einfache Liste vorliegen gehabt, dann hätten wir diese Listen nicht einfach mit miteinander verrechnen können. Stattdessen hätten wir mittels For-Loop beide Liste durchgehen müssen, die jeweiligen Wertepaare heraussuchen müssen, jeweils einzeln addieren und in eine neue Liste einfügen müssen.\n",
    "```"
   ]
  },
  {
   "cell_type": "markdown",
   "id": "71d4bc17",
   "metadata": {},
   "source": [
    "Die beim Verrechnen von Dataframe-Spalten neu entstehende Spalte kann man auch als eine neue Spalte in den Dataframe selbst wieder einfügen. Dafür muss man einen neuen Namen für eine neue Spalte hinter in eckige Klammern hinter den gewünschten Dataframe schreiben und dieser neuen Spalte dann die bei der vektorisierten Berechnung neu entstehende Spalte zuweisen. Unten erstelle ich die neue Spalte `df[\"einkommen_gesamt\"]` und weise dieser das Ergebnis der Berechnung `df[\"einkommen_1\"] + df[\"einkommen_2\"]` zu:"
   ]
  },
  {
   "cell_type": "code",
   "execution_count": 10,
   "id": "eb132d94",
   "metadata": {},
   "outputs": [],
   "source": [
    "df[\"einkommen_gesamt\"] = df[\"einkommen_1\"] + df[\"einkommen_2\"]"
   ]
  },
  {
   "cell_type": "markdown",
   "id": "fdfc8da9",
   "metadata": {},
   "source": [
    "Schauen wir uns das Ergebnis an:"
   ]
  },
  {
   "cell_type": "code",
   "execution_count": 11,
   "id": "01e46935",
   "metadata": {},
   "outputs": [
    {
     "data": {
      "text/html": [
       "<div>\n",
       "<style scoped>\n",
       "    .dataframe tbody tr th:only-of-type {\n",
       "        vertical-align: middle;\n",
       "    }\n",
       "\n",
       "    .dataframe tbody tr th {\n",
       "        vertical-align: top;\n",
       "    }\n",
       "\n",
       "    .dataframe thead th {\n",
       "        text-align: right;\n",
       "    }\n",
       "</style>\n",
       "<table border=\"1\" class=\"dataframe\">\n",
       "  <thead>\n",
       "    <tr style=\"text-align: right;\">\n",
       "      <th></th>\n",
       "      <th>einkommen_1</th>\n",
       "      <th>einkommen_2</th>\n",
       "      <th>einkommen_gesamt</th>\n",
       "    </tr>\n",
       "  </thead>\n",
       "  <tbody>\n",
       "    <tr>\n",
       "      <th>0</th>\n",
       "      <td>100</td>\n",
       "      <td>100</td>\n",
       "      <td>200</td>\n",
       "    </tr>\n",
       "    <tr>\n",
       "      <th>1</th>\n",
       "      <td>200</td>\n",
       "      <td>100</td>\n",
       "      <td>300</td>\n",
       "    </tr>\n",
       "    <tr>\n",
       "      <th>2</th>\n",
       "      <td>500</td>\n",
       "      <td>300</td>\n",
       "      <td>800</td>\n",
       "    </tr>\n",
       "    <tr>\n",
       "      <th>3</th>\n",
       "      <td>200</td>\n",
       "      <td>1000</td>\n",
       "      <td>1200</td>\n",
       "    </tr>\n",
       "    <tr>\n",
       "      <th>4</th>\n",
       "      <td>50</td>\n",
       "      <td>100</td>\n",
       "      <td>150</td>\n",
       "    </tr>\n",
       "    <tr>\n",
       "      <th>5</th>\n",
       "      <td>400</td>\n",
       "      <td>600</td>\n",
       "      <td>1000</td>\n",
       "    </tr>\n",
       "  </tbody>\n",
       "</table>\n",
       "</div>"
      ],
      "text/plain": [
       "   einkommen_1  einkommen_2  einkommen_gesamt\n",
       "0          100          100               200\n",
       "1          200          100               300\n",
       "2          500          300               800\n",
       "3          200         1000              1200\n",
       "4           50          100               150\n",
       "5          400          600              1000"
      ]
     },
     "execution_count": 11,
     "metadata": {},
     "output_type": "execute_result"
    }
   ],
   "source": [
    "df"
   ]
  },
  {
   "cell_type": "markdown",
   "id": "4a6a2a5a",
   "metadata": {},
   "source": [
    "Das sieht doch super aus und ist wirklich praktisch.\n",
    "\n",
    "Übrigens: Eine Dataframe-Spalte kann auch mit einem einzelnen Wert *verrechnet* werden. Unten teile ich beispielsweise die gesamte Spalte `df[\"einkommen_gesamt\"]` durch den Wert `2` und speichere das Ergebnis in einer neuen Spalte `df[\"halbes_einkommen_gesamt\"]`: "
   ]
  },
  {
   "cell_type": "code",
   "execution_count": 12,
   "id": "1288355f",
   "metadata": {},
   "outputs": [],
   "source": [
    "df[\"halbes_einkommen_gesamt\"] = df[\"einkommen_gesamt\"] / 2"
   ]
  },
  {
   "cell_type": "code",
   "execution_count": 13,
   "id": "79fce0cf",
   "metadata": {},
   "outputs": [
    {
     "data": {
      "text/html": [
       "<div>\n",
       "<style scoped>\n",
       "    .dataframe tbody tr th:only-of-type {\n",
       "        vertical-align: middle;\n",
       "    }\n",
       "\n",
       "    .dataframe tbody tr th {\n",
       "        vertical-align: top;\n",
       "    }\n",
       "\n",
       "    .dataframe thead th {\n",
       "        text-align: right;\n",
       "    }\n",
       "</style>\n",
       "<table border=\"1\" class=\"dataframe\">\n",
       "  <thead>\n",
       "    <tr style=\"text-align: right;\">\n",
       "      <th></th>\n",
       "      <th>einkommen_1</th>\n",
       "      <th>einkommen_2</th>\n",
       "      <th>einkommen_gesamt</th>\n",
       "      <th>halbes_einkommen_gesamt</th>\n",
       "    </tr>\n",
       "  </thead>\n",
       "  <tbody>\n",
       "    <tr>\n",
       "      <th>0</th>\n",
       "      <td>100</td>\n",
       "      <td>100</td>\n",
       "      <td>200</td>\n",
       "      <td>100.0</td>\n",
       "    </tr>\n",
       "    <tr>\n",
       "      <th>1</th>\n",
       "      <td>200</td>\n",
       "      <td>100</td>\n",
       "      <td>300</td>\n",
       "      <td>150.0</td>\n",
       "    </tr>\n",
       "    <tr>\n",
       "      <th>2</th>\n",
       "      <td>500</td>\n",
       "      <td>300</td>\n",
       "      <td>800</td>\n",
       "      <td>400.0</td>\n",
       "    </tr>\n",
       "    <tr>\n",
       "      <th>3</th>\n",
       "      <td>200</td>\n",
       "      <td>1000</td>\n",
       "      <td>1200</td>\n",
       "      <td>600.0</td>\n",
       "    </tr>\n",
       "    <tr>\n",
       "      <th>4</th>\n",
       "      <td>50</td>\n",
       "      <td>100</td>\n",
       "      <td>150</td>\n",
       "      <td>75.0</td>\n",
       "    </tr>\n",
       "    <tr>\n",
       "      <th>5</th>\n",
       "      <td>400</td>\n",
       "      <td>600</td>\n",
       "      <td>1000</td>\n",
       "      <td>500.0</td>\n",
       "    </tr>\n",
       "  </tbody>\n",
       "</table>\n",
       "</div>"
      ],
      "text/plain": [
       "   einkommen_1  einkommen_2  einkommen_gesamt  halbes_einkommen_gesamt\n",
       "0          100          100               200                    100.0\n",
       "1          200          100               300                    150.0\n",
       "2          500          300               800                    400.0\n",
       "3          200         1000              1200                    600.0\n",
       "4           50          100               150                     75.0\n",
       "5          400          600              1000                    500.0"
      ]
     },
     "execution_count": 13,
     "metadata": {},
     "output_type": "execute_result"
    }
   ],
   "source": [
    "df"
   ]
  },
  {
   "cell_type": "markdown",
   "id": "9cc5893e",
   "metadata": {},
   "source": [
    "## Einen Überblick gewinnen\n",
    "\n",
    "Dataframes besitzen verschiedene Methoden bzw. Attribute, um relativ unkompliziert einen Blick auf den Dataframe zu werden und einzelne deskriptive Auswertungen zu machen. Im Folgenden einer kurzer, unkommentierter Überblick über einige ausgewählte Methoden/Attribute/Funktionen:"
   ]
  },
  {
   "cell_type": "markdown",
   "id": "fbf6f099",
   "metadata": {},
   "source": [
    "### Anzahl Spalten und Zeilen"
   ]
  },
  {
   "cell_type": "code",
   "execution_count": 14,
   "id": "9bcb14e9",
   "metadata": {
    "scrolled": true
   },
   "outputs": [
    {
     "data": {
      "text/plain": [
       "(6, 4)"
      ]
     },
     "execution_count": 14,
     "metadata": {},
     "output_type": "execute_result"
    }
   ],
   "source": [
    "df.shape"
   ]
  },
  {
   "cell_type": "code",
   "execution_count": 15,
   "id": "6b722615",
   "metadata": {},
   "outputs": [
    {
     "data": {
      "text/plain": [
       "6"
      ]
     },
     "execution_count": 15,
     "metadata": {},
     "output_type": "execute_result"
    }
   ],
   "source": [
    "# Die Anzahl der Zeilen eines Dataframes kann auch einfach mit der Funktion len() ermittelt werden\n",
    "len(df)"
   ]
  },
  {
   "cell_type": "markdown",
   "id": "3416e38c",
   "metadata": {},
   "source": [
    "### Eine Liste aller Spalten-Bezeichnungen"
   ]
  },
  {
   "cell_type": "code",
   "execution_count": 16,
   "id": "5c031793",
   "metadata": {},
   "outputs": [
    {
     "data": {
      "text/plain": [
       "Index(['einkommen_1', 'einkommen_2', 'einkommen_gesamt',\n",
       "       'halbes_einkommen_gesamt'],\n",
       "      dtype='object')"
      ]
     },
     "execution_count": 16,
     "metadata": {},
     "output_type": "execute_result"
    }
   ],
   "source": [
    "df.columns"
   ]
  },
  {
   "cell_type": "markdown",
   "id": "8df9f6b0",
   "metadata": {},
   "source": [
    "### Die ersten 5 Zeilen des Dataframes anschauen"
   ]
  },
  {
   "cell_type": "code",
   "execution_count": 17,
   "id": "41b2c88b",
   "metadata": {},
   "outputs": [
    {
     "data": {
      "text/html": [
       "<div>\n",
       "<style scoped>\n",
       "    .dataframe tbody tr th:only-of-type {\n",
       "        vertical-align: middle;\n",
       "    }\n",
       "\n",
       "    .dataframe tbody tr th {\n",
       "        vertical-align: top;\n",
       "    }\n",
       "\n",
       "    .dataframe thead th {\n",
       "        text-align: right;\n",
       "    }\n",
       "</style>\n",
       "<table border=\"1\" class=\"dataframe\">\n",
       "  <thead>\n",
       "    <tr style=\"text-align: right;\">\n",
       "      <th></th>\n",
       "      <th>einkommen_1</th>\n",
       "      <th>einkommen_2</th>\n",
       "      <th>einkommen_gesamt</th>\n",
       "      <th>halbes_einkommen_gesamt</th>\n",
       "    </tr>\n",
       "  </thead>\n",
       "  <tbody>\n",
       "    <tr>\n",
       "      <th>0</th>\n",
       "      <td>100</td>\n",
       "      <td>100</td>\n",
       "      <td>200</td>\n",
       "      <td>100.0</td>\n",
       "    </tr>\n",
       "    <tr>\n",
       "      <th>1</th>\n",
       "      <td>200</td>\n",
       "      <td>100</td>\n",
       "      <td>300</td>\n",
       "      <td>150.0</td>\n",
       "    </tr>\n",
       "    <tr>\n",
       "      <th>2</th>\n",
       "      <td>500</td>\n",
       "      <td>300</td>\n",
       "      <td>800</td>\n",
       "      <td>400.0</td>\n",
       "    </tr>\n",
       "    <tr>\n",
       "      <th>3</th>\n",
       "      <td>200</td>\n",
       "      <td>1000</td>\n",
       "      <td>1200</td>\n",
       "      <td>600.0</td>\n",
       "    </tr>\n",
       "    <tr>\n",
       "      <th>4</th>\n",
       "      <td>50</td>\n",
       "      <td>100</td>\n",
       "      <td>150</td>\n",
       "      <td>75.0</td>\n",
       "    </tr>\n",
       "  </tbody>\n",
       "</table>\n",
       "</div>"
      ],
      "text/plain": [
       "   einkommen_1  einkommen_2  einkommen_gesamt  halbes_einkommen_gesamt\n",
       "0          100          100               200                    100.0\n",
       "1          200          100               300                    150.0\n",
       "2          500          300               800                    400.0\n",
       "3          200         1000              1200                    600.0\n",
       "4           50          100               150                     75.0"
      ]
     },
     "execution_count": 17,
     "metadata": {},
     "output_type": "execute_result"
    }
   ],
   "source": [
    "df.head()"
   ]
  },
  {
   "cell_type": "markdown",
   "id": "ec16d4bf",
   "metadata": {},
   "source": [
    "### Die letzen 5 Zeilen des Dataframes anschauen"
   ]
  },
  {
   "cell_type": "code",
   "execution_count": 18,
   "id": "161ff09d",
   "metadata": {},
   "outputs": [
    {
     "data": {
      "text/html": [
       "<div>\n",
       "<style scoped>\n",
       "    .dataframe tbody tr th:only-of-type {\n",
       "        vertical-align: middle;\n",
       "    }\n",
       "\n",
       "    .dataframe tbody tr th {\n",
       "        vertical-align: top;\n",
       "    }\n",
       "\n",
       "    .dataframe thead th {\n",
       "        text-align: right;\n",
       "    }\n",
       "</style>\n",
       "<table border=\"1\" class=\"dataframe\">\n",
       "  <thead>\n",
       "    <tr style=\"text-align: right;\">\n",
       "      <th></th>\n",
       "      <th>einkommen_1</th>\n",
       "      <th>einkommen_2</th>\n",
       "      <th>einkommen_gesamt</th>\n",
       "      <th>halbes_einkommen_gesamt</th>\n",
       "    </tr>\n",
       "  </thead>\n",
       "  <tbody>\n",
       "    <tr>\n",
       "      <th>1</th>\n",
       "      <td>200</td>\n",
       "      <td>100</td>\n",
       "      <td>300</td>\n",
       "      <td>150.0</td>\n",
       "    </tr>\n",
       "    <tr>\n",
       "      <th>2</th>\n",
       "      <td>500</td>\n",
       "      <td>300</td>\n",
       "      <td>800</td>\n",
       "      <td>400.0</td>\n",
       "    </tr>\n",
       "    <tr>\n",
       "      <th>3</th>\n",
       "      <td>200</td>\n",
       "      <td>1000</td>\n",
       "      <td>1200</td>\n",
       "      <td>600.0</td>\n",
       "    </tr>\n",
       "    <tr>\n",
       "      <th>4</th>\n",
       "      <td>50</td>\n",
       "      <td>100</td>\n",
       "      <td>150</td>\n",
       "      <td>75.0</td>\n",
       "    </tr>\n",
       "    <tr>\n",
       "      <th>5</th>\n",
       "      <td>400</td>\n",
       "      <td>600</td>\n",
       "      <td>1000</td>\n",
       "      <td>500.0</td>\n",
       "    </tr>\n",
       "  </tbody>\n",
       "</table>\n",
       "</div>"
      ],
      "text/plain": [
       "   einkommen_1  einkommen_2  einkommen_gesamt  halbes_einkommen_gesamt\n",
       "1          200          100               300                    150.0\n",
       "2          500          300               800                    400.0\n",
       "3          200         1000              1200                    600.0\n",
       "4           50          100               150                     75.0\n",
       "5          400          600              1000                    500.0"
      ]
     },
     "execution_count": 18,
     "metadata": {},
     "output_type": "execute_result"
    }
   ],
   "source": [
    "df.tail()"
   ]
  },
  {
   "cell_type": "markdown",
   "id": "60d24c1d",
   "metadata": {},
   "source": [
    "### Häufigkeiten in einer Spalte zählen"
   ]
  },
  {
   "cell_type": "code",
   "execution_count": 19,
   "id": "6a7c1dff",
   "metadata": {},
   "outputs": [
    {
     "data": {
      "text/plain": [
       "200    2\n",
       "50     1\n",
       "500    1\n",
       "100    1\n",
       "400    1\n",
       "Name: einkommen_1, dtype: int64"
      ]
     },
     "execution_count": 19,
     "metadata": {},
     "output_type": "execute_result"
    }
   ],
   "source": [
    "df[\"einkommen_1\"].value_counts()"
   ]
  },
  {
   "cell_type": "markdown",
   "id": "b38ed2b4",
   "metadata": {},
   "source": [
    "### Durchschnitt einer Spalte berechnen"
   ]
  },
  {
   "cell_type": "code",
   "execution_count": 20,
   "id": "df0409ed",
   "metadata": {
    "scrolled": true
   },
   "outputs": [
    {
     "data": {
      "text/plain": [
       "241.66666666666666"
      ]
     },
     "execution_count": 20,
     "metadata": {},
     "output_type": "execute_result"
    }
   ],
   "source": [
    "df[\"einkommen_1\"].mean()"
   ]
  },
  {
   "cell_type": "markdown",
   "id": "f6edf2da",
   "metadata": {},
   "source": [
    "### Minimum und Maximum einer Spalte"
   ]
  },
  {
   "cell_type": "code",
   "execution_count": 21,
   "id": "d3af42a6",
   "metadata": {},
   "outputs": [
    {
     "data": {
      "text/plain": [
       "50"
      ]
     },
     "execution_count": 21,
     "metadata": {},
     "output_type": "execute_result"
    }
   ],
   "source": [
    "df[\"einkommen_1\"].min()"
   ]
  },
  {
   "cell_type": "code",
   "execution_count": 22,
   "id": "abef6274",
   "metadata": {
    "scrolled": true
   },
   "outputs": [
    {
     "data": {
      "text/plain": [
       "500"
      ]
     },
     "execution_count": 22,
     "metadata": {},
     "output_type": "execute_result"
    }
   ],
   "source": [
    "df[\"einkommen_1\"].max()"
   ]
  },
  {
   "cell_type": "markdown",
   "id": "0cf08840",
   "metadata": {},
   "source": [
    "### Verschiedene Summary-Statistiken auf einmal"
   ]
  },
  {
   "cell_type": "code",
   "execution_count": 23,
   "id": "be622fd4",
   "metadata": {},
   "outputs": [
    {
     "data": {
      "text/html": [
       "<div>\n",
       "<style scoped>\n",
       "    .dataframe tbody tr th:only-of-type {\n",
       "        vertical-align: middle;\n",
       "    }\n",
       "\n",
       "    .dataframe tbody tr th {\n",
       "        vertical-align: top;\n",
       "    }\n",
       "\n",
       "    .dataframe thead th {\n",
       "        text-align: right;\n",
       "    }\n",
       "</style>\n",
       "<table border=\"1\" class=\"dataframe\">\n",
       "  <thead>\n",
       "    <tr style=\"text-align: right;\">\n",
       "      <th></th>\n",
       "      <th>einkommen_1</th>\n",
       "      <th>einkommen_2</th>\n",
       "      <th>einkommen_gesamt</th>\n",
       "      <th>halbes_einkommen_gesamt</th>\n",
       "    </tr>\n",
       "  </thead>\n",
       "  <tbody>\n",
       "    <tr>\n",
       "      <th>count</th>\n",
       "      <td>6.000000</td>\n",
       "      <td>6.000000</td>\n",
       "      <td>6.000000</td>\n",
       "      <td>6.000000</td>\n",
       "    </tr>\n",
       "    <tr>\n",
       "      <th>mean</th>\n",
       "      <td>241.666667</td>\n",
       "      <td>366.666667</td>\n",
       "      <td>608.333333</td>\n",
       "      <td>304.166667</td>\n",
       "    </tr>\n",
       "    <tr>\n",
       "      <th>std</th>\n",
       "      <td>174.403746</td>\n",
       "      <td>366.969572</td>\n",
       "      <td>449.907398</td>\n",
       "      <td>224.953699</td>\n",
       "    </tr>\n",
       "    <tr>\n",
       "      <th>min</th>\n",
       "      <td>50.000000</td>\n",
       "      <td>100.000000</td>\n",
       "      <td>150.000000</td>\n",
       "      <td>75.000000</td>\n",
       "    </tr>\n",
       "    <tr>\n",
       "      <th>25%</th>\n",
       "      <td>125.000000</td>\n",
       "      <td>100.000000</td>\n",
       "      <td>225.000000</td>\n",
       "      <td>112.500000</td>\n",
       "    </tr>\n",
       "    <tr>\n",
       "      <th>50%</th>\n",
       "      <td>200.000000</td>\n",
       "      <td>200.000000</td>\n",
       "      <td>550.000000</td>\n",
       "      <td>275.000000</td>\n",
       "    </tr>\n",
       "    <tr>\n",
       "      <th>75%</th>\n",
       "      <td>350.000000</td>\n",
       "      <td>525.000000</td>\n",
       "      <td>950.000000</td>\n",
       "      <td>475.000000</td>\n",
       "    </tr>\n",
       "    <tr>\n",
       "      <th>max</th>\n",
       "      <td>500.000000</td>\n",
       "      <td>1000.000000</td>\n",
       "      <td>1200.000000</td>\n",
       "      <td>600.000000</td>\n",
       "    </tr>\n",
       "  </tbody>\n",
       "</table>\n",
       "</div>"
      ],
      "text/plain": [
       "       einkommen_1  einkommen_2  einkommen_gesamt  halbes_einkommen_gesamt\n",
       "count     6.000000     6.000000          6.000000                 6.000000\n",
       "mean    241.666667   366.666667        608.333333               304.166667\n",
       "std     174.403746   366.969572        449.907398               224.953699\n",
       "min      50.000000   100.000000        150.000000                75.000000\n",
       "25%     125.000000   100.000000        225.000000               112.500000\n",
       "50%     200.000000   200.000000        550.000000               275.000000\n",
       "75%     350.000000   525.000000        950.000000               475.000000\n",
       "max     500.000000  1000.000000       1200.000000               600.000000"
      ]
     },
     "execution_count": 23,
     "metadata": {},
     "output_type": "execute_result"
    }
   ],
   "source": [
    "df.describe()"
   ]
  },
  {
   "cell_type": "markdown",
   "id": "3874578e",
   "metadata": {},
   "source": [
    "## Dataframe exportieren\n",
    "\n",
    "Wir können Dataframes u.a. im CSV-Format exportieren. Das ist praktisch, weil wir so nicht nur unsere Daten langfristig auf der Festplatte speichern können, sondern die Daten auch mit einem Statistik-Programm unserer Wahl öffnen und auswerten können. Das bietet sich v.a. in diesem Kurs an, weil wir hier in Python nur ganz oberflächlich Auswertungsmethoden kennenlernen. Falls du also mit einem anderen Statistik-Programm gut zurecht kommst, ist es z.B. denkbar, dass du die in Python gewonnen Simulationsdaten als Dataframe im CSV-Format exportierst und dann die Datenaufbereitung und Auswertung in einem anderen Programm vollziehst (z.B. R oder SPSS).\n",
    "\n",
    "Für den Export eines Dataframes im CSV-Format gibt es in Pandas die `DataFrame`-Methode `to_csv()`. Um einen bestimmten Dataframe zu speichern, muss man die Methode von dem entsprechenden Dataframe aus ausführen und einen Dateipfad/Dateinamen eingeben. Der Dateiname muss auf `.csv` enden, da wir die Datei im CSV-Format speichern. Unten speichere ich den Dataframe namens `df` unter dem Namen `\"simulationsergebnisse.csv\"` auf meinem Computer. Gibt man keinen weiteren Dateipfad bzw. Ordner an, dann wird die Datei typischerweise dort gespeichert, wo auch das aktuelle Python-Skript liegt."
   ]
  },
  {
   "cell_type": "code",
   "execution_count": 24,
   "id": "dcaa7647",
   "metadata": {},
   "outputs": [],
   "source": [
    "df.to_csv(\"simulationsergebnisse.csv\")"
   ]
  }
 ],
 "metadata": {
  "kernelspec": {
   "display_name": "Python [conda env:amp] *",
   "language": "python",
   "name": "conda-env-amp-py"
  },
  "language_info": {
   "codemirror_mode": {
    "name": "ipython",
    "version": 3
   },
   "file_extension": ".py",
   "mimetype": "text/x-python",
   "name": "python",
   "nbconvert_exporter": "python",
   "pygments_lexer": "ipython3",
   "version": "3.7.10"
  }
 },
 "nbformat": 4,
 "nbformat_minor": 5
}
