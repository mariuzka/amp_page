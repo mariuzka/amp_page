{
 "cells": [
  {
   "cell_type": "markdown",
   "id": "a4434d93",
   "metadata": {},
   "source": [
    "# Ein kurzer Blick auf Pandas\n",
    "\n",
    "Spätestens wenn wir Simulationsexperimente durchführen und die Ergebnisse von Simulationsmodellen mit verschiedenen Parametereinstellungen systematisch vergleichen wollen, macht es Sinn, die produzierten Daten als einen schön strukturierten Datensatz abzuspeichern. Damit meine ich nichts anderes als eine klassische Tabelle, in denen unsere Daten in Spalten und Zeilen eingetragen sind, so wie man das z.B. aus Excel, SPSS, R oder Stata kennt. Ein Beispiel für eine solche *Tabelle* siehst du unten:\n",
    "\n",
    "![](img/beispiel_df.png)\n",
    "\n",
    "In Python gibt es für das Erstellen, Aufbereiten und Auswerten solcher tabellenförmiger Datensätze das Paket **Pandas**. Pandas gehört zu **DEN** grundlegenden Paketen für das wissenschaftliche Arbeiten mit Python. Das primäre Objekt, welches Pandas liefert, ist der sogenannte **DataFrame**. Das ist genau eine solche Tabelle, wie man in der obigen Abbildung sieht.\n",
    "\n",
    "```{admonition} Zur Info\n",
    "Pandas kannst du wie gewohnt über den Anaconda-Navigator installieren. Beim Import von Pandas hat sich die Abkürzung `pd` etabliert: `import pandas as pd`\n",
    "```"
   ]
  },
  {
   "cell_type": "markdown",
   "id": "b8cca94b",
   "metadata": {},
   "source": [
    "## Dataframe erstellen\n",
    "\n",
    "Das wichtigste ist natürlich zunächst das Erstellen eines Dataframes. Dafür gibt es in Pandas zahlreiche Möglichkeiten, welche sich darin unterscheiden, in welcher Form man die Daten an Pandas übergibt. Im Folgenden stelle ich zwei Möglichkeiten vor.\n",
    "\n",
    "### Möglichkeit 1 - Dataframe aus einem Dictionary erstellen\n",
    "\n",
    "Bei dieser Variante einen Dataframe zu erstellen, müssen die Daten zunächst in Form eines Dictionary vorliegen. Unten siehst du ein Beispiel dafür:"
   ]
  },
  {
   "cell_type": "code",
   "execution_count": 83,
   "id": "4e8c7701",
   "metadata": {},
   "outputs": [],
   "source": [
    "data_dict = {\n",
    "    \"density\": [1.0, 0.5, 0.33, 0.25, 0.2, 0.1],\n",
    "    \"speed\"  : [0.0, 1.0, 2.0, 3.0, 4.0, 5.0],\n",
    "}"
   ]
  },
  {
   "cell_type": "markdown",
   "id": "906197cb",
   "metadata": {},
   "source": [
    "In jedem *Eintrag* des Dictionary liegt eine Datenreihe in Form einer Liste. Jeder Eintrag des Dictionary wird gleich in eine Tabellenspalte eines Dataframes umgewandelt.\n",
    "\n",
    "Um aus dem obigen Dictionary einen Dataframe zu erstellen, muss man nichts anderes tun als das Dictionary in den Dataframe-Konstruktör `pd.DataFrame()` einzugeben und den entstehenden Dataframe in einer Variable zu speichern, so wie das unten passiert:"
   ]
  },
  {
   "cell_type": "code",
   "execution_count": 84,
   "id": "e8261e73",
   "metadata": {},
   "outputs": [],
   "source": [
    "import pandas as pd\n",
    "\n",
    "df = pd.DataFrame(data_dict)"
   ]
  },
  {
   "cell_type": "markdown",
   "id": "e4f5d2af",
   "metadata": {},
   "source": [
    "Unten schaue ich mir nun den unter `df` gespeicherten Dataframe an:"
   ]
  },
  {
   "cell_type": "code",
   "execution_count": 95,
   "id": "9d133f8f",
   "metadata": {
    "scrolled": false
   },
   "outputs": [
    {
     "data": {
      "text/html": [
       "<div>\n",
       "<style scoped>\n",
       "    .dataframe tbody tr th:only-of-type {\n",
       "        vertical-align: middle;\n",
       "    }\n",
       "\n",
       "    .dataframe tbody tr th {\n",
       "        vertical-align: top;\n",
       "    }\n",
       "\n",
       "    .dataframe thead th {\n",
       "        text-align: right;\n",
       "    }\n",
       "</style>\n",
       "<table border=\"1\" class=\"dataframe\">\n",
       "  <thead>\n",
       "    <tr style=\"text-align: right;\">\n",
       "      <th></th>\n",
       "      <th>density</th>\n",
       "      <th>speed</th>\n",
       "    </tr>\n",
       "  </thead>\n",
       "  <tbody>\n",
       "    <tr>\n",
       "      <th>0</th>\n",
       "      <td>1.00</td>\n",
       "      <td>0.0</td>\n",
       "    </tr>\n",
       "    <tr>\n",
       "      <th>1</th>\n",
       "      <td>0.50</td>\n",
       "      <td>1.0</td>\n",
       "    </tr>\n",
       "    <tr>\n",
       "      <th>2</th>\n",
       "      <td>0.33</td>\n",
       "      <td>2.0</td>\n",
       "    </tr>\n",
       "    <tr>\n",
       "      <th>3</th>\n",
       "      <td>0.25</td>\n",
       "      <td>3.0</td>\n",
       "    </tr>\n",
       "    <tr>\n",
       "      <th>4</th>\n",
       "      <td>0.20</td>\n",
       "      <td>4.0</td>\n",
       "    </tr>\n",
       "    <tr>\n",
       "      <th>5</th>\n",
       "      <td>0.10</td>\n",
       "      <td>5.0</td>\n",
       "    </tr>\n",
       "  </tbody>\n",
       "</table>\n",
       "</div>"
      ],
      "text/plain": [
       "   density  speed\n",
       "0     1.00    0.0\n",
       "1     0.50    1.0\n",
       "2     0.33    2.0\n",
       "3     0.25    3.0\n",
       "4     0.20    4.0\n",
       "5     0.10    5.0"
      ]
     },
     "execution_count": 95,
     "metadata": {},
     "output_type": "execute_result"
    }
   ],
   "source": [
    "df"
   ]
  },
  {
   "cell_type": "markdown",
   "id": "9a1acfce",
   "metadata": {},
   "source": [
    "Wir sehen, jede Liste/Datenreihe, die als Eintrag im obigen Dictionary `data_dict` vorliegt, wird in eine Tabellenspalte des Dataframes verwandelt."
   ]
  },
  {
   "cell_type": "markdown",
   "id": "44ceace9",
   "metadata": {},
   "source": [
    "### Möglichkeit 2 - Dataframe aus mehreren Dictionaries erstellen\n",
    "\n",
    "Anstatt den Dataframe aus einem Dictionary, welches Listen mit Daten enthält, kann man andersherum auch einen Dataframe aus einer Liste, welche Dictionaries mit den Daten enthält, erstellen. Diese Vorgehensweise bietet sich v.a. im Bereich von ABM an.\n",
    "\n",
    "Unten siehst du beispielhaft, wie eine solche Liste mit Dictionaries aussehen kann. Jedes Dictionary entspricht einer Zeile eines Dateframes. Jeder Eintrag eines Dictionary wird anhand des Dictionary-Keys einer Spalte zugewiesen."
   ]
  },
  {
   "cell_type": "code",
   "execution_count": 92,
   "id": "ad7241a6",
   "metadata": {},
   "outputs": [],
   "source": [
    "data_dicts = [\n",
    "    {\"density\": 1.0,  \"speed\": 0.0},\n",
    "    {\"density\": 0.5,  \"speed\": 1.0},\n",
    "    {\"density\": 0.33, \"speed\": 2.0},\n",
    "    {\"density\": 0.25, \"speed\": 3.0},\n",
    "    {\"density\": 0.2,  \"speed\": 4.0},\n",
    "    {\"density\": 0.1,  \"speed\": 5.0},\n",
    "]"
   ]
  },
  {
   "cell_type": "markdown",
   "id": "5b611017",
   "metadata": {},
   "source": [
    "Unten füge ich - genau wie oben - die Daten in den Befehl `pd.DataFrame()` ein, um den Dataframe zu erstellen:"
   ]
  },
  {
   "cell_type": "code",
   "execution_count": 93,
   "id": "b29dcaf1",
   "metadata": {
    "scrolled": true
   },
   "outputs": [],
   "source": [
    "df = pd.DataFrame(data_dicts)"
   ]
  },
  {
   "cell_type": "markdown",
   "id": "bf94eb09",
   "metadata": {},
   "source": [
    "Wie man sieht, haben wir nun den gleichen Dataframe wie oben erstellt:"
   ]
  },
  {
   "cell_type": "code",
   "execution_count": 94,
   "id": "811ba9e1",
   "metadata": {},
   "outputs": [
    {
     "data": {
      "text/html": [
       "<div>\n",
       "<style scoped>\n",
       "    .dataframe tbody tr th:only-of-type {\n",
       "        vertical-align: middle;\n",
       "    }\n",
       "\n",
       "    .dataframe tbody tr th {\n",
       "        vertical-align: top;\n",
       "    }\n",
       "\n",
       "    .dataframe thead th {\n",
       "        text-align: right;\n",
       "    }\n",
       "</style>\n",
       "<table border=\"1\" class=\"dataframe\">\n",
       "  <thead>\n",
       "    <tr style=\"text-align: right;\">\n",
       "      <th></th>\n",
       "      <th>density</th>\n",
       "      <th>speed</th>\n",
       "    </tr>\n",
       "  </thead>\n",
       "  <tbody>\n",
       "    <tr>\n",
       "      <th>0</th>\n",
       "      <td>1.00</td>\n",
       "      <td>0.0</td>\n",
       "    </tr>\n",
       "    <tr>\n",
       "      <th>1</th>\n",
       "      <td>0.50</td>\n",
       "      <td>1.0</td>\n",
       "    </tr>\n",
       "    <tr>\n",
       "      <th>2</th>\n",
       "      <td>0.33</td>\n",
       "      <td>2.0</td>\n",
       "    </tr>\n",
       "    <tr>\n",
       "      <th>3</th>\n",
       "      <td>0.25</td>\n",
       "      <td>3.0</td>\n",
       "    </tr>\n",
       "    <tr>\n",
       "      <th>4</th>\n",
       "      <td>0.20</td>\n",
       "      <td>4.0</td>\n",
       "    </tr>\n",
       "    <tr>\n",
       "      <th>5</th>\n",
       "      <td>0.10</td>\n",
       "      <td>5.0</td>\n",
       "    </tr>\n",
       "  </tbody>\n",
       "</table>\n",
       "</div>"
      ],
      "text/plain": [
       "   density  speed\n",
       "0     1.00    0.0\n",
       "1     0.50    1.0\n",
       "2     0.33    2.0\n",
       "3     0.25    3.0\n",
       "4     0.20    4.0\n",
       "5     0.10    5.0"
      ]
     },
     "execution_count": 94,
     "metadata": {},
     "output_type": "execute_result"
    }
   ],
   "source": [
    "df"
   ]
  },
  {
   "cell_type": "markdown",
   "id": "d285051d",
   "metadata": {},
   "source": [
    "## Auf eine Spalte zugreifen"
   ]
  },
  {
   "cell_type": "markdown",
   "id": "75fa3a44",
   "metadata": {},
   "source": [
    "## Dataframe exportieren\n",
    "\n",
    "Wir können Dataframes als u.a. im CSV-Format exportieren und auf der Festplatte speichern. Das ist praktisch, weil wir so nicht nur unsere Daten langfristig speichern können, sondern die Daten auch mit einem Statistik-Programm unserer Wahl öffnen und auswerten können. Das bietet sich v.a. in diesem Kurs an, weil wir hier in Python nur ganz oberflächlich Auswertungsmethoden kennenlernen. Falls du also mit einem anderen Statistik-Programm gut zurecht kommst, ist es z.B. denkbar, dass du die in Python gewonnen Simulationsdaten als Dataframe im CSV-Format exportierst und dann die Datenaufbereitung und Auswertung in einem anderen Programm vollziehst (z.B. R oder SPSS).\n",
    "\n",
    "Für den Export eines Dataframes im CSV-Format gibt es in Pandas die `DataFrame`-Methode `to_csv()`. Um einen betimmten Dataframe zu speichern, muss man die Methode von dem entsprechenden Dataframe aus ausführen und einen Dateipfad/Dateinamen eingeben. Der Dateiname muss auf `.csv` enden, da wir die Datei im CSV-Format speichern. Unten speichere ich den Dataframe namens `df` unter dem Namen `\"simulationsergebnisse.csv\"` auf meinem Computer."
   ]
  },
  {
   "cell_type": "code",
   "execution_count": 97,
   "id": "22a35599",
   "metadata": {},
   "outputs": [],
   "source": [
    "df.to_csv(\"simulationsergebnisse.csv\")"
   ]
  },
  {
   "cell_type": "markdown",
   "id": "7fbf17c0",
   "metadata": {},
   "source": [
    "## Diagramme mit Seaborn"
   ]
  },
  {
   "cell_type": "code",
   "execution_count": 10,
   "id": "76f00c38",
   "metadata": {},
   "outputs": [],
   "source": [
    "import seaborn as sns"
   ]
  },
  {
   "cell_type": "code",
   "execution_count": 12,
   "id": "ff94b967",
   "metadata": {
    "scrolled": false
   },
   "outputs": [
    {
     "data": {
      "text/plain": [
       "<AxesSubplot:xlabel='density', ylabel='speed'>"
      ]
     },
     "execution_count": 12,
     "metadata": {},
     "output_type": "execute_result"
    },
    {
     "data": {
      "image/png": "[encoded data removed]",
      "text/plain": [
       "<Figure size 432x288 with 1 Axes>"
      ]
     },
     "metadata": {
      "needs_background": "light"
     },
     "output_type": "display_data"
    }
   ],
   "source": [
    "sns.lineplot(x=\"density\", y=\"speed\", data=df)"
   ]
  },
  {
   "cell_type": "markdown",
   "id": "4d8713be",
   "metadata": {},
   "source": [
    "## Ein Simulationsexperiment durchführen\n",
    "\n"
   ]
  },
  {
   "cell_type": "code",
   "execution_count": 60,
   "id": "4fef2b69",
   "metadata": {},
   "outputs": [],
   "source": [
    "import random \n",
    "\n",
    "\n",
    "def nasch_model(\n",
    "    ticks=1000, \n",
    "    max_speed=5,\n",
    "    dawdling_prob=0.1,\n",
    "    n_agents=100,\n",
    "    initial_distance=6,\n",
    "):\n",
    "    \n",
    "    speed_data = []\n",
    "\n",
    "    street_len = n_agents * initial_distance\n",
    "\n",
    "    # Leere Liste, die gleich mit Agenten befüllt wird\n",
    "    population = []\n",
    "\n",
    "    # für jeden zu erstellenden Agenten\n",
    "    for i in range(n_agents):\n",
    "\n",
    "        # Agent als Dictionary erstellen\n",
    "        agent = {\n",
    "            \"id\": i,\n",
    "            \"position\": i * initial_distance,\n",
    "            \"speed\": max_speed,\n",
    "            \"space_ahead\": initial_distance - 1,\n",
    "        }\n",
    "\n",
    "        # Agent an die Populationsliste hängen\n",
    "        population.append(agent)\n",
    "\n",
    "\n",
    "    # Population nochmal überarbeiten - jeweils vorausfahrende und nachfahrende Agenten einspeichern\n",
    "    # für jeden Agenten in Population\n",
    "    for agent in population:\n",
    "        # den vorausfahrenden Agenten merken/als Eigenschaft einspeichern\n",
    "        agent.update({\"agent_ahead\": population[(agent[\"id\"]+1)%len(population)]})\n",
    "\n",
    "        # den nachfahrenden Agenten merken/als Eigenschaft einspeichern\n",
    "        agent.update({\"agent_behind\": population[(agent[\"id\"]-1)%len(population)]})\n",
    "\n",
    "\n",
    "    # für jeden Zeitschritt\n",
    "    for tick in range(ticks):\n",
    "\n",
    "        # für jeden Agenten (die vier Handlungsschritte umsetzen)\n",
    "        for agent in population:\n",
    "            # 1. Acceleration\n",
    "            if agent[\"speed\"] < max_speed:\n",
    "                agent[\"speed\"] += 1\n",
    "\n",
    "            # 2. Slowing down\n",
    "            if agent[\"speed\"] > agent[\"space_ahead\"]:\n",
    "                agent[\"speed\"] = agent[\"space_ahead\"]\n",
    "\n",
    "            # 3. Randomization\n",
    "            if agent[\"speed\"] > 0 and random.random() <= dawdling_prob:\n",
    "                agent[\"speed\"] -= 1\n",
    "\n",
    "            # 4. Car motion\n",
    "            agent[\"position\"] = (agent[\"position\"] + agent[\"speed\"]) % street_len\n",
    "\n",
    "\n",
    "\n",
    "        # für jeden Agenten (die Anzahl der freien Straßenabschnitte neu berechnen)\n",
    "        for agent in population:\n",
    "            # neue Anzahl der freien Zellen vor Agent berechnen und einspeichern\n",
    "            agent[\"space_ahead\"] -= agent[\"speed\"]\n",
    "            # neue Anzahl der freien Zellen vor dem NACHFAHRENDEM Agent berechnen und DIESEM einspeichern\n",
    "            agent[\"agent_behind\"][\"space_ahead\"] += agent[\"speed\"]\n",
    "\n",
    "        \n",
    "        # Von allen Agenten die aktuelle Geschwindigkeit sammeln\n",
    "        for agent in population:\n",
    "            speed_data.append(agent[\"speed\"])\n",
    "    \n",
    "    # Durchschnittliche Geschwindigkeit pro Agent pro Zeitschritt berechnen\n",
    "    mean_speed = sum(speed_data) / n_agents / ticks\n",
    "    \n",
    "    \n",
    "    # Ausgabe-Datensatz erstellen\n",
    "    output_dict = {\n",
    "        \"initial_distance\": initial_distance,\n",
    "        \"mean_speed\": mean_speed,\n",
    "        \"dawdling_prob\": dawdling_prob,\n",
    "        \"ticks\": ticks,\n",
    "        \"n_agents\": n_agents,\n",
    "    }\n",
    "    \n",
    "    return output_dict"
   ]
  },
  {
   "cell_type": "code",
   "execution_count": 61,
   "id": "30fca22e",
   "metadata": {},
   "outputs": [
    {
     "data": {
      "text/plain": [
       "{'initial_distance': 3,\n",
       " 'mean_speed': 1.6516199999999999,\n",
       " 'dawdling_prob': 0.1,\n",
       " 'ticks': 1000,\n",
       " 'n_agents': 100}"
      ]
     },
     "execution_count": 61,
     "metadata": {},
     "output_type": "execute_result"
    }
   ],
   "source": [
    "nasch_model(initial_distance=3)"
   ]
  },
  {
   "cell_type": "code",
   "execution_count": 62,
   "id": "60dab1a4",
   "metadata": {},
   "outputs": [
    {
     "data": {
      "text/plain": [
       "{'initial_distance': 2,\n",
       " 'mean_speed': 0.84102,\n",
       " 'dawdling_prob': 0.1,\n",
       " 'ticks': 1000,\n",
       " 'n_agents': 100}"
      ]
     },
     "execution_count": 62,
     "metadata": {},
     "output_type": "execute_result"
    }
   ],
   "source": [
    "nasch_model(initial_distance=2)"
   ]
  },
  {
   "cell_type": "code",
   "execution_count": 63,
   "id": "e4ef259e",
   "metadata": {},
   "outputs": [],
   "source": [
    "data = []\n",
    "for i in range(5):\n",
    "    initial_distance = i + 1\n",
    "    simulation_results = nasch_model(initial_distance=initial_distance)\n",
    "    data.append(simulation_results)"
   ]
  },
  {
   "cell_type": "code",
   "execution_count": 64,
   "id": "ff59070e",
   "metadata": {},
   "outputs": [
    {
     "data": {
      "text/plain": [
       "[{'initial_distance': 1,\n",
       "  'mean_speed': 0.0,\n",
       "  'dawdling_prob': 0.1,\n",
       "  'ticks': 1000,\n",
       "  'n_agents': 100},\n",
       " {'initial_distance': 2,\n",
       "  'mean_speed': 0.83398,\n",
       "  'dawdling_prob': 0.1,\n",
       "  'ticks': 1000,\n",
       "  'n_agents': 100},\n",
       " {'initial_distance': 3,\n",
       "  'mean_speed': 1.6476,\n",
       "  'dawdling_prob': 0.1,\n",
       "  'ticks': 1000,\n",
       "  'n_agents': 100},\n",
       " {'initial_distance': 4,\n",
       "  'mean_speed': 2.4460300000000004,\n",
       "  'dawdling_prob': 0.1,\n",
       "  'ticks': 1000,\n",
       "  'n_agents': 100},\n",
       " {'initial_distance': 5,\n",
       "  'mean_speed': 3.24733,\n",
       "  'dawdling_prob': 0.1,\n",
       "  'ticks': 1000,\n",
       "  'n_agents': 100}]"
      ]
     },
     "execution_count": 64,
     "metadata": {},
     "output_type": "execute_result"
    }
   ],
   "source": [
    "data"
   ]
  },
  {
   "cell_type": "code",
   "execution_count": 65,
   "id": "62ec019b",
   "metadata": {},
   "outputs": [],
   "source": [
    "df = pd.DataFrame(data)"
   ]
  },
  {
   "cell_type": "code",
   "execution_count": 66,
   "id": "4c793f38",
   "metadata": {},
   "outputs": [
    {
     "data": {
      "text/html": [
       "<div>\n",
       "<style scoped>\n",
       "    .dataframe tbody tr th:only-of-type {\n",
       "        vertical-align: middle;\n",
       "    }\n",
       "\n",
       "    .dataframe tbody tr th {\n",
       "        vertical-align: top;\n",
       "    }\n",
       "\n",
       "    .dataframe thead th {\n",
       "        text-align: right;\n",
       "    }\n",
       "</style>\n",
       "<table border=\"1\" class=\"dataframe\">\n",
       "  <thead>\n",
       "    <tr style=\"text-align: right;\">\n",
       "      <th></th>\n",
       "      <th>initial_distance</th>\n",
       "      <th>mean_speed</th>\n",
       "      <th>dawdling_prob</th>\n",
       "      <th>ticks</th>\n",
       "      <th>n_agents</th>\n",
       "    </tr>\n",
       "  </thead>\n",
       "  <tbody>\n",
       "    <tr>\n",
       "      <th>0</th>\n",
       "      <td>1</td>\n",
       "      <td>0.00000</td>\n",
       "      <td>0.1</td>\n",
       "      <td>1000</td>\n",
       "      <td>100</td>\n",
       "    </tr>\n",
       "    <tr>\n",
       "      <th>1</th>\n",
       "      <td>2</td>\n",
       "      <td>0.83398</td>\n",
       "      <td>0.1</td>\n",
       "      <td>1000</td>\n",
       "      <td>100</td>\n",
       "    </tr>\n",
       "    <tr>\n",
       "      <th>2</th>\n",
       "      <td>3</td>\n",
       "      <td>1.64760</td>\n",
       "      <td>0.1</td>\n",
       "      <td>1000</td>\n",
       "      <td>100</td>\n",
       "    </tr>\n",
       "    <tr>\n",
       "      <th>3</th>\n",
       "      <td>4</td>\n",
       "      <td>2.44603</td>\n",
       "      <td>0.1</td>\n",
       "      <td>1000</td>\n",
       "      <td>100</td>\n",
       "    </tr>\n",
       "    <tr>\n",
       "      <th>4</th>\n",
       "      <td>5</td>\n",
       "      <td>3.24733</td>\n",
       "      <td>0.1</td>\n",
       "      <td>1000</td>\n",
       "      <td>100</td>\n",
       "    </tr>\n",
       "  </tbody>\n",
       "</table>\n",
       "</div>"
      ],
      "text/plain": [
       "   initial_distance  mean_speed  dawdling_prob  ticks  n_agents\n",
       "0                 1     0.00000            0.1   1000       100\n",
       "1                 2     0.83398            0.1   1000       100\n",
       "2                 3     1.64760            0.1   1000       100\n",
       "3                 4     2.44603            0.1   1000       100\n",
       "4                 5     3.24733            0.1   1000       100"
      ]
     },
     "execution_count": 66,
     "metadata": {},
     "output_type": "execute_result"
    }
   ],
   "source": [
    "df"
   ]
  },
  {
   "cell_type": "code",
   "execution_count": 67,
   "id": "0de7cd83",
   "metadata": {},
   "outputs": [],
   "source": [
    "df[\"traffic_density\"] = 1 / df[\"initial_distance\"]"
   ]
  },
  {
   "cell_type": "code",
   "execution_count": 68,
   "id": "510c7885",
   "metadata": {},
   "outputs": [
    {
     "data": {
      "text/html": [
       "<div>\n",
       "<style scoped>\n",
       "    .dataframe tbody tr th:only-of-type {\n",
       "        vertical-align: middle;\n",
       "    }\n",
       "\n",
       "    .dataframe tbody tr th {\n",
       "        vertical-align: top;\n",
       "    }\n",
       "\n",
       "    .dataframe thead th {\n",
       "        text-align: right;\n",
       "    }\n",
       "</style>\n",
       "<table border=\"1\" class=\"dataframe\">\n",
       "  <thead>\n",
       "    <tr style=\"text-align: right;\">\n",
       "      <th></th>\n",
       "      <th>initial_distance</th>\n",
       "      <th>mean_speed</th>\n",
       "      <th>dawdling_prob</th>\n",
       "      <th>ticks</th>\n",
       "      <th>n_agents</th>\n",
       "      <th>traffic_density</th>\n",
       "    </tr>\n",
       "  </thead>\n",
       "  <tbody>\n",
       "    <tr>\n",
       "      <th>0</th>\n",
       "      <td>1</td>\n",
       "      <td>0.00000</td>\n",
       "      <td>0.1</td>\n",
       "      <td>1000</td>\n",
       "      <td>100</td>\n",
       "      <td>1.000000</td>\n",
       "    </tr>\n",
       "    <tr>\n",
       "      <th>1</th>\n",
       "      <td>2</td>\n",
       "      <td>0.83398</td>\n",
       "      <td>0.1</td>\n",
       "      <td>1000</td>\n",
       "      <td>100</td>\n",
       "      <td>0.500000</td>\n",
       "    </tr>\n",
       "    <tr>\n",
       "      <th>2</th>\n",
       "      <td>3</td>\n",
       "      <td>1.64760</td>\n",
       "      <td>0.1</td>\n",
       "      <td>1000</td>\n",
       "      <td>100</td>\n",
       "      <td>0.333333</td>\n",
       "    </tr>\n",
       "    <tr>\n",
       "      <th>3</th>\n",
       "      <td>4</td>\n",
       "      <td>2.44603</td>\n",
       "      <td>0.1</td>\n",
       "      <td>1000</td>\n",
       "      <td>100</td>\n",
       "      <td>0.250000</td>\n",
       "    </tr>\n",
       "    <tr>\n",
       "      <th>4</th>\n",
       "      <td>5</td>\n",
       "      <td>3.24733</td>\n",
       "      <td>0.1</td>\n",
       "      <td>1000</td>\n",
       "      <td>100</td>\n",
       "      <td>0.200000</td>\n",
       "    </tr>\n",
       "  </tbody>\n",
       "</table>\n",
       "</div>"
      ],
      "text/plain": [
       "   initial_distance  mean_speed  dawdling_prob  ticks  n_agents  \\\n",
       "0                 1     0.00000            0.1   1000       100   \n",
       "1                 2     0.83398            0.1   1000       100   \n",
       "2                 3     1.64760            0.1   1000       100   \n",
       "3                 4     2.44603            0.1   1000       100   \n",
       "4                 5     3.24733            0.1   1000       100   \n",
       "\n",
       "   traffic_density  \n",
       "0         1.000000  \n",
       "1         0.500000  \n",
       "2         0.333333  \n",
       "3         0.250000  \n",
       "4         0.200000  "
      ]
     },
     "execution_count": 68,
     "metadata": {},
     "output_type": "execute_result"
    }
   ],
   "source": [
    "df"
   ]
  },
  {
   "cell_type": "code",
   "execution_count": 69,
   "id": "1d800a6a",
   "metadata": {},
   "outputs": [
    {
     "data": {
      "text/plain": [
       "<AxesSubplot:xlabel='traffic_density', ylabel='mean_speed'>"
      ]
     },
     "execution_count": 69,
     "metadata": {},
     "output_type": "execute_result"
    },
    {
     "data": {
      "image/png": "[encoded data removed]",
      "text/plain": [
       "<Figure size 432x288 with 1 Axes>"
      ]
     },
     "metadata": {
      "needs_background": "light"
     },
     "output_type": "display_data"
    }
   ],
   "source": [
    "sns.lineplot(x=\"traffic_density\", y=\"mean_speed\", data=df)"
   ]
  },
  {
   "cell_type": "code",
   "execution_count": 70,
   "id": "0ba91c9c",
   "metadata": {},
   "outputs": [],
   "source": [
    "data = []\n",
    "for i in range(5):\n",
    "    for replication in range(3):\n",
    "        initial_distance = i + 1\n",
    "        simulation_results = nasch_model(initial_distance=initial_distance)\n",
    "        data.append(simulation_results)"
   ]
  },
  {
   "cell_type": "code",
   "execution_count": 71,
   "id": "dd0b0e4a",
   "metadata": {},
   "outputs": [
    {
     "data": {
      "text/html": [
       "<div>\n",
       "<style scoped>\n",
       "    .dataframe tbody tr th:only-of-type {\n",
       "        vertical-align: middle;\n",
       "    }\n",
       "\n",
       "    .dataframe tbody tr th {\n",
       "        vertical-align: top;\n",
       "    }\n",
       "\n",
       "    .dataframe thead th {\n",
       "        text-align: right;\n",
       "    }\n",
       "</style>\n",
       "<table border=\"1\" class=\"dataframe\">\n",
       "  <thead>\n",
       "    <tr style=\"text-align: right;\">\n",
       "      <th></th>\n",
       "      <th>initial_distance</th>\n",
       "      <th>mean_speed</th>\n",
       "      <th>dawdling_prob</th>\n",
       "      <th>ticks</th>\n",
       "      <th>n_agents</th>\n",
       "    </tr>\n",
       "  </thead>\n",
       "  <tbody>\n",
       "    <tr>\n",
       "      <th>0</th>\n",
       "      <td>1</td>\n",
       "      <td>0.00000</td>\n",
       "      <td>0.1</td>\n",
       "      <td>1000</td>\n",
       "      <td>100</td>\n",
       "    </tr>\n",
       "    <tr>\n",
       "      <th>1</th>\n",
       "      <td>1</td>\n",
       "      <td>0.00000</td>\n",
       "      <td>0.1</td>\n",
       "      <td>1000</td>\n",
       "      <td>100</td>\n",
       "    </tr>\n",
       "    <tr>\n",
       "      <th>2</th>\n",
       "      <td>1</td>\n",
       "      <td>0.00000</td>\n",
       "      <td>0.1</td>\n",
       "      <td>1000</td>\n",
       "      <td>100</td>\n",
       "    </tr>\n",
       "    <tr>\n",
       "      <th>3</th>\n",
       "      <td>2</td>\n",
       "      <td>0.84048</td>\n",
       "      <td>0.1</td>\n",
       "      <td>1000</td>\n",
       "      <td>100</td>\n",
       "    </tr>\n",
       "    <tr>\n",
       "      <th>4</th>\n",
       "      <td>2</td>\n",
       "      <td>0.84148</td>\n",
       "      <td>0.1</td>\n",
       "      <td>1000</td>\n",
       "      <td>100</td>\n",
       "    </tr>\n",
       "    <tr>\n",
       "      <th>5</th>\n",
       "      <td>2</td>\n",
       "      <td>0.84293</td>\n",
       "      <td>0.1</td>\n",
       "      <td>1000</td>\n",
       "      <td>100</td>\n",
       "    </tr>\n",
       "    <tr>\n",
       "      <th>6</th>\n",
       "      <td>3</td>\n",
       "      <td>1.65094</td>\n",
       "      <td>0.1</td>\n",
       "      <td>1000</td>\n",
       "      <td>100</td>\n",
       "    </tr>\n",
       "    <tr>\n",
       "      <th>7</th>\n",
       "      <td>3</td>\n",
       "      <td>1.64864</td>\n",
       "      <td>0.1</td>\n",
       "      <td>1000</td>\n",
       "      <td>100</td>\n",
       "    </tr>\n",
       "    <tr>\n",
       "      <th>8</th>\n",
       "      <td>3</td>\n",
       "      <td>1.64660</td>\n",
       "      <td>0.1</td>\n",
       "      <td>1000</td>\n",
       "      <td>100</td>\n",
       "    </tr>\n",
       "    <tr>\n",
       "      <th>9</th>\n",
       "      <td>4</td>\n",
       "      <td>2.42860</td>\n",
       "      <td>0.1</td>\n",
       "      <td>1000</td>\n",
       "      <td>100</td>\n",
       "    </tr>\n",
       "    <tr>\n",
       "      <th>10</th>\n",
       "      <td>4</td>\n",
       "      <td>2.44972</td>\n",
       "      <td>0.1</td>\n",
       "      <td>1000</td>\n",
       "      <td>100</td>\n",
       "    </tr>\n",
       "    <tr>\n",
       "      <th>11</th>\n",
       "      <td>4</td>\n",
       "      <td>2.43433</td>\n",
       "      <td>0.1</td>\n",
       "      <td>1000</td>\n",
       "      <td>100</td>\n",
       "    </tr>\n",
       "    <tr>\n",
       "      <th>12</th>\n",
       "      <td>5</td>\n",
       "      <td>3.21458</td>\n",
       "      <td>0.1</td>\n",
       "      <td>1000</td>\n",
       "      <td>100</td>\n",
       "    </tr>\n",
       "    <tr>\n",
       "      <th>13</th>\n",
       "      <td>5</td>\n",
       "      <td>3.20822</td>\n",
       "      <td>0.1</td>\n",
       "      <td>1000</td>\n",
       "      <td>100</td>\n",
       "    </tr>\n",
       "    <tr>\n",
       "      <th>14</th>\n",
       "      <td>5</td>\n",
       "      <td>3.21852</td>\n",
       "      <td>0.1</td>\n",
       "      <td>1000</td>\n",
       "      <td>100</td>\n",
       "    </tr>\n",
       "  </tbody>\n",
       "</table>\n",
       "</div>"
      ],
      "text/plain": [
       "    initial_distance  mean_speed  dawdling_prob  ticks  n_agents\n",
       "0                  1     0.00000            0.1   1000       100\n",
       "1                  1     0.00000            0.1   1000       100\n",
       "2                  1     0.00000            0.1   1000       100\n",
       "3                  2     0.84048            0.1   1000       100\n",
       "4                  2     0.84148            0.1   1000       100\n",
       "5                  2     0.84293            0.1   1000       100\n",
       "6                  3     1.65094            0.1   1000       100\n",
       "7                  3     1.64864            0.1   1000       100\n",
       "8                  3     1.64660            0.1   1000       100\n",
       "9                  4     2.42860            0.1   1000       100\n",
       "10                 4     2.44972            0.1   1000       100\n",
       "11                 4     2.43433            0.1   1000       100\n",
       "12                 5     3.21458            0.1   1000       100\n",
       "13                 5     3.20822            0.1   1000       100\n",
       "14                 5     3.21852            0.1   1000       100"
      ]
     },
     "execution_count": 71,
     "metadata": {},
     "output_type": "execute_result"
    }
   ],
   "source": [
    "df = pd.DataFrame(data)\n",
    "\n",
    "df"
   ]
  },
  {
   "cell_type": "code",
   "execution_count": 72,
   "id": "21537518",
   "metadata": {
    "scrolled": true
   },
   "outputs": [
    {
     "data": {
      "text/plain": [
       "<AxesSubplot:xlabel='traffic_density', ylabel='mean_speed'>"
      ]
     },
     "execution_count": 72,
     "metadata": {},
     "output_type": "execute_result"
    },
    {
     "data": {
      "image/png": "[encoded data removed]",
      "text/plain": [
       "<Figure size 432x288 with 1 Axes>"
      ]
     },
     "metadata": {
      "needs_background": "light"
     },
     "output_type": "display_data"
    }
   ],
   "source": [
    "df[\"traffic_density\"] = 1 / df[\"initial_distance\"]\n",
    "sns.lineplot(x=\"traffic_density\", y=\"mean_speed\", data=df)"
   ]
  },
  {
   "cell_type": "code",
   "execution_count": 73,
   "id": "4e6ec2fa",
   "metadata": {},
   "outputs": [],
   "source": [
    "data = []\n",
    "for dawdling_prob in [0, 0.3]:\n",
    "    for i in range(5):\n",
    "        initial_distance = i + 1\n",
    "        simulation_results = nasch_model(initial_distance=initial_distance, dawdling_prob=dawdling_prob)\n",
    "        data.append(simulation_results)"
   ]
  },
  {
   "cell_type": "code",
   "execution_count": 74,
   "id": "3251d10d",
   "metadata": {},
   "outputs": [
    {
     "data": {
      "text/html": [
       "<div>\n",
       "<style scoped>\n",
       "    .dataframe tbody tr th:only-of-type {\n",
       "        vertical-align: middle;\n",
       "    }\n",
       "\n",
       "    .dataframe tbody tr th {\n",
       "        vertical-align: top;\n",
       "    }\n",
       "\n",
       "    .dataframe thead th {\n",
       "        text-align: right;\n",
       "    }\n",
       "</style>\n",
       "<table border=\"1\" class=\"dataframe\">\n",
       "  <thead>\n",
       "    <tr style=\"text-align: right;\">\n",
       "      <th></th>\n",
       "      <th>initial_distance</th>\n",
       "      <th>mean_speed</th>\n",
       "      <th>dawdling_prob</th>\n",
       "      <th>ticks</th>\n",
       "      <th>n_agents</th>\n",
       "    </tr>\n",
       "  </thead>\n",
       "  <tbody>\n",
       "    <tr>\n",
       "      <th>0</th>\n",
       "      <td>1</td>\n",
       "      <td>0.00000</td>\n",
       "      <td>0.0</td>\n",
       "      <td>1000</td>\n",
       "      <td>100</td>\n",
       "    </tr>\n",
       "    <tr>\n",
       "      <th>1</th>\n",
       "      <td>2</td>\n",
       "      <td>1.00000</td>\n",
       "      <td>0.0</td>\n",
       "      <td>1000</td>\n",
       "      <td>100</td>\n",
       "    </tr>\n",
       "    <tr>\n",
       "      <th>2</th>\n",
       "      <td>3</td>\n",
       "      <td>2.00000</td>\n",
       "      <td>0.0</td>\n",
       "      <td>1000</td>\n",
       "      <td>100</td>\n",
       "    </tr>\n",
       "    <tr>\n",
       "      <th>3</th>\n",
       "      <td>4</td>\n",
       "      <td>3.00000</td>\n",
       "      <td>0.0</td>\n",
       "      <td>1000</td>\n",
       "      <td>100</td>\n",
       "    </tr>\n",
       "    <tr>\n",
       "      <th>4</th>\n",
       "      <td>5</td>\n",
       "      <td>4.00000</td>\n",
       "      <td>0.0</td>\n",
       "      <td>1000</td>\n",
       "      <td>100</td>\n",
       "    </tr>\n",
       "    <tr>\n",
       "      <th>5</th>\n",
       "      <td>1</td>\n",
       "      <td>0.00000</td>\n",
       "      <td>0.3</td>\n",
       "      <td>1000</td>\n",
       "      <td>100</td>\n",
       "    </tr>\n",
       "    <tr>\n",
       "      <th>6</th>\n",
       "      <td>2</td>\n",
       "      <td>0.59649</td>\n",
       "      <td>0.3</td>\n",
       "      <td>1000</td>\n",
       "      <td>100</td>\n",
       "    </tr>\n",
       "    <tr>\n",
       "      <th>7</th>\n",
       "      <td>3</td>\n",
       "      <td>1.15049</td>\n",
       "      <td>0.3</td>\n",
       "      <td>1000</td>\n",
       "      <td>100</td>\n",
       "    </tr>\n",
       "    <tr>\n",
       "      <th>8</th>\n",
       "      <td>4</td>\n",
       "      <td>1.69848</td>\n",
       "      <td>0.3</td>\n",
       "      <td>1000</td>\n",
       "      <td>100</td>\n",
       "    </tr>\n",
       "    <tr>\n",
       "      <th>9</th>\n",
       "      <td>5</td>\n",
       "      <td>2.24390</td>\n",
       "      <td>0.3</td>\n",
       "      <td>1000</td>\n",
       "      <td>100</td>\n",
       "    </tr>\n",
       "  </tbody>\n",
       "</table>\n",
       "</div>"
      ],
      "text/plain": [
       "   initial_distance  mean_speed  dawdling_prob  ticks  n_agents\n",
       "0                 1     0.00000            0.0   1000       100\n",
       "1                 2     1.00000            0.0   1000       100\n",
       "2                 3     2.00000            0.0   1000       100\n",
       "3                 4     3.00000            0.0   1000       100\n",
       "4                 5     4.00000            0.0   1000       100\n",
       "5                 1     0.00000            0.3   1000       100\n",
       "6                 2     0.59649            0.3   1000       100\n",
       "7                 3     1.15049            0.3   1000       100\n",
       "8                 4     1.69848            0.3   1000       100\n",
       "9                 5     2.24390            0.3   1000       100"
      ]
     },
     "execution_count": 74,
     "metadata": {},
     "output_type": "execute_result"
    }
   ],
   "source": [
    "df = pd.DataFrame(data)\n",
    "\n",
    "df"
   ]
  },
  {
   "cell_type": "code",
   "execution_count": 75,
   "id": "f8d4852d",
   "metadata": {},
   "outputs": [
    {
     "data": {
      "text/plain": [
       "<AxesSubplot:xlabel='traffic_density', ylabel='mean_speed'>"
      ]
     },
     "execution_count": 75,
     "metadata": {},
     "output_type": "execute_result"
    },
    {
     "data": {
      "image/png": "[encoded data removed]",
      "text/plain": [
       "<Figure size 432x288 with 1 Axes>"
      ]
     },
     "metadata": {
      "needs_background": "light"
     },
     "output_type": "display_data"
    }
   ],
   "source": [
    "df[\"traffic_density\"] = 1 / df[\"initial_distance\"]\n",
    "sns.lineplot(x=\"traffic_density\", y=\"mean_speed\", hue=\"dawdling_prob\", data=df)"
   ]
  }
 ],
 "metadata": {
  "kernelspec": {
   "display_name": "Python [conda env:amp] *",
   "language": "python",
   "name": "conda-env-amp-py"
  },
  "language_info": {
   "codemirror_mode": {
    "name": "ipython",
    "version": 3
   },
   "file_extension": ".py",
   "mimetype": "text/x-python",
   "name": "python",
   "nbconvert_exporter": "python",
   "pygments_lexer": "ipython3",
   "version": "3.7.10"
  }
 },
 "nbformat": 4,
 "nbformat_minor": 5
}
