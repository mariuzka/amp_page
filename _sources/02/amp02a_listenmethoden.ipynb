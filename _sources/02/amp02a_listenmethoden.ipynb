{
 "cells": [
  {
   "cell_type": "markdown",
   "id": "828fb5fc",
   "metadata": {},
   "source": [
    "# Grundlegende Listen-Methoden\n",
    "\n",
    "Schauen wir uns nun ein paar grundlegene Methoden von Listen an. All die folgenden \"Funktionen\" sind also Fähigkeiten von Listen, bestimmte Dinge zu tun. Diese Methoden sind exklusiv auf Listen zugeschnitten und funktionieren nur, wenn diese an Listen bzw. Variablennamen von Listen mit einem Punkt angehängt werden.\n",
    "\n",
    "## Ein Element anhängen: append()\n",
    "\n",
    "Die Methode `append()` fügt ein Element der Liste hinten an. Wir müssen das entsprechende Element dafür als Input in die Methode `append()` einfügen.\n",
    "\n",
    "Hier im Beispiel definiere ich zunächst die Liste `words`, welche ein paar Wörter enthält."
   ]
  },
  {
   "cell_type": "code",
   "execution_count": 1,
   "id": "5c852f3f",
   "metadata": {},
   "outputs": [],
   "source": [
    "words = [\"Baum\", \"Haus\", \"Sonne\"]"
   ]
  },
  {
   "cell_type": "code",
   "execution_count": 2,
   "id": "4b8988f2",
   "metadata": {},
   "outputs": [
    {
     "data": {
      "text/plain": [
       "['Baum', 'Haus', 'Sonne']"
      ]
     },
     "execution_count": 2,
     "metadata": {},
     "output_type": "execute_result"
    }
   ],
   "source": [
    "words"
   ]
  },
  {
   "cell_type": "markdown",
   "id": "513494c3",
   "metadata": {},
   "source": [
    "Nun füge ich mittels der Methode `append()` ein weiteres Wort hinzu:"
   ]
  },
  {
   "cell_type": "code",
   "execution_count": 3,
   "id": "84008093",
   "metadata": {},
   "outputs": [],
   "source": [
    "words.append(\"WLAN\")"
   ]
  },
  {
   "cell_type": "markdown",
   "id": "5a9281da",
   "metadata": {},
   "source": [
    "Das neue Wort befindet sich nun ebenfalls in der Liste:"
   ]
  },
  {
   "cell_type": "code",
   "execution_count": 4,
   "id": "d0d03402",
   "metadata": {
    "scrolled": true
   },
   "outputs": [
    {
     "data": {
      "text/plain": [
       "['Baum', 'Haus', 'Sonne', 'WLAN']"
      ]
     },
     "execution_count": 4,
     "metadata": {},
     "output_type": "execute_result"
    }
   ],
   "source": [
    "words"
   ]
  },
  {
   "cell_type": "markdown",
   "id": "669dd460",
   "metadata": {},
   "source": [
    "Beachte: Wir haben die Liste `words` verändert, ohne diese mittels Variablendefinition (mit Gleichheitsszeichen) zu überschreiben! Die Liste hat sich praktisch durch das Ausführen ihrer Methode `append()` selbst verändert."
   ]
  },
  {
   "cell_type": "markdown",
   "id": "da12e72f",
   "metadata": {},
   "source": [
    "## Eine Liste anhängen: extend()\n",
    "\n",
    "Man kann nicht nur einzelne Elemente an eine Liste anhängen, sondern man kann auch direkt eine ganze Liste von Objekten anhängen. Dabei werden aber nicht wie oben, die Liste mit Objekten einfach als Gesamtpaket d.h. als ein Objekt angehängt, sondern entpackt und als einzelne Objekte angehängt. Schauen wir uns das am besten einfach mal am Beispiel der Liste `words` an, welche zunächst noch so aussieht:"
   ]
  },
  {
   "cell_type": "code",
   "execution_count": 5,
   "id": "1c7ab046",
   "metadata": {},
   "outputs": [
    {
     "data": {
      "text/plain": [
       "['Baum', 'Haus', 'Sonne', 'WLAN']"
      ]
     },
     "execution_count": 5,
     "metadata": {},
     "output_type": "execute_result"
    }
   ],
   "source": [
    "words"
   ]
  },
  {
   "cell_type": "markdown",
   "id": "18d72d16",
   "metadata": {},
   "source": [
    "Angenommen wir haben eine weitere Liste namens `more_words`, die ich hier geschwind definiere:"
   ]
  },
  {
   "cell_type": "code",
   "execution_count": 6,
   "id": "3201aae0",
   "metadata": {},
   "outputs": [],
   "source": [
    "more_words = [\"Vogel\", \"Wiese\", \"Buch\"]"
   ]
  },
  {
   "cell_type": "code",
   "execution_count": 7,
   "id": "d8b910b7",
   "metadata": {},
   "outputs": [
    {
     "data": {
      "text/plain": [
       "['Vogel', 'Wiese', 'Buch']"
      ]
     },
     "execution_count": 7,
     "metadata": {},
     "output_type": "execute_result"
    }
   ],
   "source": [
    "more_words"
   ]
  },
  {
   "cell_type": "markdown",
   "id": "21ea67f8",
   "metadata": {},
   "source": [
    "Nun möchte ich alle Wörter der Liste `more_words` in die Liste `words` einfügen. Dafür benutze ich die Methode `extend()`:"
   ]
  },
  {
   "cell_type": "code",
   "execution_count": 8,
   "id": "0f4ef5dc",
   "metadata": {},
   "outputs": [],
   "source": [
    "words.extend(more_words)"
   ]
  },
  {
   "cell_type": "markdown",
   "id": "f3ef238e",
   "metadata": {},
   "source": [
    "Schauen wir uns nun die Liste `words` an:"
   ]
  },
  {
   "cell_type": "code",
   "execution_count": 9,
   "id": "7fa50676",
   "metadata": {},
   "outputs": [
    {
     "data": {
      "text/plain": [
       "['Baum', 'Haus', 'Sonne', 'WLAN', 'Vogel', 'Wiese', 'Buch']"
      ]
     },
     "execution_count": 9,
     "metadata": {},
     "output_type": "execute_result"
    }
   ],
   "source": [
    "words"
   ]
  },
  {
   "cell_type": "markdown",
   "id": "a2a58ef0",
   "metadata": {},
   "source": [
    "Und wir sehen, der Inhalt der Liste `more_words` befindet sich nur in der Liste `words`. Wir haben die beiden Listen praktisch miteinander verschmolzen."
   ]
  },
  {
   "cell_type": "markdown",
   "id": "89b265d1",
   "metadata": {},
   "source": [
    "## Ein Element an beliebiger Stelle einfügen: insert()"
   ]
  },
  {
   "cell_type": "markdown",
   "id": "a5376f19",
   "metadata": {},
   "source": [
    "Nun wissen wir, wie wir Elemente oder ganze Listen hinten an eine Liste anhängen. Wir wissen auch, wie wir mittels Indizierung auf ein Element in einer Liste zugreifen und dieses ggf. verändern oder austauschen. Was wir noch nicht wissen, ist, wie man ein Element zwischen die Elemente einer Liste einfügt. Dies geht u.a. mit der Methode `insert()`.\n",
    "\n",
    "Die Methode `insert()` benötigt zwei Argumente: \n",
    "- Das erste Argument gibt mittels Index an, an welcher Position das neue Element eingefügt werden soll\n",
    "- Das zweite Argument gibt an, welches Objekt an der entsprechenden Stelle eingefügt werden soll\n",
    "\n",
    "Unten füge ich mithilfe von `insert()` das Wort `\"Xylophon\"` an der dritten Stelle der Liste `words` ein:"
   ]
  },
  {
   "cell_type": "code",
   "execution_count": 10,
   "id": "79f7a583",
   "metadata": {},
   "outputs": [
    {
     "data": {
      "text/plain": [
       "['Baum', 'Haus', 'Xylophon', 'Sonne', 'WLAN', 'Vogel', 'Wiese', 'Buch']"
      ]
     },
     "execution_count": 10,
     "metadata": {},
     "output_type": "execute_result"
    }
   ],
   "source": [
    "words.insert(2, \"Xylophon\")\n",
    "\n",
    "words"
   ]
  },
  {
   "cell_type": "markdown",
   "id": "d28b8b30",
   "metadata": {},
   "source": [
    "## Das letzte Element ausgeben und abhängen: pop()\n",
    "\n",
    "Die Methode `pop()` tut zwei Dinge: Zum einen wird das letzte Element einer Liste abgehängt d.h. aus der Liste entfernt. Zum anderen wird aber zugleich auch das letzte Element auch zurückgegeben, sodass wir es bspw. einer Variable zuweisen können und es nicht weg ist, nachdem wir es von unserer Liste abgehängt haben. Wir können also mit der Funktion `pop()` das letzte Element aus der Liste herausnehmen und etwas anderes mit diesem machen. Letzteres müssen wir aber auch nicht. Wenn wir das zurückgegebene Element nicht wieder irgendwo speichern, dann verschwindet es einfach."
   ]
  },
  {
   "cell_type": "code",
   "execution_count": 11,
   "id": "a63e343e",
   "metadata": {},
   "outputs": [
    {
     "data": {
      "text/plain": [
       "['Baum', 'Haus', 'Xylophon', 'Sonne', 'WLAN', 'Vogel', 'Wiese', 'Buch']"
      ]
     },
     "execution_count": 11,
     "metadata": {},
     "output_type": "execute_result"
    }
   ],
   "source": [
    "words"
   ]
  },
  {
   "cell_type": "code",
   "execution_count": 12,
   "id": "bfa6518d",
   "metadata": {},
   "outputs": [
    {
     "data": {
      "text/plain": [
       "'Buch'"
      ]
     },
     "execution_count": 12,
     "metadata": {},
     "output_type": "execute_result"
    }
   ],
   "source": [
    "words.pop()"
   ]
  },
  {
   "cell_type": "code",
   "execution_count": 13,
   "id": "1ce5703b",
   "metadata": {},
   "outputs": [
    {
     "data": {
      "text/plain": [
       "['Baum', 'Haus', 'Xylophon', 'Sonne', 'WLAN', 'Vogel', 'Wiese']"
      ]
     },
     "execution_count": 13,
     "metadata": {},
     "output_type": "execute_result"
    }
   ],
   "source": [
    "words"
   ]
  },
  {
   "cell_type": "code",
   "execution_count": 14,
   "id": "f4d8f670",
   "metadata": {},
   "outputs": [],
   "source": [
    "letztes_element = words.pop()"
   ]
  },
  {
   "cell_type": "code",
   "execution_count": 15,
   "id": "512cafa1",
   "metadata": {
    "scrolled": true
   },
   "outputs": [
    {
     "data": {
      "text/plain": [
       "'Wiese'"
      ]
     },
     "execution_count": 15,
     "metadata": {},
     "output_type": "execute_result"
    }
   ],
   "source": [
    "letztes_element"
   ]
  }
 ],
 "metadata": {
  "kernelspec": {
   "display_name": "Python [conda env:amp_book] *",
   "language": "python",
   "name": "conda-env-amp_book-py"
  },
  "language_info": {
   "codemirror_mode": {
    "name": "ipython",
    "version": 3
   },
   "file_extension": ".py",
   "mimetype": "text/x-python",
   "name": "python",
   "nbconvert_exporter": "python",
   "pygments_lexer": "ipython3",
   "version": "3.7.10"
  }
 },
 "nbformat": 4,
 "nbformat_minor": 5
}
