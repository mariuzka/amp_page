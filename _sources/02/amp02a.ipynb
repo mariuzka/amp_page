{
 "cells": [
  {
   "cell_type": "markdown",
   "metadata": {},
   "source": [
    "# Listen\n",
    "\n",
    "Nachdem wir nun über die grundlegensten Datentypen und Funktionen in Python Bescheid wissen, steigen wir heute tiefer in die Funktionsweise eines ganz bestimmten und überaus wichtigen Datentyps ein: **Listen**.\n",
    "Listen sind in Python - sowie in fast jeder anderen Programmiersprache - ein unverzichtbarer Bestandteil. \n",
    "Listen kann man als eine Art von **Datencontainer** ansehen, in welchen wir alle möglichen Objekte ablegen können. \n",
    "Listen helfen uns damit dabei, die Objekte unseres Programmes sinnvoll zu strukturieren, damit wir z.B. den Überblick behalten oder auch alle Objekte innerhalb einer Liste auf einmal greifen und mit diesen irgendwas machen können."
   ]
  },
  {
   "cell_type": "markdown",
   "metadata": {},
   "source": [
    "**Zur Erinnerung**: Listen werden in Python durch zwei eckige Klammern erzeugt. Der Inhalt der Listen - irgendwelche Objekte - steht zwischen diesen beiden eckigen Klammern und wird jeweils mit einem Komma getrennt. Dies ist beispielsweise eine leere Liste komplett ohne Inhalt: `[]`. Dies ist eine Liste mit 3 Objekten: `[\"Haus\", 123, False]`. Listen kann man natürlich auch als Variable speichern:"
   ]
  },
  {
   "cell_type": "code",
   "execution_count": 1,
   "metadata": {},
   "outputs": [],
   "source": [
    "meine_tolle_liste = [\"Haus\", 123, False]"
   ]
  },
  {
   "cell_type": "markdown",
   "metadata": {},
   "source": [
    "... und dann unter dem Variablennamen wieder abrufen:"
   ]
  },
  {
   "cell_type": "code",
   "execution_count": 2,
   "metadata": {},
   "outputs": [
    {
     "data": {
      "text/plain": [
       "['Haus', 123, False]"
      ]
     },
     "execution_count": 2,
     "metadata": {},
     "output_type": "execute_result"
    }
   ],
   "source": [
    "meine_tolle_liste"
   ]
  },
  {
   "cell_type": "markdown",
   "metadata": {},
   "source": [
    "Die Liste `meine_tolle_liste` ermöglicht es also, die 3 Objekte `\"Haus\"`, `123`, `False` kompakt zu einem Paket zusammenzuschnüren und unter einem Namen zu speichern. Diese Eigenschaft ist allgemein für die Organisation unserer Programme sehr, sehr praktisch. \n",
    "\n",
    "Wir werden im Verlauf dieses Kapitels u.a. noch lernen, wie wir auf die einzelnen Elemente zugreifen und wie wir weitere Objekte hinzufügen. Nun reiße ich aber erstmal kurz an, wofür wir Listen im Rahmen der Programmierung von ABM meist brauchen."
   ]
  },
  {
   "cell_type": "markdown",
   "metadata": {},
   "source": [
    "## Der Nutzen von Listen (und anderen Datencontainern) für ABM\n",
    "\n",
    "Ganz allgemein kann man sagen, dass wir Listen im Kontext von ABM brauchen, weil ABMs Computerprogramme sind und man in Computerprogrammen eben Listen braucht. Punkt. Das stimmt zwar. Und wir werden Listen auch an allen Enden und Ecken brauchen, doch gibt es zwei *klassische* Anwendungsfälle für Listen im Bereich von ABM. Einerseits können wir unsere Gruppen bzw. Populationen von Agenten innerhalb von Listen organisieren. Andererseits können wir auch die Agenten selbst als Listen in unserem Programm repräsentieren, wobei jedes Element in der Liste dann eine Eigenschaft eines Agenten repräsentieren würde.\n",
    "\n",
    "Doch beginnen wir von vorne. Bei agentenbasierter Modellierung geht es darum, das Handeln und Interagieren vieler Akteure mithilfe eines Computerprogrammes zu simulieren. Das heißt, wir müssen die handelnden Akteure - die Agenten - irgendwie in unserem Programm mittels Objekte repräsentieren. Wie machen wir das? \n",
    "\n",
    "Im einfachsten Fall könnten wir Agenten einfach mit einem einzigen Wert, z.B. einer Zahl, darstellen. Diese Zahl könnte dann z.B. für eine Meinung des Agenten zur \"Corona-Politik\" der Bundesregierung auf einer Skala von 0 bis 10 stehen. Das hier wäre z.B. ein Agent mit einem Meinungswert von 4: `4`. Das hier wäre ein Agent mit einem Meinungswert von 7: `7`. Das hier wäre ein Agent mit einem Meinungswert von 2: `2`. Mit so vereinzelten und namenlosen Agenten können wir aber nicht wirklich was anfangen, da wir sie nicht wirklich \"packen\" können, um mit ihnen irgendwas zu machen, und zudem könnten wir Agenten mit derselben Meinung nicht unterscheiden. Eine Lösung wäre es, jeden Agenten unter eigenen Variable zu speichern. Das wird ab einer bestimmten Anzahl von Agenten auch ziemlich unpraktikabel. Und hier kommen die Listen ins Spiel!\n",
    "\n",
    "In der Regel speichern wir unsere Agenten in Listen ab, wie ich es hier tue:"
   ]
  },
  {
   "cell_type": "code",
   "execution_count": 3,
   "metadata": {},
   "outputs": [],
   "source": [
    "population = [4, 2, 7]"
   ]
  },
  {
   "cell_type": "code",
   "execution_count": 4,
   "metadata": {},
   "outputs": [
    {
     "data": {
      "text/plain": [
       "[4, 2, 7]"
      ]
     },
     "execution_count": 4,
     "metadata": {},
     "output_type": "execute_result"
    }
   ],
   "source": [
    "population"
   ]
  },
  {
   "cell_type": "markdown",
   "metadata": {},
   "source": [
    "Wir haben nun unsere vereinzelten und namenlosen Agenten, welche wir nur über eine einzige Eigenschaft darstellen, kompakt in einer Liste namens `population` gespeichert. So verlieren wir niemanden aus den Augen und wir können irgendwelche Aktionen immer für die ganze Liste ausführen lassen (was wir in den kommenden Kapiteln lernen werden). Nun können wir auch beliebig viele Agenten (auch mit derselben Meinung) in der Liste speichern:"
   ]
  },
  {
   "cell_type": "code",
   "execution_count": 5,
   "metadata": {},
   "outputs": [],
   "source": [
    "population = [4, 2, 7, 1, 5, 3, 2, 2, 5, 6, 7, 3]"
   ]
  },
  {
   "cell_type": "code",
   "execution_count": 6,
   "metadata": {
    "scrolled": true
   },
   "outputs": [
    {
     "data": {
      "text/plain": [
       "[4, 2, 7, 1, 5, 3, 2, 2, 5, 6, 7, 3]"
      ]
     },
     "execution_count": 6,
     "metadata": {},
     "output_type": "execute_result"
    }
   ],
   "source": [
    "population"
   ]
  },
  {
   "cell_type": "markdown",
   "metadata": {},
   "source": [
    "Nun haben wir es geschafft, mehrere Agenten mit einer Eigenschaft kompakt und praktisch in einer Liste zu speichern. Doch meist sollen unsere Agenten mehr als eine Eigenschaft aufweisen. Sie sollen z.B. nicht nur eine Meinung zum Thema X, sondern z.B. auch ein Alter aufweisen. Daher kann es Sinn machen, auch die Agenten selbst als Liste zu repräsentieren und alle Agenten-Eigenschaften innerhalb einer Liste zusammenzufassen. Schauen wir uns das mal an einem anderen Beispiel an. \n",
    "\n",
    "Angenommen ein Agent verfügt über folgende drei Eigenschaften: \n",
    "- **Infektionsstatus** (mit den möglichen Ausprägungen  `\"infizierbar\"`, `\"infiziert\"`, ` \"genesen\"` und `\"geimpft\"`)\n",
    "- **Symptome** (mit den möglichen Ausprägungen `True` und `False`)\n",
    "- **Tage seit der Infektion** (Diese Eigenschaft macht natürlich nur Sinn, wenn der Agent bereits infiziert wurde. Dann sollte die Anzahl der Tage seit der Infektion als ganze Zahl d.h. als `int` repräsentiert werden. Falls der Agent jedoch bisher noch nie infiziert wurde, dann setzen wir den Platzhalter `None`, den man wie ein \"Missing\" in der Statistik verstehen kann, ein.)\n",
    "\n",
    "Wir könnten diese Eigenschaften eines Agenten nun in einer Liste sammeln. Ein Agent könnte dann mit folgender Liste repräsentiert werden: \n",
    "\n",
    "`[\"infizierbar\", False, None]`\n",
    "\n",
    "Diese Liste repräsentiert nun für uns einen Agenten, welcher theoretisch mit dem Virus infizierbar ist, aktuell keine Symptome aufweist und keine Tage seit der Ansteckung aufweist, da er noch nie infiziert war. \n",
    "\n",
    "Natürlich könnte man auch diesen Agenten wieder unter einer Variable speichern:"
   ]
  },
  {
   "cell_type": "code",
   "execution_count": 7,
   "metadata": {},
   "outputs": [],
   "source": [
    "agent1 = [\"infizierbar\", False, None]"
   ]
  },
  {
   "cell_type": "code",
   "execution_count": 8,
   "metadata": {},
   "outputs": [
    {
     "data": {
      "text/plain": [
       "['infizierbar', False, None]"
      ]
     },
     "execution_count": 8,
     "metadata": {},
     "output_type": "execute_result"
    }
   ],
   "source": [
    "agent1"
   ]
  },
  {
   "cell_type": "markdown",
   "metadata": {},
   "source": [
    "Ein anderer Agent könnte zum Beispiel so aussehen: "
   ]
  },
  {
   "cell_type": "code",
   "execution_count": 9,
   "metadata": {},
   "outputs": [],
   "source": [
    "agent2 = [\"infiziert\", True, 5]"
   ]
  },
  {
   "cell_type": "code",
   "execution_count": 10,
   "metadata": {},
   "outputs": [
    {
     "data": {
      "text/plain": [
       "['infiziert', True, 5]"
      ]
     },
     "execution_count": 10,
     "metadata": {},
     "output_type": "execute_result"
    }
   ],
   "source": [
    "agent2"
   ]
  },
  {
   "cell_type": "markdown",
   "metadata": {},
   "source": [
    "Dies wäre für uns ein Agent, der aktuell infiziert ist, Symptome einer Krankheit aufweist und dessen Infektion 5 Tage her ist. \n",
    "\n",
    "Ein dritter Agent könnte beispielsweise infiziert sein, keine Symptome aufweisen und erst vor 2 Tagen angesteckt worden sein:"
   ]
  },
  {
   "cell_type": "code",
   "execution_count": 11,
   "metadata": {},
   "outputs": [],
   "source": [
    "agent3 = [\"infiziert\", False, 2]"
   ]
  },
  {
   "cell_type": "code",
   "execution_count": 12,
   "metadata": {},
   "outputs": [
    {
     "data": {
      "text/plain": [
       "['infiziert', False, 2]"
      ]
     },
     "execution_count": 12,
     "metadata": {},
     "output_type": "execute_result"
    }
   ],
   "source": [
    "agent3"
   ]
  },
  {
   "cell_type": "markdown",
   "metadata": {},
   "source": [
    "Um sinnvoll mit diesen Agenten \"arbeiten\" zu können, bietet es sich dann auch hier wieder an, die Agenten innerhalb einer weiteren Liste zusammenzufassen.\n",
    "Dies könnte dann so aussehen:"
   ]
  },
  {
   "cell_type": "code",
   "execution_count": 13,
   "metadata": {},
   "outputs": [],
   "source": [
    "population = [agent1, agent2, agent3]"
   ]
  },
  {
   "cell_type": "code",
   "execution_count": 14,
   "metadata": {},
   "outputs": [
    {
     "data": {
      "text/plain": [
       "[['infizierbar', False, None], ['infiziert', True, 5], ['infiziert', False, 2]]"
      ]
     },
     "execution_count": 14,
     "metadata": {},
     "output_type": "execute_result"
    }
   ],
   "source": [
    "population"
   ]
  },
  {
   "cell_type": "markdown",
   "metadata": {},
   "source": [
    "Was wir hier bei der Liste `population` nun sehen, ist eine Datenstruktur, mit der wir noch öfter zu tun haben werden, die uns manchmal etwas Kopfzerbrechen bereiten wird und mit der wir uns daher so früh wie möglich anfreunden sollten. Es ist eine **Liste von Listen** bzw. eine sogenannte **geschachtelte Liste**. Wir haben also eine Liste, deren Inhalt selbst wieder aus Listen besteht. Wir werden uns weiter unten in diesem Kapitel und auch in folgenden Kapiteln noch ausgiebig mit dieser Datenstruktur beschäftigen. \n",
    "\n",
    "An dieser Stelle möchte ich nur eine Sache erwähnen: Diese Datenstruktur verdeutlicht, aus welchen Ebenen/Bestandteilen/Objekten/Paketen ein großer Teil unseres Programmes in aller Regel bestehen wird bzw. wie wir unsere virtuelle Welt in unserem Computer organisieren:\n",
    "- Auf der untersten bzw. innersten Ebene sind die Eigenschaften unserer Agenten. \n",
    "- Dieses Innenleben der Agenten schnüren wir dann jeweils zu einem Paket bzw. Objekt zusammen (in diesem Fall zu Listen), welche dann jeweils einen Agenten als eine Einheit repräsentieren.\n",
    "- Die Agenten-Objekte wiederum fassen wir dann meist auch wieder in einer oder mehreren Liste(n) zusammen, um sinnvoll mit der ganzen Gruppe von Agenten arbeiten zu können"
   ]
  },
  {
   "cell_type": "markdown",
   "metadata": {},
   "source": [
    "**Übrigens:** Oben sieht das Erstellen der Population von Agenten und den jeweils einzelnen Eigenschaften einzelner Agenten noch nach viel Getippe aus. In den nächsten Kapitel werden wir jedoch lernen, wie wir sehr große Populationen von Agenten relativ entspannt \"automatisch\" erstellen lassen können, ohne jeden Agenten einzeln selbst explizit definieren oder benennen zu müssen.\n",
    "\n",
    "**Zugegeben:** Die Repräsentation der Agenten als Listen ist nicht sonderlich elegant. Wir müssen uns ja z.B. merken, welcher Stelle in der Liste welche Eigenschaft der Agenten steht. U.a. deshalb ist es auf lange Sicht unpraktisch, die Agenten als Listen darzustellen. Wir werden später die Agenten durch andere Objekt-Klassen ersetzen. Am Anfang macht es allerdings Sinn, nicht nur, weil wir Listen sowieso zwingend kennenlernen müssen, sondern auch, weil es eine relativ unkomplizierte und schnell erlernbare Form der Agenten-Repräsentation \"mit einfachen Mitteln\" ist."
   ]
  },
  {
   "cell_type": "markdown",
   "metadata": {},
   "source": [
    "## Exkurs: Noch ein paar Worte zur Repräsentation von Agenten\n",
    "\n",
    "Wenn wir Agenten einfach nur als einzelne Werte oder Listen von Werten darstellen, dann stellen wir zunächst eigentlich nur die \"passiven\" Eigenschaften der Agenten mit relativ \"passiven\" Daten dar. Da fehlt aber doch noch etwas? Ein Agent ist doch ein handelnder Akteur und nicht nur ein passiver Datensatz! Ein Agent sollte ja beispielsweise nicht nur die passive Eigenschaft haben, eine Meinung zu besitzen, sondern auch die aktive Eigenschaft, diese beispielsweise auch kundtun oder ändern zu können. Und ein Agent darf in Simulationen nicht nur einen Infektionsstatus haben, sondern muss auch die aktive Eigenschaft, andere Agenten anstecken zu können, besitzen. \n",
    "\n",
    "Den aktiven Teil der Agenten werden wir meist als Funktionen, also Programmanweisungen darüber, wie die Daten/Eigenschaften der Agenten verarbeitet werden sollen, repräsentieren. Zum Beispiel könnten wir die Handlung \"anstecken\" darstellen, indem wir mithilfe einer Funktion den Infektionsstatus `\"infiziert\"` vom einen Agenten auf einen anderen Agenten mit dem Status `\"infizierbar\"` übertragen, sodass dieser zweite Agent dann auch den Status `\"infiziert\"` aufweist.\n",
    "\n",
    "Zu Beginn werden wir dabei Funktionen und Daten jedoch noch relativ getrennt voneinander organisieren d.h. wir werden an der einen Stelle im Code die \"passiven\" Eigenschaften der Agenten in irgendeiner Form als Daten darstellen und an der anderen Stelle im Code die potentiellen \"Handlungen\" der Agenten als Funktionen implementieren. Erst während der Simulation, wenn ein Agent handelt, werden wir Daten und Funktionen zusammenbringen. Dann wird die entsprechende Funktion auf die entsprechenden Daten des handelnden Agenten (z.B. der ansteckende Agent) sowie der an einer Interaktion beteiligten Agenten (z.B. der angesteckte Agent) angewendet. \n",
    "\n",
    "In einer ähnlichen Logik werden wir zwar immer die Handlungen der Agenten in den Simulationen darstellen, dennoch werden wir später die Trennung zwischen passiven und aktiven Eigenschaften aufheben. Wir werden dann Objekte definieren, die sowohl die passiven Daten als auch die aktiven Funktionen bzw. Handlungen der Agenten vereinen. Letztlich macht das für die Simulationsergebnisse keinen Unterschied, es ist nur eine bessere Form der Code-Organisation und \"natürlichere\" Form der Darstellung handelnder Akteure. Wie man das macht, werden wir im Kapitel zur \"Objektorientierten Programmierung\" lernen. Weil man dazu aber einiges an Wissen über die Grundlagen von Python braucht, werden wir zu Beginn die passiven Eigenschaften und die aktiven Eigenschaften der Agenten noch getrennt implementieren z.B. indem wir die Daten eines Agenten innerhalb einer Liste abspeichern, wie wir in diesem Kapitel lernen werden.\n",
    "\n",
    "**Übrigens:** Auch wenn wir selbst erst in späteren Kapiteln lernen werden, wie man Objekte definiert, die sowohl passive Daten als auch aktive Funktionen innerhalb eines Objektes integrieren, werden wir diese Art von Objekten dennoch schon vorher verwenden. Denn Python ist voll mit diesen Objekten. Auch Listen selbst verfügen übrigens über eine \"aktive\" Seite, welche Listen überhaupt erst so praktisch machen und wir noch in diesem Kapitel kennenlernen werden."
   ]
  },
  {
   "cell_type": "markdown",
   "metadata": {},
   "source": [
    "# Der Zugriff auf Listen\n",
    "\n",
    "Im Folgenden schauen wir uns die Eigenschaften von Listen etwas näher an. Wir gucken uns zunächst an, wie wir an den Inhalt von Listen rankommen, nachdem wir diese erstellt haben und wie wir diesen Inhalt verändern können. Dann werfen wir u.a. noch einen Blick auf die wichtigsten \"Funktionen\" von Listen, der \"aktiven\" Seite von Listen.\n",
    "\n",
    "\n",
    "## Auf Elemente in Listen zugreifen: Indizierung\n",
    "\n",
    "Es ist ja schön und gut, dass wir die Agenten als Listen von Eigenschaften und die Population der Agenten als Liste von Listen von Eigenschaften repräsentieren können. Doch all das bringt uns nichts, wenn wir gar nicht wissen, wie wir auf die Elemente der Listen zugreifen können. \n",
    "\n",
    "Denn später werden wir in unseren Simulationen eigentlich immer das Folgende machen: Wir ...\n",
    "- ... gehen (automatisiert) eine \"Populations-Liste\" mit Agenten durch\n",
    "- ... greifen nacheinander auf die Agenten zu\n",
    "- ... greifen bei den jeweiligen Agenten auf bestimmte Eigenschaften zu \n",
    "- ... machen irgendwas mit diesen Eigenschaften (z.B. ändern wir den Status `\"infizierbar\"` in `\"infiziert\"` um) \n",
    "\n",
    "Wir müssen also unbedingt lernen, wie wir auf die Elemente von Listen zugreifen!\n",
    "\n",
    "Ein Weg, um auf die Elemente von Listen zuzugreifen, ist die sogenannte **Indizierung**. Bei der Indizierung geben wir an, an welcher Position in der Liste das gewünschte Element liegt, damit wir auf dieses Element zugreifen können. Steht ein Element beispielsweise an erster Stelle in einer Liste, dann muss man angeben, dass das Element an der ersten Position innerhalb der Liste liegt, um an das entsprechende Element zu kommen. Die Position eines Elements innerhalb einer Liste nennt man in Python auch **Index**. Daher heißt die Methode, bei der wir über einen solchen Index an das gewünschte Element kommen, Indizierung. \n",
    "\n",
    "Schauen wir uns die Indizierung mal genauer an. Angenommen wir haben eine beliebige Liste und wollen gezielt auf ein Element innerhalb dieser Liste zugreifen. Wie machen wir das? Wir tippen die Liste bzw. den Variablennamen der Liste ein und schreiben direkt dahinter in eckige Klammern den Index d.h. die Position des entsprechenden Elements, das wir auswählen wollen. Das sieht ganz allgemein formuliert so `LISTE[INDEX]` bzw. so `[ELEMENT, ELEMENT, ELEMENT, ...][INDEX]`.\n",
    "\n",
    "Schauen wir uns das mal konkret am Beispiel der Liste `agent`, welche ich im Folgenden definiere, an. "
   ]
  },
  {
   "cell_type": "code",
   "execution_count": 15,
   "metadata": {},
   "outputs": [],
   "source": [
    "agent = ['infiziert', False, 10]"
   ]
  },
  {
   "cell_type": "markdown",
   "metadata": {},
   "source": [
    "Die Liste `agent` sieht als Gesamtpaket dann also so aus:"
   ]
  },
  {
   "cell_type": "code",
   "execution_count": 16,
   "metadata": {},
   "outputs": [
    {
     "data": {
      "text/plain": [
       "['infiziert', False, 10]"
      ]
     },
     "execution_count": 16,
     "metadata": {},
     "output_type": "execute_result"
    }
   ],
   "source": [
    "agent"
   ]
  },
  {
   "cell_type": "markdown",
   "metadata": {},
   "source": [
    "Nun wollen wir in diesem Beispiel spaßeshalber gezielt auf das **dritte** Element der Liste `agent` zugreifen, z.B. weil wir den Wert für eine Berechnung brauchen oder wir diesen Wert verändern wollen. Wie wir gerade gelernt haben, müssen wir dazu den entsprechenden Positionsindex in eckigen Klammern hinter dem Variablennamen `agent` angeben. Jetzt müssen wir nur noch wissen, an welcher Position unser Element steht... ah ja, richtig, das Element steht an dritter Stelle, weshalb wir in die eckige Klammer hinter der Liste `agent` natürlich eine `2` eintragen müssen. Das mache ich nun:"
   ]
  },
  {
   "cell_type": "code",
   "execution_count": 17,
   "metadata": {},
   "outputs": [
    {
     "data": {
      "text/plain": [
       "10"
      ]
     },
     "execution_count": 17,
     "metadata": {},
     "output_type": "execute_result"
    }
   ],
   "source": [
    "agent[2]"
   ]
  },
  {
   "cell_type": "markdown",
   "metadata": {},
   "source": [
    "Wie wir sehen, es funktioniert. Das dritte Element der Liste `agent`, die `10`, wurde als einzelner Wert ausgegeben. Logischerweise muss man dazu die `2` als Positionsindex angeben. Man sieht, alles in Python ist super einfach und unmittelbar intuitiv. Dann können wir ja zum nächsten Thema übergehen!\n",
    "\n",
    "Ich hoffe, deine Aufmerksamkeit für den Text war gerade so groß, dass du das hier gerade nicht einfach so hingenommen hast, sondern dir sofort dachtest: Hä!? Das dritte Element wird mit dem Index `2` aufgerufen? Da kann doch was nicht stimmen!\n",
    "\n",
    "Aber doch, es stimmt. Und ich gebe zu, dies ist zunächst tatsächlich nicht besonders intuitiv. Man braucht etwas, um sich daran zu gewöhnen: In Python fängt man beim Zählen immer mit der 0 an. Auch die Durchnummerierung von Elementen einer Liste fängt daher bei 0 an. Das heißt, dass man auf das erste Element mit dem Index `0`, auf das zweite Element kann mit dem Index `1` und auf das dritte Element mit dem Index `2` zugreifen kann - und so weiter. Dass das Zählen bei 0 beginnt, wird uns nicht nur bei Listenindizes noch beschäftigen und ist übrigens in fast allen *professionellen* Programmiersprachen so.\n",
    "\n",
    "Hier greife ich z.B. auf das erste Element der Liste `agent` mithilfe des Index `0` zu:"
   ]
  },
  {
   "cell_type": "code",
   "execution_count": 18,
   "metadata": {},
   "outputs": [
    {
     "data": {
      "text/plain": [
       "'infiziert'"
      ]
     },
     "execution_count": 18,
     "metadata": {},
     "output_type": "execute_result"
    }
   ],
   "source": [
    "agent[0]"
   ]
  },
  {
   "cell_type": "markdown",
   "metadata": {},
   "source": [
    "Folgende Graphik veranschaulicht die Durchnummerierung der Elemente in Listen:"
   ]
  },
  {
   "cell_type": "code",
   "execution_count": 19,
   "metadata": {},
   "outputs": [
    {
     "data": {
      "image/png": "[encoded data removed]",
      "text/plain": [
       "<Figure size 2160x2160 with 1 Axes>"
      ]
     },
     "metadata": {
      "needs_background": "light"
     },
     "output_type": "display_data"
    }
   ],
   "source": [
    "import src\n",
    "src.plt_image(\"img/listen/folie1.png\")"
   ]
  },
  {
   "cell_type": "markdown",
   "metadata": {},
   "source": [
    " Neben der aufsteigenden Durchnummerierung der Listen-Elemente beginnend bei `0` sind die Elemente in Listen auch auf eine weitere Form von hinten beginnend durchnummeriert. Und zwar kann man auf das letzte Element auch mit dem Index `-1`, auf das vorletzte Element der Liste mit dem Index `-2`, auf das drittletzte Element der Liste mit dem Index `-3` zugreifen und so weiter. In der folgenden Abbildung sind neben den positiven Indizes durch die Nummerierung von vorne auch die negativen Indizes durch die Durchnummerierung von hinten abgebildet:"
   ]
  },
  {
   "cell_type": "code",
   "execution_count": 20,
   "metadata": {},
   "outputs": [
    {
     "data": {
      "image/png": "[encoded data removed]",
      "text/plain": [
       "<Figure size 2160x2160 with 1 Axes>"
      ]
     },
     "metadata": {
      "needs_background": "light"
     },
     "output_type": "display_data"
    }
   ],
   "source": [
    "src.plt_image(\"img/listen/folie2.png\")"
   ]
  },
  {
   "cell_type": "markdown",
   "metadata": {},
   "source": [
    "Hier greife ich beispielsweise auf das letzte Element der Liste `agent` mithilfe eines solchen negativen Index `-1` zu:"
   ]
  },
  {
   "cell_type": "code",
   "execution_count": 21,
   "metadata": {},
   "outputs": [
    {
     "data": {
      "text/plain": [
       "10"
      ]
     },
     "execution_count": 21,
     "metadata": {},
     "output_type": "execute_result"
    }
   ],
   "source": [
    "agent[-1]"
   ]
  },
  {
   "cell_type": "markdown",
   "metadata": {},
   "source": [
    "Und hier greife ich auf das erste Element der Liste `agent` mithilfe des Index `-3` zu:"
   ]
  },
  {
   "cell_type": "code",
   "execution_count": 22,
   "metadata": {},
   "outputs": [
    {
     "data": {
      "text/plain": [
       "'infiziert'"
      ]
     },
     "execution_count": 22,
     "metadata": {},
     "output_type": "execute_result"
    }
   ],
   "source": [
    "agent[-3]"
   ]
  },
  {
   "cell_type": "markdown",
   "metadata": {},
   "source": [
    "Listen (und ähnliche Datentypen) sind also \"von vorne\" und \"von hinten\" durchnummeriert. Man kann also mithilfe von positven und negativen Indizes auf die Elemente in Listen zugreifen. Im Normalfall verwendet man die positiven Indizes, dennoch kann es in manchen Situationen sehr hilfreich sein, auf die hinteren Elemente einer Liste mithilfe der negativen Indizierung zuzugreifen."
   ]
  },
  {
   "cell_type": "markdown",
   "metadata": {},
   "source": [
    "## Elemente in Listen ändern\n",
    "\n",
    "Mithilfe der Indizierung können wir nicht nur bestimmte Elemente einer Liste ausgeben lassen, sondern auch verändern. Dies machen wir genau so, wie wir Variablen definieren, geben aber auf der linken Seite des `=` keinen Variablennamen, sondern das entsprechende Listen-Element per Indizierung an, das verändert werden soll.\n",
    "\n",
    "Im Folgenden ändere ich den Infektionsstatus des Agenten `agent`. Zur Erinnerung, wie `agent` aussieht, lasse ich diesen zunächst ausgeben. Der Infektionsstatus steht an erster Stelle."
   ]
  },
  {
   "cell_type": "code",
   "execution_count": 23,
   "metadata": {
    "scrolled": true
   },
   "outputs": [
    {
     "data": {
      "text/plain": [
       "['infiziert', False, 10]"
      ]
     },
     "execution_count": 23,
     "metadata": {},
     "output_type": "execute_result"
    }
   ],
   "source": [
    "agent"
   ]
  },
  {
   "cell_type": "markdown",
   "metadata": {},
   "source": [
    "Nun ändere ich das erste Element der Liste `agent`, von `\"infiziert\"` auf `\"geimpft\"` um. Auf das erste Element kann man mit dem Index `0` zugreifen."
   ]
  },
  {
   "cell_type": "code",
   "execution_count": 24,
   "metadata": {},
   "outputs": [],
   "source": [
    "agent[0] = \"geimpft\""
   ]
  },
  {
   "cell_type": "markdown",
   "metadata": {},
   "source": [
    "Wenn wir uns nun `agent` anschauen, dann sehen wir, dass das erste Element entsprechend geändert wurde:"
   ]
  },
  {
   "cell_type": "code",
   "execution_count": 25,
   "metadata": {},
   "outputs": [
    {
     "data": {
      "text/plain": [
       "['geimpft', False, 10]"
      ]
     },
     "execution_count": 25,
     "metadata": {},
     "output_type": "execute_result"
    }
   ],
   "source": [
    "agent"
   ]
  },
  {
   "cell_type": "markdown",
   "metadata": {},
   "source": [
    "Im Folgenden ändere ich zusätzlich noch die beiden anderen Elemente."
   ]
  },
  {
   "cell_type": "code",
   "execution_count": 26,
   "metadata": {
    "scrolled": false
   },
   "outputs": [
    {
     "data": {
      "text/plain": [
       "['geimpft', True, 15]"
      ]
     },
     "execution_count": 26,
     "metadata": {},
     "output_type": "execute_result"
    }
   ],
   "source": [
    "agent[1] = True\n",
    "agent[2] = 15\n",
    "\n",
    "agent"
   ]
  },
  {
   "cell_type": "markdown",
   "metadata": {},
   "source": [
    "Der Agent basierend auf der Liste `agent` hat sich nun von einem vor 10 Tagen infizierten Agenten ohne Symptome zu einem vor 15 Tagen infizierten, nun symptomatischen und geimpften Agenten verändert.\n",
    "\n",
    "Während unseren Simulationen werden sich bestimmte Eigenschaften der Agenten ständig ändern und dann werden wir - wenn wir die Agenten als Listen repräsentieren - auch genau mit dieser Logik auf die Agenten zugreifen. Der Unterschied wird nur sein, dass wir nicht jeden einzelnen Zugriff explizit \"per Hand\" programmieren, sondern in der Regel werden solche Zugriffe in sogenannten Loops vollziehen. Das heißt wir programmieren einmal die allgemeine Struktur solcher Zugriffe und lassen das Programm dann automatisch für jeden Agenten solche Zugriffe vollziehen und die Werte der Agenten-Eigenschaften nach bestimmten Regeln ändern (oder auch nicht). Die Indexierung ist bei solchen Loops essentiell."
   ]
  },
  {
   "cell_type": "markdown",
   "metadata": {},
   "source": [
    "## Sich eine Scheibe abschneiden: Slicing\n",
    "\n",
    "Statt nur auf einzelne Elemente zuzugreifen, ist es auch möglich, auf mehrere nebeneinander stehende Elemente einer Liste gleichzeitig zuzugreifen. Weil man dabei praktisch *Schnitte* an bestimmten Stellen der Liste ansetzt, um einen bestimmten Teilbereich der Liste herauszutrennen, nennt man dieses Vorgehen auch Slicing. Beachtet werden muss aber, dass wir den Teilbereich dabei nicht ausschneiden, sondern kopieren. Slicing funktioniert wie folgt: Wir geben statt eines einzelnen Index einen **Start-** und einen **End-Index** in den eckigen Klammern hinter einer Liste an. Die beiden Indizes trennen wir dabei mit einem **Doppelpunkt**.\n",
    "\n",
    "Die allgemeine Syntax könnte man so formulieren:\n",
    "\n",
    "`LISTE[STARTINDEX:ENDINDEX]`\n",
    "\n",
    "Beispiel: Wir haben eine Liste `infections`, welche die Anzahl infizierter Agenten für verschiedene Tage speichert. Diese Liste erstelle ich hier:"
   ]
  },
  {
   "cell_type": "code",
   "execution_count": 27,
   "metadata": {},
   "outputs": [],
   "source": [
    "infections = [1, 2, 4, 8, 16, 32, 64, 128, 256, 512]"
   ]
  },
  {
   "cell_type": "markdown",
   "metadata": {},
   "source": [
    "So sieht die Liste infections insgesamt aus:"
   ]
  },
  {
   "cell_type": "code",
   "execution_count": 28,
   "metadata": {},
   "outputs": [
    {
     "data": {
      "text/plain": [
       "[1, 2, 4, 8, 16, 32, 64, 128, 256, 512]"
      ]
     },
     "execution_count": 28,
     "metadata": {},
     "output_type": "execute_result"
    }
   ],
   "source": [
    "infections"
   ]
  },
  {
   "cell_type": "markdown",
   "metadata": {},
   "source": [
    "Unten wende ich nun **Slicing** an, um die ersten fünf Werte ausgeben zu lassen. Als Start-Index gebe ich die `0` und als End-Index die `5` an:"
   ]
  },
  {
   "cell_type": "code",
   "execution_count": 29,
   "metadata": {},
   "outputs": [
    {
     "data": {
      "text/plain": [
       "[1, 2, 4, 8, 16]"
      ]
     },
     "execution_count": 29,
     "metadata": {},
     "output_type": "execute_result"
    }
   ],
   "source": [
    "infections[0:5]"
   ]
  },
  {
   "cell_type": "markdown",
   "metadata": {},
   "source": [
    "Als Ergebnis bekommen wir eine Liste zurück, welche die ersten fünf Elemente der Ursprungsliste `infections` enthält. Sieht erstmal alles recht intuitiv aus. Beim genaueren Darübernachdenken sollte einem als aufmerksame\\*r Leser\\*in aber auffallen, dass der Start-Index von `0` zwar auch dem ersten Element der Liste entspricht, der End-Index von `5` jedoch nicht dem fünften, sondern dem sechsten Element der Liste entspricht. Doch warum hat es dann funktioniert? Warum haben wir dennoch nur die ersten fünf und nicht die ersten sechs Elemente zurückbekommen? Das liegt daran, dass der End-Index immer das erste Element, das **nicht** mehr zur auszugebenden Unterliste gehören soll, angibt. \n",
    "\n",
    "Das klingt verwirrend, macht aber Sinn, wenn man die Indizes in Bezug zu den *Schnitten* setzt. Man kann sich vorstellen, dass man Python anhand des Start-Index und des End-Index sagt, wo jeweils der Schnitt angesetzt wird, um die Elemente zu trennen. Und der Schnitt wird dann immer **links** von der durch den Index angegebenen Position gesetzt. Wenn der Schnitt links von einem Element angesetzt wird, dann wird das Element auf der Start-Position eingeschlossen, weil es sich rechts vom Schnitt befindet. Das Element auf der End-Position hingegen wird aus dem Teilbereich ausgeschlossen, da es sich ja auch rechts vom Schnitt und somit nicht im ausgeschnittenen Bereich befindet.\n",
    "\n",
    "Folgende Graphik stellt das dar:"
   ]
  },
  {
   "cell_type": "code",
   "execution_count": 30,
   "metadata": {},
   "outputs": [
    {
     "data": {
      "image/png": "[encoded data removed]",
      "text/plain": [
       "<Figure size 2160x2160 with 1 Axes>"
      ]
     },
     "metadata": {
      "needs_background": "light"
     },
     "output_type": "display_data"
    }
   ],
   "source": [
    "src.plt_image(\"img/listen/folie3.png\")"
   ]
  },
  {
   "cell_type": "markdown",
   "metadata": {},
   "source": [
    "Um die letzten 5 Werte der Liste `infections` ausgeben zu lassen, muss man dementsprechend `[5:10]` hinter die Liste schreiben:"
   ]
  },
  {
   "cell_type": "code",
   "execution_count": 31,
   "metadata": {},
   "outputs": [
    {
     "data": {
      "text/plain": [
       "[32, 64, 128, 256, 512]"
      ]
     },
     "execution_count": 31,
     "metadata": {},
     "output_type": "execute_result"
    }
   ],
   "source": [
    "infections[5:10]"
   ]
  },
  {
   "cell_type": "markdown",
   "metadata": {},
   "source": [
    "Übrigens kann der zurückgegebene Teilbereich der Liste natürlich selbst wieder in einer Variable gespeichert werden:"
   ]
  },
  {
   "cell_type": "code",
   "execution_count": 32,
   "metadata": {},
   "outputs": [
    {
     "name": "stdout",
     "output_type": "stream",
     "text": [
      "[1, 2, 4, 8, 16]\n",
      "[32, 64, 128, 256, 512]\n"
     ]
    }
   ],
   "source": [
    "first_five_days = infections[0:5]\n",
    "last_five_days = infections[5:10]\n",
    "\n",
    "print(first_five_days)\n",
    "print(last_five_days)"
   ]
  },
  {
   "cell_type": "markdown",
   "metadata": {},
   "source": [
    "## Der Zugriff auf geschachtelte Listen"
   ]
  },
  {
   "cell_type": "markdown",
   "metadata": {},
   "source": [
    "Wie wir weiter oben bereits gesehen haben, können Listen selbstverständlich geschachtelt werden. Wir können also innerhalb von Listen weitere Listen als Elemente ablegen, sodass wir eine *Liste von Listen* bzw. *geschachtelte Liste* erhalten. Wie oben schon gezeigt, wäre beispielsweise eine Liste von Agenten, welche selbst als Listen reprästentiert werden, eine geschachtelte Liste.\n",
    "\n",
    "Im Folgenden erstelle ich zunächst drei Agenten und versammle diese dann innerhalb der Liste `population`:"
   ]
  },
  {
   "cell_type": "code",
   "execution_count": 33,
   "metadata": {},
   "outputs": [
    {
     "data": {
      "text/plain": [
       "[['infizierbar', False, None], ['infziert', True, 2], ['immun', False, 15]]"
      ]
     },
     "execution_count": 33,
     "metadata": {},
     "output_type": "execute_result"
    }
   ],
   "source": [
    "# Agenten erstellen\n",
    "agent1 = [\"infizierbar\", False, None]\n",
    "agent2 = [\"infziert\", True, 2]\n",
    "agent3 = [\"immun\", False, 15]\n",
    "\n",
    "# Populationsliste erstellen\n",
    "population = [agent1, agent2, agent3]\n",
    "\n",
    "# Populationsliste ausgeben lassen\n",
    "population"
   ]
  },
  {
   "cell_type": "markdown",
   "metadata": {},
   "source": [
    "Was ist nun, wenn wir eine solche geschachtelte Liste vorliegen haben und auf die Eigenschaft eines Agenten zugreifen wollen? Dann müssen wir uns Schritt für Schritt von Liste zu Liste mittels Indexing voran arbeiten, bis wir beim gewünschten Element angekommen sind.\n",
    "\n",
    "Wollen wir beispielsweise den Infektionsstatus von `agent2` wissen, dann müssen wir zunächst aus der Liste `population` mittels Index `agent2` auswählen und schließlich aus der Liste `agent2` das entsprechende Element, das den Infektionsstatus angibt, auswählen.\n",
    "\n",
    "Da sich `agent2` an der zweiten Stelle der Liste `population` befindet, greifen wir auf diesen zunächst mittels des Index `1` zu:"
   ]
  },
  {
   "cell_type": "code",
   "execution_count": 34,
   "metadata": {},
   "outputs": [
    {
     "data": {
      "text/plain": [
       "['infziert', True, 2]"
      ]
     },
     "execution_count": 34,
     "metadata": {},
     "output_type": "execute_result"
    }
   ],
   "source": [
    "population[1]"
   ]
  },
  {
   "cell_type": "markdown",
   "metadata": {},
   "source": [
    "Das was wir da sehen, ist quasi `agent2`. Wir sind also von der Populationsebene auf die Agentenebene vorangeschritten, sind aber noch nicht am Ziel. Wir wollen ja an das Innenleben des Agenten. Da sich der gewünschte Infektionsstatus an der ersten Stelle der durch `population[1]` zurückgegebenen Liste (`agent2`) befindet, müssen wir an `population[1]` noch den Index `0` hängen:"
   ]
  },
  {
   "cell_type": "code",
   "execution_count": 35,
   "metadata": {},
   "outputs": [
    {
     "data": {
      "text/plain": [
       "'infziert'"
      ]
     },
     "execution_count": 35,
     "metadata": {},
     "output_type": "execute_result"
    }
   ],
   "source": [
    "population[1][0]"
   ]
  },
  {
   "cell_type": "markdown",
   "metadata": {},
   "source": [
    "Insgesamt gilt: solange das durch eine Indizierung zurückgegebene Objekt ebenfalls wieder eine Liste bzw. oder ein ähnliches, indizierbares Objekt ist, solange kann auch die Indizierung wieder auf das zurückgegebene Objekt angewendet werden.\n",
    "\n",
    "Im Folgenden sieht man, wie wir uns Schritt für Schritt zur entsprechenden Agenten-Eigenschaft vorangearbeitet haben:"
   ]
  },
  {
   "cell_type": "code",
   "execution_count": 36,
   "metadata": {},
   "outputs": [
    {
     "data": {
      "text/plain": [
       "[['infizierbar', False, None], ['infziert', True, 2], ['immun', False, 15]]"
      ]
     },
     "execution_count": 36,
     "metadata": {},
     "output_type": "execute_result"
    }
   ],
   "source": [
    "# Gesamt-Population\n",
    "population"
   ]
  },
  {
   "cell_type": "code",
   "execution_count": 37,
   "metadata": {},
   "outputs": [
    {
     "data": {
      "text/plain": [
       "['infziert', True, 2]"
      ]
     },
     "execution_count": 37,
     "metadata": {},
     "output_type": "execute_result"
    }
   ],
   "source": [
    "# Nur der Agent an der zweiten Stelle\n",
    "population[1]"
   ]
  },
  {
   "cell_type": "code",
   "execution_count": 38,
   "metadata": {},
   "outputs": [
    {
     "data": {
      "text/plain": [
       "'infziert'"
      ]
     },
     "execution_count": 38,
     "metadata": {},
     "output_type": "execute_result"
    }
   ],
   "source": [
    "# Nur der die erste Eigenschaft des Agenten an der zweiten Stelle\n",
    "population[1][0]"
   ]
  },
  {
   "cell_type": "markdown",
   "metadata": {},
   "source": [
    "## Exkurs: Funktionen & Methoden\n",
    "\n",
    "Weiter unten möchte ich euch gleich noch ein paar wichtige Funktionen von Listen zeigen. Dazu müssen wir jedoch noch kurz eine besondere Form von Funktionen kennenlernen: die sogenannten Methoden.\n",
    "\n",
    "In Python kann man ganz allgemein zwischen zwei Formen von Funktionen unterscheiden. Auf der einen Seite gibt es das, was man ganz offiziell **Funktion** nennt. Eine solche Funktion ist beispielsweise die Funktion `print()` oder auch die Funktion `len()`. Diese Funktionen sind als komplett eigenständige Objekte anzusehen. Sie sind Anweisungen für unser Programm, welche ihr Dasein als Objekte fristen. Funktionen sind in Objekte gegossene, objektgewordene Handlungen unseres Programmes, welche immer und immer wieder aufgerufen werden können.\n",
    "\n",
    "Ein besonderer Nutzen von Funktionen (und Methoden) ist, dass ihre Prozeuren so allgemein gehalten sind, dass wir ihre Handlungen auf verschiedene andere Objekte anwenden können d.h. verschiedene Objekte mithilfe von Funktionen verarbeiten können. Sollen gewisse Objekte mithilfe von Funktionen verarbeitet werden, dann müssen diese in die runden Klammern der Funktion stecken. Die Funktion, als eigenständiges Objekt, tritt dann quasi von außen an das eingegebene Objekt heran, verschluckt es, verarbeitet es nach den Regeln der Funktion und gibt eine verarbeitete Version des eingegebenen Objektes wieder aus. Stecken wir Objekte in eine Funktion, dann sieht das ganz allgemein so aus:\n",
    "\n",
    "`FUNKTION(INPUTOBJEKT, INPUTOBJEKT, ...)`\n",
    "\n",
    "Auf der anderen Seite gibt es sogenannte **Methoden**. Methoden sind eigentlich fast nichts anderes als Funktionen. Der kleine Unterschied ist nur, dass eine Methode nicht eigenständig existiert. Eine Methode ist kein eigenständiges Objekt, sondern ist immer an ein bestimmtes Objekt gebunden. Eine Methode ist eine Funktion, die eine Eigenschaft eines Objektes ist. Eine Methode kann daher immer nur von diesem Objekt, dessen Eigenschaft die Methode ist, aufgerufen werden. Methoden sind als Eigenschaften von Objekten komplett auf *ihr* Objekt zugeschnitten, können meist unmittelbar auf das Innenleben von Objekten zugreifen und dieses direkt verändern.\n",
    "\n",
    "Methoden kann man wie Funktionen als *Handlungen* verstehen. Da eine Methode aber eine Eigenschaft eines Objektes ist, kann man sich vorstellen, dass nun das Objekt über die Fähigkeit zu handeln verfügt. Und die Handlung ist eben die Methode. Während also eine Funktion quasi wie eine *Handlung* an für sich ist, ist eine Methode eine Handlung, die von einem ganz bestimmten Objekt ausgeführt wird. Je nach Objekt-Typ kann das Objekt dann verschiedene Methoden, also verschiedene Handlungen, ausführen.\n",
    "\n",
    "Im Gegensatz zu klassischen Funktionen sind Methoden also nicht komplett eigenständig und können im Code auch nicht \"frei herumstehen\" z.B. wenn sie aufgerufen werden. Methoden werden stattdessen aufgerufen, indem deren Name hinten an ein Objekt mit einem Punkt angehängt werden. Das sieht dann allgemein formuliert so aus:\n",
    "\n",
    "`OBJEKT.METHODE()`\n",
    "\n",
    "Wird diese Methode auf diese Weise aufgerufen, bezieht sich die Methode unmittelbar auf das Objekt, von der aus die Methode aufgerufen wurde. Dadurch muss das Objekt selbst nicht mehr als Argument in die Methode eingegeben werden, weil dies quasi schon automatisch passiert ist. Neben dem Objekt, auf das sich die Methode bezieht, können natürlich noch weitere Objekte als Input eingegeben werden. Diese werden dann wie bei normalen Funktionen in die runden Klammern der Methode geschrieben:\n",
    "\n",
    "`OBJEKT.METHODE(INPUTOBJEKT, INPUTOBJEKT, ...)`\n",
    "\n",
    "Nochmal: Sowohl Funktionen und Methoden sind *Programmanweisungen* d.h. Code, der angibt, wie unser Programm *handeln* soll. Der Unterschied ist nur, dass Funktionen Handlungen sind, die (unrealistischerweise) eigentändig existieren können. Dieses selbstständige Handeln kann an als fremde, anonyme Macht an andere Objekte herantreten und diese nach den Regeln der Funktion verarbeiten. Das verarbeitete Objekt bleibt dabei passiv. Handeln tut die Funktion. Methoden hingegen sind die aktive Seite eines Objektes. Verfügt ein Objekt über Methoden, so ist dieses nicht mehr rein passiv, sondern kann selbst aktiv *handeln*.\n",
    "\n",
    "Übertragen auf die Realität könnte man die Fähigkeit von Hunden zu bellen und zu springen als Methoden von Hunden beschreiben. Springt ein Hund, dann führt der Hund quasi den Code `hund.springen()` aus. Bellt ein Hund, dann führt der Hund praktisch den Code `hund.bellen()` aus. Würden in der Realität das Springen und das Bellen an sich existieren, ohne eine Eigenschaft von Hunden oder anderen Objekten zu sein, dann würde das in Python einer Funktion entsprechen. Ein Hund würde dann z.B. bellen, wenn die Funktion `bellen()` den Hund zum bellen bewegt, indem folgender Code ausgeführt wird: `bellen(hund)`. Ich gehe davon aus, dass das nicht deinem Verständnis von der Realität entspricht. Methoden sind also um einiges näher \"an der Realität\" als Funktionen.\n",
    "\n",
    "Später werden wir daher unsere Agenten auch als eigene Objekte mit gewissen Methoden definieren. Handelt ein Agent, dann sieht das allgemein so aus:\n",
    "\n",
    "`AGENT.HANDELN()`\n",
    "\n",
    "Wenn der Agent mit einem anderen Agenten interagiert, könnte das ganze dann so aussehen:\n",
    "\n",
    "`AGENT.HANDELN(ANDERER_AGENT)`\n",
    "\n",
    "Aber wie gesagt, eine solche Logik werden wir erst später kennenlernen. Zu Beginn verwenden wir stattdessen eine solche, eher realitätsfernere Logik: Wir haben eine allgemeine Funktion `HANDELN()` und einen `AGENT`. Wenn wir diesen Agenten nun handeln lassen wollen, dann wenden wir die Funktion entsprechend auf den Agenten an:\n",
    "\n",
    "`HANDELN(AGENT)`\n",
    "\n",
    "Für eine Interaktion könnte man dann z.B. den zweiten Agenten auch als Argument in die Funktion einfügen:\n",
    "\n",
    "`HANDELN(AGENT, ANDERER_AGENT)`\n",
    "\n",
    "Hier ist also die Funktion `HANDELN()` nicht eine Eigenschaft eines Agenten, sondern verarbeitet nur die Daten des Agenten auf bestimmte Weise. In der Realität handeln ja aber die Agenten selbst und werden nicht von außen durch eine anonyme Macht \"gehandelt\". Die objektgebundenen Methoden der objektorientierten Programmierung, bei denen der Agent praktisch selbst handelt, sind also viel \"natürlicher\" bzw. realistischer. Dies hilft uns u.a. auch bei der Übersetzung der Realität bzw. einer soziologischen Theorie in ein Computerprogramm, weil das viel eher unserem Denken entspricht. Technisch gesehen, ist es eigentlich egal, ob wir Funktionen oder Methoden benutzen. Wir können mit beiden mehr oder weniger das gleiche machen. Es geht dabei tatsächlich nur darum, wie wir unser Programm ausformulieren, wie wir unsere Gedanken dem Computer mitteilen wollen.\n",
    "\n",
    "Das ist alles noch etwas abstrakt und es ist an dieser Stelle auch noch gar nicht sooo wichtig. Einerseits soll dir nur schon mal ein Gefühl dafür gegeben werden, wie wir ABM in Python umsetzen können und auf welche Weisen wir das im Verlauf dieses Kurses machen werden. Andererseits ging es mir bei diesem Exkurs darum, dass du im nun folgenden Abschnitt nicht verwundert bist, warum wir plötzlich \"Funktionen\" ausführen, indem wir diese hinten an Objekte anhängen."
   ]
  },
  {
   "cell_type": "markdown",
   "metadata": {},
   "source": [
    "## Grundlegende Methoden von Listen\n",
    "\n",
    "Schauen wir uns nun ein paar grundlegene Methoden von Listen an. All die folgenden \"Funktionen\" sind also Fähigkeiten von Listen, bestimmte Dinge zu tun. Diese Methoden sind exklusiv auf Listen zugeschnitten und funktionieren nur, wenn diese an Listen bzw. Variablennamen von Listen mit einem Punkt angehängt werden.\n",
    "\n",
    "### Ein Element anhängen: append()\n",
    "\n",
    "Die Methode `append()` fügt ein Element der Liste hinten an. Wir müssen das entsprechende Element dafür als Input in die Methode `append()` einfügen.\n",
    "\n",
    "Hier im Beispiel definiere ich zunächst die Liste `words`, welche ein paar Wörter enthält."
   ]
  },
  {
   "cell_type": "code",
   "execution_count": 39,
   "metadata": {},
   "outputs": [],
   "source": [
    "words = [\"Baum\", \"Haus\", \"Sonne\"]"
   ]
  },
  {
   "cell_type": "code",
   "execution_count": 40,
   "metadata": {},
   "outputs": [
    {
     "data": {
      "text/plain": [
       "['Baum', 'Haus', 'Sonne']"
      ]
     },
     "execution_count": 40,
     "metadata": {},
     "output_type": "execute_result"
    }
   ],
   "source": [
    "words"
   ]
  },
  {
   "cell_type": "markdown",
   "metadata": {},
   "source": [
    "Nun füge ich mittels der Methode `append()` ein weiteres Wort hinzu:"
   ]
  },
  {
   "cell_type": "code",
   "execution_count": 41,
   "metadata": {},
   "outputs": [],
   "source": [
    "words.append(\"WLAN\")"
   ]
  },
  {
   "cell_type": "markdown",
   "metadata": {},
   "source": [
    "Das neue Wort befindet sich nun ebenfalls in der Liste:"
   ]
  },
  {
   "cell_type": "code",
   "execution_count": 42,
   "metadata": {
    "scrolled": true
   },
   "outputs": [
    {
     "data": {
      "text/plain": [
       "['Baum', 'Haus', 'Sonne', 'WLAN']"
      ]
     },
     "execution_count": 42,
     "metadata": {},
     "output_type": "execute_result"
    }
   ],
   "source": [
    "words"
   ]
  },
  {
   "cell_type": "markdown",
   "metadata": {},
   "source": [
    "Beachte: Wir haben die Liste `words` verändert, ohne diese mittels Variablendefinition (mit Gleichheitsszeichen) zu überschreiben! Die Liste hat sich praktisch durch das Ausführen ihrer Methode `append()` selbst verändert."
   ]
  },
  {
   "cell_type": "markdown",
   "metadata": {},
   "source": [
    "Im Beispiel unten erstelle ich zunächsten einen Agenten `agent4` (in Form einer Liste) und hänge diesen dann an die Liste `population`, welche bereits oben irgendwann mal definiert wurde, mittels der Methode `append()` an."
   ]
  },
  {
   "cell_type": "code",
   "execution_count": 43,
   "metadata": {
    "scrolled": false
   },
   "outputs": [
    {
     "data": {
      "text/plain": [
       "[['infizierbar', False, None],\n",
       " ['infziert', True, 2],\n",
       " ['immun', False, 15],\n",
       " ['infiziert', False, 1]]"
      ]
     },
     "execution_count": 43,
     "metadata": {},
     "output_type": "execute_result"
    }
   ],
   "source": [
    "# Agent erstellen\n",
    "agent4 = [\"infiziert\", False, 1]\n",
    "\n",
    "# Agent an Populations-Liste anhängen\n",
    "population.append(agent4)\n",
    "\n",
    "# Populations-Liste anzeigen\n",
    "population"
   ]
  },
  {
   "cell_type": "markdown",
   "metadata": {},
   "source": [
    "### Eine Liste anhängen: extend()\n",
    "\n",
    "Man kann nicht nur einzelne Elemente an eine Liste anhängen, sondern man kann auch direkt eine ganze Liste von Objekten anhängen. Dabei werden aber nicht wie oben, die Liste mit Objekten einfach als Gesamtpaket d.h. als ein Objekt angehängt, sondern entpackt und als einzelne Objekte angehängt. Schauen wir uns das am besten einfach mal am Beispiel der Liste `words` an, welche zunächst noch so aussieht:"
   ]
  },
  {
   "cell_type": "code",
   "execution_count": 44,
   "metadata": {},
   "outputs": [
    {
     "data": {
      "text/plain": [
       "['Baum', 'Haus', 'Sonne', 'WLAN']"
      ]
     },
     "execution_count": 44,
     "metadata": {},
     "output_type": "execute_result"
    }
   ],
   "source": [
    "words"
   ]
  },
  {
   "cell_type": "markdown",
   "metadata": {},
   "source": [
    "Angenommen wir haben eine weitere Liste namens `more_words`, die ich hier geschwind definiere:"
   ]
  },
  {
   "cell_type": "code",
   "execution_count": 45,
   "metadata": {},
   "outputs": [],
   "source": [
    "more_words = [\"Vogel\", \"Wiese\", \"Buch\"]"
   ]
  },
  {
   "cell_type": "code",
   "execution_count": 46,
   "metadata": {},
   "outputs": [
    {
     "data": {
      "text/plain": [
       "['Vogel', 'Wiese', 'Buch']"
      ]
     },
     "execution_count": 46,
     "metadata": {},
     "output_type": "execute_result"
    }
   ],
   "source": [
    "more_words"
   ]
  },
  {
   "cell_type": "markdown",
   "metadata": {},
   "source": [
    "Nun möchte ich alle Wörter der Liste `more_words` in die Liste `words` einfügen. Dafür benutze ich die Methode `extend()`:"
   ]
  },
  {
   "cell_type": "code",
   "execution_count": 47,
   "metadata": {},
   "outputs": [],
   "source": [
    "words.extend(more_words)"
   ]
  },
  {
   "cell_type": "markdown",
   "metadata": {},
   "source": [
    "Schauen wir uns nun die Liste `words` an:"
   ]
  },
  {
   "cell_type": "code",
   "execution_count": 48,
   "metadata": {},
   "outputs": [
    {
     "data": {
      "text/plain": [
       "['Baum', 'Haus', 'Sonne', 'WLAN', 'Vogel', 'Wiese', 'Buch']"
      ]
     },
     "execution_count": 48,
     "metadata": {},
     "output_type": "execute_result"
    }
   ],
   "source": [
    "words"
   ]
  },
  {
   "cell_type": "markdown",
   "metadata": {},
   "source": [
    "Und wir sehen, der Inhalt der Liste `more_words` befindet sich nur in der Liste `words`. Wir haben die beiden Listen praktisch miteinander verschmolzen."
   ]
  },
  {
   "cell_type": "markdown",
   "metadata": {},
   "source": [
    "### Ein Element an beliebiger Stelle einfügen: insert()"
   ]
  },
  {
   "cell_type": "markdown",
   "metadata": {},
   "source": [
    "Nun wissen wir, wie wir Elemente oder ganze Listen hinten an eine Liste anhängen. Wir wissen auch, wie wir mittels Indizierung auf ein Element in einer Liste zugreifen und dieses ggf. verändern oder austauschen. Was wir noch nicht wissen, ist, wie man ein Element zwischen die Elemente einer Liste einfügt. Dies geht u.a. mit der Methode `insert()`.\n",
    "\n",
    "Die Methode `insert()` benötigt zwei Argumente: \n",
    "- Das erste Argument gibt mittels Index an, an welcher Position das neue Element eingefügt werden soll\n",
    "- Das zweite Argument gibt an, welches Objekt an der entsprechenden Stelle eingefügt werden soll\n",
    "\n",
    "Unten füge ich mithilfe von `insert()` das Wort `\"Xylophon\"` an der dritten Stelle der Liste `words` ein:"
   ]
  },
  {
   "cell_type": "code",
   "execution_count": 49,
   "metadata": {},
   "outputs": [
    {
     "data": {
      "text/plain": [
       "['Baum', 'Haus', 'Xylophon', 'Sonne', 'WLAN', 'Vogel', 'Wiese', 'Buch']"
      ]
     },
     "execution_count": 49,
     "metadata": {},
     "output_type": "execute_result"
    }
   ],
   "source": [
    "words.insert(2, \"Xylophon\")\n",
    "\n",
    "words"
   ]
  },
  {
   "cell_type": "markdown",
   "metadata": {},
   "source": [
    "### Das letzte Element ausgeben und abhängen: pop()\n",
    "\n",
    "Die Methode `pop()` tut zwei Dinge: Zum einen wird das letzte Element einer Liste abgehängt d.h. aus der Liste entfernt. Zum anderen wird aber zugleich auch das letzte Element auch zurückgegeben, sodass wir es bspw. einer Variable zuweisen können und es nicht weg ist, nachdem wir es von unserer Liste abgehängt haben. Wir können also mit der Funktion `pop()` das letzte Element aus der Liste herausnehmen und etwas anderes mit diesem machen. Letzteres müssen wir aber auch nicht. Wenn wir das zurückgegebene Element nicht wieder irgendwo speichern, dann verschwindet es einfach."
   ]
  },
  {
   "cell_type": "code",
   "execution_count": 50,
   "metadata": {},
   "outputs": [
    {
     "data": {
      "text/plain": [
       "['Baum', 'Haus', 'Xylophon', 'Sonne', 'WLAN', 'Vogel', 'Wiese', 'Buch']"
      ]
     },
     "execution_count": 50,
     "metadata": {},
     "output_type": "execute_result"
    }
   ],
   "source": [
    "words"
   ]
  },
  {
   "cell_type": "code",
   "execution_count": 51,
   "metadata": {},
   "outputs": [
    {
     "data": {
      "text/plain": [
       "'Buch'"
      ]
     },
     "execution_count": 51,
     "metadata": {},
     "output_type": "execute_result"
    }
   ],
   "source": [
    "words.pop()"
   ]
  },
  {
   "cell_type": "code",
   "execution_count": 52,
   "metadata": {},
   "outputs": [
    {
     "data": {
      "text/plain": [
       "['Baum', 'Haus', 'Xylophon', 'Sonne', 'WLAN', 'Vogel', 'Wiese']"
      ]
     },
     "execution_count": 52,
     "metadata": {},
     "output_type": "execute_result"
    }
   ],
   "source": [
    "words"
   ]
  },
  {
   "cell_type": "code",
   "execution_count": 53,
   "metadata": {},
   "outputs": [],
   "source": [
    "letztes_element = words.pop()"
   ]
  },
  {
   "cell_type": "code",
   "execution_count": 54,
   "metadata": {
    "scrolled": true
   },
   "outputs": [
    {
     "data": {
      "text/plain": [
       "'Wiese'"
      ]
     },
     "execution_count": 54,
     "metadata": {},
     "output_type": "execute_result"
    }
   ],
   "source": [
    "letztes_element"
   ]
  },
  {
   "cell_type": "markdown",
   "metadata": {},
   "source": [
    "## Noch ein paar nützliche Funktionen zum Umgang mit Listen\n",
    "\n",
    "Im Folgenden zeige ich noch kurz ein paar nützliche Funktionen, die wir beim Umgang mit Listen immer wieder brauchen werden. Diesmal sind es tatsächlich *richtige* Funktionen und keine Methoden."
   ]
  },
  {
   "cell_type": "markdown",
   "metadata": {},
   "source": [
    "### Summe, Minimum & Maximum: sum(), min(), max()\n",
    "\n",
    "Wenn eine Liste nur aus verrechenbaren Elementen besteht, also typischerweise aus Zahlen vom Typ `int` und `float`, dann kann man sich mit `sum()` die Summe, mit `min()` das Minimum und mit `max()` das Maximum aller Listenelemente ausgeben lassen."
   ]
  },
  {
   "cell_type": "code",
   "execution_count": 55,
   "metadata": {},
   "outputs": [
    {
     "data": {
      "text/plain": [
       "6"
      ]
     },
     "execution_count": 55,
     "metadata": {},
     "output_type": "execute_result"
    }
   ],
   "source": [
    "liste = [1,2,3]\n",
    "\n",
    "sum(liste)"
   ]
  },
  {
   "cell_type": "code",
   "execution_count": 56,
   "metadata": {},
   "outputs": [
    {
     "data": {
      "text/plain": [
       "1"
      ]
     },
     "execution_count": 56,
     "metadata": {},
     "output_type": "execute_result"
    }
   ],
   "source": [
    "min(liste)"
   ]
  },
  {
   "cell_type": "code",
   "execution_count": 57,
   "metadata": {},
   "outputs": [
    {
     "data": {
      "text/plain": [
       "3"
      ]
     },
     "execution_count": 57,
     "metadata": {},
     "output_type": "execute_result"
    }
   ],
   "source": [
    "max(liste)"
   ]
  },
  {
   "cell_type": "markdown",
   "metadata": {},
   "source": [
    "### Elemente löschen: del()"
   ]
  },
  {
   "cell_type": "markdown",
   "metadata": {},
   "source": [
    "Die Funktion `del()` wird generell dazu verwendet, um Variablen zu löschen. Besonders praktisch ist diese Funktion aber, wenn man einzelne Elemente aus einer Liste herauslöschen möchte. Als Argument übergibt man per Indizierung dasjenige Element aus der Liste, das gelöscht werden soll."
   ]
  },
  {
   "cell_type": "code",
   "execution_count": 58,
   "metadata": {},
   "outputs": [
    {
     "data": {
      "text/plain": [
       "[True, False, 1, 2, 3]"
      ]
     },
     "execution_count": 58,
     "metadata": {},
     "output_type": "execute_result"
    }
   ],
   "source": [
    "# eine Liste erstellen\n",
    "liste = [True, False, \"hallo\", 1, 2, 3]\n",
    "\n",
    "# Das dritte Element löschen\n",
    "del(liste[2])\n",
    "\n",
    "# Liste ausgeben\n",
    "liste"
   ]
  }
 ],
 "metadata": {
  "kernelspec": {
   "display_name": "Python 3",
   "language": "python",
   "name": "python3"
  },
  "language_info": {
   "codemirror_mode": {
    "name": "ipython",
    "version": 3
   },
   "file_extension": ".py",
   "mimetype": "text/x-python",
   "name": "python",
   "nbconvert_exporter": "python",
   "pygments_lexer": "ipython3",
   "version": "3.7.10"
  }
 },
 "nbformat": 4,
 "nbformat_minor": 2
}
