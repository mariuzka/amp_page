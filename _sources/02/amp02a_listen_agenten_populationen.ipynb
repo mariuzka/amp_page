{
 "cells": [
  {
   "cell_type": "markdown",
   "id": "60369be2",
   "metadata": {},
   "source": [
    "# Listen, Agenten & Populationen\n",
    "\n",
    "Nachdem wir nun über die grundlegensten Datentypen und Funktionen in Python Bescheid wissen, steigen wir in diesem Kapitel tiefer in die Funktionsweise eines ganz bestimmten und überaus wichtigen Datentyps ein: **Listen**.\n",
    "Listen sind in Python - sowie in fast jeder anderen Programmiersprache - ein unverzichtbarer Bestandteil. \n",
    "Listen kann man als eine Art von **Datencontainer** ansehen, in welchen wir alle möglichen Objekte ablegen können. \n",
    "Listen helfen uns damit dabei, die Objekte unseres Programmes sinnvoll zu strukturieren, damit wir z.B. den Überblick behalten oder auch alle Objekte innerhalb einer Liste auf einmal greifen und mit diesen irgendwas machen können."
   ]
  },
  {
   "cell_type": "markdown",
   "id": "69646249",
   "metadata": {},
   "source": [
    "## Wiederholung: Listen\n",
    "\n",
    "**Zur Erinnerung**: Listen werden in Python durch zwei eckige Klammern erzeugt. Der Inhalt der Listen - irgendwelche Objekte - steht zwischen diesen beiden eckigen Klammern und wird jeweils mit einem Komma getrennt. Dies ist beispielsweise eine leere Liste komplett ohne Inhalt: `[]`. Dies ist eine Liste mit 3 Objekten: `[\"Haus\", 123, False]`. Listen kann man natürlich auch als Variable speichern:"
   ]
  },
  {
   "cell_type": "code",
   "execution_count": 1,
   "id": "bd37be82",
   "metadata": {},
   "outputs": [],
   "source": [
    "meine_tolle_liste = [\"Haus\", 123, False]"
   ]
  },
  {
   "cell_type": "markdown",
   "id": "b915dcd5",
   "metadata": {},
   "source": [
    "... und dann unter dem Variablennamen wieder abrufen:"
   ]
  },
  {
   "cell_type": "code",
   "execution_count": 2,
   "id": "4e18a8cf",
   "metadata": {},
   "outputs": [
    {
     "data": {
      "text/plain": [
       "['Haus', 123, False]"
      ]
     },
     "execution_count": 2,
     "metadata": {},
     "output_type": "execute_result"
    }
   ],
   "source": [
    "meine_tolle_liste"
   ]
  },
  {
   "cell_type": "markdown",
   "id": "7ac0ebba",
   "metadata": {},
   "source": [
    "Die Liste `meine_tolle_liste` ermöglicht es also, die 3 Objekte `\"Haus\"`, `123`, `False` kompakt zu einem Paket zusammenzuschnüren und unter einem Namen zu speichern. Diese Eigenschaft ist allgemein für die Organisation unserer Programme sehr, sehr praktisch. \n",
    "\n",
    "Wir werden im Verlauf dieses Kapitels u.a. noch lernen, wie wir auf die einzelnen Elemente zugreifen und wie wir weitere Objekte hinzufügen. Nun reiße ich aber erstmal kurz an, wofür wir Listen im Rahmen der Programmierung von ABM meist brauchen."
   ]
  },
  {
   "cell_type": "markdown",
   "id": "ffd3bebf",
   "metadata": {},
   "source": [
    "## Wofür wir Listen brauchen\n",
    "\n",
    "Ganz allgemein kann man sagen, dass wir Listen im Kontext von ABM brauchen, weil ABMs Computerprogramme sind und man in Computerprogrammen eben Listen braucht. Punkt. Das stimmt zwar. Und wir werden Listen auch an allen Enden und Ecken brauchen, doch gibt es zwei *klassische* Anwendungsfälle für Listen im Bereich von ABM. Einerseits können wir unsere Gruppen bzw. Populationen von Agenten innerhalb von Listen organisieren. Andererseits können wir auch die Agenten selbst als Listen in unserem Programm repräsentieren, wobei jedes Element in der Liste dann eine Eigenschaft eines Agenten repräsentieren würde.\n",
    "\n",
    "Doch beginnen wir von vorne. Bei agentenbasierter Modellierung geht es darum, das Handeln und Interagieren vieler Akteure mithilfe eines Computerprogrammes zu simulieren. Das heißt, wir müssen die handelnden Akteure - die Agenten - irgendwie in unserem Programm mittels Objekte repräsentieren. Wie machen wir das? \n",
    "\n",
    "Im einfachsten Fall könnten wir Agenten einfach mit einem einzigen Wert, z.B. einer Zahl, darstellen. Diese Zahl könnte dann z.B. für eine Meinung des Agenten zur \"Corona-Politik\" der Bundesregierung auf einer Skala von 0 bis 10 stehen. Das hier wäre z.B. ein Agent mit einem Meinungswert von 4: `4`. Das hier wäre ein Agent mit einem Meinungswert von 7: `7`. Das hier wäre ein Agent mit einem Meinungswert von 2: `2`. Mit so vereinzelten und namenlosen Agenten können wir aber nicht wirklich was anfangen, da wir sie nicht wirklich \"packen\" können, um mit ihnen irgendwas zu machen, und zudem könnten wir Agenten mit derselben Meinung nicht unterscheiden. Eine Lösung wäre es, jeden Agenten unter eigenen Variable zu speichern. Das wird ab einer bestimmten Anzahl von Agenten auch ziemlich unpraktikabel. Und hier kommen die Listen ins Spiel!\n",
    "\n",
    "In der Regel speichern wir unsere Agenten in Listen ab, wie ich es hier tue:"
   ]
  },
  {
   "cell_type": "code",
   "execution_count": 3,
   "id": "acde0793",
   "metadata": {},
   "outputs": [],
   "source": [
    "population = [4, 2, 7]"
   ]
  },
  {
   "cell_type": "code",
   "execution_count": 4,
   "id": "79285fe0",
   "metadata": {},
   "outputs": [
    {
     "data": {
      "text/plain": [
       "[4, 2, 7]"
      ]
     },
     "execution_count": 4,
     "metadata": {},
     "output_type": "execute_result"
    }
   ],
   "source": [
    "population"
   ]
  },
  {
   "cell_type": "markdown",
   "id": "7332bd23",
   "metadata": {},
   "source": [
    "Wir haben nun unsere vereinzelten und namenlosen Agenten, welche wir nur über eine einzige Eigenschaft darstellen, kompakt in einer Liste namens `population` gespeichert. So verlieren wir niemanden aus den Augen und wir können irgendwelche Aktionen immer für die ganze Liste ausführen lassen (was wir in den kommenden Kapiteln lernen werden). Nun können wir auch beliebig viele Agenten (auch mit derselben Meinung) in der Liste speichern:"
   ]
  },
  {
   "cell_type": "code",
   "execution_count": 5,
   "id": "0afcb50f",
   "metadata": {},
   "outputs": [],
   "source": [
    "population = [4, 2, 7, 1, 5, 3, 2, 2, 5, 6, 7, 3]"
   ]
  },
  {
   "cell_type": "code",
   "execution_count": 6,
   "id": "01e39026",
   "metadata": {
    "scrolled": true
   },
   "outputs": [
    {
     "data": {
      "text/plain": [
       "[4, 2, 7, 1, 5, 3, 2, 2, 5, 6, 7, 3]"
      ]
     },
     "execution_count": 6,
     "metadata": {},
     "output_type": "execute_result"
    }
   ],
   "source": [
    "population"
   ]
  },
  {
   "cell_type": "markdown",
   "id": "3d17d557",
   "metadata": {},
   "source": [
    "Nun haben wir es geschafft, mehrere Agenten mit einer Eigenschaft kompakt und praktisch in einer Liste zu speichern. Doch meist sollen unsere Agenten mehr als eine Eigenschaft aufweisen. Sie sollen z.B. nicht nur eine Meinung zum Thema X, sondern z.B. auch ein Alter aufweisen. Daher kann es Sinn machen, auch die Agenten selbst als Liste zu repräsentieren und alle Agenten-Eigenschaften innerhalb einer Liste zusammenzufassen. Schauen wir uns das mal an einem anderen Beispiel an. \n",
    "\n",
    "Angenommen ein Agent verfügt über folgende drei Eigenschaften: \n",
    "- **Infektionsstatus** (mit den möglichen Ausprägungen  `\"infizierbar\"`, `\"infiziert\"`, ` \"genesen\"` und `\"geimpft\"`)\n",
    "- **Symptome** (mit den möglichen Ausprägungen `True` und `False`)\n",
    "- **Tage seit der Infektion** (Diese Eigenschaft macht natürlich nur Sinn, wenn der Agent bereits infiziert wurde. Dann sollte die Anzahl der Tage seit der Infektion als ganze Zahl d.h. als `int` repräsentiert werden. Falls der Agent jedoch bisher noch nie infiziert wurde, dann setzen wir den Platzhalter `None`, den man wie ein \"Missing\" in der Statistik verstehen kann, ein.)\n",
    "\n",
    "Wir könnten diese Eigenschaften eines Agenten nun in einer Liste sammeln. Ein Agent könnte dann mit folgender Liste repräsentiert werden: \n",
    "\n",
    "`[\"infizierbar\", False, None]`\n",
    "\n",
    "Diese Liste repräsentiert nun für uns einen Agenten, welcher theoretisch mit dem Virus infizierbar ist, aktuell keine Symptome aufweist und keine Tage seit der Ansteckung aufweist, da er noch nie infiziert war. \n",
    "\n",
    "Natürlich könnte man auch diesen Agenten wieder unter einer Variable speichern:"
   ]
  },
  {
   "cell_type": "code",
   "execution_count": 7,
   "id": "ce80a2b3",
   "metadata": {},
   "outputs": [],
   "source": [
    "agent1 = [\"infizierbar\", False, None]"
   ]
  },
  {
   "cell_type": "code",
   "execution_count": 8,
   "id": "3b16462c",
   "metadata": {},
   "outputs": [
    {
     "data": {
      "text/plain": [
       "['infizierbar', False, None]"
      ]
     },
     "execution_count": 8,
     "metadata": {},
     "output_type": "execute_result"
    }
   ],
   "source": [
    "agent1"
   ]
  },
  {
   "cell_type": "markdown",
   "id": "d46fbe8e",
   "metadata": {},
   "source": [
    "Ein anderer Agent könnte zum Beispiel so aussehen: "
   ]
  },
  {
   "cell_type": "code",
   "execution_count": 9,
   "id": "df4b0703",
   "metadata": {},
   "outputs": [],
   "source": [
    "agent2 = [\"infiziert\", True, 5]"
   ]
  },
  {
   "cell_type": "code",
   "execution_count": 10,
   "id": "8212f2c3",
   "metadata": {},
   "outputs": [
    {
     "data": {
      "text/plain": [
       "['infiziert', True, 5]"
      ]
     },
     "execution_count": 10,
     "metadata": {},
     "output_type": "execute_result"
    }
   ],
   "source": [
    "agent2"
   ]
  },
  {
   "cell_type": "markdown",
   "id": "1b6210dd",
   "metadata": {},
   "source": [
    "Dies wäre für uns ein Agent, der aktuell infiziert ist, Symptome einer Krankheit aufweist und dessen Infektion 5 Tage her ist. \n",
    "\n",
    "Ein dritter Agent könnte beispielsweise infiziert sein, keine Symptome aufweisen und erst vor 2 Tagen angesteckt worden sein:"
   ]
  },
  {
   "cell_type": "code",
   "execution_count": 11,
   "id": "703fef5c",
   "metadata": {},
   "outputs": [],
   "source": [
    "agent3 = [\"infiziert\", False, 2]"
   ]
  },
  {
   "cell_type": "code",
   "execution_count": 12,
   "id": "6e668198",
   "metadata": {},
   "outputs": [
    {
     "data": {
      "text/plain": [
       "['infiziert', False, 2]"
      ]
     },
     "execution_count": 12,
     "metadata": {},
     "output_type": "execute_result"
    }
   ],
   "source": [
    "agent3"
   ]
  },
  {
   "cell_type": "markdown",
   "id": "03e2afd0",
   "metadata": {},
   "source": [
    "Um sinnvoll mit diesen Agenten \"arbeiten\" zu können, bietet es sich dann auch hier wieder an, die Agenten innerhalb einer weiteren Liste zusammenzufassen.\n",
    "Dies könnte dann so aussehen:"
   ]
  },
  {
   "cell_type": "code",
   "execution_count": 13,
   "id": "d03710b2",
   "metadata": {},
   "outputs": [],
   "source": [
    "population = [agent1, agent2, agent3]"
   ]
  },
  {
   "cell_type": "code",
   "execution_count": 14,
   "id": "0b6a7a59",
   "metadata": {},
   "outputs": [
    {
     "data": {
      "text/plain": [
       "[['infizierbar', False, None], ['infiziert', True, 5], ['infiziert', False, 2]]"
      ]
     },
     "execution_count": 14,
     "metadata": {},
     "output_type": "execute_result"
    }
   ],
   "source": [
    "population"
   ]
  },
  {
   "cell_type": "markdown",
   "id": "ff6b6996",
   "metadata": {},
   "source": [
    "Was wir hier bei der Liste `population` nun sehen, ist eine Datenstruktur, mit der wir noch öfter zu tun haben werden, die uns manchmal etwas Kopfzerbrechen bereiten wird und mit der wir uns daher so früh wie möglich anfreunden sollten. Es ist eine **Liste von Listen** bzw. eine sogenannte **geschachtelte Liste**. Wir haben also eine Liste, deren Inhalt selbst wieder aus Listen besteht. Wir werden uns weiter unten in diesem Kapitel und auch in folgenden Kapiteln noch ausgiebig mit dieser Datenstruktur beschäftigen. \n",
    "\n",
    "An dieser Stelle möchte ich nur eine Sache erwähnen: Diese Datenstruktur verdeutlicht, aus welchen Ebenen/Bestandteilen/Objekten/Paketen ein großer Teil unseres Programmes in aller Regel bestehen wird bzw. wie wir unsere virtuelle Welt in unserem Computer organisieren:\n",
    "- Auf der untersten bzw. innersten Ebene sind die Eigenschaften unserer Agenten. \n",
    "- Dieses Innenleben der Agenten schnüren wir dann jeweils zu einem Paket bzw. Objekt zusammen (in diesem Fall zu Listen), welche dann jeweils einen Agenten als eine Einheit repräsentieren.\n",
    "- Die Agenten-Objekte wiederum fassen wir dann meist auch wieder in einer oder mehreren Liste(n) zusammen, um sinnvoll mit der ganzen Gruppe von Agenten arbeiten zu können"
   ]
  },
  {
   "cell_type": "markdown",
   "id": "ff069f4a",
   "metadata": {},
   "source": [
    "```{admonition} Übrigens\n",
    "Oben sieht das Erstellen der Population von Agenten und den jeweils einzelnen Eigenschaften einzelner Agenten noch nach viel Getippe aus. In den nächsten Kapitel werden wir jedoch lernen, wie wir sehr große Populationen von Agenten relativ entspannt \"automatisch\" erstellen lassen können, ohne jeden Agenten einzeln selbst explizit definieren oder benennen zu müssen.\n",
    "```"
   ]
  },
  {
   "cell_type": "markdown",
   "id": "ee3e5f27",
   "metadata": {},
   "source": [
    "```{admonition} Zugegeben\n",
    "Die Repräsentation der Agenten als Listen ist nicht sonderlich elegant. Wir müssen uns ja z.B. merken, welcher Stelle in der Liste welche Eigenschaft der Agenten steht. U.a. deshalb ist es auf lange Sicht unpraktisch, die Agenten als Listen darzustellen. Wir werden später die Agenten durch andere Objekt-Klassen ersetzen. Am Anfang macht es allerdings Sinn, nicht nur, weil wir Listen sowieso zwingend kennenlernen müssen, sondern auch, weil es eine relativ unkomplizierte und schnell erlernbare Form der Agenten-Repräsentation \"mit einfachen Mitteln\" ist.\n",
    "```"
   ]
  },
  {
   "cell_type": "markdown",
   "id": "98a46155",
   "metadata": {},
   "source": [
    "## Noch ein paar Worte zur Repräsentation von Agenten\n",
    "\n",
    "Wenn wir Agenten einfach nur als einzelne Werte oder Listen von Werten darstellen, dann stellen wir zunächst eigentlich nur die \"passiven\" Eigenschaften der Agenten mit relativ \"passiven\" Daten dar. Da fehlt aber doch noch etwas? Ein Agent ist doch ein handelnder Akteur und nicht nur ein passiver Datensatz! Ein Agent sollte ja beispielsweise nicht nur die passive Eigenschaft haben, eine Meinung zu besitzen, sondern auch die aktive Eigenschaft, diese beispielsweise auch kundtun oder ändern zu können. Und ein Agent darf in Simulationen nicht nur einen Infektionsstatus haben, sondern muss auch die aktive Eigenschaft, andere Agenten anstecken zu können, besitzen. \n",
    "\n",
    "Den aktiven Teil der Agenten werden wir meist als Funktionen, also Programmanweisungen darüber, wie die Daten/Eigenschaften der Agenten verarbeitet werden sollen, repräsentieren. Zum Beispiel könnten wir die Handlung \"anstecken\" darstellen, indem wir mithilfe einer Funktion den Infektionsstatus `\"infiziert\"` vom einen Agenten auf einen anderen Agenten mit dem Status `\"infizierbar\"` übertragen, sodass dieser zweite Agent dann auch den Status `\"infiziert\"` aufweist.\n",
    "\n",
    "Zu Beginn werden wir dabei Funktionen und Daten jedoch noch relativ getrennt voneinander organisieren d.h. wir werden an der einen Stelle im Code die \"passiven\" Eigenschaften der Agenten in irgendeiner Form als Daten darstellen und an der anderen Stelle im Code die potentiellen \"Handlungen\" der Agenten als Funktionen implementieren. Erst während der Simulation, wenn ein Agent handelt, werden wir Daten und Funktionen zusammenbringen. Dann wird die entsprechende Funktion auf die entsprechenden Daten des handelnden Agenten (z.B. der ansteckende Agent) sowie der an einer Interaktion beteiligten Agenten (z.B. der angesteckte Agent) angewendet. \n",
    "\n",
    "In einer ähnlichen Logik werden wir zwar immer die Handlungen der Agenten in den Simulationen darstellen, dennoch werden wir später die Trennung zwischen passiven und aktiven Eigenschaften aufheben. Wir werden dann Objekte definieren, die sowohl die passiven Daten als auch die aktiven Funktionen bzw. Handlungen der Agenten vereinen. Letztlich macht das für die Simulationsergebnisse keinen Unterschied, es ist nur eine bessere Form der Code-Organisation und \"natürlichere\" Form der Darstellung handelnder Akteure. Wie man das macht, werden wir im Kapitel zur \"Objektorientierten Programmierung\" lernen. Weil man dazu aber einiges an Wissen über die Grundlagen von Python braucht, werden wir zu Beginn die passiven Eigenschaften und die aktiven Eigenschaften der Agenten noch getrennt implementieren z.B. indem wir die Daten eines Agenten innerhalb einer Liste abspeichern, wie wir in diesem Kapitel lernen werden.\n",
    "\n"
   ]
  },
  {
   "cell_type": "markdown",
   "id": "e3e92621",
   "metadata": {},
   "source": [
    "```{admonition} Übrigens\n",
    "Auch wenn wir selbst erst in späteren Kapiteln lernen werden, wie man Objekte definiert, die sowohl passive Daten als auch aktive Funktionen innerhalb eines Objektes integrieren, werden wir diese Art von Objekten dennoch schon vorher verwenden. Denn Python ist voll mit diesen Objekten. Auch Listen selbst verfügen übrigens über eine \"aktive\" Seite, welche Listen überhaupt erst so praktisch machen und wir noch in diesem Kapitel kennenlernen werden.\n",
    "```"
   ]
  }
 ],
 "metadata": {
  "kernelspec": {
   "display_name": "Python [conda env:amp_book]",
   "language": "python",
   "name": "conda-env-amp_book-py"
  },
  "language_info": {
   "codemirror_mode": {
    "name": "ipython",
    "version": 3
   },
   "file_extension": ".py",
   "mimetype": "text/x-python",
   "name": "python",
   "nbconvert_exporter": "python",
   "pygments_lexer": "ipython3",
   "version": "3.7.10"
  }
 },
 "nbformat": 4,
 "nbformat_minor": 5
}
