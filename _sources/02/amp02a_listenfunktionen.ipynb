{
 "cells": [
  {
   "cell_type": "markdown",
   "id": "52285c5a",
   "metadata": {},
   "source": [
    "# Nützliche Funktionen\n",
    "\n",
    "Im Folgenden zeige ich noch kurz ein paar nützliche Funktionen, die wir beim Umgang mit Listen immer wieder brauchen werden. Diesmal sind es tatsächlich *richtige* Funktionen und keine Methoden."
   ]
  },
  {
   "cell_type": "markdown",
   "id": "5ba7956b",
   "metadata": {},
   "source": [
    "## Summe, Minimum & Maximum: sum(), min(), max()\n",
    "\n",
    "Wenn eine Liste nur aus verrechenbaren Elementen besteht, also typischerweise aus Zahlen vom Typ `int` und `float`, dann kann man sich mit `sum()` die Summe, mit `min()` das Minimum und mit `max()` das Maximum aller Listenelemente ausgeben lassen."
   ]
  },
  {
   "cell_type": "code",
   "execution_count": 1,
   "id": "68fd8ef9",
   "metadata": {},
   "outputs": [
    {
     "data": {
      "text/plain": [
       "6"
      ]
     },
     "execution_count": 1,
     "metadata": {},
     "output_type": "execute_result"
    }
   ],
   "source": [
    "liste = [1,2,3]\n",
    "\n",
    "sum(liste)"
   ]
  },
  {
   "cell_type": "code",
   "execution_count": 2,
   "id": "bcd1a48e",
   "metadata": {},
   "outputs": [
    {
     "data": {
      "text/plain": [
       "1"
      ]
     },
     "execution_count": 2,
     "metadata": {},
     "output_type": "execute_result"
    }
   ],
   "source": [
    "min(liste)"
   ]
  },
  {
   "cell_type": "code",
   "execution_count": 3,
   "id": "bac84f16",
   "metadata": {},
   "outputs": [
    {
     "data": {
      "text/plain": [
       "3"
      ]
     },
     "execution_count": 3,
     "metadata": {},
     "output_type": "execute_result"
    }
   ],
   "source": [
    "max(liste)"
   ]
  },
  {
   "cell_type": "markdown",
   "id": "cd3f7502",
   "metadata": {},
   "source": [
    "## Elemente löschen: del()"
   ]
  },
  {
   "cell_type": "markdown",
   "id": "1ab3a6e9",
   "metadata": {},
   "source": [
    "Die Funktion `del()` wird generell dazu verwendet, um Variablen zu löschen. Besonders praktisch ist diese Funktion aber, wenn man einzelne Elemente aus einer Liste herauslöschen möchte. Als Argument übergibt man per Indizierung dasjenige Element aus der Liste, das gelöscht werden soll."
   ]
  },
  {
   "cell_type": "code",
   "execution_count": 4,
   "id": "8c9f2b77",
   "metadata": {},
   "outputs": [
    {
     "data": {
      "text/plain": [
       "[True, False, 1, 2, 3]"
      ]
     },
     "execution_count": 4,
     "metadata": {},
     "output_type": "execute_result"
    }
   ],
   "source": [
    "# eine Liste erstellen\n",
    "liste = [True, False, \"hallo\", 1, 2, 3]\n",
    "\n",
    "# Das dritte Element löschen\n",
    "del(liste[2])\n",
    "\n",
    "# Liste ausgeben\n",
    "liste"
   ]
  }
 ],
 "metadata": {
  "kernelspec": {
   "display_name": "Python [conda env:amp_book]",
   "language": "python",
   "name": "conda-env-amp_book-py"
  },
  "language_info": {
   "codemirror_mode": {
    "name": "ipython",
    "version": 3
   },
   "file_extension": ".py",
   "mimetype": "text/x-python",
   "name": "python",
   "nbconvert_exporter": "python",
   "pygments_lexer": "ipython3",
   "version": "3.7.10"
  }
 },
 "nbformat": 4,
 "nbformat_minor": 5
}
