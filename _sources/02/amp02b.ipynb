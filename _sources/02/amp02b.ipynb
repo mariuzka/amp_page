{
 "cells": [
  {
   "cell_type": "markdown",
   "id": "3c9a927b",
   "metadata": {},
   "source": [
    "# 2.2 Hinterlistige Übungen\n",
    "\n",
    "Im Folgenden findest du ein paar *Trockenübungen* zur Liste. Das muss sein, weil der Umgang mit Listen für die Programmierung von ABM einfach sitzen muss. Wir werden in keiner Simulation ohne Listen auskommen. Das wird sich jetzt alles nach mühseliger Handarbeit anfühlen, aber keine Sorge, wenn du jetzt das Prinzip von Listen verstehst, dann kannst du später die meisten Listenzugriffe per Loop automatisieren und dich zurücklehnen.\n",
    "\n",
    "Verwende während den Übungen immer wieder die Funktion `print()`, die Konsole oder den Variablenexplorer in Spyder, um dir den aktuellen Zustand deiner Variablen/Objekte anzeigen zu lassen. So erkennst du schnell, wenn etwas falsch läuft.\n",
    "\n",
    "\n",
    "1. Erstelle zwei leere Listen namens `gruppe1` und `gruppe2`.\n",
    "\n",
    "2. Füge in `gruppe1` die Zahlen 4, 6 und 8 mittels der Funktion `append()` hinzu.\n",
    "\n",
    "3. Füge in `gruppe2` die Zahlen 1, 3 und 8 mittels der Funktion `insert()` oder der Funktion `extend()` hinzu.\n",
    "\n",
    "4. Jede Zahl in den Listen `gruppe1` und `gruppe2` steht jeweils für einen Agenten bzw. die Meinung eines Agenten auf einer Skala von 0 bis 10. Berechne jeweils die durchschnittliche Meinung der Gruppe und speichere diese unter beliebigen Variablennamen ab. Tipp: Die Funktionen `sum()` und `len()`können dir dabei behilflich sein.\n",
    "\n",
    "5. Lasse dir den Wert des ersten Agenten aus `gruppe1` mittels Listenindizierung ausgeben.\n",
    "\n",
    "6. Der erste und der zweite Agent aus `gruppe2` unterhalten sich. Der erste Agent überzeugt den zweiten Agenten. Dadurch verändert sich die Meinung des zweiten Agenten. Die Meinung des zweiten Agenten setzt sich nun zu 60% aus dessen ursprünglicher Meinung und zu 40% aus der Meinung des ersten Agenten zusammen. Berechne die neue Meinung des zweiten Agenten aus `gruppe2`. Verwende während den Berechnungen Listenindizierung. Achte darauf, dass du keinen Agenten aus `gruppe1` überschreibst!\n",
    "\n",
    "7. Dem dritten Agenten aus `gruppe2` wird es in `gruppe2` zu bunt, weshalb er in `gruppe1` überwechseln möchte. Füge mit einem beliebigen Vorgehen den dritten Agenten aus `gruppe2` an der ersten Position (!) von `gruppe1` ein und lösche diesen aus `gruppe2`.\n",
    "\n",
    "8. Erstelle eine Gesamtliste `population`, welche alle Agenten aus `gruppe1` und `gruppe2` enthält.\n",
    "\n",
    "9. Speichere die ersten 5 Agenten der Liste `population` in einer Liste namens `first_five_agents`. Verwende dabei Slicing.\n",
    "\n",
    "10. Angenommen wir wollen per Indizierung auf das letzte Element einer Liste zugreifen, wissen aber zunächst nicht, wie viele Elemente sich in der Liste befinden. Welche zwei Lösungswege fallen dir ein, um auf das letzte Element einer Liste zuzufgreifen?"
   ]
  }
 ],
 "metadata": {
  "kernelspec": {
   "display_name": "Python [conda env:amp] *",
   "language": "python",
   "name": "conda-env-amp-py"
  },
  "language_info": {
   "codemirror_mode": {
    "name": "ipython",
    "version": 3
   },
   "file_extension": ".py",
   "mimetype": "text/x-python",
   "name": "python",
   "nbconvert_exporter": "python",
   "pygments_lexer": "ipython3",
   "version": "3.7.10"
  }
 },
 "nbformat": 4,
 "nbformat_minor": 5
}
