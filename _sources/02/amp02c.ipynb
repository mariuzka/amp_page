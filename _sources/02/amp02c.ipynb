{
 "cells": [
  {
   "cell_type": "markdown",
   "id": "1d1955e2",
   "metadata": {},
   "source": [
    "# Lösungen"
   ]
  },
  {
   "cell_type": "markdown",
   "id": "f67f8c95",
   "metadata": {},
   "source": [
    "## Aufgabe 1\n",
    "- Erstelle zwei leere Listen namens `gruppe1` und `gruppe2`."
   ]
  },
  {
   "cell_type": "code",
   "execution_count": 1,
   "id": "d43be1af",
   "metadata": {},
   "outputs": [
    {
     "name": "stdout",
     "output_type": "stream",
     "text": [
      "[] []\n"
     ]
    }
   ],
   "source": [
    "gruppe1 = []\n",
    "gruppe2 = []\n",
    "\n",
    "print(gruppe1, gruppe2)"
   ]
  },
  {
   "cell_type": "markdown",
   "id": "8fb96e35",
   "metadata": {},
   "source": [
    "## Aufgabe 2\n",
    "- Füge in `gruppe1` die Zahlen 4, 6 und 8 mittels der Funktion `append()` hinzu."
   ]
  },
  {
   "cell_type": "code",
   "execution_count": 2,
   "id": "eebb2eb4",
   "metadata": {},
   "outputs": [
    {
     "name": "stdout",
     "output_type": "stream",
     "text": [
      "[4, 6, 8]\n"
     ]
    }
   ],
   "source": [
    "gruppe1.append(4)\n",
    "gruppe1.append(6)\n",
    "gruppe1.append(8)\n",
    "\n",
    "print(gruppe1)"
   ]
  },
  {
   "cell_type": "markdown",
   "id": "72cee0a5",
   "metadata": {},
   "source": [
    "## Aufgabe 3\n",
    "- Füge in `gruppe2` die Zahlen 1, 3 und 8 mittels der Funktion `insert()` oder der Funktion `extend()` hinzu."
   ]
  },
  {
   "cell_type": "code",
   "execution_count": 3,
   "id": "79e5b9ed",
   "metadata": {},
   "outputs": [
    {
     "name": "stdout",
     "output_type": "stream",
     "text": [
      "[1, 3, 8]\n"
     ]
    }
   ],
   "source": [
    "gruppe2.extend([1, 3, 8])\n",
    "\n",
    "print(gruppe2)"
   ]
  },
  {
   "cell_type": "markdown",
   "id": "06255414",
   "metadata": {},
   "source": [
    "## Aufgabe 4\n",
    "Jede Zahl in den Listen `gruppe1` und `gruppe2` steht jeweils für einen Agenten bzw. die Meinung eines Agenten auf einer Skala von 0 bis 10. \n",
    "- Berechne jeweils die durchschnittliche Meinung der Gruppe und speichere diese unter beliebigen Variablennamen ab.\n",
    "Tipp: Die Funktionen `sum()` und `len()`können dir dabei behilflich sein."
   ]
  },
  {
   "cell_type": "code",
   "execution_count": 4,
   "id": "f765f4ef",
   "metadata": {},
   "outputs": [
    {
     "name": "stdout",
     "output_type": "stream",
     "text": [
      "Durchschnitt Gruppe 1: 6.0 Durchschnitt Gruppe 2: 4.0\n"
     ]
    }
   ],
   "source": [
    "mean_gruppe1 = sum(gruppe1) / len(gruppe1)\n",
    "mean_gruppe2 = sum(gruppe2) / len(gruppe2)\n",
    "\n",
    "print(\"Durchschnitt Gruppe 1:\", mean_gruppe1, \"Durchschnitt Gruppe 2:\", mean_gruppe2)"
   ]
  },
  {
   "cell_type": "markdown",
   "id": "b3fdfe30",
   "metadata": {},
   "source": [
    "## Aufgabe 5\n",
    "- Lasse dir den Wert des ersten Agenten aus `gruppe1` mittels Listenindizierung ausgeben."
   ]
  },
  {
   "cell_type": "code",
   "execution_count": 5,
   "id": "22e40472",
   "metadata": {},
   "outputs": [
    {
     "data": {
      "text/plain": [
       "4"
      ]
     },
     "execution_count": 5,
     "metadata": {},
     "output_type": "execute_result"
    }
   ],
   "source": [
    "gruppe1[0]"
   ]
  },
  {
   "cell_type": "markdown",
   "id": "46696a64",
   "metadata": {},
   "source": [
    "\n",
    "## Aufgabe 6\n",
    "Der erste und der zweite Agent aus `gruppe2` unterhalten sich. Der erste Agent überzeugt den zweiten Agenten. Dadurch verändert sich die Meinung des zweiten Agenten. Die Meinung des zweiten Agenten setzt sich nun zu 60% aus dessen ursprünglicher Meinung und zu 40% aus der Meinung des ersten Agenten zusammen. \n",
    "- Berechne die neue Meinung des zweiten Agenten aus `gruppe2`. Verwende während den Berechnungen Listenindizierung. Achte darauf, dass du keinen Agenten aus `gruppe1` überschreibst!"
   ]
  },
  {
   "cell_type": "code",
   "execution_count": 6,
   "id": "e2a297c6",
   "metadata": {},
   "outputs": [
    {
     "name": "stdout",
     "output_type": "stream",
     "text": [
      "[1, 2.1999999999999997, 8]\n"
     ]
    }
   ],
   "source": [
    "gruppe2[1] = gruppe2[1] * 0.6 + gruppe2[0] * 0.4\n",
    "\n",
    "print(gruppe2)"
   ]
  },
  {
   "cell_type": "markdown",
   "id": "42702561",
   "metadata": {},
   "source": [
    "## Aufgabe 7\n",
    "Dem dritten Agenten aus `gruppe2` wird es in `gruppe2` zu bunt, weshalb er in `gruppe1` überwechseln möchte. \n",
    "- Füge mit einem beliebigen Vorgehen den dritten Agenten aus `gruppe2` an der ersten Position (!) von `gruppe1` ein und lösche diesen aus `gruppe2`."
   ]
  },
  {
   "cell_type": "code",
   "execution_count": 7,
   "id": "38d54211",
   "metadata": {},
   "outputs": [
    {
     "name": "stdout",
     "output_type": "stream",
     "text": [
      "[8, 4, 6, 8]\n",
      "[1, 2.1999999999999997]\n"
     ]
    }
   ],
   "source": [
    "gruppe1.insert(0, gruppe2[2])\n",
    "\n",
    "del(gruppe2[2])\n",
    "\n",
    "print(gruppe1)\n",
    "print(gruppe2)"
   ]
  },
  {
   "cell_type": "markdown",
   "id": "aa24e048",
   "metadata": {},
   "source": [
    "## Aufgabe 8\n",
    "- Erstelle eine Gesamtliste `population`, welche alle Agenten aus `gruppe1` und `gruppe2` enthält."
   ]
  },
  {
   "cell_type": "code",
   "execution_count": 8,
   "id": "8471aeab",
   "metadata": {},
   "outputs": [
    {
     "name": "stdout",
     "output_type": "stream",
     "text": [
      "[8, 4, 6, 8, 1, 2.1999999999999997]\n"
     ]
    }
   ],
   "source": [
    "population = []\n",
    "population.extend(gruppe1)\n",
    "population.extend(gruppe2)\n",
    "\n",
    "print(population)"
   ]
  },
  {
   "cell_type": "markdown",
   "id": "09ab6bb5",
   "metadata": {},
   "source": [
    "Was auch gehen würde:"
   ]
  },
  {
   "cell_type": "code",
   "execution_count": 9,
   "id": "7a1dd294",
   "metadata": {},
   "outputs": [
    {
     "name": "stdout",
     "output_type": "stream",
     "text": [
      "[8, 4, 6, 8, 1, 2.1999999999999997]\n"
     ]
    }
   ],
   "source": [
    "population = gruppe1 + gruppe2\n",
    "\n",
    "print(population)"
   ]
  },
  {
   "cell_type": "markdown",
   "id": "2f699fe3",
   "metadata": {},
   "source": [
    "## Aufgabe 9\n",
    "- Speichere die ersten 5 Agenten der Liste `population` in einer Liste namens `first_five_agents`. Verwende dabei Slicing."
   ]
  },
  {
   "cell_type": "code",
   "execution_count": 10,
   "id": "bdd95cda",
   "metadata": {},
   "outputs": [
    {
     "name": "stdout",
     "output_type": "stream",
     "text": [
      "[8, 4, 6, 8, 1]\n"
     ]
    }
   ],
   "source": [
    "first_five_agents = population[0:5]\n",
    "\n",
    "print(first_five_agents)"
   ]
  },
  {
   "cell_type": "markdown",
   "id": "9b67bed9",
   "metadata": {},
   "source": [
    "## Aufgabe 10\n",
    "Angenommen wir wollen per Indizierung auf das letzte Element einer Liste zugreifen, wissen aber zunächst nicht, wie viele Elemente sich in der Liste befinden. \n",
    "\n",
    "- Welche zwei Lösungswege fallen dir ein, um auf das letzte Element einer Liste zuzufgreifen?"
   ]
  },
  {
   "cell_type": "markdown",
   "id": "a8fcc810",
   "metadata": {},
   "source": [
    "Möglichkeit 1: Das letzte Element ist immer über den Index -1 zu finden"
   ]
  },
  {
   "cell_type": "code",
   "execution_count": 11,
   "id": "09eea608",
   "metadata": {},
   "outputs": [
    {
     "data": {
      "text/plain": [
       "2.1999999999999997"
      ]
     },
     "execution_count": 11,
     "metadata": {},
     "output_type": "execute_result"
    }
   ],
   "source": [
    "population[-1]"
   ]
  },
  {
   "cell_type": "markdown",
   "id": "4768a48b",
   "metadata": {},
   "source": [
    "Möglichkeit 2: Wir könnten zunächst die Länge der Liste mittels `len()` messen und dann 1 von der Länge abziehen"
   ]
  },
  {
   "cell_type": "code",
   "execution_count": 12,
   "id": "c12781ad",
   "metadata": {},
   "outputs": [
    {
     "data": {
      "text/plain": [
       "2.1999999999999997"
      ]
     },
     "execution_count": 12,
     "metadata": {},
     "output_type": "execute_result"
    }
   ],
   "source": [
    "population[len(population)-1]"
   ]
  },
  {
   "cell_type": "markdown",
   "id": "6c6b2662",
   "metadata": {},
   "source": [
    "Möglichkeit 3: Mit der Methode `pop()` bekommen wir das letzte Element ausgegeben, allerdings wird es dann auch aus der Liste entfernt"
   ]
  },
  {
   "cell_type": "code",
   "execution_count": 13,
   "id": "2b41433d",
   "metadata": {},
   "outputs": [
    {
     "data": {
      "text/plain": [
       "2.1999999999999997"
      ]
     },
     "execution_count": 13,
     "metadata": {},
     "output_type": "execute_result"
    }
   ],
   "source": [
    "population.pop()"
   ]
  },
  {
   "cell_type": "code",
   "execution_count": 14,
   "id": "60e415a6",
   "metadata": {},
   "outputs": [
    {
     "name": "stdout",
     "output_type": "stream",
     "text": [
      "[8, 4, 6, 8, 1]\n"
     ]
    }
   ],
   "source": [
    "print(population)"
   ]
  }
 ],
 "metadata": {
  "kernelspec": {
   "display_name": "Python 3",
   "language": "python",
   "name": "python3"
  },
  "language_info": {
   "codemirror_mode": {
    "name": "ipython",
    "version": 3
   },
   "file_extension": ".py",
   "mimetype": "text/x-python",
   "name": "python",
   "nbconvert_exporter": "python",
   "pygments_lexer": "ipython3",
   "version": "3.7.10"
  }
 },
 "nbformat": 4,
 "nbformat_minor": 5
}
