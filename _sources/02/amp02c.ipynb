{
 "cells": [
  {
   "cell_type": "markdown",
   "id": "fbb422ce",
   "metadata": {},
   "source": [
    "# Lösungen"
   ]
  },
  {
   "cell_type": "markdown",
   "id": "5f63a1f4",
   "metadata": {},
   "source": [
    "**1. Erstelle zwei leere Listen namens `gruppe1` und `gruppe2`.**"
   ]
  },
  {
   "cell_type": "code",
   "execution_count": 1,
   "id": "7013b04b",
   "metadata": {},
   "outputs": [
    {
     "name": "stdout",
     "output_type": "stream",
     "text": [
      "[] []\n"
     ]
    }
   ],
   "source": [
    "gruppe1 = []\n",
    "gruppe2 = []\n",
    "\n",
    "print(gruppe1, gruppe2)"
   ]
  },
  {
   "cell_type": "markdown",
   "id": "80f0c28b",
   "metadata": {},
   "source": [
    "**2. Füge in `gruppe1` die Zahlen 4, 6 und 8 mittels der Funktion `append()` hinzu.**"
   ]
  },
  {
   "cell_type": "code",
   "execution_count": 2,
   "id": "5cd5b525",
   "metadata": {},
   "outputs": [
    {
     "name": "stdout",
     "output_type": "stream",
     "text": [
      "[4, 6, 8]\n"
     ]
    }
   ],
   "source": [
    "gruppe1.append(4)\n",
    "gruppe1.append(6)\n",
    "gruppe1.append(8)\n",
    "\n",
    "print(gruppe1)"
   ]
  },
  {
   "cell_type": "markdown",
   "id": "a758a505",
   "metadata": {},
   "source": [
    "**3. Füge in `gruppe2` die Zahlen 1, 3 und 8 mittels der Funktion `insert()` oder der Funktion `extend()` hinzu.**"
   ]
  },
  {
   "cell_type": "code",
   "execution_count": 3,
   "id": "a35cb468",
   "metadata": {},
   "outputs": [
    {
     "name": "stdout",
     "output_type": "stream",
     "text": [
      "[1, 3, 8]\n"
     ]
    }
   ],
   "source": [
    "gruppe2.extend([1, 3, 8])\n",
    "\n",
    "print(gruppe2)"
   ]
  },
  {
   "cell_type": "markdown",
   "id": "c318f1d9",
   "metadata": {},
   "source": [
    "**4. Jede Zahl in den Listen `gruppe1` und `gruppe2` steht jeweils für einen Agenten bzw. die Meinung eines Agenten auf einer Skala von 0 bis 10. Berechne jeweils die durchschnittliche Meinung der Gruppe und speichere diese unter beliebigen Variablennamen ab. Tipp: Die Funktionen `sum()` und `len()`können dir dabei behilflich sein.**"
   ]
  },
  {
   "cell_type": "code",
   "execution_count": 4,
   "id": "ce403f08",
   "metadata": {},
   "outputs": [
    {
     "name": "stdout",
     "output_type": "stream",
     "text": [
      "Durchschnitt Gruppe 1: 6.0 Durchschnitt Gruppe 2: 4.0\n"
     ]
    }
   ],
   "source": [
    "mean_gruppe1 = sum(gruppe1) / len(gruppe1)\n",
    "mean_gruppe2 = sum(gruppe2) / len(gruppe2)\n",
    "\n",
    "print(\"Durchschnitt Gruppe 1:\", mean_gruppe1, \"Durchschnitt Gruppe 2:\", mean_gruppe2)"
   ]
  },
  {
   "cell_type": "markdown",
   "id": "33038be1",
   "metadata": {},
   "source": [
    "**5. Lasse dir den Wert des ersten Agenten aus `gruppe1` mittels Listenindizierung ausgeben.**"
   ]
  },
  {
   "cell_type": "code",
   "execution_count": 5,
   "id": "8c2d613c",
   "metadata": {},
   "outputs": [
    {
     "data": {
      "text/plain": [
       "4"
      ]
     },
     "execution_count": 5,
     "metadata": {},
     "output_type": "execute_result"
    }
   ],
   "source": [
    "gruppe1[0]"
   ]
  },
  {
   "cell_type": "markdown",
   "id": "26248474",
   "metadata": {},
   "source": [
    "**6. Der erste und der zweite Agent aus `gruppe2` unterhalten sich. Der erste Agent überzeugt den zweiten Agenten. Dadurch verändert sich die Meinung des zweiten Agenten. Die Meinung des zweiten Agenten setzt sich nun zu 60% aus dessen ursprünglicher Meinung und zu 40% aus der Meinung des ersten Agenten zusammen. Berechne die neue Meinung des zweiten Agenten aus `gruppe2`. Verwende während den Berechnungen Listenindizierung.**"
   ]
  },
  {
   "cell_type": "code",
   "execution_count": 6,
   "id": "dcc9a192",
   "metadata": {},
   "outputs": [
    {
     "name": "stdout",
     "output_type": "stream",
     "text": [
      "[1, 2.1999999999999997, 8]\n"
     ]
    }
   ],
   "source": [
    "gruppe2[1] = gruppe2[1] * 0.6 + gruppe2[0] * 0.4\n",
    "\n",
    "print(gruppe2)"
   ]
  },
  {
   "cell_type": "markdown",
   "id": "3eb804e8",
   "metadata": {},
   "source": [
    "**7. Dem dritten Agenten aus `gruppe2` wird es in `gruppe2` zu bunt, weshalb er in `gruppe1` überwechseln möchte. Füge mit einem beliebigen Vorgehen den dritten Agenten aus `gruppe2` an der ersten Position (!) von `gruppe1` ein und lösche diesen aus `gruppe2`. Achte darauf, dass du keinen Agenten aus `gruppe1` überschreibst!**"
   ]
  },
  {
   "cell_type": "code",
   "execution_count": 7,
   "id": "ad4fc800",
   "metadata": {},
   "outputs": [
    {
     "name": "stdout",
     "output_type": "stream",
     "text": [
      "[8, 4, 6, 8]\n",
      "[1, 2.1999999999999997]\n"
     ]
    }
   ],
   "source": [
    "gruppe1.insert(0, gruppe2[2])\n",
    "\n",
    "del(gruppe2[2])\n",
    "\n",
    "print(gruppe1)\n",
    "print(gruppe2)"
   ]
  },
  {
   "cell_type": "markdown",
   "id": "08b7c120",
   "metadata": {},
   "source": [
    "**8. Erstelle eine Gesamtliste `population`, welche alle Agenten aus `gruppe1` und `gruppe2` enthält.**"
   ]
  },
  {
   "cell_type": "code",
   "execution_count": 8,
   "id": "ebab61e3",
   "metadata": {},
   "outputs": [
    {
     "name": "stdout",
     "output_type": "stream",
     "text": [
      "[8, 4, 6, 8, 1, 2.1999999999999997]\n"
     ]
    }
   ],
   "source": [
    "population = []\n",
    "population.extend(gruppe1)\n",
    "population.extend(gruppe2)\n",
    "\n",
    "print(population)"
   ]
  },
  {
   "cell_type": "markdown",
   "id": "58bf0c18",
   "metadata": {},
   "source": [
    "Was auch gehen würde:"
   ]
  },
  {
   "cell_type": "code",
   "execution_count": 9,
   "id": "b5840a5e",
   "metadata": {},
   "outputs": [
    {
     "name": "stdout",
     "output_type": "stream",
     "text": [
      "[8, 4, 6, 8, 1, 2.1999999999999997]\n"
     ]
    }
   ],
   "source": [
    "population = gruppe1 + gruppe2\n",
    "\n",
    "print(population)"
   ]
  },
  {
   "cell_type": "markdown",
   "id": "6f91fe84",
   "metadata": {},
   "source": [
    "**9. Speichere die ersten 5 Agenten der Liste `population` in einer Liste namens `first_five_agents`. Verwende dabei Slicing.**"
   ]
  },
  {
   "cell_type": "code",
   "execution_count": 10,
   "id": "8834a5b4",
   "metadata": {},
   "outputs": [
    {
     "name": "stdout",
     "output_type": "stream",
     "text": [
      "[8, 4, 6, 8, 1]\n"
     ]
    }
   ],
   "source": [
    "first_five_agents = population[0:5]\n",
    "\n",
    "print(first_five_agents)"
   ]
  },
  {
   "cell_type": "markdown",
   "id": "7e65748c",
   "metadata": {},
   "source": [
    "**10. Angenommen wir wollen per Indizierung auf das letzte Element einer Liste zugreifen, wissen aber zunächst nicht, wie viele Elemente sich in der Liste befinden. Welche zwei Lösungswege fallen dir ein, um auf das letzte Element einer Liste zuzufgreifen?**"
   ]
  },
  {
   "cell_type": "markdown",
   "id": "649a849b",
   "metadata": {},
   "source": [
    "Möglichkeit 1: Das letzte Element ist immer über den Index -1 zu finden"
   ]
  },
  {
   "cell_type": "code",
   "execution_count": 11,
   "id": "b608c5be",
   "metadata": {},
   "outputs": [
    {
     "data": {
      "text/plain": [
       "2.1999999999999997"
      ]
     },
     "execution_count": 11,
     "metadata": {},
     "output_type": "execute_result"
    }
   ],
   "source": [
    "population[-1]"
   ]
  },
  {
   "cell_type": "markdown",
   "id": "14109d14",
   "metadata": {},
   "source": [
    "Möglichkeit 2: Wir könnten zunächst die Länge der Liste mittels `len()` messen und dann 1 von der Länge abziehen"
   ]
  },
  {
   "cell_type": "code",
   "execution_count": 12,
   "id": "1efdde3a",
   "metadata": {},
   "outputs": [
    {
     "data": {
      "text/plain": [
       "2.1999999999999997"
      ]
     },
     "execution_count": 12,
     "metadata": {},
     "output_type": "execute_result"
    }
   ],
   "source": [
    "population[len(population)-1]"
   ]
  },
  {
   "cell_type": "markdown",
   "id": "fa069556",
   "metadata": {},
   "source": [
    "Möglichkeit 3: Mit der Methode `pop()` bekommen wir das letzte Element ausgegeben, allerdings wird es dann auch aus der Liste entfernt"
   ]
  },
  {
   "cell_type": "code",
   "execution_count": 13,
   "id": "d81038ca",
   "metadata": {},
   "outputs": [
    {
     "data": {
      "text/plain": [
       "2.1999999999999997"
      ]
     },
     "execution_count": 13,
     "metadata": {},
     "output_type": "execute_result"
    }
   ],
   "source": [
    "population.pop()"
   ]
  },
  {
   "cell_type": "code",
   "execution_count": 14,
   "id": "58fe0e7d",
   "metadata": {},
   "outputs": [
    {
     "name": "stdout",
     "output_type": "stream",
     "text": [
      "[8, 4, 6, 8, 1]\n"
     ]
    }
   ],
   "source": [
    "print(population)"
   ]
  }
 ],
 "metadata": {
  "kernelspec": {
   "display_name": "Python 3",
   "language": "python",
   "name": "python3"
  },
  "language_info": {
   "codemirror_mode": {
    "name": "ipython",
    "version": 3
   },
   "file_extension": ".py",
   "mimetype": "text/x-python",
   "name": "python",
   "nbconvert_exporter": "python",
   "pygments_lexer": "ipython3",
   "version": "3.7.10"
  }
 },
 "nbformat": 4,
 "nbformat_minor": 5
}
