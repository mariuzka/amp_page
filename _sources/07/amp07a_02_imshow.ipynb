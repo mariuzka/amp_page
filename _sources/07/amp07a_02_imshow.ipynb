{
 "cells": [
  {
   "cell_type": "markdown",
   "id": "00643517",
   "metadata": {},
   "source": [
    "# Matrix grafisch darstellen\n",
    "\n",
    "Für die einfache grafische Darstellung von Grids bzw. Matrizen eignet sich in Matplotlib die Funktion/Methode `imshow()`. Diese kann ähnlich wie z.B. `plot()` als Funktion oder Methode eines Axes-Objektes ausgeführt werden, erwartet jedoch statt einer eindimensionalen Datenreihe (z.B. eine Liste mit Zahlen) einen zweidimensionalen, matrixartigen Datentyp (z.B. eine geschachtelte Liste mit Zahlen) als Input.\n",
    "\n",
    "Im Folgenden erstelle ich zunächst eine 2x2-Matrix, welche Nullen und Einsen enthält. Dann erstelle ich wie gewohnt ein Figure- und ein Axes-Objekt mit `plt.subplots()` und wende schließlich dort, wo in vorherigen Kapiteln meist `plot()` verwendet wurde, die Axes-Methode `imshow()` mit der 2x2-Matrix als Input an."
   ]
  },
  {
   "cell_type": "code",
   "execution_count": 1,
   "id": "2e98a47e",
   "metadata": {},
   "outputs": [
    {
     "data": {
      "image/png": "[encoded data removed]",
      "text/plain": [
       "<Figure size 432x288 with 1 Axes>"
      ]
     },
     "metadata": {
      "needs_background": "light"
     },
     "output_type": "display_data"
    }
   ],
   "source": [
    "import matplotlib.pyplot as plt\n",
    "\n",
    "# Matrix erstellen\n",
    "\n",
    "matrix = [\n",
    "    [1,0],\n",
    "    [0,1],\n",
    "]\n",
    "\n",
    "# Figure und Axes erstellen\n",
    "leinwand, diagramm = plt.subplots()\n",
    "\n",
    "# imshow()-Methode des Axes-Objekt anwenden, Matrix ist Input\n",
    "diagramm.imshow(matrix)\n",
    "\n",
    "# Diagramm anzeigen\n",
    "plt.show()"
   ]
  },
  {
   "cell_type": "markdown",
   "id": "d9b424ca",
   "metadata": {},
   "source": [
    "Wir sehen, die 2x2-Matrix wurde mittels `imshow()` in ein Diagramm, welches aus 4 gleichgroßen, farbigen Quadraten besteht, übersetzt. Jedem Feld der Matrix entspricht einem Quadrat des Diagramms. Die Farbe des Quadrates ergibt sich jeweils aus dem Zahlenwert in der Matrix. Unten ein weiteres Beispiel, diesmal eine 4x4-Matrix, welche die Zahlen `0`, `1` und `2` beinhalten."
   ]
  },
  {
   "cell_type": "code",
   "execution_count": 2,
   "id": "b9cf3d52",
   "metadata": {},
   "outputs": [
    {
     "data": {
      "image/png": "[encoded data removed]",
      "text/plain": [
       "<Figure size 432x288 with 1 Axes>"
      ]
     },
     "metadata": {
      "needs_background": "light"
     },
     "output_type": "display_data"
    }
   ],
   "source": [
    "# Matrix erstellen\n",
    "matrix = [\n",
    "    [1,0,0,1],\n",
    "    [0,2,2,0],\n",
    "    [0,2,2,0],\n",
    "    [1,0,0,1],\n",
    "]\n",
    "\n",
    "# Figure und Axes erstellen\n",
    "leinwand, diagramm = plt.subplots()\n",
    "\n",
    "# Diagramm malen\n",
    "diagramm.imshow(matrix)\n",
    "\n",
    "# Diagramm anzeigen\n",
    "plt.show()"
   ]
  },
  {
   "cell_type": "markdown",
   "id": "05d2e6d4",
   "metadata": {},
   "source": [
    "Wieder sehen wir, dass jeder Zelle der Matrix je nach Zahl eine spezifische Farbe zugewiesen wurde. Allerdings unterscheiden sich die Zuweisungen der Farben zu den Zahlen im Vergleich zur vorherigen Matrix. Wie werden die Farben festgelegt?\n",
    "\n",
    "Jeder Zahl in der Matrix wird eine Farbe im Diagramm zugeordnet d.h. jede Zahl ist letztlich ein Code für eine Farbe. Um festzulegen, welche Zahl welcher Farbe zugeordnet wird, greift die Methode `imshow()` auf eine sogenannte **Colormap** zurück. Eine Colormap ist eine Farbpalette, die bestimmte Bereiche einer Skala bestimmten Farben zuordnet. Die in der Matrix verwendeten Zahlen werden dabei als Zahlen einer kontinuierlichen Skala angesehen. Wenn man nichts anderes einstellt, dann wird das Minimum der verwendeten Skala, also die niedrigste verwendete Zahl, der Farbe am linken Ende der Colormap zugeordnet. Das Maximum der Skala, also die höchste verwendete Zahl, wird der Farbe am rechten Ende der Colormap zugeordnet. Die restlichen Skalenschritte werden dann gleichmäßig entlang der Colormap verteilt, sodass z.B. die Skalenmitte genau der mittleren Farbe der Colormap zugeordnet wird. Unten siehst du die standardmäßig in Matplotlib eingestellte Colormap namens \"viridis\" ([hier](https://matplotlib.org/stable/gallery/color/colormap_reference.html) findest du unten auf der Seite eine Übersicht über alle standardmäßig verfügbaren Colormaps in Matplotlib).\n",
    "![](img/viridis.PNG)\n",
    "**QUELLE:** https://matplotlib.org/stable/gallery/color/colormap_reference.html\n",
    "\n",
    "\n",
    "Die Abbildung unten zeigt die Farbzuweisungen der obigen zwei Beispieldiagramme. Im ersten Diagramm oben haben wir nur Nullen und Einsen in der Matrix verwendet, sodass wir quasi eine Skala von 0 bis 1 verwendet haben. Da die Methode `imshow()` die Colormap namens \"viridis\" als Standard-Colormap eingestellt hat, wurde dann die Zahl 0 der Farbe auf der linken Seite und die Zahl 1 der Farbe auf der rechten Seite der Colormap \"viridis\" zugeordnet. Im zweiten Diagramm wurden die Zahlen 0 bis 2 verwendet, sodass wir praktisch eine Skala von 0 bis 2 verwende hatten. Die 0 wurde somit als Skalenminimum der Farbe *lila* auf der linken Seite, die 1 als Skalenmitte der Farbe *türkis* in der Mitte und die 2 als Skalenmaximum der Farbe *gelb* auf der rechten Seite der Colormap `viridis` zugeordnet. \n",
    "\n",
    "![](img/colormap.png)\n",
    "\n",
    "\n",
    "\n",
    "Die in der Matrix verwendeten Skalen können beliebig groß und beliebig kleinschrittig sein. Im Folgenden erstelle ich z.B. eine Matrix mit 10 Zeilen und 10 Spalten und addiere in jeder Zelle der Matrix die Zeilen- und Spaltenposition."
   ]
  },
  {
   "cell_type": "code",
   "execution_count": 3,
   "id": "36a783ba",
   "metadata": {},
   "outputs": [
    {
     "data": {
      "text/plain": [
       "[[0, 1, 2, 3, 4, 5, 6, 7, 8, 9],\n",
       " [1, 2, 3, 4, 5, 6, 7, 8, 9, 10],\n",
       " [2, 3, 4, 5, 6, 7, 8, 9, 10, 11],\n",
       " [3, 4, 5, 6, 7, 8, 9, 10, 11, 12],\n",
       " [4, 5, 6, 7, 8, 9, 10, 11, 12, 13],\n",
       " [5, 6, 7, 8, 9, 10, 11, 12, 13, 14],\n",
       " [6, 7, 8, 9, 10, 11, 12, 13, 14, 15],\n",
       " [7, 8, 9, 10, 11, 12, 13, 14, 15, 16],\n",
       " [8, 9, 10, 11, 12, 13, 14, 15, 16, 17],\n",
       " [9, 10, 11, 12, 13, 14, 15, 16, 17, 18]]"
      ]
     },
     "execution_count": 3,
     "metadata": {},
     "output_type": "execute_result"
    }
   ],
   "source": [
    "matrix = []\n",
    "\n",
    "for i in range(10):\n",
    "    zeile = []\n",
    "    \n",
    "    for j in range(10):\n",
    "        zeile.append(i + j)\n",
    "    \n",
    "    matrix.append(zeile)\n",
    "\n",
    "matrix"
   ]
  },
  {
   "cell_type": "code",
   "execution_count": 4,
   "id": "48ea1b53",
   "metadata": {
    "scrolled": true
   },
   "outputs": [
    {
     "data": {
      "image/png": "[encoded data removed]",
      "text/plain": [
       "<Figure size 432x288 with 1 Axes>"
      ]
     },
     "metadata": {
      "needs_background": "light"
     },
     "output_type": "display_data"
    }
   ],
   "source": [
    "leinwand, diagramm = plt.subplots()\n",
    "\n",
    "diagramm.imshow(matrix)\n",
    "\n",
    "plt.show()"
   ]
  },
  {
   "cell_type": "markdown",
   "id": "16a326e7",
   "metadata": {},
   "source": [
    "Nun das ganze nochmal mit 20 Zeilen und 20 Spalten, sodass wir eine feinere Auflösung bekommen:"
   ]
  },
  {
   "cell_type": "code",
   "execution_count": 5,
   "id": "ff442f0b",
   "metadata": {},
   "outputs": [
    {
     "data": {
      "image/png": "[encoded data removed]",
      "text/plain": [
       "<Figure size 432x288 with 1 Axes>"
      ]
     },
     "metadata": {
      "needs_background": "light"
     },
     "output_type": "display_data"
    }
   ],
   "source": [
    "matrix = []\n",
    "\n",
    "for i in range(20):\n",
    "    zeile = []\n",
    "    \n",
    "    for j in range(20):\n",
    "        zeile.append(i + j)\n",
    "    \n",
    "    matrix.append(zeile)\n",
    "\n",
    "    \n",
    "leinwand, diagramm = plt.subplots()\n",
    "diagramm.imshow(matrix)\n",
    "plt.show()"
   ]
  },
  {
   "cell_type": "markdown",
   "id": "c7ee0f2e",
   "metadata": {},
   "source": [
    "## Colormap ändern\n",
    "\n",
    "Mithilfe des Parameters `cmap` können wir die verwendete Colormap ändern. Dafür müssen wir `cmap` die Bezeichnung der gewünschten Colormap zuweisen. Unten setze ich den Parameter `cmap` auf `\"Dark2\"`. Anders als `\"viridis\"` hat `\"Dark2\"` weniger Farben und harte Übergänge zwischen den Farbbereichen. Wie man unten sieht, wird dadurch mehreren Zahlen die jeweils gleiche Farbe zugeordnet."
   ]
  },
  {
   "cell_type": "code",
   "execution_count": 6,
   "id": "512ff9e6",
   "metadata": {},
   "outputs": [
    {
     "data": {
      "image/png": "[encoded data removed]",
      "text/plain": [
       "<Figure size 432x288 with 1 Axes>"
      ]
     },
     "metadata": {
      "needs_background": "light"
     },
     "output_type": "display_data"
    }
   ],
   "source": [
    "leinwand, diagramm = plt.subplots()\n",
    "diagramm.imshow(matrix, cmap=\"Dark2\")\n",
    "plt.show()"
   ]
  },
  {
   "cell_type": "markdown",
   "id": "c9ba1c0e",
   "metadata": {},
   "source": [
    "## Skalenbereich selbst festlegen\n",
    "\n",
    "Die Funktion/Methode `imshow()` nimmt (ohne weitere Einstellung) den kleinsten in der Matrix gefundenen Wert als Skalenminimum und den größten in der Matrix gefundenen Wert als Skalenmaximum an. Wir können aber auch selbst das Skalenminimum und -maximum festlegen. Das ist sinnvoll, wenn wir über mehrere Plots hinweg die Farbzuweisungen gleich halten wollen, obwohl sich in den verschiedenen Plots evtl. die kleinsten und größten Werte voneinander unterscheiden. Das ist auch bei der Animation dieser Diagramme sehr wichtig. \n",
    "\n",
    "Das Skalenminimum und Skalenmaximum stellen wir mit den beiden Parametern `vmin` und `vmax` ein. Im Beispiel unten gehe ich per For-Loop eine Liste von Matrizen namens `matrices` durch und plotte diese nacheinander auf eigene \"Leinwände\". Obwohl jede Matrix der Liste `matrices` andere Zahlenkombinationen beinhaltet, sehen alle Diagramme gleich aus. Das liegt daran, dass in jeder Matrix nur zwei unterschiedliche Zahlen vorkommen, somit die verwendete Skala nur aus zwei Werten besteht, welche den jeweiligen Enden der Colormap zugeordnet werden."
   ]
  },
  {
   "cell_type": "code",
   "execution_count": 7,
   "id": "a150b186",
   "metadata": {
    "scrolled": false
   },
   "outputs": [
    {
     "data": {
      "image/png": "[encoded data removed]",
      "text/plain": [
       "<Figure size 432x288 with 1 Axes>"
      ]
     },
     "metadata": {
      "needs_background": "light"
     },
     "output_type": "display_data"
    },
    {
     "data": {
      "image/png": "[encoded data removed]",
      "text/plain": [
       "<Figure size 432x288 with 1 Axes>"
      ]
     },
     "metadata": {
      "needs_background": "light"
     },
     "output_type": "display_data"
    },
    {
     "data": {
      "image/png": "[encoded data removed]",
      "text/plain": [
       "<Figure size 432x288 with 1 Axes>"
      ]
     },
     "metadata": {
      "needs_background": "light"
     },
     "output_type": "display_data"
    }
   ],
   "source": [
    "matrices = [\n",
    "    [[0,0],\n",
    "     [1,1]],\n",
    "    \n",
    "    [[1,1],\n",
    "     [2,2]],\n",
    "    \n",
    "    [[2,2],\n",
    "     [3,3]],\n",
    "]\n",
    "\n",
    "for matrix in matrices:\n",
    "    leinwand, diagramm = plt.subplots()\n",
    "    diagramm.imshow(matrix)\n",
    "    plt.show()"
   ]
  },
  {
   "cell_type": "markdown",
   "id": "b3b659e9",
   "metadata": {},
   "source": [
    "Unten hingegen lege ich per `vmin` und `vmax` die Skalenenden, welche den Skalenenden der Colormap zugeordnet werden, selbst fest, wodurch nun bestimmte Werte innerhalb der Skala über die Diagramme hinweg denselben Farben zugeordnet werden."
   ]
  },
  {
   "cell_type": "code",
   "execution_count": 8,
   "id": "c5f83ecd",
   "metadata": {},
   "outputs": [
    {
     "data": {
      "image/png": "[encoded data removed]",
      "text/plain": [
       "<Figure size 432x288 with 1 Axes>"
      ]
     },
     "metadata": {
      "needs_background": "light"
     },
     "output_type": "display_data"
    },
    {
     "data": {
      "image/png": "[encoded data removed]",
      "text/plain": [
       "<Figure size 432x288 with 1 Axes>"
      ]
     },
     "metadata": {
      "needs_background": "light"
     },
     "output_type": "display_data"
    },
    {
     "data": {
      "image/png": "[encoded data removed]",
      "text/plain": [
       "<Figure size 432x288 with 1 Axes>"
      ]
     },
     "metadata": {
      "needs_background": "light"
     },
     "output_type": "display_data"
    }
   ],
   "source": [
    "matrices = [\n",
    "    [[0,0],\n",
    "     [1,1]],\n",
    "    \n",
    "    [[1,1],\n",
    "     [2,2]],\n",
    "    \n",
    "    [[2,2],\n",
    "     [3,3]],\n",
    "]\n",
    "\n",
    "for matrix in matrices:\n",
    "    leinwand, diagramm = plt.subplots()\n",
    "    diagramm.imshow(matrix, vmin=0, vmax=3)\n",
    "    plt.show()"
   ]
  },
  {
   "cell_type": "markdown",
   "id": "a54587ba",
   "metadata": {},
   "source": [
    "## Farben per RGB-Code bestimmen\n",
    "\n",
    "Die Funktion/Methode `imshow()` akzeptiert auch Matrizen, deren Elemente sogenannte RGB-Farbcodes darstellen. Dadurch muss der Inhalt einer Matrix nicht mehr über eine Colormap in Farben übersetzt werden, sondern die Information über die anzuzeigende Farbe steht direkt in den Elementen der Matrix selbst.\n",
    "\n",
    "\"RGB\" steht für \"rot grün blau\". Ein RGB-Farbcode definiert eine bestimmte Farbe, indem angegeben wird, wie viel rot, wie viel grün und wie viel blau in dieser Farbe steckt (jede Farbe besteht letztlich aus diesen drei Farben). Wie viel von einer Farbe in den Farbmix kommt, wird über eine Zahl zwischen 0 und 255 angegeben. Ein RGB-Farbcode besteht daher aus drei Zahlen zwischen 0 und 255. Die erste Farbe steht für die \"Menge\" an rot, die zweite Zahl für die \"Menge\" an grün und die dritte Zahl für die \"Menge\" an blau. Ein reines rot hat dementsprechend den RGB-Code \"255 0 0\". Ein reines grün hat den Code \"0 255 0\" und ein reines blau den Code \"0 0 255\". Die meisten Farben sind jedoch eine Mischung aus allem. [Hier](https://zeamedia.de/helper/rgb-hex-color-codes.php) findest du eine Übersicht über gängige Farben und deren RGB-Farbcodes.\n",
    "\n",
    "In Python gibt man RGB-Farbcodes meist als eine Liste oder ein Tupel mit den entsprechenden 3 Zahlen an z.B. so: `[255, 100, 0]`. Unten speichere ich zunächst zwei RGB-Farbcodes unter den Namen `gold` und `navy`, erstelle dann eine Matrix mit diesen Farben und lasse die Matrix mit `imshow()` anzeigen."
   ]
  },
  {
   "cell_type": "code",
   "execution_count": 9,
   "id": "2c6097fe",
   "metadata": {},
   "outputs": [
    {
     "data": {
      "image/png": "[encoded data removed]",
      "text/plain": [
       "<Figure size 432x288 with 1 Axes>"
      ]
     },
     "metadata": {
      "needs_background": "light"
     },
     "output_type": "display_data"
    }
   ],
   "source": [
    "# RGB-Farbcodes\n",
    "gold = [255, 215, 0]\n",
    "navy = [0, 0, 128]\n",
    "\n",
    "# Matrix mit RGB-Farbcodes\n",
    "rgb_matrix = [\n",
    "    [gold, navy, gold],\n",
    "    [navy, gold, navy],\n",
    "    [gold, navy, gold],\n",
    "]\n",
    "\n",
    "# Diagramm erstellen\n",
    "leinwand, diagrammbereich = plt.subplots()\n",
    "diagrammbereich.imshow(rgb_matrix)\n",
    "plt.show()"
   ]
  }
 ],
 "metadata": {
  "kernelspec": {
   "display_name": "Python [conda env:amp] *",
   "language": "python",
   "name": "conda-env-amp-py"
  },
  "language_info": {
   "codemirror_mode": {
    "name": "ipython",
    "version": 3
   },
   "file_extension": ".py",
   "mimetype": "text/x-python",
   "name": "python",
   "nbconvert_exporter": "python",
   "pygments_lexer": "ipython3",
   "version": "3.7.10"
  }
 },
 "nbformat": 4,
 "nbformat_minor": 5
}
