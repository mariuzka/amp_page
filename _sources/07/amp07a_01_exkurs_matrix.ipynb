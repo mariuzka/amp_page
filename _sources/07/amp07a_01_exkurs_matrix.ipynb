{
 "cells": [
  {
   "cell_type": "markdown",
   "id": "b0d623e7",
   "metadata": {},
   "source": [
    "# Matrix als Welt der Agenten\n",
    "\n",
    "In agentenbasierten Modellen, in denen Raum eine Rolle spielt, wird dieser sehr oft mittels sogenannter **Grids** (auch Lattice genannt) dargestellt. Ein solches Grid ist eigentlich nichts anderes als eine Matrix, deren Zellen jeweils eine mögliche Position bzw. einen Ort in der simulierten Welt, auf welcher sich z.B. ein Agent befinden kann, darstellt. Grids lassen sich super grafisch darstellen und helfen so, entstehende räumliche Muster in der simulierten Welt zu erfassen. Unten sieht man z.B. den Endzustand eines *Schelling-Modells*."
   ]
  },
  {
   "cell_type": "markdown",
   "id": "3e5c6289",
   "metadata": {},
   "source": [
    "![](img/schelling_matrix.PNG)"
   ]
  },
  {
   "cell_type": "markdown",
   "id": "14235e61",
   "metadata": {},
   "source": [
    "Um eine solche Grafik wie oben zu erstellen, braucht man nicht nur eine spezielle Matplotlib-Funktion/Methode, welche einen solchen Diagramm-Typ erstellt, viel mehr müssen wir eine Matrix als einen bestimmten Datentyp in Python repräsentieren, um überhaupt die notwendigen Informationen über die Beschaffenheit des Grids an eine diagrammerstellende Funktion übergeben zu können. Bevor wir uns daher auf den nächsten Seiten anschauen, wie wir mit Matplotlib Matrizen grafisch darstellen können, schauen wir uns hier kurz an, als welcher Datentyp Matrizen innerhalb von Python repräsentiert werden können."
   ]
  },
  {
   "cell_type": "markdown",
   "id": "bef225c5",
   "metadata": {},
   "source": [
    "## Matrizen als geschachtelte Listen\n",
    "\n",
    "Wie können wir solche Matrizen in Python darstellen? Es gibt in Python zahlreiche spezielle Datentypen für Matrizen, z.B. aus dem Modul Numpy das sogenannte `array` oder aus dem Modul Pandas der sogenannte `DataFrame`. Da jedoch jedes neue Modul gleichzeitig auch das Erlernen der jeweils etwas eigenen \"Syntax\" und sonstiger Besonderheiten dieses Moduls bedeutet, sollte man Module vor allem als Programmierneuling nur dann benutzen, wenn man sie wirklich braucht. Tatächlich kann man eine Matrix auch relativ einfach mit den Python-Basics darstellen: als **Liste von Listen**. Innerhalb einer Liste befinden sich dabei Unterlisten, welche die Zeilen einer Matrix repräsentieren. Innerhalb jeder Unterliste befinden sich Elemente, deren Position jeweils einer Spalte der Matrix entspricht.\n",
    "\n",
    "Im Folgenden ein Beispiel für eine Matrix mit 3 Zeilen und 3 Spalten. Um eine solche Matrix darzustellen, benötigt man eine Liste, mit 3 Unterlisten (Zeilen), welche wiederum jeweils 3 Elemente (Spalten) enthalten. "
   ]
  },
  {
   "cell_type": "code",
   "execution_count": 1,
   "id": "340a56f7",
   "metadata": {},
   "outputs": [],
   "source": [
    "matrix = [ [1, 2, 3], [4, 5, 6], [7, 8, 9] ]"
   ]
  },
  {
   "cell_type": "markdown",
   "id": "9260ff5e",
   "metadata": {},
   "source": [
    "Das obige ist zwar technisch gesehen eine Matrix, sieht aber nicht wirklich so aus. Damit das ganze auch etwas mehr nach Matrix aussieht, kann man dieselbe geschachtelte Liste bzw. Matrix auch so hinschreiben:"
   ]
  },
  {
   "cell_type": "code",
   "execution_count": 2,
   "id": "965bc0d5",
   "metadata": {},
   "outputs": [],
   "source": [
    "matrix = [ \n",
    "    [1, 2, 3], \n",
    "    [4, 5, 6], \n",
    "    [7, 8, 9],\n",
    "]"
   ]
  },
  {
   "cell_type": "markdown",
   "id": "61e27e48",
   "metadata": {},
   "source": [
    "Die Zahlen innerhalb der Matrix könnten z.B. codieren, welche Farbe in einem Diagramm für eine Zelle angezeigt werden soll oder auch für Agenten mit bestimmten Meinungen. Statt Zahlen könnten z.B. auch Dictionaries als Repräsentation für Agenten in die Zellen der Matrix eingefügt werden."
   ]
  },
  {
   "cell_type": "markdown",
   "id": "37a6c6e8",
   "metadata": {},
   "source": [
    "Möchte man nun auf ein Element der Liste zugreifen, müssen wir zunächst per Listenindizierung auf die Unterliste (Zeile) und dann auf die entsprechende Position in der Unterliste (Spalte) zugreifen. Möchte ich z.B. auf das Element in der ersten Zeile und der ersten Spalte zugreifen, muss ich zunächst auf die erste Zeile mit dem Index `0` zugreifen:"
   ]
  },
  {
   "cell_type": "code",
   "execution_count": 3,
   "id": "23b756bd",
   "metadata": {},
   "outputs": [
    {
     "data": {
      "text/plain": [
       "[1, 2, 3]"
      ]
     },
     "execution_count": 3,
     "metadata": {},
     "output_type": "execute_result"
    }
   ],
   "source": [
    "matrix[0]"
   ]
  },
  {
   "cell_type": "markdown",
   "id": "bb1ac6ca",
   "metadata": {},
   "source": [
    "Um dann in dieser Zeile bzw. Liste auf die erste Spalte bzw. Position zuzugreifen, muss ein weiteres mal der Index `0` verwendet werden:"
   ]
  },
  {
   "cell_type": "code",
   "execution_count": 4,
   "id": "ac50c543",
   "metadata": {
    "scrolled": false
   },
   "outputs": [
    {
     "data": {
      "text/plain": [
       "1"
      ]
     },
     "execution_count": 4,
     "metadata": {},
     "output_type": "execute_result"
    }
   ],
   "source": [
    "matrix[0][0]"
   ]
  },
  {
   "cell_type": "markdown",
   "id": "aa15f5e6",
   "metadata": {},
   "source": [
    "Um z.B. auf das Elemente in der zweiten Zeile und der dritten Spalte zuzugreifen, müssen entsprechend der Zeilen-Index `1` und der Spalten-Index `2` angegeben werden:"
   ]
  },
  {
   "cell_type": "code",
   "execution_count": 5,
   "id": "24556a60",
   "metadata": {},
   "outputs": [
    {
     "data": {
      "text/plain": [
       "6"
      ]
     },
     "execution_count": 5,
     "metadata": {},
     "output_type": "execute_result"
    }
   ],
   "source": [
    "matrix[1][2]"
   ]
  },
  {
   "cell_type": "markdown",
   "id": "b7f27ae2",
   "metadata": {},
   "source": [
    "Die allgemeine Syntax für den Zugriff auf die Elemente einer Matrix könnte man also so beschreiben:\n",
    "\n",
    "```python\n",
    "matrix[ZEILE][SPALTE]\n",
    "```"
   ]
  },
  {
   "cell_type": "markdown",
   "id": "6a3ce534",
   "metadata": {},
   "source": [
    "## Matrizen per For-Loop erstellen\n",
    "\n",
    "Kleine Matrizen kann man noch relativ gut per Hand erstellen. Manchmal muss man auch solch \"individuelle\" Matrizen erstellen, dass man um die Erstellung dieser per Hand nicht drumherum kommt. Oft können wir die Erstellung von Matrizen aber per For-Loop automatisieren. Unten erstelle ich mittels zweier geschachtelter For-Loops eine Matrix mit 10 Zeilen und 10 Spalten, in deren Zellen jeweils eine 0 eingefügt wird."
   ]
  },
  {
   "cell_type": "code",
   "execution_count": 6,
   "id": "37067a1a",
   "metadata": {},
   "outputs": [],
   "source": [
    "# Anzahl der Zeilen und Spalten festlegen\n",
    "n_rows = 10\n",
    "n_cols = 10\n",
    "\n",
    "# Oberliste für Matrix erstellen\n",
    "matrix = []\n",
    "\n",
    "# für die Anzahl der Zeilen\n",
    "for i in range(n_rows):\n",
    "    \n",
    "    # Unterliste für Zeile erstellen\n",
    "    zeile = []\n",
    "    \n",
    "    # für die Anzahl der Spalten\n",
    "    for j in range(n_cols):\n",
    "        \n",
    "        # An die Zeile ein Element anhängen (In diesem Fall eine 0)\n",
    "        zeile.append(0)\n",
    "    \n",
    "    # Zeile (Unterliste) an Matrix (Oberliste) anhängen\n",
    "    matrix.append(zeile)"
   ]
  },
  {
   "cell_type": "code",
   "execution_count": 7,
   "id": "10cb4337",
   "metadata": {},
   "outputs": [
    {
     "data": {
      "text/plain": [
       "[[0, 0, 0, 0, 0, 0, 0, 0, 0, 0],\n",
       " [0, 0, 0, 0, 0, 0, 0, 0, 0, 0],\n",
       " [0, 0, 0, 0, 0, 0, 0, 0, 0, 0],\n",
       " [0, 0, 0, 0, 0, 0, 0, 0, 0, 0],\n",
       " [0, 0, 0, 0, 0, 0, 0, 0, 0, 0],\n",
       " [0, 0, 0, 0, 0, 0, 0, 0, 0, 0],\n",
       " [0, 0, 0, 0, 0, 0, 0, 0, 0, 0],\n",
       " [0, 0, 0, 0, 0, 0, 0, 0, 0, 0],\n",
       " [0, 0, 0, 0, 0, 0, 0, 0, 0, 0],\n",
       " [0, 0, 0, 0, 0, 0, 0, 0, 0, 0]]"
      ]
     },
     "execution_count": 7,
     "metadata": {},
     "output_type": "execute_result"
    }
   ],
   "source": [
    "matrix"
   ]
  }
 ],
 "metadata": {
  "kernelspec": {
   "display_name": "Python [conda env:amp] *",
   "language": "python",
   "name": "conda-env-amp-py"
  },
  "language_info": {
   "codemirror_mode": {
    "name": "ipython",
    "version": 3
   },
   "file_extension": ".py",
   "mimetype": "text/x-python",
   "name": "python",
   "nbconvert_exporter": "python",
   "pygments_lexer": "ipython3",
   "version": "3.7.10"
  }
 },
 "nbformat": 4,
 "nbformat_minor": 5
}
