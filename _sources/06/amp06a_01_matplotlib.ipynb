{
 "cells": [
  {
   "cell_type": "markdown",
   "id": "67a80e10",
   "metadata": {},
   "source": [
    "# Matplotlib\n",
    "\n",
    "Bis zu diesem Punkt haben wir die Simulationsergebnisse v.a. als String in der Konsole anzeigen lassen. Nun ist es Zeit diese behelfsmäßige Form der grafischen Darstellung hinter uns zu lassen und endlich eine *richtige* Form der grafischen Darstellung zu erlernen. Denn nicht alle Simulationen lassen sich so einfach darstellen wie z.B. da NaSch-Modell. Und spätestens, wenn es zur systematischen Auswertung von Simulationsexperimenten kommt - also dem Vergleich vieler Modelle mit unterschiedlichen Parameter-Einstellungen - sind *richtige* Diagramme unverzichtbar. Sie sind später unser Hauptwerkzeug der Analyse. In diesem Kapitel lernen wir daher das Paket **Matplotlib** kennen.\n",
    "\n",
    "Matplotlib ist *DAS* Standard-Paket zur Erstellung von Grafiken und Animationen in Python, um das man in Python nicht drumherum kommt. Matplotlib gehört in Python zwar nicht zu den aller neusten Grafik-Paketen zur Erstellung von fancy Hochglanz-Diagrammen. Es ist eher ein altbewährtes, funktionierendes, wissenschaftliches Werkzeug, das aufgrund seiner Zuverlässigkeit z.B. auch in aktuellen NASA-Missionen eingesetzt wird, wie man in [diesem Video](https://youtu.be/aZX24dPIAGg?t=24) sieht."
   ]
  },
  {
   "cell_type": "markdown",
   "id": "fee92ef7",
   "metadata": {},
   "source": [
    "```{admonition} Alternativen zu Matplotlib\n",
    "Neben Matplotlib existieren eine Reihe anderer Grafik-Pakete in Python, welche sich zur Erstellung von schönen Diagrammen eignen. Wenn es darum geht, große Datensätze mit mehreren Variablen grafisch auszuwerten, dann bieten viele alternative Pakete oft auch eine einfachere Bedinung als Matplotlib auf. Zu empfehlen ist z.B. das Paket [Seaborn](https://seaborn.pydata.org/) oder auch das Paket [Altair](https://altair-viz.github.io/getting_started/overview.html). [Plotnine](https://plotnine.readthedocs.io/en/stable/) ist vor allem für Personen super, die Erfahrung mit R haben und nicht mehr ohne ggplot2-Grafiken leben können.\n",
    "```"
   ]
  },
  {
   "cell_type": "markdown",
   "id": "e07ca0d1",
   "metadata": {},
   "source": [
    "Um mit Matplotlib Grafiken erstellen zu können, gibt es zwei verschiedene *Bedinungsarten* von Matplotlib: das sogenannte *funktionale* Interface und das sogenannte *objektorientierte* Interface. Das funktionale Interface eignet sich v.a. für das schnelle und unkomplzierte plotten, ist jedoch in der Funktionalität etwas eingeschränkt. Das objektorientierte Interface ist etwas flexibler, man braucht jedoch etwas mehr Hintergrundwissen über die Funktionsweise von Matplotlib und der Code wird evtl. auch 1 bis 2 Zeilen länger. Wir schauen uns im Folgenden beide Formen nacheinander an. Die objektorientierte Form der Bedinung von Matplotlib brauchen wir später v.a. auch für das Erstellen von Animationen."
   ]
  },
  {
   "cell_type": "markdown",
   "id": "025034bd",
   "metadata": {},
   "source": [
    "## Matplotlib installieren\n",
    "\n",
    "Um Matplotlib nutzen zu können, muss es sowohl in deiner genutzten Anaconda-Umgebung installiert als auch in die aktuelle Python-Sitzung importiert sein. Falls du Python in der \"base\"- bzw. \"root\"-Umgebung von Anaconda nutzt, dann sollte Matplotlib bereits installiert sein. Falls du jedoch eine neue Umgebung für diesen Kurs angelegt hast, dann musst du vermutlich Matplotlib noch installieren.\n",
    "\n",
    "Eine Möglichkeit, Matplotlib in deiner Anaconda-Umgebung zu installieren, findest du im Folgenden:\n",
    "1. Öffne den Anaconda-Navigator.\n",
    "2. Klicke auf \"Environments\"\n",
    "3. Wähle deine Umgebung aus.\n",
    "4. Stelle ein, dass du alle in Anaconda verfügbaren Pakete siehst.\n",
    "5. Suche nach dem Paket \"matplotlib\"\n",
    "6. Setze den Haken bei \"matplotlib\" und drücke auf \"apply\"\n",
    "\n",
    "Wenn das Paket installiert ist, sollte nun der Import in die aktuelle Python-Sitzung z.B. in Spyder möglich sein."
   ]
  },
  {
   "cell_type": "markdown",
   "id": "20dba40b",
   "metadata": {},
   "source": [
    "## Matplotlib / Pyplot importieren\n",
    "\n",
    "Wenn wir mit Matplotlib arbeiten, dann verwenden wir genaugenommen nur ein Modul aus dem großen Paket Matplotlib. Dieses Modul heißt **Pyplot**. Der Import des Moduls Pyplot sieht daher zunächst so aus:"
   ]
  },
  {
   "cell_type": "code",
   "execution_count": 4,
   "id": "09077135",
   "metadata": {},
   "outputs": [],
   "source": [
    "import matplotlib.pyplot"
   ]
  },
  {
   "cell_type": "markdown",
   "id": "01bfbfa6",
   "metadata": {},
   "source": [
    "Es hat sich allerdings eingebürgert bei der Verwendung von Pyplot dieses mit `plt` abzukürzen. Daher hängen wir noch ein `as plt` an das `import matplotlib.pyplot` an, um `pyplot` im Code mit `plt` abkürzen zu können:"
   ]
  },
  {
   "cell_type": "code",
   "execution_count": 6,
   "id": "e38d1bc3",
   "metadata": {},
   "outputs": [],
   "source": [
    "import matplotlib.pyplot as plt"
   ]
  }
 ],
 "metadata": {
  "kernelspec": {
   "display_name": "Python [conda env:amp] *",
   "language": "python",
   "name": "conda-env-amp-py"
  },
  "language_info": {
   "codemirror_mode": {
    "name": "ipython",
    "version": 3
   },
   "file_extension": ".py",
   "mimetype": "text/x-python",
   "name": "python",
   "nbconvert_exporter": "python",
   "pygments_lexer": "ipython3",
   "version": "3.7.10"
  }
 },
 "nbformat": 4,
 "nbformat_minor": 5
}
