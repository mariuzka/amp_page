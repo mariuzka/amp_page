{
 "cells": [
  {
   "cell_type": "markdown",
   "id": "d7d6814f",
   "metadata": {},
   "source": [
    "# Exkurs: Mehrfachzuweisung\n",
    "\n",
    "Wenn wir bisher Variablen definiert haben, dann haben wir in jeder Zeile immer genau ein Objekt einem Variablennamen zugewiesen. Z.B. so:"
   ]
  },
  {
   "cell_type": "code",
   "execution_count": 9,
   "id": "c7cda155",
   "metadata": {},
   "outputs": [],
   "source": [
    "x = 1\n",
    "y = 2"
   ]
  },
  {
   "cell_type": "markdown",
   "id": "5e37a141",
   "metadata": {},
   "source": [
    "Es gibt in Python aber auch die Möglichkeit mehrere Variablenzuweisungen in einer Zeile vorzunehmen. Dazu schreibt man mehrere Variablennamen mit einem Komma getrennt links neben das Gleichheitszeichen und genau so viele Objekte/Werte rechts neben das Gleichheitszeichen. Der erste Wert wird dann dem ersten Variablennamen zugewiesen, der zweite Wert dem zweiten Variablennamen usw. ...\n",
    "\n",
    "Statt\n",
    "\n",
    "```python\n",
    "x = 1\n",
    "y = 2\n",
    "```\n",
    "\n",
    "könnte man also auch \n",
    "\n",
    "```python\n",
    "x, y = 1, 2\n",
    "```\n",
    "\n",
    "schreiben. Das Ergebnis ist dasselbe. Die `1` wird dem `x` und die `2` dem `y` zugewiesen. Es ist nicht wirklich zu empfehlen, eine solche Schreibweise standardmäßig zu benutzen, da die Leserlichkeit des Codes eher verringert wird. In manchen Situationen kann es dennoch praktisch sein. "
   ]
  },
  {
   "cell_type": "markdown",
   "id": "11949139",
   "metadata": {},
   "source": [
    "Ein sinnvoller Einsatz ist die Mehrfachzuweisung v.a., wenn eine Funktion mehrere Ausgabewerte d.h. mehrere Objekte zurückgibt und wir alle ausgegebenen Objekte in eigenen Variablen speichern wollen.\n",
    "\n",
    "Unten definiere ich die Funktion `random_coordinates()`, welche zwei Zufallswerte zwischen 0 und 100 zurückgibt. Diese beiden Werte weise ich dann innerhalb einer Zeile den beiden Variablennamen `x_pos` und `y_pos` zu."
   ]
  },
  {
   "cell_type": "code",
   "execution_count": 10,
   "id": "4fc408d4",
   "metadata": {},
   "outputs": [],
   "source": [
    "import random\n",
    "\n",
    "def random_coordinates():\n",
    "    random_x = random.randint(0,100)\n",
    "    random_y = random.randint(0,100)\n",
    "    return random_x, random_y         # Zwei Ausgabewerte\n",
    "\n",
    "x_pos, y_pos = random_coordinates()   # Beide Ausgabewerte jeweils eigener Variable speichern"
   ]
  },
  {
   "cell_type": "code",
   "execution_count": 11,
   "id": "59b7f3d2",
   "metadata": {},
   "outputs": [
    {
     "data": {
      "text/plain": [
       "34"
      ]
     },
     "execution_count": 11,
     "metadata": {},
     "output_type": "execute_result"
    }
   ],
   "source": [
    "x_pos"
   ]
  },
  {
   "cell_type": "code",
   "execution_count": 12,
   "id": "d4620b84",
   "metadata": {
    "scrolled": true
   },
   "outputs": [
    {
     "data": {
      "text/plain": [
       "79"
      ]
     },
     "execution_count": 12,
     "metadata": {},
     "output_type": "execute_result"
    }
   ],
   "source": [
    "y_pos"
   ]
  },
  {
   "cell_type": "markdown",
   "id": "417af3c3",
   "metadata": {},
   "source": [
    "Ein weiteres Einsatzgebiet von Mehrfachzuweisungen ist das relativ unkomplizierte Entpacken von kleineren Listen und anderen Datencontainern. Haben wir rechts neben dem Gleichheitszeichen z.B. eine Liste mit drei Elementen stehen und links drei kommagetrennte Variablennamen, dann werden die drei Elemente aus der Liste heraus den drei Variablennamen zugeordnet:"
   ]
  },
  {
   "cell_type": "code",
   "execution_count": 13,
   "id": "4f059264",
   "metadata": {},
   "outputs": [],
   "source": [
    "wuschel, pünktchen, mimi  = [\"hund\", \"katze\", \"maus\"]"
   ]
  },
  {
   "cell_type": "code",
   "execution_count": 14,
   "id": "2e7708fa",
   "metadata": {},
   "outputs": [
    {
     "data": {
      "text/plain": [
       "'hund'"
      ]
     },
     "execution_count": 14,
     "metadata": {},
     "output_type": "execute_result"
    }
   ],
   "source": [
    "wuschel"
   ]
  },
  {
   "cell_type": "code",
   "execution_count": 15,
   "id": "93e90bf2",
   "metadata": {},
   "outputs": [
    {
     "data": {
      "text/plain": [
       "'katze'"
      ]
     },
     "execution_count": 15,
     "metadata": {},
     "output_type": "execute_result"
    }
   ],
   "source": [
    "pünktchen"
   ]
  },
  {
   "cell_type": "code",
   "execution_count": 16,
   "id": "bb25d52f",
   "metadata": {
    "scrolled": true
   },
   "outputs": [
    {
     "data": {
      "text/plain": [
       "'maus'"
      ]
     },
     "execution_count": 16,
     "metadata": {},
     "output_type": "execute_result"
    }
   ],
   "source": [
    "mimi"
   ]
  },
  {
   "cell_type": "markdown",
   "id": "380fb601",
   "metadata": {},
   "source": [
    "Das Ganze funktioniert auch, wenn Datencontainer von Funktionen zurückgegeben werden. Unten gibt die Funktion `random_coordinates()` die Werte innerhalb einer Liste zurück, wobei die Werte der Liste direkt per Mehrfachzuweisung \"entpackt\" werden:"
   ]
  },
  {
   "cell_type": "code",
   "execution_count": 17,
   "id": "1ba12c88",
   "metadata": {},
   "outputs": [],
   "source": [
    "def random_coordinates():\n",
    "    random_x = random.randint(0,100)\n",
    "    random_y = random.randint(0,100)\n",
    "    return [random_x, random_y]       # Liste als Ausgabewert\n",
    "\n",
    "x_pos, y_pos = random_coordinates()   # Ausgegebene Liste direkt entpacken"
   ]
  },
  {
   "cell_type": "code",
   "execution_count": 18,
   "id": "a1e1d65f",
   "metadata": {},
   "outputs": [
    {
     "data": {
      "text/plain": [
       "72"
      ]
     },
     "execution_count": 18,
     "metadata": {},
     "output_type": "execute_result"
    }
   ],
   "source": [
    "x_pos"
   ]
  },
  {
   "cell_type": "code",
   "execution_count": 19,
   "id": "5472b919",
   "metadata": {},
   "outputs": [
    {
     "data": {
      "text/plain": [
       "37"
      ]
     },
     "execution_count": 19,
     "metadata": {},
     "output_type": "execute_result"
    }
   ],
   "source": [
    "y_pos"
   ]
  },
  {
   "cell_type": "markdown",
   "id": "cf01c9ad",
   "metadata": {},
   "source": [
    "Genaugenommen entpackt die Mehrfachzuweisung eigentlich **immer** einen Datencontainer, auch wenn wie hier\n",
    "\n",
    "```python\n",
    "x, y, z = 1, 2, 3\n",
    "```\n",
    "\n",
    "auf der rechten Seite die Objekte nur per Komma getrennt aufgereiht werden. Denn werden Objekte in der Form wie rechts neben dem Gleichheitszeichen hingeschrieben, erstellt Python ein sogenanntes Tupel. Das ist ähnlich, wie eine Liste, ein Datencontainer, in dem alle möglichen Objekte gespeichert werden können. Der Unterschied ist nur, dass nach der Erstellung eines Tupels dieses nicht mehr verändert, also kein Element ausgetauscht werden kann. Ein erstelltes Tupel erkennt man in Python an runden Klammern:"
   ]
  },
  {
   "cell_type": "code",
   "execution_count": 20,
   "id": "e2ac7b52",
   "metadata": {},
   "outputs": [
    {
     "data": {
      "text/plain": [
       "(1, 2, 3)"
      ]
     },
     "execution_count": 20,
     "metadata": {},
     "output_type": "execute_result"
    }
   ],
   "source": [
    "1, 2, 3"
   ]
  },
  {
   "cell_type": "markdown",
   "id": "9d14abc4",
   "metadata": {},
   "source": [
    "Das Tupel `(1, 2, 3)` kann auch direkt mit runden Klammern erstellt werden:"
   ]
  },
  {
   "cell_type": "code",
   "execution_count": 21,
   "id": "1d0cd1c5",
   "metadata": {},
   "outputs": [
    {
     "data": {
      "text/plain": [
       "(1, 2, 3)"
      ]
     },
     "execution_count": 21,
     "metadata": {},
     "output_type": "execute_result"
    }
   ],
   "source": [
    "(1, 2, 3)"
   ]
  },
  {
   "cell_type": "markdown",
   "id": "dcb8db27",
   "metadata": {},
   "source": [
    "Da aber auch der Code `1, 2, 3` das Tupel `(1, 2, 3)` erstellt, entpackt der Code\n",
    "\n",
    "```python\n",
    "x, y, z = 1, 2, 3\n",
    "```\n",
    "\n",
    "also genaugenommen das Tupel\n",
    "\n",
    "```python\n",
    "(1, 2, 3)\n",
    "```\n",
    "\n",
    "und weist dessen Elemente jeweils einer Variable zu."
   ]
  }
 ],
 "metadata": {
  "kernelspec": {
   "display_name": "Python [conda env:amp] *",
   "language": "python",
   "name": "conda-env-amp-py"
  },
  "language_info": {
   "codemirror_mode": {
    "name": "ipython",
    "version": 3
   },
   "file_extension": ".py",
   "mimetype": "text/x-python",
   "name": "python",
   "nbconvert_exporter": "python",
   "pygments_lexer": "ipython3",
   "version": "3.7.10"
  }
 },
 "nbformat": 4,
 "nbformat_minor": 5
}
