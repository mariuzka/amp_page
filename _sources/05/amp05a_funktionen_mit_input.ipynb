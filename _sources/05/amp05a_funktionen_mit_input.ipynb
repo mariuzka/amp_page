{
 "cells": [
  {
   "cell_type": "markdown",
   "id": "fb46861d",
   "metadata": {},
   "source": [
    "# Funktionen mit Input\n",
    "\n",
    "Die obige Funktion ermöglicht uns es Code zwar schön zu verpacken und immer wieder zu verwenden, die Funktion führt aber tatsächlich immer exakt den gleichen Code aus. Um Funktionen nicht nur als starre Code-Pakete zu verwenden, sondern auch situationsspezifisch einsetzen und kontrollieren zu können, können wir einen variablen Input festlegen. \n",
    "\n",
    "Wenn die Funktion einen *Input* haben soll, dann können wir innerhalb der runden Klammern eine beliebige Zahl von beliebig gewählten Namen für die \"Input-Variablen\", welche man auch \"Parameter\" oder \"Argumente\" nennt, eintragen. Allgemein sieht das dann so aus:\n",
    "\n",
    "```python\n",
    "def FUNCTION_NAME(INPUT1, INPUT2, ...):\n",
    "    DO_SOMETHING_WITH_INPUT\n",
    "```\n",
    "\n",
    "Die Namen der Input-Variablen sind Platzhalter für die bei Verwendung der Funktion tatsächlich als Input eingebenen Werte. So wie das `x` bei der uns typischerweise aus der Schule bekannten Funktion `f(x)` ein abstrakter Platzhalter für einen konkret eingegebenen Wert ist.\n",
    "\n",
    "Wir könnten nun z.B. eine Funktion schreiben, die statt einem unpersönlichen `\"hello world\"` eine jeweils bestimmte Person grüßt. Im Folgenden definiere ich die Funktion `say_hello_to()`, wobei ich festlege, dass ein Input namens `name` erwartet wird.\n",
    "\n",
    "Wie du in der untigen Funktionsdefinition sehen kannst, taucht der Input `name` nicht nur in den runden Klammern auf, sondern auch darunter im eigentlich Code der Funktion. Dort legen wir fest, was mit dem als `name` eingegebenen Input innerhalb der Funktion gemacht wird. \n",
    "\n",
    "Aber nicht vergessen: Den Namen der Input-Variable `name` haben wir hier \"willkürlich\" festgelegt und er hat nichts mit dem Wert zu tun, den wir später tatsächlich eingeben. `name` steht einfach für das, was auch immer da als Input kommen mag. Man kann sich den Input auch als eine \"funktions-interne\" Variable vorstellen, die bei Aufruf der Funktion den entsprechenden eingegebenen Wert zugewiesen bekommt."
   ]
  },
  {
   "cell_type": "code",
   "execution_count": 1,
   "id": "31fecf1d",
   "metadata": {},
   "outputs": [],
   "source": [
    "def say_hello_to(name):\n",
    "    print(\"Hello\", name, \"!\")"
   ]
  },
  {
   "cell_type": "markdown",
   "id": "82940910",
   "metadata": {},
   "source": [
    "Nachdem die Funktion definiert ist, rufe ich die Funktion mit einem String als Input auf. Diesen Input setze ich an die Stelle, wo in der Funktionsdefinition `name` steht. Letztlich weise ich damit der funktions-internen Variable `name` temporär den Wert `\"Monty\"` zu."
   ]
  },
  {
   "cell_type": "code",
   "execution_count": 2,
   "id": "a92f4807",
   "metadata": {},
   "outputs": [
    {
     "name": "stdout",
     "output_type": "stream",
     "text": [
      "Hello Monty !\n"
     ]
    }
   ],
   "source": [
    "say_hello_to(\"Monty\")"
   ]
  },
  {
   "cell_type": "markdown",
   "id": "3044459c",
   "metadata": {},
   "source": [
    "Ein weiteres Beispiel: In der Funktion `say_hello_twice` wurde per For-Loop zwei mal `\"hello world\"` angezeigt. Unten erweitere ich die Funktion um einen Input bzw. Parameter namens `n`, mit welchem die Wiederholungszahl des For-Loops individuell festlegt werden kann."
   ]
  },
  {
   "cell_type": "code",
   "execution_count": 2,
   "id": "05f07b0d",
   "metadata": {},
   "outputs": [],
   "source": [
    "def say_hello_several_times(n):\n",
    "    for i in range(n):\n",
    "        print(\"hello world\")"
   ]
  },
  {
   "cell_type": "code",
   "execution_count": 3,
   "id": "1ca42671",
   "metadata": {
    "scrolled": true
   },
   "outputs": [
    {
     "name": "stdout",
     "output_type": "stream",
     "text": [
      "hello world\n",
      "hello world\n"
     ]
    }
   ],
   "source": [
    "say_hello_several_times(2)"
   ]
  },
  {
   "cell_type": "code",
   "execution_count": 4,
   "id": "3b6839af",
   "metadata": {
    "scrolled": false
   },
   "outputs": [
    {
     "name": "stdout",
     "output_type": "stream",
     "text": [
      "hello world\n",
      "hello world\n",
      "hello world\n",
      "hello world\n",
      "hello world\n"
     ]
    }
   ],
   "source": [
    "say_hello_several_times(5)"
   ]
  },
  {
   "cell_type": "markdown",
   "id": "75d88031",
   "metadata": {},
   "source": [
    "## Funktionen mit mehreren Inputs\n",
    "\n",
    "Wir können eine beliebige Anzahl an Inputs einer Funktion festlegen. Ich kombiniere nun z.B. die Funktionalität der Funktion `say_hello_to()` mit der Funktionalität der Funktion `say_hello_several_times`, sodass mithilfe von zwei Inputs sowohl die zu begrüßende Person als auch die Häufigkeit der Begrüßung festgelegt werden kann."
   ]
  },
  {
   "cell_type": "code",
   "execution_count": 5,
   "id": "cc503345",
   "metadata": {},
   "outputs": [],
   "source": [
    "def say_hello_several_times_to(name, n):\n",
    "    for i in range(n):\n",
    "        print(\"Hello\", name, \"!\")"
   ]
  },
  {
   "cell_type": "code",
   "execution_count": 6,
   "id": "87be7c1b",
   "metadata": {
    "scrolled": false
   },
   "outputs": [
    {
     "name": "stdout",
     "output_type": "stream",
     "text": [
      "Hello Monty !\n",
      "Hello Monty !\n",
      "Hello Monty !\n",
      "Hello Monty !\n"
     ]
    }
   ],
   "source": [
    "say_hello_several_times_to(\"Monty\", 4)"
   ]
  },
  {
   "cell_type": "markdown",
   "id": "43a62322",
   "metadata": {},
   "source": [
    "Hat eine Funktion mehrere Inputs, dann ist es sehr wichtig darauf zu achten, in welcher Reihenfolge die Inputs erfolgen müssen. Steht in der Funktionsdefinition der Input `name` an erster Stelle innerhalb der runden Klammer, dann muss bei der Ausführung der Funktion der entsprechende Wert, welcher für `name` eingesetzt werden soll, auch an erster Stelle kommen. Steht der Input `n` an zweiter Stelle, dann muss der entsprechend eingesetzt Wert an zweiter Stelle eingesetzt werden. Werden die Inputs allein anhand der Position in der runden Klammer zugeordnet, dann nennt man diese (auf Englisch) \"positional arguments\".\n",
    "\n",
    "Vor allem wenn eine Funktion viele Inputs erwartet, kann es relativ schnell relativ kompliziert werden, die genaue Reihenfolge der Inputs einzuhalten. Schnell kann es dazu kommen, dass man die eingegebenen Werte an eine falsche Stelle setzt und somit falschen Inputvariablen zuordnet. Eine Lösung für das Problem kann sein, sogenannte \"keyword arguments\" zu verwenden.\n",
    "\n",
    "\n",
    "## Input mittels keyword arguments\n",
    "\n",
    "Der Input jeder Funktion kann immer auch über \"keyword arguments\" zugewiesen werden. Das bedeutet, dass die eingegebenen Werte nicht über die Position in den runden Klammern zugeordnet werden, sondern man weist innerhalb der runden Klammern den eingegebenen Wert mittels Gleichheitszeichen dem entsprechenden Argument/Platzhalter zu, wie man hier sieht:"
   ]
  },
  {
   "cell_type": "code",
   "execution_count": 9,
   "id": "bd79e806",
   "metadata": {},
   "outputs": [
    {
     "name": "stdout",
     "output_type": "stream",
     "text": [
      "Hello Monty !\n",
      "Hello Monty !\n",
      "Hello Monty !\n",
      "Hello Monty !\n"
     ]
    }
   ],
   "source": [
    "say_hello_several_times_to(name=\"Monty\", n=4)"
   ]
  },
  {
   "cell_type": "markdown",
   "id": "ffca4d61",
   "metadata": {},
   "source": [
    "Nun ist die Reihenfolge irrelevant und man kann die Inputs in beliebiger Reihenfolge eingeben. Unten tausche ich beispielhaft die Reihenfolge der Funktionsinputs:"
   ]
  },
  {
   "cell_type": "code",
   "execution_count": 10,
   "id": "d2921761",
   "metadata": {},
   "outputs": [
    {
     "name": "stdout",
     "output_type": "stream",
     "text": [
      "Hello Monty !\n",
      "Hello Monty !\n",
      "Hello Monty !\n",
      "Hello Monty !\n"
     ]
    }
   ],
   "source": [
    "say_hello_several_times_to(n=4, name=\"Monty\")"
   ]
  }
 ],
 "metadata": {
  "kernelspec": {
   "display_name": "Python [conda env:amp_book]",
   "language": "python",
   "name": "conda-env-amp_book-py"
  },
  "language_info": {
   "codemirror_mode": {
    "name": "ipython",
    "version": 3
   },
   "file_extension": ".py",
   "mimetype": "text/x-python",
   "name": "python",
   "nbconvert_exporter": "python",
   "pygments_lexer": "ipython3",
   "version": "3.7.10"
  }
 },
 "nbformat": 4,
 "nbformat_minor": 5
}
