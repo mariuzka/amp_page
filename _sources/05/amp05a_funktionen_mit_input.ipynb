{
 "cells": [
  {
   "cell_type": "markdown",
   "id": "8095c182",
   "metadata": {},
   "source": [
    "# Funktionen mit Input\n",
    "\n",
    "Die obige Funktion ermöglicht uns es Code zwar schön zu verpacken und immer wieder zu verwenden, die Funktion führt aber tatsächlich immer exakt den gleichen Code aus. Um Funktionen nicht nur als starre Code-Pakete zu verwenden, sondern auch situationsspezifisch einsetzen zu können, können wir einen variablen Input festlegen. \n",
    "\n",
    "Wenn die Funktion einen *Input* haben soll, dann können wir innerhalb der runden Klammern eine beliebige Zahl von beliebig gewählten Namen für die \"Input-Variablen\", welche man auch \"Parameter\" oder \"Argumente\" nennt, eintragen. Allgemein sieht das dann so aus:\n",
    "\n",
    "```python\n",
    "def FUNCTION_NAME(INPUT1, INPUT2, ...):\n",
    "    DO_SOMETHING_WITH_INPUT\n",
    "```\n",
    "\n",
    "Die Namen der Input-Variablen sind Platzhalter für die bei Verwendung der Funktion tatsächlich als Input eingebenen Werte. So wie das `x` bei der uns typischerweise aus der Schule bekannten Funktion `f(x)` ein abstrakter Platzhalter für einen konkret eingegebenen Wert ist.\n",
    "\n",
    "Wir könnten nun z.B. eine Funktion schreiben, die statt einem unpersönlichen `\"hello world\"` eine jeweils bestimmte Person grüßt. Im Folgenden definiere ich die Funktion `say_hello_to()`, wobei ich festlege, dass ein Input namens `name` erwartet wird.\n",
    "\n",
    "Wie du in der untigen Funktionsdefinition sehen kannst, tauch der Input `name` nicht nur in den runden Klammern auf, sondern auch darunter im eigentlich Code der Funktion. Dort legen wir fest, was mit dem als `name` eingegebenen Input innerhalb der Funktion gemacht wird. Aber nicht vergessen: Den Namen der Input-Variable `name` haben wir hier \"willkürlich\" festgelegt und er hat nichts mit dem Wert zu tun, den wir später tatsächlich eingeben. `name` steht einfach für das, was auch immer da als Input kommen mag. Man kann sich den Input auch als eine \"funktions-interne\" Variable vorstellen, die bei Aufruf der Funktion den entsprechenden eingegebenen Wert zugewiesen bekommt."
   ]
  },
  {
   "cell_type": "code",
   "execution_count": 1,
   "id": "0460c246",
   "metadata": {},
   "outputs": [],
   "source": [
    "def say_hello_to(name):\n",
    "    print(\"Hello\", name, \"!\")"
   ]
  },
  {
   "cell_type": "markdown",
   "id": "b746e49e",
   "metadata": {},
   "source": [
    "Nachdem die Funktion definiert ist, rufe ich die Funktion mit einem String als Input auf. Diesen Input setze ich an die Stelle, wo in der Funktionsdefinition `name` steht. Letztlich weise ich damit der funktions-internen Variable `name` temporär den Wert `\"Monty\"` zu."
   ]
  },
  {
   "cell_type": "code",
   "execution_count": 2,
   "id": "b563ae28",
   "metadata": {},
   "outputs": [
    {
     "name": "stdout",
     "output_type": "stream",
     "text": [
      "Hello Monty !\n"
     ]
    }
   ],
   "source": [
    "say_hello_to(\"Monty\")"
   ]
  },
  {
   "cell_type": "markdown",
   "id": "8967eea6",
   "metadata": {},
   "source": [
    "Ein weiteres Beispiel: In der Funktion `say_hello_twice` wurde per For-Loop zwei mal `\"hello world\"` angezeigt. Unten erweitere ich die Funktion um einen Input bzw. Parameter namens `n`, mit welchem die Wiederholungszahl des For-Loops individuell festlegt werden kann."
   ]
  },
  {
   "cell_type": "code",
   "execution_count": 7,
   "id": "e8540b0c",
   "metadata": {},
   "outputs": [],
   "source": [
    "def say_hello_several_times(n):\n",
    "    for i in range(n):\n",
    "        print(\"hello world\")"
   ]
  },
  {
   "cell_type": "code",
   "execution_count": 8,
   "id": "9972c560",
   "metadata": {
    "scrolled": true
   },
   "outputs": [
    {
     "name": "stdout",
     "output_type": "stream",
     "text": [
      "hello world\n",
      "hello world\n"
     ]
    }
   ],
   "source": [
    "say_hello_several_times(2)"
   ]
  },
  {
   "cell_type": "code",
   "execution_count": 9,
   "id": "010906b1",
   "metadata": {
    "scrolled": false
   },
   "outputs": [
    {
     "name": "stdout",
     "output_type": "stream",
     "text": [
      "hello world\n",
      "hello world\n",
      "hello world\n",
      "hello world\n",
      "hello world\n"
     ]
    }
   ],
   "source": [
    "say_hello_several_times(5)"
   ]
  },
  {
   "cell_type": "markdown",
   "id": "bdfe78b9",
   "metadata": {},
   "source": [
    "Wir können eine beliebige Anzahl an Inputs einer Funktion festlegen. Ich kombiniere nun z.B. die Funktionalität der Funktion `say_hello_to()` mit der Funktionalität der Funktion `say_hello_several_times`, sodass mithilfe von zwei Inputs sowohl die zu begrüßende Person als auch die Häufigkeit der Begrüßung festgelegt werden kann."
   ]
  },
  {
   "cell_type": "code",
   "execution_count": 10,
   "id": "a66e961f",
   "metadata": {},
   "outputs": [],
   "source": [
    "def say_hello_several_times_to(n, name):\n",
    "    for i in range(n):\n",
    "        print(\"Hello\", name, \"!\")"
   ]
  },
  {
   "cell_type": "code",
   "execution_count": 11,
   "id": "a32fe27c",
   "metadata": {
    "scrolled": false
   },
   "outputs": [
    {
     "name": "stdout",
     "output_type": "stream",
     "text": [
      "Hello Monty !\n",
      "Hello Monty !\n",
      "Hello Monty !\n",
      "Hello Monty !\n"
     ]
    }
   ],
   "source": [
    "say_hello_several_times_to(4, \"Monty\")"
   ]
  },
  {
   "cell_type": "markdown",
   "id": "4c530622",
   "metadata": {},
   "source": [
    "In der Reihenfolge, in der wir in der Funktionsdefinition die Reihenfolge der Inputs in die runde KLammer schreiben, in der Reihenfolge müssen wir auch beim Aufruf der Funktion die entsprechenden Werte eingeben.\n",
    "\n",
    "Oben wurden die Werte immer direkt in die Funktion eingegeben. Im Verlauf unserer Programme, werden wir die Eingabewerte selbst aber meist wiederum z.B. in einer Variable gespeichert haben. Man kann an als Input tatsächlich alle möglichen Ausdrücke bzw. Objekte, ob z.B. Variablen, Funktionen oder boolsche Ausdrücke eingeben. \n",
    "\n",
    "Unten gebe ich für den Input-Parameter `n` eine mathematische Berechnung und für den Input-Parameter `name` die Variable `person` ein."
   ]
  },
  {
   "cell_type": "code",
   "execution_count": 12,
   "id": "4c766db0",
   "metadata": {
    "scrolled": true
   },
   "outputs": [
    {
     "name": "stdout",
     "output_type": "stream",
     "text": [
      "Hello Monty !\n",
      "Hello Monty !\n",
      "Hello Monty !\n",
      "Hello Monty !\n",
      "Hello Monty !\n"
     ]
    }
   ],
   "source": [
    "person = \"Monty\"\n",
    "\n",
    "say_hello_several_times_to(2 + 3, person)"
   ]
  },
  {
   "cell_type": "markdown",
   "id": "67d51fec",
   "metadata": {},
   "source": [
    "Hier wird nochmal deutlich, dass die Namen der Parameter bei der Definition der Funktion nichts mit dem eingegebenen Wert oder dem Namen der eingegebenen Variable zu tun haben. An die Stelle, wo bei der Definition der Funktion der z.B. der Input `name` steht, setze ich oben die Variable `person`. Dadurch wird quasi der funktionsinternen Variable `name` der Wert der Variable `person` zugewiesen."
   ]
  }
 ],
 "metadata": {
  "kernelspec": {
   "display_name": "Python [conda env:amp_book]",
   "language": "python",
   "name": "conda-env-amp_book-py"
  },
  "language_info": {
   "codemirror_mode": {
    "name": "ipython",
    "version": 3
   },
   "file_extension": ".py",
   "mimetype": "text/x-python",
   "name": "python",
   "nbconvert_exporter": "python",
   "pygments_lexer": "ipython3",
   "version": "3.7.10"
  }
 },
 "nbformat": 4,
 "nbformat_minor": 5
}
