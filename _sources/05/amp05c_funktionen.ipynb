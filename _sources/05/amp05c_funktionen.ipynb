{
 "cells": [
  {
   "cell_type": "markdown",
   "id": "ea6aaac6",
   "metadata": {},
   "source": [
    "# Lösungen"
   ]
  },
  {
   "cell_type": "markdown",
   "id": "63911d5d",
   "metadata": {},
   "source": [
    "## 1"
   ]
  },
  {
   "cell_type": "code",
   "execution_count": 1,
   "id": "033fb4ff",
   "metadata": {},
   "outputs": [],
   "source": [
    "def length(sequence):\n",
    "    \"\"\"Gibt Länge eines sequentiellen Datentyps zurück.\"\"\"\n",
    "    \n",
    "    # Zählvariable\n",
    "    length = 0\n",
    "    \n",
    "    # für jedes Element in Sequenz (z.B. Liste)\n",
    "    for element in sequence:\n",
    "        # Zählvariable um 1 erhöhen\n",
    "        length += 1\n",
    "    \n",
    "    # Zählvariable ausgeben\n",
    "    return length"
   ]
  },
  {
   "cell_type": "code",
   "execution_count": 2,
   "id": "adb7de65",
   "metadata": {},
   "outputs": [
    {
     "name": "stdout",
     "output_type": "stream",
     "text": [
      "4\n"
     ]
    }
   ],
   "source": [
    "test_list = [4,23,[1,2,], \"hallo\"]\n",
    "\n",
    "list_length = length(test_list)\n",
    "\n",
    "print(list_length)"
   ]
  },
  {
   "cell_type": "markdown",
   "id": "39c7ddb3",
   "metadata": {},
   "source": [
    "## 2"
   ]
  },
  {
   "cell_type": "code",
   "execution_count": 3,
   "id": "0925ae42",
   "metadata": {},
   "outputs": [],
   "source": [
    "def change(price, paid):\n",
    "    \"\"\"Berechnet Wechselgeld und gibt den Wert zurück.\"\"\"\n",
    "    \n",
    "    # Differenz berechnen und ausgeben\n",
    "    return paid - price"
   ]
  },
  {
   "cell_type": "code",
   "execution_count": 4,
   "id": "0613ad8f",
   "metadata": {},
   "outputs": [
    {
     "name": "stdout",
     "output_type": "stream",
     "text": [
      "1\n"
     ]
    }
   ],
   "source": [
    "my_change = change(99, 100)\n",
    "\n",
    "print(my_change)"
   ]
  },
  {
   "cell_type": "markdown",
   "id": "351fea70",
   "metadata": {},
   "source": [
    "## 3"
   ]
  },
  {
   "cell_type": "code",
   "execution_count": 5,
   "id": "f9edd73a",
   "metadata": {},
   "outputs": [],
   "source": [
    "def coins(cents):\n",
    "    \"\"\"\n",
    "    Übersetzt einen eingegeben Betrag an Cents in die gleichwertige Anzahl an 5-, 2- und 1-Cent-Münzen.\n",
    "    Die Gesamtanzahl an Münzen wird dabei minimiert.\n",
    "    \"\"\"\n",
    "    \n",
    "    # zählt, wie viele Cents bereits in Cent-Münzen \"übersetzt\" wurden\n",
    "    counter = 0\n",
    "    \n",
    "    # zählen die Anzahl der jeweils benötigten Münzen\n",
    "    cent5_counter = 0\n",
    "    cent2_counter = 0\n",
    "    cent1_counter = 0\n",
    "    \n",
    "    # For-Loop, der mindestens so lange läuft, wie Cents eingegeben wurden\n",
    "    # Hier hätte man eigentlich am \n",
    "    for i in range(cents):\n",
    "        \n",
    "        # Wie viele Cents noch in Münzen übersetzt werden müssen\n",
    "        difference = cents - counter\n",
    "        \n",
    "        # Wenn noch 5 oder mehr Cents in Münzen übersetzt werden müssen\n",
    "        if difference >= 5:\n",
    "            # Anzahl der 5-Cent-Münzen um 1 erhöhen\n",
    "            cent5_counter += 1\n",
    "            # Anzahl der schon in Münzen übersetzte Cents um 5 erhöhen\n",
    "            counter += 5\n",
    "        \n",
    "        # Wenn noch 2 oder mehr (bzw. 2 bis 4) Cents in Münzen übersetzt werden müssen\n",
    "        elif difference >= 2:\n",
    "            # Anzahl der 2-Cent-Münzen um 1 erhöhen\n",
    "            cent2_counter += 1\n",
    "            # Anzahl der schon in Münzen übersetzte Cents um 2 erhöhen\n",
    "            counter += 2\n",
    "        \n",
    "        # Wenn noch 1 Cent in Münzen übersetzt werden müssen\n",
    "        elif difference == 1:\n",
    "            # Anzahl der 1-Cent-Münzen um 1 erhöhen\n",
    "            cent1_counter += 1\n",
    "            # Anzahl der schon in Münzen übersetzte Cents um 1 erhöhen\n",
    "            counter += 1\n",
    "        \n",
    "        # Ansonsten:\n",
    "        else:\n",
    "            # Loop abbrechen\n",
    "            break\n",
    "    \n",
    "    # Ergebnisse \"schön\" darstellen und in der Konsole anzeigen\n",
    "    print(\n",
    "        \"5-Cent:\", cent5_counter, \n",
    "        \"2-Cent:\", cent2_counter, \n",
    "        \"1-Cent:\", cent1_counter,\n",
    "         )     "
   ]
  },
  {
   "cell_type": "code",
   "execution_count": 6,
   "id": "86187357",
   "metadata": {},
   "outputs": [
    {
     "name": "stdout",
     "output_type": "stream",
     "text": [
      "5-Cent: 6 2-Cent: 2 1-Cent: 0\n"
     ]
    }
   ],
   "source": [
    "coins(34)"
   ]
  }
 ],
 "metadata": {
  "kernelspec": {
   "display_name": "Python [conda env:amp_book]",
   "language": "python",
   "name": "conda-env-amp_book-py"
  },
  "language_info": {
   "codemirror_mode": {
    "name": "ipython",
    "version": 3
   },
   "file_extension": ".py",
   "mimetype": "text/x-python",
   "name": "python",
   "nbconvert_exporter": "python",
   "pygments_lexer": "ipython3",
   "version": "3.7.10"
  }
 },
 "nbformat": 4,
 "nbformat_minor": 5
}
