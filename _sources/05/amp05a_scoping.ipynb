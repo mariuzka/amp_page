{
 "cells": [
  {
   "cell_type": "markdown",
   "id": "84add9e5",
   "metadata": {},
   "source": [
    "# Lokale und globale Variablen\n",
    "\n",
    "Fragt man Personen in Deutschland nach dem Namen \"Angela Merkel\", dann wird fast jede Person sofort wissen, wer mit diesem Namen gemeint ist - egal wo man in Deutschland ist. Fragt man aber jemanden nach dem Namen \"Katja Oldenburg-Schmidt\", dann weiß fast niemand etwas mit diesem Namen anzufangen - außer in Buxtehude. Angela Merkel ist fast allen Leuten in Deutschland ein Begriff, weil sie die Bundeskanzlerin ist und der Gültigkeitsberich ihres Amtes ist sich auf ganz Deutschland bezieht. Katja Oldenburg-Schmidt ist hingegen die Bürgermeisterin der Stadt Buxtehude, der \"Gültigkeitsbereich\" ihres Amtes liegt nur im Bereich Buxtehude. Deswegen kennt man sie auch nur dort.\n",
    "\n",
    "Auch Variablen in Python haben bestimmte Gültigkeitsbereiche. Jede Variablendefinition gilt jeweils nur in einem bestimmten Bereich (auch Scope genannt), in dem diese Zuweisung auch definiert wurde. Bisher haben wir davon nichts gemerkt, weil wir uns immer im allumfassenden, globalen Gültigkeitsbereich befunden haben. Wir haben bisher nur sogenannte globale Variablen, vergleichbar mit Angela Merkel, definiert. Man kennt sie überall (in Deutschland).\n",
    "\n",
    "Alle Variablen, die innerhalb von Funktionen definiert sind, sind jedoch sogenannte lokale Variablen, vergleichbar mit Katja Oldenburg-Schmidt. Man kennt sie nur in Buxtehude. Definieren wir innerhalb von Funktionen eine Variable, dann können wir sie innerhalb der Funktion unter diesem Namen aufrufen. Außerhalb der Funktionen kennt man sie jedoch nicht.\n",
    "\n",
    "Während man lokale Variablen nicht außerhalb des Gültigkeitsbereichs der Funktion kennt, kenn man globale Variablen überall und in jeder Funktion - auch wenn wir diese nicht explizit als Input eingegeben haben. Wir können in jeder Funktion den Wert globaler Variablen zwar abrufen, sie aber - und das ist wichtig - nicht verändern (hier gibt es leider Ausnahmen für bestimmte Datentypen). Jeder in Buxtehude kennt Angela Merkel, kann aber nicht direkt etwas daran ändern, dass sie Bundeskanzlerin ist - dies kann nur auf \"globaler\" Ebene verändert werden.\n",
    "\n",
    "Im Folgenden definiere ich innerhalb einer Funktion die Variable `oldenburg_schmidt`, führe die Funktion aus und versuche dann außerhalb der Funktion die Variable `oldenburg_schmidt` auszuführen."
   ]
  },
  {
   "cell_type": "code",
   "execution_count": 1,
   "id": "5f269d93",
   "metadata": {},
   "outputs": [],
   "source": [
    "def buxtehude():\n",
    "    oldenburg_schmidt = \"bürgermeisterin\"\n",
    "\n",
    "buxtehude()"
   ]
  },
  {
   "cell_type": "code",
   "execution_count": 2,
   "id": "dcb0fbd2",
   "metadata": {},
   "outputs": [
    {
     "ename": "NameError",
     "evalue": "name 'oldenburg_schmidt' is not defined",
     "output_type": "error",
     "traceback": [
      "\u001b[1;31m---------------------------------------------------------------------------\u001b[0m",
      "\u001b[1;31mNameError\u001b[0m                                 Traceback (most recent call last)",
      "\u001b[1;32m<ipython-input-2-082194849cd5>\u001b[0m in \u001b[0;36m<module>\u001b[1;34m\u001b[0m\n\u001b[1;32m----> 1\u001b[1;33m \u001b[0mprint\u001b[0m\u001b[1;33m(\u001b[0m\u001b[0moldenburg_schmidt\u001b[0m\u001b[1;33m)\u001b[0m\u001b[1;33m\u001b[0m\u001b[1;33m\u001b[0m\u001b[0m\n\u001b[0m",
      "\u001b[1;31mNameError\u001b[0m: name 'oldenburg_schmidt' is not defined"
     ]
    }
   ],
   "source": [
    "print(oldenburg_schmidt)"
   ]
  },
  {
   "cell_type": "markdown",
   "id": "e0aba1ac",
   "metadata": {},
   "source": [
    "Dies ruft einen Fehler hervor, da die Variable außerhalb der Funktion gar nicht bekannt ist. Möchte man den Wert der lokalen Variable `oldenburg_schmidt` \"nach draußen schaffen\", dann müssen wir den Wert über das Schlüsselwort `return` explizit an den globalen Bereich übergeben und dort wahlweise einer Variable außerhalb der Funktion zuweisen. So wie hier:"
   ]
  },
  {
   "cell_type": "code",
   "execution_count": 3,
   "id": "279cd05c",
   "metadata": {},
   "outputs": [],
   "source": [
    "def buxtehude():\n",
    "    oldenburg_schmidt = \"bürgermeisterin\"\n",
    "    return oldenburg_schmidt\n",
    "x = buxtehude()"
   ]
  },
  {
   "cell_type": "code",
   "execution_count": 4,
   "id": "263beb12",
   "metadata": {},
   "outputs": [
    {
     "name": "stdout",
     "output_type": "stream",
     "text": [
      "bürgermeisterin\n"
     ]
    }
   ],
   "source": [
    "print(x)"
   ]
  },
  {
   "cell_type": "markdown",
   "id": "0d6a3e3a",
   "metadata": {},
   "source": [
    "Andersherum können wir aber innerhalb der Funktion auf die globale Variable `angela_merkel` immer lesend zugreifen."
   ]
  },
  {
   "cell_type": "code",
   "execution_count": 5,
   "id": "399526e0",
   "metadata": {},
   "outputs": [
    {
     "name": "stdout",
     "output_type": "stream",
     "text": [
      "kanzlerin\n"
     ]
    }
   ],
   "source": [
    "angela_merkel = \"kanzlerin\"\n",
    "def buxtehude():\n",
    "    print(angela_merkel)\n",
    "\n",
    "buxtehude()"
   ]
  },
  {
   "cell_type": "markdown",
   "id": "5f9507d8",
   "metadata": {},
   "source": [
    "Versuchen wir den Wert von `angela_merkel` innerhalb von `buxtehude()` zu verändern, bewirken wir nur innerhalb der Funktion etwas. Innerhalb der Funktion ist `angela_merkel` nun gleich dem Wert `\"bürgermeisterin\"`. Außerhalb der Funktion bleibt sie jedoch gleich dem Wert `\"kanzlerin\"`."
   ]
  },
  {
   "cell_type": "code",
   "execution_count": 6,
   "id": "12bdac58",
   "metadata": {},
   "outputs": [
    {
     "name": "stdout",
     "output_type": "stream",
     "text": [
      "lokal: bürgermeisterin\n",
      "global: kanzlerin\n"
     ]
    }
   ],
   "source": [
    "angela_merkel = \"kanzlerin\"\n",
    "def buxtehude():\n",
    "    angela_merkel = \"bürgermeisterin\"\n",
    "    print(\"lokal:\", angela_merkel)\n",
    "\n",
    "buxtehude()\n",
    "print(\"global:\", angela_merkel)"
   ]
  },
  {
   "cell_type": "markdown",
   "id": "0671c95a",
   "metadata": {},
   "source": [
    "Wir können zwar globale Variablen wie `angela_merkel` innerhalb von Funktionen wie`buxtehude()` lesen, es ist aber nicht bzw. nur in Ausnahmefällen zu empfehlen, diese Möglichkeit tatsächlich auch zu nutzen. Denn dadurch verliert die Funktion einerseits ihre Unabhängigkeit von der Außenwelt. Denn was ist, wenn außerhalb der Funktion die Variable `angela_merkel` umbenannt wird? Dann funktioniert die gesamte Funktio nicht mehr! Andererseits ist dies auch ein schlechter Programmierstil, da wir im Kopf der Funktion nicht explizit auflisten, was von außen in die Funktion hineingeht, was dort also an Variablen zum richtigen Funktionieren der Funktion benötigt wird. Wir sollten also jeden Funktions-Input immer explizit durch die runden Klammern der Funktion schleusen."
   ]
  },
  {
   "cell_type": "markdown",
   "id": "b71eff0d",
   "metadata": {},
   "source": [
    "Das Thema ist insgesamt sehr umfassend und wir können hier nicht genau darauf eingehen. Was wir uns jedoch auf jeden Fall merken sollten bzw. in Zukunft beachten sollten ist Folgendens:\n",
    "\n",
    "- Jede Variable bzw. jedes Objekt, das nicht in einer Funktion selbst erstellt wird, wir aber innerhalb einer Funktion verwenden wollen, sollten wir explizit als Argument in die Funktion eingeben\n",
    "- Jede Variable, die wir innerhalb einer Funktion erstellen, existiert nur innerhalb der Funktion.\n",
    "- Alle Veränderungen, die wir mit einer Funktion im Programm bewirken wollen, müssen/sollten wir über die explizite Rückgabe eines Outputs mithilfe des Schlüsselwerts `return` vollziehen."
   ]
  }
 ],
 "metadata": {
  "kernelspec": {
   "display_name": "Python [conda env:amp_book]",
   "language": "python",
   "name": "conda-env-amp_book-py"
  },
  "language_info": {
   "codemirror_mode": {
    "name": "ipython",
    "version": 3
   },
   "file_extension": ".py",
   "mimetype": "text/x-python",
   "name": "python",
   "nbconvert_exporter": "python",
   "pygments_lexer": "ipython3",
   "version": "3.7.10"
  }
 },
 "nbformat": 4,
 "nbformat_minor": 5
}
