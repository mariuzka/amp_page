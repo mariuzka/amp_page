{
 "cells": [
  {
   "cell_type": "markdown",
   "id": "134c8bd1",
   "metadata": {},
   "source": [
    "# Scopes\n",
    "\n",
    "Fragt man Personen in Deutschland nach dem Namen \"Angela Merkel\", dann wird fast jede Person sofort wissen, wer mit diesem Namen gemeint ist - egal wo man in Deutschland ist. Fragt man aber jemanden nach dem Namen \"Katja Oldenburg-Schmidt\", dann weiß fast niemand etwas mit diesem Namen anzufangen - außer in Buxtehude. \n",
    "\n",
    "Angela Merkel ist fast allen Leuten in Deutschland ein Begriff, weil sie Bundeskanzlerin ist und der Gültigkeitsberich ihres Amtes sich auf ganz Deutschland bezieht. Katja Oldenburg-Schmidt ist hingegen die Bürgermeisterin der Stadt Buxtehude, der \"Gültigkeitsbereich\" ihres Amtes liegt nur im Bereich Buxtehude. Deswegen kennt man sie auch nur dort.\n",
    "\n",
    "Auch Variablen in Python haben bestimmte Gültigkeitsbereiche. Jede Variablendefinition gilt jeweils in dem Bereich (auch Scope genannt), in dem diese Zuweisung auch definiert wurde. Bisher haben wir davon nichts gemerkt, weil wir uns immer im allumfassenden, globalen Gültigkeitsbereich befunden haben. Wir haben bisher nur sogenannte globale Variablen, vergleichbar mit Angela Merkel, definiert. Man kennt sie überall (in Deutschland).\n",
    "\n",
    "Alle Variablen, die innerhalb von Funktionen definiert werdem, sind jedoch sogenannte lokale Variablen, die dann auch nur innerhalb dieser Funktion \"bekannt\" sind, so wie Katja Oldenburg-Schmidt nur in Buxtehude bekannt ist. Definieren wir innerhalb von Funktionen eine Variable, dann können wir sie innerhalb der Funktion unter diesem Namen aufrufen. Außerhalb der Funktion kennt man sie jedoch nicht und kann sie daher auch nicht aufrufen/verwenden.\n",
    "\n",
    "Während man lokale Variablen nicht außerhalb des Gültigkeitsbereichs der Funktion kennt, kenn man globale Variablen überall und in jeder Funktion - auch wenn wir diese nicht explizit als Input eingegeben haben.\n",
    "\n",
    "Schauen wir uns das mal in Python an. Im Folgenden definiere ich innerhalb einer Funktion namens `buxtehude()` die Variable `bürgermeisterin` und weise dieser den Wert `\"Oldenburg-Schmidt\"` zu."
   ]
  },
  {
   "cell_type": "code",
   "execution_count": 34,
   "id": "48edda2a",
   "metadata": {},
   "outputs": [],
   "source": [
    "def buxtehude():\n",
    "    bürgermeisterin = \"Oldenburg-Schmidt\""
   ]
  },
  {
   "cell_type": "markdown",
   "id": "80fa7524",
   "metadata": {},
   "source": [
    "Nun führe ich die Funktion `buxtehude()` aus und versuche danach auf die in der Funktion `buxtehude()` definierte Variable `bürgermeisterin` zuzugreifen:"
   ]
  },
  {
   "cell_type": "code",
   "execution_count": 35,
   "id": "588479d9",
   "metadata": {},
   "outputs": [],
   "source": [
    "buxtehude()"
   ]
  },
  {
   "cell_type": "code",
   "execution_count": 36,
   "id": "91a02d8c",
   "metadata": {},
   "outputs": [
    {
     "ename": "NameError",
     "evalue": "name 'bürgermeisterin' is not defined",
     "output_type": "error",
     "traceback": [
      "\u001b[1;31m---------------------------------------------------------------------------\u001b[0m",
      "\u001b[1;31mNameError\u001b[0m                                 Traceback (most recent call last)",
      "\u001b[1;32m<ipython-input-36-46ea971ab0d2>\u001b[0m in \u001b[0;36m<module>\u001b[1;34m\u001b[0m\n\u001b[1;32m----> 1\u001b[1;33m \u001b[0mbürgermeisterin\u001b[0m\u001b[1;33m\u001b[0m\u001b[1;33m\u001b[0m\u001b[0m\n\u001b[0m",
      "\u001b[1;31mNameError\u001b[0m: name 'bürgermeisterin' is not defined"
     ]
    }
   ],
   "source": [
    "bürgermeisterin"
   ]
  },
  {
   "cell_type": "markdown",
   "id": "36cadd8c",
   "metadata": {},
   "source": [
    "Obwohl die Variable `bürgermeisterin` innerhalb der Funktion `buxtehude()` definiert wurde, ist sie auch nach der Ausführung der Funktion nicht bekannt. Das liegt daran, dass die Variable innerhalb des lokalen Gültigkeitsbereiches (Scope) der Funktion `buxtehude()` definiert wurde und nicht außerhalb der Funktion im globalen Gültigkeitsbereiches.\n",
    "\n",
    "Möchte man den Wert der lokalen, funktionsinternen Variable `bürgermeisterin` in den globalen Gültigkeitsbereich \"nach draußen schaffen\", dann müssen wir die entsprechende Variable über das Schlüsselwort `return` explizit als Funktions-Output definieren und dann bei Funktionsausführung optional einer (globalen) Variable außerhalb der Funktion zuweisen:"
   ]
  },
  {
   "cell_type": "code",
   "execution_count": 37,
   "id": "d98078bb",
   "metadata": {},
   "outputs": [],
   "source": [
    "def buxtehude():\n",
    "    bürgermeisterin = \"Oldenburg-Schmidt\"\n",
    "    return bürgermeisterin\n",
    "\n",
    "bürgermeisterin_of_buxtehude = buxtehude()"
   ]
  },
  {
   "cell_type": "code",
   "execution_count": 38,
   "id": "6d6bacd0",
   "metadata": {},
   "outputs": [
    {
     "data": {
      "text/plain": [
       "'Oldenburg-Schmidt'"
      ]
     },
     "execution_count": 38,
     "metadata": {},
     "output_type": "execute_result"
    }
   ],
   "source": [
    "bürgermeisterin_of_buxtehude"
   ]
  },
  {
   "cell_type": "markdown",
   "id": "293ab798",
   "metadata": {},
   "source": [
    "Andersherum können wir innerhalb eines lokalen, funktionsinternen Gültigkeitsbereiches immer auch auf die Variablen des übergeordneten, globalen Gültigkeitsbereiches lesend zugreifen. Unten definiere ich eine Funktion, die intern auf die global definierte Variable `kanzlerin` zugreift und in die Konsole printet:"
   ]
  },
  {
   "cell_type": "code",
   "execution_count": 39,
   "id": "743533f4",
   "metadata": {},
   "outputs": [
    {
     "name": "stdout",
     "output_type": "stream",
     "text": [
      "Merkel\n"
     ]
    }
   ],
   "source": [
    "kanzlerin = \"Merkel\"\n",
    "\n",
    "def buxtehude():\n",
    "    print(kanzlerin)\n",
    "\n",
    "buxtehude()"
   ]
  },
  {
   "cell_type": "markdown",
   "id": "c7c1bd2b",
   "metadata": {},
   "source": [
    "Versuchen wir die Variable `bundeskanzlerin` innerhalb von `buxtehude()` zu überschreiben, verändern wir nicht die globale Variable `kanzlerin`, sondern definieren nun eine gleichnamige, funktionsinterne Variable `kanzlerin`.\n",
    "\n",
    "Im untigen Beispiel definiere ich im globalen Gültigkeitsbereich die Variable `kanzlerin` und weise dieser den Wert `\"Merkel\"` zu. Innerhalb des lokalen Gültigkeitsbereiches der Funktion `buxtehude` weise ich der Variable `kanzlerin` den Wert `\"Baerbock\"` zu. Diese Neuzuweisung gilt aber nur innerhalb der Funktion `buxtehude`, wie man im Folgenden sieht."
   ]
  },
  {
   "cell_type": "code",
   "execution_count": 40,
   "id": "90db680a",
   "metadata": {},
   "outputs": [],
   "source": [
    "kanzlerin = \"Merkel\"\n",
    "\n",
    "def buxtehude():\n",
    "    kanzlerin = \"Baerbock\"\n",
    "    print(kanzlerin)"
   ]
  },
  {
   "cell_type": "markdown",
   "id": "2ba5cde5",
   "metadata": {},
   "source": [
    "Unten wird die Funktion `buxtehude` ausgeführt, welche den Wert der Variable `kanzlerin` printet. Da der Wert der Variable `kanzlerin` innerhalb der Funktion auf `\"Baerbock\"` verändert wurde, wird entsprechend `\"Baerbock\"` geprintet."
   ]
  },
  {
   "cell_type": "code",
   "execution_count": 41,
   "id": "ce448048",
   "metadata": {},
   "outputs": [
    {
     "name": "stdout",
     "output_type": "stream",
     "text": [
      "Baerbock\n"
     ]
    }
   ],
   "source": [
    "buxtehude()"
   ]
  },
  {
   "cell_type": "markdown",
   "id": "a8adad9e",
   "metadata": {},
   "source": [
    "An der globalen Variable `kanzlerin` hat diese funktionsinterne Neudefinition allerdings nichts verändert:"
   ]
  },
  {
   "cell_type": "code",
   "execution_count": 42,
   "id": "c0f50092",
   "metadata": {},
   "outputs": [
    {
     "data": {
      "text/plain": [
       "'Merkel'"
      ]
     },
     "execution_count": 42,
     "metadata": {},
     "output_type": "execute_result"
    }
   ],
   "source": [
    "kanzlerin"
   ]
  },
  {
   "cell_type": "markdown",
   "id": "63335a21",
   "metadata": {},
   "source": [
    "## Veränderbare Objekte global durch Funktion ändern\n",
    "\n",
    "Auch wenn globale Variablen innerhalb von Funktionen nicht ohne Weiteres neudefiniert werden können (es gibt tatsächlich eine Möglichkeit, welche wir an dieser Stelle jedoch nicht betrachten, weil nicht wichtig für uns), können veränderbare Objekte, welche durch die globalen Variablen bezeichnet werden, dennoch direkt und global innerhalb einer Funktion verändert werden.\n",
    "\n",
    "Diese Eigenschaft kann am Anfang etwas verwirrend sein und zu teils ungewollten Nebeneffekten von Funktionen führen. Dennoch kann diese Eigenschaft für ABM teilweise relativ praktisch sein, weil wir so z.B. Agenten, welche als veränderbare Objekte dargestellt werden, über Funktionen direkt verändern können.\n",
    "\n",
    "Unten definiere ich die Funktion `opinion_blender()`, welche die Meinung zweier als `dict` repräsentierter Agenten in den Mittelwert der beiden eingegebenen Agenten verändert. Die Veränderung der Agenten findet zwar innerhalb der Funktion statt, hat aber dennoch Auswirkungen auf der globalen Ebene."
   ]
  },
  {
   "cell_type": "code",
   "execution_count": 43,
   "id": "184d40a4",
   "metadata": {},
   "outputs": [],
   "source": [
    "# Funktion zur Veränderung der Meinung der Agenten definieren\n",
    "def opinion_blender(agent1, agent2):\n",
    "    new_opinion = (agent1[\"opinion\"] + agent2[\"opinion\"]) / 2\n",
    "    agent1[\"opinion\"] = new_opinion\n",
    "    agent2[\"opinion\"] = new_opinion"
   ]
  },
  {
   "cell_type": "code",
   "execution_count": 44,
   "id": "d11287e2",
   "metadata": {},
   "outputs": [],
   "source": [
    "# Agenten definieren\n",
    "agent1 = {\"opinion\": 0}\n",
    "agent2 = {\"opinion\": 10}"
   ]
  },
  {
   "cell_type": "code",
   "execution_count": 45,
   "id": "c439a600",
   "metadata": {},
   "outputs": [],
   "source": [
    "# Funktion auf Agenten anwenden\n",
    "opinion_blender(agent1, agent2)"
   ]
  },
  {
   "cell_type": "code",
   "execution_count": 46,
   "id": "9547cd93",
   "metadata": {},
   "outputs": [
    {
     "data": {
      "text/plain": [
       "{'opinion': 5.0}"
      ]
     },
     "execution_count": 46,
     "metadata": {},
     "output_type": "execute_result"
    }
   ],
   "source": [
    "# Agent 1 anschauen\n",
    "agent1"
   ]
  },
  {
   "cell_type": "code",
   "execution_count": 47,
   "id": "879aa1c4",
   "metadata": {},
   "outputs": [
    {
     "data": {
      "text/plain": [
       "{'opinion': 5.0}"
      ]
     },
     "execution_count": 47,
     "metadata": {},
     "output_type": "execute_result"
    }
   ],
   "source": [
    "# Agent 2 anschauen\n",
    "agent2"
   ]
  },
  {
   "cell_type": "markdown",
   "id": "6d6947f4",
   "metadata": {},
   "source": [
    "````{admonition} Pro-Tipp\n",
    ":class: tip\n",
    "\n",
    "Scopes und deren Umsetzung in Python können in der Theorie etwas abstrakt und unintuitiv erscheinen. Hier empfiehlt es sich - wie eigentlich immer - einfach mal selbst mit Funktionsdefinitionen und global und lokal definierten Variablen herumzuexperimentieren. Dann bekommt man ein Gefühl dafür, wann welche Variable oder welches Objekt in welchem Gültigkeitsbereich existiert oder verändert werden kann.\n",
    "````"
   ]
  }
 ],
 "metadata": {
  "kernelspec": {
   "display_name": "Python [conda env:amp_book]",
   "language": "python",
   "name": "conda-env-amp_book-py"
  },
  "language_info": {
   "codemirror_mode": {
    "name": "ipython",
    "version": 3
   },
   "file_extension": ".py",
   "mimetype": "text/x-python",
   "name": "python",
   "nbconvert_exporter": "python",
   "pygments_lexer": "ipython3",
   "version": "3.7.10"
  }
 },
 "nbformat": 4,
 "nbformat_minor": 5
}
