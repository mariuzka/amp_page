{
 "cells": [
  {
   "cell_type": "markdown",
   "id": "da749e7e",
   "metadata": {},
   "source": [
    "# Funktionen ohne In- und Output\n",
    "\n",
    "Für die Definition einer eigenen Funktion, benötigen wir die untige allgemeine Syntax. Wir schauen uns zunächst die einfachste Form einer Funktion an: eine Funktion *ohne* expliziten Input und *ohne* expliziten Output.\n",
    "\n",
    "\n",
    "```python\n",
    "def FUNCTION_NAME():    # Funktionskopf\n",
    "    DO_SOMETHING        # Funktionsrumpf\n",
    "```\n",
    "\n",
    "Mit dem Schlüsselwort `def` signalisieren wir Python: \"hier kommt eine Funktionsdefinition\". Danach folgt der Name der Funktion, welchen wir wie bei der Definition von Variablen (fast) beliebig auswählen dürfen. Nach dem Name der Funktion folgen runde Klammern und ein Doppelpunkt. Wenn die Funktion einen Input haben soll, dann könnten wir innerhalb der runden Klammern diesen Input definieren. Diese Zeile, die mit `def` beginnt, nennt man auch den Funktionskopf. Unter dem Funktionskopf folgt der Funktionsrumpf. Der Funktionsrumpf ist ein eingerückter Code-Block, welcher der funktionale Kern und eigentlicher Inhalt einer Funktion ist. Dieser Code-Block wird immer dann ausgeführt, wenn die Funktion aufgerufen wird.\n",
    "\n",
    "Ein Beispiel: Im Folgenden definiere ich die Funktion `say_hello()`, die nichts anderes macht als den String `\"hello world\"` in der Konsole anzuzeigen."
   ]
  },
  {
   "cell_type": "code",
   "execution_count": 1,
   "id": "5de3ac41",
   "metadata": {},
   "outputs": [],
   "source": [
    "def say_hello():\n",
    "    print(\"hello world\")"
   ]
  },
  {
   "cell_type": "markdown",
   "id": "13250115",
   "metadata": {},
   "source": [
    "Führt man den obigen Code aus, passiert zunächst nichts sichtbares. Wir haben die Funktion nur definiert, aber noch nicht ausgeführt. Zur Ausführung der Funktion muss man, wie wir bereits von anderen Funktionen kennen, den Funktionsnamen inklusive der runden Klammern eingeben:"
   ]
  },
  {
   "cell_type": "code",
   "execution_count": 2,
   "id": "17b30520",
   "metadata": {},
   "outputs": [
    {
     "name": "stdout",
     "output_type": "stream",
     "text": [
      "hello world\n"
     ]
    }
   ],
   "source": [
    "say_hello()"
   ]
  },
  {
   "cell_type": "markdown",
   "id": "ce4bcd2a",
   "metadata": {},
   "source": [
    "Mit der Funktion `say_hello()` können wir nun das machen, wofür wir sonst den Code `print(\"hello world\")` gebraucht hätten. Das bringt uns an dieser Stelle noch nicht wirklich viel, zeigt aber, wie man *Code* in einer Funktion *verpacken* kann, um diesen später praktischerweise immer wieder verwenden zu können. Oben packen wir zwar nur eine Zeile Code in die Funktion, theoretisch kann der Code innerhalb einer Funktion aber beliebig kompliziert sein.\n",
    "\n",
    "Unten \"verkompliziere\" ich den Code etwas und definiere eine Funktion `say_hello_twice()`, welche mittels For-Loop zwei mal `\"hello world\"` anzeigt."
   ]
  },
  {
   "cell_type": "code",
   "execution_count": 3,
   "id": "65f501a5",
   "metadata": {},
   "outputs": [],
   "source": [
    "def say_hello_twice():\n",
    "    for i in range(2):\n",
    "        print(\"hello world\")"
   ]
  },
  {
   "cell_type": "markdown",
   "id": "3add468d",
   "metadata": {},
   "source": [
    "Nach der Definition führe ich sie jetzt aus:"
   ]
  },
  {
   "cell_type": "code",
   "execution_count": 4,
   "id": "f24bd270",
   "metadata": {},
   "outputs": [
    {
     "name": "stdout",
     "output_type": "stream",
     "text": [
      "hello world\n",
      "hello world\n"
     ]
    }
   ],
   "source": [
    "say_hello_twice()"
   ]
  }
 ],
 "metadata": {
  "kernelspec": {
   "display_name": "Python [conda env:amp_book]",
   "language": "python",
   "name": "conda-env-amp_book-py"
  },
  "language_info": {
   "codemirror_mode": {
    "name": "ipython",
    "version": 3
   },
   "file_extension": ".py",
   "mimetype": "text/x-python",
   "name": "python",
   "nbconvert_exporter": "python",
   "pygments_lexer": "ipython3",
   "version": "3.7.10"
  }
 },
 "nbformat": 4,
 "nbformat_minor": 5
}
