{
 "cells": [
  {
   "cell_type": "markdown",
   "id": "cf71fbb5",
   "metadata": {},
   "source": [
    "# Funktionen mit Output\n",
    "\n",
    "Unsere selbstdefinierten Funktionen haben bisher keinen explizitigen Output. Sie zeigen zwar Strings in der Konsole an, damit kann man innerhalb eines richtigen Computerprogrammes aber nicht wirklich viel anfangen. Möchte man, dass eine Funktion einem auch etwas (ein Objekt) zurückgibt, womit man innerhalb des Programmes weiterarbeiten kann, nachdem man sie aufgerufen hat, dann müssen wir dies explizit in der Funktionsdefinition festlegen. Dies machen wir mit dem Schlüsselwort `return`. Das Schlüsselwort `return` platzieren wir (meist) am Ende der Funktion und schreiben dahinter das Objekt, das wir als Output ausgegeben haben wollen. \n",
    "\n",
    "Im Folgenden definiere ich eine Funktion, die nichts anderes tut, als der funktionsinternen Variable `x` den Wert `10` zuzuweisen und dann mittels return zurückzugeben."
   ]
  },
  {
   "cell_type": "code",
   "execution_count": 1,
   "id": "258a4fc2",
   "metadata": {},
   "outputs": [],
   "source": [
    "def useless_function():\n",
    "    x = 10\n",
    "    return x"
   ]
  },
  {
   "cell_type": "code",
   "execution_count": 2,
   "id": "7bb52817",
   "metadata": {},
   "outputs": [
    {
     "data": {
      "text/plain": [
       "10"
      ]
     },
     "execution_count": 2,
     "metadata": {},
     "output_type": "execute_result"
    }
   ],
   "source": [
    "useless_function()"
   ]
  },
  {
   "cell_type": "markdown",
   "id": "eaca19a9",
   "metadata": {},
   "source": [
    "Führt man die Funktion (in der Konsole) aus, dann sieht man, dass nun der Wert `10` zurückgegeben wird. Diesmal wird dieser aber nicht nur einfach mittels Funktion `print()` \"dargestellt\", sondern tatsächlich zurückgegeben. Das heißt, man könnte diesen Wert nun nehmen und im Programm weiter verwenden. Z.B. könnte man den Wert nehmen und einer Variable zuordnen, wie ich es unten mache:"
   ]
  },
  {
   "cell_type": "code",
   "execution_count": 5,
   "id": "091a52a0",
   "metadata": {},
   "outputs": [],
   "source": [
    "my_variable = useless_function()"
   ]
  },
  {
   "cell_type": "code",
   "execution_count": 4,
   "id": "0d719b30",
   "metadata": {},
   "outputs": [
    {
     "data": {
      "text/plain": [
       "10"
      ]
     },
     "execution_count": 4,
     "metadata": {},
     "output_type": "execute_result"
    }
   ],
   "source": [
    "my_variable"
   ]
  },
  {
   "cell_type": "markdown",
   "id": "922562c7",
   "metadata": {},
   "source": [
    "Im Folgenden ein schon etwas sinnvolleres Beispiel einer Funktion mit Output. Ich definiere unten eine Funktion namens `random_list()`, welche eine Liste mit 3 Zufallszahlen zwischen 0 und 10 ausgibt."
   ]
  },
  {
   "cell_type": "code",
   "execution_count": 7,
   "id": "331cc3ab",
   "metadata": {},
   "outputs": [],
   "source": [
    "import random\n",
    "\n",
    "def random_list():\n",
    "    the_list = []\n",
    "    for i in range(3):\n",
    "        the_list.append(random.randint(0,10))\n",
    "    return the_list"
   ]
  },
  {
   "cell_type": "markdown",
   "id": "5836011f",
   "metadata": {},
   "source": [
    "In der letzten Zeile der Funktionsdefinition weise ich an, dass die Liste `the_list` als Output ausgegeben werden soll. Unten führe ich die Funktion aus und weise die ausgegebene Liste direkt einer Variable zu:"
   ]
  },
  {
   "cell_type": "code",
   "execution_count": 8,
   "id": "667c199b",
   "metadata": {},
   "outputs": [],
   "source": [
    "my_random_list = random_list()"
   ]
  },
  {
   "cell_type": "code",
   "execution_count": 9,
   "id": "8fbec3c6",
   "metadata": {},
   "outputs": [
    {
     "data": {
      "text/plain": [
       "[3, 8, 3]"
      ]
     },
     "execution_count": 9,
     "metadata": {},
     "output_type": "execute_result"
    }
   ],
   "source": [
    "my_random_list"
   ]
  },
  {
   "cell_type": "markdown",
   "id": "f453dc01",
   "metadata": {},
   "source": [
    "Übrigens muss hinter dem Schlüsselwort `return` nicht unbedingt eine Variable stehen, sondern wir können auch unmittelbar das Ergebnis einer Berechnung oder anderen Funktion zurückgeben. So wie hier:"
   ]
  },
  {
   "cell_type": "code",
   "execution_count": 10,
   "id": "10c359b1",
   "metadata": {},
   "outputs": [],
   "source": [
    "def square_it(number):\n",
    "    return number * number"
   ]
  },
  {
   "cell_type": "code",
   "execution_count": 11,
   "id": "88d1ccac",
   "metadata": {},
   "outputs": [],
   "source": [
    "squared_number = square_it(55)"
   ]
  },
  {
   "cell_type": "code",
   "execution_count": 12,
   "id": "768122a1",
   "metadata": {},
   "outputs": [
    {
     "data": {
      "text/plain": [
       "3025"
      ]
     },
     "execution_count": 12,
     "metadata": {},
     "output_type": "execute_result"
    }
   ],
   "source": [
    "squared_number"
   ]
  },
  {
   "cell_type": "markdown",
   "id": "3b09c8e1",
   "metadata": {},
   "source": [
    "## Funktionen haben immer einen Output\n",
    "\n",
    "Genaugenommen gibt jede Funktion **immer** einen Output zurück - egal, ob wir `return` verwenden oder nicht. Wenn wir kein `return` in einer Funktion verwenden, dann gibt eine Funktion standardmäßig den Wert `None` zurück. Das demonstriere ich unten an der Funktion `random_list()` von oben, wobei ich die `return`-Zeile entfernt habe."
   ]
  },
  {
   "cell_type": "code",
   "execution_count": 18,
   "id": "8ad8ceea",
   "metadata": {},
   "outputs": [],
   "source": [
    "def random_list():\n",
    "    the_list = []\n",
    "    for i in range(3):\n",
    "        the_list.append(random.randint(0,10))"
   ]
  },
  {
   "cell_type": "code",
   "execution_count": 19,
   "id": "0288135d",
   "metadata": {},
   "outputs": [],
   "source": [
    "my_random_list = random_list()"
   ]
  },
  {
   "cell_type": "code",
   "execution_count": 20,
   "id": "e6f2e2b4",
   "metadata": {},
   "outputs": [
    {
     "name": "stdout",
     "output_type": "stream",
     "text": [
      "None\n"
     ]
    }
   ],
   "source": [
    "print(my_random_list)"
   ]
  },
  {
   "cell_type": "markdown",
   "id": "6f0238f3",
   "metadata": {},
   "source": [
    "Wenn wir keinen Output explizit definieren, dann ist der Output einer jeden Funktion gleich `None`. Das kann einem in den meisten Fällen eigentlich egal sein, ist aber durchaus hilfreich zu wissen, wenn im Programm plötzlich und auf unerklärliche Weise eine Variable mit dem Wert `None` auftaucht... Dann hat man vielleicht in einer Funktion das `return` vergessen. :)"
   ]
  }
 ],
 "metadata": {
  "kernelspec": {
   "display_name": "Python [conda env:amp_book]",
   "language": "python",
   "name": "conda-env-amp_book-py"
  },
  "language_info": {
   "codemirror_mode": {
    "name": "ipython",
    "version": 3
   },
   "file_extension": ".py",
   "mimetype": "text/x-python",
   "name": "python",
   "nbconvert_exporter": "python",
   "pygments_lexer": "ipython3",
   "version": "3.7.10"
  }
 },
 "nbformat": 4,
 "nbformat_minor": 5
}
