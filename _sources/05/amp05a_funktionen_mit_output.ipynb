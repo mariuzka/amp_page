{
 "cells": [
  {
   "cell_type": "markdown",
   "id": "5060503c",
   "metadata": {},
   "source": [
    "# Funktionen mit Output\n",
    "\n",
    "Unsere Funktionen zeigen zwar Strings in der Konsole an, möchte man aber einen Output auch als einen Wert weiterverwendbaren Wert zurückgeliefert bekommen, dann müssen wir dies explizit in der Funktionsdefinition festlegen. Dies machen wir mit dem Schlüsselwort `return`.\n",
    "\n",
    "Das Schlüsselwort `return` schreiben wir meist an das Ende der Funktion. Hinter `return` schreiben wir den Wert bzw. das Objekt, das wir als Output ausgegeben haben wollen. Im Folgenden definiere ich die Funktion `random_list()`, welche eine Liste mit 3 Zufallszahlen zwischen 0 und 10 ausgibt."
   ]
  },
  {
   "cell_type": "code",
   "execution_count": 1,
   "id": "83ff5e73",
   "metadata": {},
   "outputs": [],
   "source": [
    "import random\n",
    "\n",
    "def random_list():\n",
    "    l = []\n",
    "    for i in range(3):\n",
    "        l.append(random.randint(0,10))\n",
    "    return l"
   ]
  },
  {
   "cell_type": "markdown",
   "id": "95b74d8b",
   "metadata": {},
   "source": [
    "In der letzten Zeile der Funktionsdefinition weise ich an, dass die Liste `l` als Output ausgegeben werden soll. Bei Ausführung der Funktion kann der zurückgegebene Wert beispielsweise wie im Folgenden einer Variable zugewiesen werden:"
   ]
  },
  {
   "cell_type": "code",
   "execution_count": 2,
   "id": "e3460703",
   "metadata": {},
   "outputs": [],
   "source": [
    "my_random_list = random_list()"
   ]
  },
  {
   "cell_type": "code",
   "execution_count": 3,
   "id": "ab6cc140",
   "metadata": {},
   "outputs": [
    {
     "data": {
      "text/plain": [
       "[10, 2, 1]"
      ]
     },
     "execution_count": 3,
     "metadata": {},
     "output_type": "execute_result"
    }
   ],
   "source": [
    "my_random_list"
   ]
  },
  {
   "cell_type": "markdown",
   "id": "bfc0813c",
   "metadata": {},
   "source": [
    "Im Folgenden noch ein Beispiel, bei dem die Funktion auch Input erwartet:"
   ]
  },
  {
   "cell_type": "code",
   "execution_count": 4,
   "id": "831a61a0",
   "metadata": {},
   "outputs": [],
   "source": [
    "def random_list(n, numbers):\n",
    "    l = []\n",
    "    for i in range(n):\n",
    "        # Wenn numbers == True\n",
    "        if numbers:\n",
    "            l.append(random.randint(0,10))\n",
    "        # Ansonsten\n",
    "        else:\n",
    "            l.append(random.choice(\n",
    "                [\"a\",\"b\",\"c\",\"d\",\"e\"]))\n",
    "    return l"
   ]
  },
  {
   "cell_type": "code",
   "execution_count": 5,
   "id": "51372092",
   "metadata": {},
   "outputs": [
    {
     "data": {
      "text/plain": [
       "[4, 6, 3, 5, 9]"
      ]
     },
     "execution_count": 5,
     "metadata": {},
     "output_type": "execute_result"
    }
   ],
   "source": [
    "random_numbers = random_list(5, True)\n",
    "random_numbers"
   ]
  },
  {
   "cell_type": "code",
   "execution_count": 6,
   "id": "eb8d9fcc",
   "metadata": {},
   "outputs": [
    {
     "data": {
      "text/plain": [
       "['d', 'b', 'd']"
      ]
     },
     "execution_count": 6,
     "metadata": {},
     "output_type": "execute_result"
    }
   ],
   "source": [
    "random_letters = random_list(3, False)\n",
    "random_letters"
   ]
  },
  {
   "cell_type": "markdown",
   "id": "f0dfcf83",
   "metadata": {},
   "source": [
    "Übrigens muss hinter dem Schlüsselwort `return` nicht unbedingt eine Variable stehen, sondern wir können auch unmittelbar das Ergebnis einer Berechnung oder anderen Funktion zurückgeben. So wie hier:"
   ]
  },
  {
   "cell_type": "code",
   "execution_count": 7,
   "id": "d0470ef1",
   "metadata": {},
   "outputs": [],
   "source": [
    "def square_it(number):\n",
    "    return number * number"
   ]
  },
  {
   "cell_type": "code",
   "execution_count": 8,
   "id": "22a48e59",
   "metadata": {},
   "outputs": [
    {
     "data": {
      "text/plain": [
       "3025"
      ]
     },
     "execution_count": 8,
     "metadata": {},
     "output_type": "execute_result"
    }
   ],
   "source": [
    "squared_number = square_it(55)\n",
    "squared_number"
   ]
  },
  {
   "cell_type": "markdown",
   "id": "efae8553",
   "metadata": {},
   "source": [
    "Nun noch eine eigentlich nicht ganz so wichtige Sache, dennoch ist es manchmal hilfreich das zu wissen: Genaugenommen gibt jede Funktion **immer** einen Output zurück - egal, ob wir `return` verwenden oder nicht. Wenn wir kein `return` in einer Funktion verwenden, dann gibt eine Funktion standardmäßig den Wert `None` zurück. Das demonstriere ich unten an der Funktion `random_list()` von oben, wobei ich die `return`-Zeile entfernt habe."
   ]
  },
  {
   "cell_type": "code",
   "execution_count": 9,
   "id": "033c6faf",
   "metadata": {},
   "outputs": [],
   "source": [
    "def random_list():\n",
    "    l = []\n",
    "    for i in range(3):\n",
    "        l.append(random.randint(0,10))"
   ]
  },
  {
   "cell_type": "code",
   "execution_count": 10,
   "id": "fac3deec",
   "metadata": {},
   "outputs": [],
   "source": [
    "my_random_list = random_list()"
   ]
  },
  {
   "cell_type": "code",
   "execution_count": 11,
   "id": "9e4f14c8",
   "metadata": {},
   "outputs": [
    {
     "name": "stdout",
     "output_type": "stream",
     "text": [
      "None\n"
     ]
    }
   ],
   "source": [
    "print(my_random_list)"
   ]
  },
  {
   "cell_type": "markdown",
   "id": "8821cfd7",
   "metadata": {},
   "source": [
    "D.h. wenn wir keinen Output explizit definieren, dann ist der Output einer jeden Funktion gleich `None`. Das ist hilfreich zu wissen, wenn im Programm plötzlich und auf unerklärliche Weise eine Variable mit dem Wert `None` auftaucht. Dann hat man vielleicht in einer Funktion das `return` vergessen. :)"
   ]
  }
 ],
 "metadata": {
  "kernelspec": {
   "display_name": "Python [conda env:amp_book]",
   "language": "python",
   "name": "conda-env-amp_book-py"
  },
  "language_info": {
   "codemirror_mode": {
    "name": "ipython",
    "version": 3
   },
   "file_extension": ".py",
   "mimetype": "text/x-python",
   "name": "python",
   "nbconvert_exporter": "python",
   "pygments_lexer": "ipython3",
   "version": "3.7.10"
  }
 },
 "nbformat": 4,
 "nbformat_minor": 5
}
