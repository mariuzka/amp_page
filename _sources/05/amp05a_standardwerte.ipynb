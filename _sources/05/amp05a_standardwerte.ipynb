{
 "cells": [
  {
   "cell_type": "markdown",
   "id": "2f2100b3",
   "metadata": {},
   "source": [
    "# Funktionen mit Standardwerten\n",
    "\n",
    "In vielen Fällen kann es sinnvoll sein, einen Default-Wert für die Parameter d.h. die Inputs anzugeben. So kann man einen oft genutzten oder sinnvollen Input vorgeben, sodass man bei der Benutzung der Funktion diesen nicht immer eingeben muss, ihn aber bei Bedarf trotzdem ändern kann.\n",
    "\n",
    "Wir setzen Standardwerte für die Parameter einer Funktion, indem wir bei der Definition der Funktion den gewünschten Standardwert zusammen mit einem Gleichheitsszeichen hinter den entsprechenden Parameter schreiben. Wichtig ist dabei, dass die Parameter **ohne** Standardwert immer **vorne** und die Parameter **mit** Standardwert **hinten** in der Parameterliste stehen. Allgemein sieht das dann so aus:\n",
    "\n",
    "```python\n",
    "def FUNCTION_NAME(INPUT1, INPUT2, ..., INPUT3 = X, INPUT4 = Y, ...):\n",
    "    DO_SOMETHING_WITH_INPUT\n",
    "    ```\n",
    "Im Folgenden setze ich in der Funktion `say_hello_several_times_to()` für den Parameter `name` den Standardwert `\"Monty\"`. "
   ]
  },
  {
   "cell_type": "code",
   "execution_count": 24,
   "id": "8c1278fd",
   "metadata": {},
   "outputs": [],
   "source": [
    "def say_hello_several_times_to(n, name = \"Monty\"):\n",
    "    for i in range(n):\n",
    "        print(\"Hello\", name, \"!\")"
   ]
  },
  {
   "cell_type": "markdown",
   "id": "627406a9",
   "metadata": {},
   "source": [
    "Führt man die Funktion aus und möchte sowieso den Monty grüßen, dann muss man dies nicht mehr explizit angeben."
   ]
  },
  {
   "cell_type": "code",
   "execution_count": 25,
   "id": "3bd956d7",
   "metadata": {},
   "outputs": [
    {
     "name": "stdout",
     "output_type": "stream",
     "text": [
      "Hello Monty !\n",
      "Hello Monty !\n",
      "Hello Monty !\n"
     ]
    }
   ],
   "source": [
    "say_hello_several_times_to(3)"
   ]
  },
  {
   "cell_type": "markdown",
   "id": "bbfb00fc",
   "metadata": {},
   "source": [
    "Möchte man hingegen jemand anderes grüßen, kann man wie gewohnt einen Wert angeben:"
   ]
  },
  {
   "cell_type": "code",
   "execution_count": 26,
   "id": "51ed06fe",
   "metadata": {},
   "outputs": [
    {
     "name": "stdout",
     "output_type": "stream",
     "text": [
      "Hello Python !\n",
      "Hello Python !\n",
      "Hello Python !\n"
     ]
    }
   ],
   "source": [
    "say_hello_several_times_to(3, \"Python\")"
   ]
  },
  {
   "cell_type": "markdown",
   "id": "beef8116",
   "metadata": {},
   "source": [
    "Nun setze ich auch für den Input `n` einen Standardwert."
   ]
  },
  {
   "cell_type": "code",
   "execution_count": 27,
   "id": "7db43eec",
   "metadata": {},
   "outputs": [],
   "source": [
    "def say_hello_several_times_to(n = 3, name = \"Monty\"):\n",
    "    for i in range(n):\n",
    "        print(\"Hello\", name, \"!\")"
   ]
  },
  {
   "cell_type": "markdown",
   "id": "a28c9223",
   "metadata": {},
   "source": [
    "Ist man mit den Standardwerten zufrieden, dann muss man nun gar nichts mehr eingeben."
   ]
  },
  {
   "cell_type": "code",
   "execution_count": 28,
   "id": "c5f10831",
   "metadata": {},
   "outputs": [
    {
     "name": "stdout",
     "output_type": "stream",
     "text": [
      "Hello Monty !\n",
      "Hello Monty !\n",
      "Hello Monty !\n"
     ]
    }
   ],
   "source": [
    "say_hello_several_times_to()"
   ]
  },
  {
   "cell_type": "markdown",
   "id": "c08773b1",
   "metadata": {},
   "source": [
    "Was ist aber, wenn ich mit dem Standardwert für `n` zufrieden bin, aber gerne einen eigenen Wert für `name` eingeben möchte? Einen einzelnen Input-Wert würde Python ja dem ersten Parameter und somit `n`, nicht aber wie gewollt `name` zuweisen. Für solche Fälle kann man beim Aufruf der Funktion den entsprechenden Input-Wert mit einem Gleichheitszeichen explizit dem entsprechenden Parameter zuweisen. Das sieht dann so aus:"
   ]
  },
  {
   "cell_type": "code",
   "execution_count": 29,
   "id": "42c5014f",
   "metadata": {
    "scrolled": true
   },
   "outputs": [
    {
     "name": "stdout",
     "output_type": "stream",
     "text": [
      "Hello Python !\n",
      "Hello Python !\n",
      "Hello Python !\n"
     ]
    }
   ],
   "source": [
    "say_hello_several_times_to(name=\"Python\")"
   ]
  },
  {
   "cell_type": "markdown",
   "id": "2add0b5e",
   "metadata": {},
   "source": [
    "```{admonition} Pro-Tipp\n",
    ":class: tip\n",
    "Eine solche explizite Zuweisung kann man übrigens immer machen, auch wenn es sich nicht um Parameter mit Standardwert handelt. Dies kann sehr sinnvoll sein, wenn man z.B. bei einer Funktion sehr viele Input-Werte hat und man sonst den Überblick verlieren würde, was man da eigentlich welchem Parameter zuweist.\n",
    "```"
   ]
  }
 ],
 "metadata": {
  "kernelspec": {
   "display_name": "Python [conda env:amp_book]",
   "language": "python",
   "name": "conda-env-amp_book-py"
  },
  "language_info": {
   "codemirror_mode": {
    "name": "ipython",
    "version": 3
   },
   "file_extension": ".py",
   "mimetype": "text/x-python",
   "name": "python",
   "nbconvert_exporter": "python",
   "pygments_lexer": "ipython3",
   "version": "3.7.10"
  }
 },
 "nbformat": 4,
 "nbformat_minor": 5
}
