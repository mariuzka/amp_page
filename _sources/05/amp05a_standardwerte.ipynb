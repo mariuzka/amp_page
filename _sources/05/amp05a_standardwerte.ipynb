{
 "cells": [
  {
   "cell_type": "markdown",
   "id": "bc1699a8",
   "metadata": {},
   "source": [
    "# Funktionen mit Standardwerten\n",
    "\n",
    "In vielen Fällen kann es sinnvoll sein, einen Standardwert für Funktioninputs anzugeben. So kann man einen oft genutzten oder sinnvollen Input vorgeben, sodass man bei der Benutzung der Funktion diesen nicht immer eingeben muss, ihn aber bei Bedarf trotzdem ändern kann.\n",
    "\n",
    "Wir setzen Standardwerte für die Parameter einer Funktion, indem wir direkt bei der Definition der Funktion den gewünschten Standardwert zusammen mit einem Gleichheitsszeichen hinter den entsprechenden Parameter/Platzhalter schreiben (quasi wie bei keyword arguments). Wichtig ist dabei, dass bei der Funktionsdefinition die Parameter **ohne** Standardwert immer **vorne** und die Parameter **mit** Standardwert **hinten** in der Parameterliste stehen. Allgemein sieht das dann so aus:\n",
    "\n",
    "```python\n",
    "def FUNCTION_NAME(INPUT1, INPUT2, ..., INPUT3=X, INPUT4=Y, ...):\n",
    "    DO_SOMETHING_WITH_INPUT\n",
    "```"
   ]
  },
  {
   "cell_type": "markdown",
   "id": "cc82f84c",
   "metadata": {},
   "source": [
    "Im Folgenden setze ich in der Funktion `say_hello_several_times_to()` für den Parameter `name` den Standardwert `\"Monty\"`. "
   ]
  },
  {
   "cell_type": "code",
   "execution_count": 4,
   "id": "bb9efad5",
   "metadata": {},
   "outputs": [],
   "source": [
    "def say_hello_several_times_to(n, name=\"Monty\"):\n",
    "    for i in range(n):\n",
    "        print(\"Hello\", name, \"!\")"
   ]
  },
  {
   "cell_type": "markdown",
   "id": "746cf8f9",
   "metadata": {},
   "source": [
    "Führt man die Funktion aus und möchte sowieso den Monty grüßen, dann muss man dies nicht mehr explizit angeben."
   ]
  },
  {
   "cell_type": "code",
   "execution_count": 5,
   "id": "e544f924",
   "metadata": {},
   "outputs": [
    {
     "name": "stdout",
     "output_type": "stream",
     "text": [
      "Hello Monty !\n",
      "Hello Monty !\n",
      "Hello Monty !\n"
     ]
    }
   ],
   "source": [
    "say_hello_several_times_to(3)"
   ]
  },
  {
   "cell_type": "markdown",
   "id": "15e47046",
   "metadata": {},
   "source": [
    "Möchte man hingegen jemand anderes grüßen, kann man wie gewohnt einen Wert angeben:"
   ]
  },
  {
   "cell_type": "code",
   "execution_count": 26,
   "id": "8ce76f26",
   "metadata": {},
   "outputs": [
    {
     "name": "stdout",
     "output_type": "stream",
     "text": [
      "Hello Python !\n",
      "Hello Python !\n",
      "Hello Python !\n"
     ]
    }
   ],
   "source": [
    "say_hello_several_times_to(3, \"Python\")"
   ]
  },
  {
   "cell_type": "markdown",
   "id": "a3f9f2bf",
   "metadata": {},
   "source": [
    "Nun setze ich auch für den Input `n` einen Standardwert."
   ]
  },
  {
   "cell_type": "code",
   "execution_count": 1,
   "id": "fe52f67b",
   "metadata": {},
   "outputs": [],
   "source": [
    "def say_hello_several_times_to(n=3, name=\"Monty\"):\n",
    "    for i in range(n):\n",
    "        print(\"Hello\", name, \"!\")"
   ]
  },
  {
   "cell_type": "markdown",
   "id": "eb8b882d",
   "metadata": {},
   "source": [
    "Ist man mit den Standardwerten zufrieden, dann muss man nun gar nichts mehr eingeben."
   ]
  },
  {
   "cell_type": "code",
   "execution_count": 2,
   "id": "56539d32",
   "metadata": {},
   "outputs": [
    {
     "name": "stdout",
     "output_type": "stream",
     "text": [
      "Hello Monty !\n",
      "Hello Monty !\n",
      "Hello Monty !\n"
     ]
    }
   ],
   "source": [
    "say_hello_several_times_to()"
   ]
  },
  {
   "cell_type": "markdown",
   "id": "95e967fe",
   "metadata": {},
   "source": [
    "Was ist aber, wenn ich mit dem Standardwert für `n` zufrieden bin, aber gerne einen eigenen Wert für `name` eingeben möchte? Gibt man einen einzelnen Wert einfach ohne \"Keyword\" als Input-Wert ein, würde Python diesen Wert dem ersten Parameter und somit `n`, nicht aber wie gewollt `name` zuweisen. Daher müsste man dann den Inputwert für  `name` als keyword argument eingeben:"
   ]
  },
  {
   "cell_type": "code",
   "execution_count": 3,
   "id": "26e24e61",
   "metadata": {
    "scrolled": true
   },
   "outputs": [
    {
     "name": "stdout",
     "output_type": "stream",
     "text": [
      "Hello Python !\n",
      "Hello Python !\n",
      "Hello Python !\n"
     ]
    }
   ],
   "source": [
    "say_hello_several_times_to(name=\"Python\")"
   ]
  }
 ],
 "metadata": {
  "kernelspec": {
   "display_name": "Python [conda env:amp_book]",
   "language": "python",
   "name": "conda-env-amp_book-py"
  },
  "language_info": {
   "codemirror_mode": {
    "name": "ipython",
    "version": 3
   },
   "file_extension": ".py",
   "mimetype": "text/x-python",
   "name": "python",
   "nbconvert_exporter": "python",
   "pygments_lexer": "ipython3",
   "version": "3.7.10"
  }
 },
 "nbformat": 4,
 "nbformat_minor": 5
}
