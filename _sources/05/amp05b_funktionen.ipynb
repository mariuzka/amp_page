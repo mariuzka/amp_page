{
 "cells": [
  {
   "cell_type": "markdown",
   "id": "c7a81963",
   "metadata": {},
   "source": [
    "# 5.2 Funktionales Training\n",
    "\n",
    "1. Schreibe eine Funktion, die die Länge einer Liste misst und zurückgibt, ohne dabei selbst die Funktion `len()` zu benutzen.\n",
    "2. Schreibe eine Funktion, welche aus einem eingegebenen Preis und der eingegebenen Höhe des bezahlten Geldes das entsprechende Rückgeld berechnet und als Output ausgibt.\n",
    "3. Schreibe eine Funktion, welche für einen eingegebenen Betrag Geld in Cents die Anzahl an 5-, 2- und 1-Centmünzen, die in Summe dem eingegebenen Betrag gleichwertig sind, in der Konsole anzeigt. Die Menge an Münzen soll dabei insgesamt immer so gering wie möglich sein. Gibt man z.B. einen Betrag von 18 Cent ein, sollte die Funktion anzeigen, dass insgesamt drei 5-Centmünzen, eine 2-Centmünze und eine 1-Centmünze diesem Geldbetrag entsprechen."
   ]
  }
 ],
 "metadata": {
  "kernelspec": {
   "display_name": "Python [conda env:amp_book]",
   "language": "python",
   "name": "conda-env-amp_book-py"
  },
  "language_info": {
   "codemirror_mode": {
    "name": "ipython",
    "version": 3
   },
   "file_extension": ".py",
   "mimetype": "text/x-python",
   "name": "python",
   "nbconvert_exporter": "python",
   "pygments_lexer": "ipython3",
   "version": "3.7.10"
  }
 },
 "nbformat": 4,
 "nbformat_minor": 5
}
