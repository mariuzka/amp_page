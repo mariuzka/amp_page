{
 "cells": [
  {
   "cell_type": "markdown",
   "metadata": {},
   "source": [
    "# Eigene Funktionen\n",
    "\n",
    "Wir haben im bisherigen Verlauf des Kurses schon viel von Funktionen gesprochen und auch schon selbst viele davon benutzt. In diesem Kapitel lernen wir, wie wir selbst solche Funktionen erstellen. \n",
    "\n",
    "Funktionen ermöglichen es Code zu kleinen (oder großen) Paketen zusammenzufassen, damit wir diese Code-Pakete im Programm immer wieder verwenden können, ohne den Code selbst immer wieder schreiben zu müssen. Es sind quasi kleine, innerhalb unseres Programmes ausführbare Unterprogramme.\n",
    "\n",
    "Wir haben bisher v.a. sogenannte built-in-Funktionen verwendet, wie z.B. die Funktion `type()` oder `len()`. Dies sind Funktionen, welche standardmäßig immer innerhalb von Python verfügbar sind. Wir haben aber auch schon Funktionen aus Paketen wie dem Modul `random` verwendet. Alle Funktionen konnten wir so oft wir wollten verwenden, ohne uns über deren interne Funktionalität Gedanken zu machen. Das ist ziemlich praktisch und bequem. Genau das ist auch einer der Vorteile von Funktionen. Sie packen den Code zu Paketen zusammen, machen diesen so praktisch in verschiedenen Situationen anwendbar und verstecken bei der Anwendung die irrelevanten Details der Funktionsweise der Funktion d.h. den Code-Inhalt der Funktion. Allen Funktionen ist aber gemeinsam, dass sie irgendwann mal von irgendjemandem definiert bzw. programmiert wurden und intern eben wiederum aus Code bestehen. Auch die built-in-Funktionen sind eigentlich Code-Pakete, die sich irgendwann mal irgendjemand ausgedacht hat und beim Aufruf der Funktion im Hintergrund ausgeführt werden. In diesem Kapitel schauen wir \"hinter die Kulissen\" und erstellen unsere eigenen Funktionen.\n",
    "\n",
    "\n",
    "Funktionen haben insgesamt sehr viele Vorteile und sind ein absolutes Muss beim Programmieren. Hier sind ein paar der Vorteile von Funktionen aufgelistet:\n",
    "\n",
    "- **Reduktion von Wiederholung**: Wir müssen Code nur einmal hinschreiben und können diesen dann immer wieder mittels Funktionsaufruf verwenden. Der Code wird dadurch **kürzer** und **übersichtlicher**.\n",
    "\n",
    "- **Reduktion von Fehlern**: Schreiben wir keine Funktionen, so müssten wir bei sich wiederholenden Problemen immer wieder denselben Code schreiben. Dabei entstehen Fehler z.B. beim \"Herumkopieren\" des Codes oder wenn man bestimmte Dinge ändern möchte und dies dann bei allen Stellen, wo man diesen Code verwendet, machen müsste.\n",
    "\n",
    "- **Reduktion von Komplexität**: Wir können Probleme in viele kleine Teilprobleme zerlegen und mit jeder Funktion eine kleine, für sich funktionierende Teillösungen entwickeln.\n",
    "\n",
    "- **Bessere Lesbarkeit**: Besteht ein Programm v.a. aus Funktionen, dann werden uns beim Lesen des Codes \"irrelevante\" Details erspart. Bei Bedarf können wir für die Details des Programms in die Funktionsdefinitionen schauen.\n",
    "\n",
    "\n",
    "(Im Folgenden lernen wir zwar genaugenommen nur wie wir allgemeine, *freistehende* Funktionen der Form `function()` definieren, (fast) alles was wir hier lernen, gilt aber auch für die \"objektgebundenen\" Funktionen a.k.a. Methoden der Form `object.function()` bzw. `object.method()`.)"
   ]
  },
  {
   "cell_type": "markdown",
   "metadata": {},
   "source": [
    "## Funktionen ohne Input\n",
    "\n",
    "Für die Definition einer eigenen Funktion, benötigen wir die untige allgemeine Syntax. Wir schauen uns zunächst die einfachste Form eine Funktion an, eine Funktion *ohne* expliziten Input und *ohne* expliziten Output.\n",
    "\n",
    "\n",
    "```python\n",
    "def FUNCTION_NAME():    # Funktionskopf\n",
    "    DO_SOMETHING        # Funktionsrumpf\n",
    "```\n",
    "\n",
    "Mit dem Schlüsselwort `def` signalisieren wir Python: \"hier kommt eine Funktionsdefinition\". Danach folgt der Name der Funktion, welchen wir wie bei der Definition von Variablen (fast) beliebig auswählen dürfen. Nach dem Name der Funktion folgen runde Klammern und ein Doppelpunkt. Wenn die Funktion einen Input haben soll, dann könnten wir innerhalb der runden Klammern diesen Input definieren. Diese Zeile, die mit `def` beginnt, nennt man auch den Funktionskopf. Unter dem Funktionskopf folgt der Funktionsrumpf. Der Funktionsrumpf ist ein eingerückter Code-Block, welcher der funktionale Kern und eigentlicher Inhalt einer Funktion ist. Dieser Code-Block wird immer dann ausgeführt, wenn die Funktion aufgerufen wird.\n",
    "\n",
    "Ein Beispiel: Im Folgenden definiere ich die Funktion `say_hello()`, die nichts anderes macht als den String `\"hello world\"` in der Konsole anzuzeigen."
   ]
  },
  {
   "cell_type": "code",
   "execution_count": 1,
   "metadata": {},
   "outputs": [],
   "source": [
    "def say_hello():\n",
    "    print(\"hello world\")"
   ]
  },
  {
   "cell_type": "markdown",
   "metadata": {},
   "source": [
    "Führt man den obigen Code aus, passiert zunächst nichts sichtbares. Wir haben die Funktion nur definiert, aber noch nicht ausgeführt. Zur Ausführung der Funktion muss man, wie wir bereits von anderen Funktionen kennen, den Funktionsnamen inklusive der runden Klammern eingeben:"
   ]
  },
  {
   "cell_type": "code",
   "execution_count": 2,
   "metadata": {},
   "outputs": [
    {
     "name": "stdout",
     "output_type": "stream",
     "text": [
      "hello world\n"
     ]
    }
   ],
   "source": [
    "say_hello()"
   ]
  },
  {
   "cell_type": "markdown",
   "metadata": {},
   "source": [
    "Mit der Funktion `say_hello()` können wir nun das machen, wofür wir sonst den Code `print(\"hello world\")` gebraucht hätten. Das bringt uns an dieser Stelle noch nicht wirklich viel, zeigt aber, wie man *Code* in einer Funktion *verpacken* kann, um diesen später praktischerweise immer wieder verwenden zu können. Oben packen wir zwar nur eine Zeile Code in die Funktion, theoretisch kann der Code innerhalb einer Funktion aber beliebig kompliziert sein.\n",
    "\n",
    "Unten \"verkompliziere\" ich den Code etwas und definiere eine Funktion `say_hello_twice()`, welche mittels For-Loop zwei mal `\"hello world\"` anzeigt."
   ]
  },
  {
   "cell_type": "code",
   "execution_count": 3,
   "metadata": {},
   "outputs": [],
   "source": [
    "def say_hello_twice():\n",
    "    for i in range(2):\n",
    "        print(\"hello world\")"
   ]
  },
  {
   "cell_type": "markdown",
   "metadata": {},
   "source": [
    "Nach der Definition führe ich sie jetzt aus:"
   ]
  },
  {
   "cell_type": "code",
   "execution_count": 4,
   "metadata": {},
   "outputs": [
    {
     "name": "stdout",
     "output_type": "stream",
     "text": [
      "hello world\n",
      "hello world\n"
     ]
    }
   ],
   "source": [
    "say_hello_twice()"
   ]
  },
  {
   "cell_type": "markdown",
   "metadata": {},
   "source": [
    "## Funktionen mit Input\n",
    "\n",
    "Die obige Funktion ermöglicht uns es Code zwar schön zu verpacken und immer wieder zu verwenden, die Funktion führt aber tatsächlich immer exakt den gleichen Code aus. Um Funktionen nicht nur als starre Code-Pakete zu verwenden, sondern auch situationsspezifisch einsetzen zu können, können wir einen variablen Input festlegen. \n",
    "\n",
    "Wenn die Funktion einen *Input* haben soll, dann können wir innerhalb der runden Klammern eine beliebige Zahl von beliebig gewählten Namen für die \"Input-Variablen\", welche man auch \"Parameter\" oder \"Argumente\" nennt, eintragen. Allgemein sieht das dann so aus:\n",
    "\n",
    "```python\n",
    "def FUNCTION_NAME(INPUT1, INPUT2, ...):\n",
    "    DO_SOMETHING_WITH_INPUT\n",
    "```\n",
    "\n",
    "Die Namen der Input-Variablen sind Platzhalter für die bei Verwendung der Funktion tatsächlich als Input eingebenen Werte. So wie das `x` bei der uns typischerweise aus der Schule bekannten Funktion `f(x)` ein abstrakter Platzhalter für einen konkret eingegebenen Wert ist.\n",
    "\n",
    "Wir könnten nun z.B. eine Funktion schreiben, die statt einem unpersönlichen `\"hello world\"` eine jeweils bestimmte Person grüßt. Im Folgenden definiere ich die Funktion `say_hello_to()`, wobei ich festlege, dass ein Input namens `name` erwartet wird.\n",
    "\n",
    "Wie du in der untigen Funktionsdefinition sehen kannst, tauch der Input `name` nicht nur in den runden Klammern auf, sondern auch darunter im eigentlich Code der Funktion. Dort legen wir fest, was mit dem als `name` eingegebenen Input innerhalb der Funktion gemacht wird. Aber nicht vergessen: Den Namen der Input-Variable `name` haben wir hier \"willkürlich\" festgelegt und er hat nichts mit dem Wert zu tun, den wir später tatsächlich eingeben. `name` steht einfach für das, was auch immer da als Input kommen mag. Man kann sich den Input auch als eine \"funktions-interne\" Variable vorstellen, die bei Aufruf der Funktion den entsprechenden eingegebenen Wert zugewiesen bekommt."
   ]
  },
  {
   "cell_type": "code",
   "execution_count": 5,
   "metadata": {},
   "outputs": [],
   "source": [
    "def say_hello_to(name):\n",
    "    print(\"Hello\", name, \"!\")"
   ]
  },
  {
   "cell_type": "markdown",
   "metadata": {},
   "source": [
    "Nachdem die Funktion definiert ist, rufe ich die Funktion mit einem String als Input auf. Diesen Input setze ich an die Stelle, wo in der Funktionsdefinition `name` steht. Letztlich weise ich damit der funktions-internen Variable `name` temporär den Wert `\"Monty\"` zu."
   ]
  },
  {
   "cell_type": "code",
   "execution_count": 6,
   "metadata": {},
   "outputs": [
    {
     "name": "stdout",
     "output_type": "stream",
     "text": [
      "Hello Monty !\n"
     ]
    }
   ],
   "source": [
    "say_hello_to(\"Monty\")"
   ]
  },
  {
   "cell_type": "markdown",
   "metadata": {},
   "source": [
    "Ein weiteres Beispiel: In der Funktion `say_hello_twice` wurde per For-Loop zwei mal `\"hello world\"` angezeigt. Unten erweitere ich die Funktion um einen Input bzw. Parameter namens `n`, mit welchem die Wiederholungszahl des For-Loops individuell festlegt werden kann."
   ]
  },
  {
   "cell_type": "code",
   "execution_count": 7,
   "metadata": {},
   "outputs": [],
   "source": [
    "def say_hello_several_times(n):\n",
    "    for i in range(n):\n",
    "        print(\"hello world\")"
   ]
  },
  {
   "cell_type": "code",
   "execution_count": 8,
   "metadata": {
    "scrolled": true
   },
   "outputs": [
    {
     "name": "stdout",
     "output_type": "stream",
     "text": [
      "hello world\n",
      "hello world\n"
     ]
    }
   ],
   "source": [
    "say_hello_several_times(2)"
   ]
  },
  {
   "cell_type": "code",
   "execution_count": 9,
   "metadata": {
    "scrolled": false
   },
   "outputs": [
    {
     "name": "stdout",
     "output_type": "stream",
     "text": [
      "hello world\n",
      "hello world\n",
      "hello world\n",
      "hello world\n",
      "hello world\n"
     ]
    }
   ],
   "source": [
    "say_hello_several_times(5)"
   ]
  },
  {
   "cell_type": "markdown",
   "metadata": {},
   "source": [
    "Wir können eine beliebige Anzahl an Inputs einer Funktion festlegen. Ich kombiniere nun z.B. die Funktionalität der Funktion `say_hello_to()` mit der Funktionalität der Funktion `say_hello_several_times`, sodass mithilfe von zwei Inputs sowohl die zu begrüßende Person als auch die Häufigkeit der Begrüßung festgelegt werden kann."
   ]
  },
  {
   "cell_type": "code",
   "execution_count": 10,
   "metadata": {},
   "outputs": [],
   "source": [
    "def say_hello_several_times_to(n, name):\n",
    "    for i in range(n):\n",
    "        print(\"Hello\", name, \"!\")"
   ]
  },
  {
   "cell_type": "code",
   "execution_count": 11,
   "metadata": {
    "scrolled": false
   },
   "outputs": [
    {
     "name": "stdout",
     "output_type": "stream",
     "text": [
      "Hello Monty !\n",
      "Hello Monty !\n",
      "Hello Monty !\n",
      "Hello Monty !\n"
     ]
    }
   ],
   "source": [
    "say_hello_several_times_to(4, \"Monty\")"
   ]
  },
  {
   "cell_type": "markdown",
   "metadata": {},
   "source": [
    "In der Reihenfolge, in der wir in der Funktionsdefinition die Reihenfolge der Inputs in die runde KLammer schreiben, in der Reihenfolge müssen wir auch beim Aufruf der Funktion die entsprechenden Werte eingeben.\n",
    "\n",
    "Oben wurden die Werte immer direkt in die Funktion eingegeben. Im Verlauf unserer Programme, werden wir die Eingabewerte selbst aber meist wiederum z.B. in einer Variable gespeichert haben. Man kann an als Input tatsächlich alle möglichen Ausdrücke bzw. Objekte, ob z.B. Variablen, Funktionen oder boolsche Ausdrücke eingeben. \n",
    "\n",
    "Unten gebe ich für den Input-Parameter `n` eine mathematische Berechnung und für den Input-Parameter `name` die Variable `person` ein."
   ]
  },
  {
   "cell_type": "code",
   "execution_count": 12,
   "metadata": {
    "scrolled": true
   },
   "outputs": [
    {
     "name": "stdout",
     "output_type": "stream",
     "text": [
      "Hello Monty !\n",
      "Hello Monty !\n",
      "Hello Monty !\n",
      "Hello Monty !\n",
      "Hello Monty !\n"
     ]
    }
   ],
   "source": [
    "person = \"Monty\"\n",
    "\n",
    "say_hello_several_times_to(2 + 3, person)"
   ]
  },
  {
   "cell_type": "markdown",
   "metadata": {},
   "source": [
    "Hier wird nochmal deutlich, dass die Namen der Parameter bei der Definition der Funktion nichts mit dem eingegebenen Wert oder dem Namen der eingegebenen Variable zu tun haben. An die Stelle, wo bei der Definition der Funktion der z.B. der Input `name` steht, setze ich oben die Variable `person`. Dadurch wird quasi der funktionsinternen Variable `name` der Wert der Variable `person` zugewiesen."
   ]
  },
  {
   "cell_type": "markdown",
   "metadata": {},
   "source": [
    "## return - Funktionen mit explizitem Output\n",
    "\n",
    "Unsere Funktionen zeigen zwar Strings in der Konsole an, möchte man aber einen Output auch als einen Wert weiterverwendbaren Wert zurückgeliefert bekommen, dann müssen wir dies explizit in der Funktionsdefinition festlegen. Dies machen wir mit dem Schlüsselwort `return`.\n",
    "\n",
    "Das Schlüsselwort `return` schreiben wir meist an das Ende der Funktion. Hinter `return` schreiben wir den Wert bzw. das Objekt, das wir als Output ausgegeben haben wollen.\n",
    "\n",
    "Im Folgenden definiere ich die Funktion `random_list()`, welche eine Liste mit 3 Zufallszahlen zwischen 0 und 10 ausgibt."
   ]
  },
  {
   "cell_type": "code",
   "execution_count": 13,
   "metadata": {},
   "outputs": [],
   "source": [
    "import random\n",
    "\n",
    "def random_list():\n",
    "    l = []\n",
    "    for i in range(3):\n",
    "        l.append(random.randint(0,10))\n",
    "    return l"
   ]
  },
  {
   "cell_type": "markdown",
   "metadata": {},
   "source": [
    "In der letzten Zeile der Funktionsdefinition weise ich an, dass die Liste `l` als Output ausgegeben werden soll. Bei Ausführung der Funktion kann der zurückgegebene Wert beispielsweise wie im Folgenden einer Variable zugewiesen werden:"
   ]
  },
  {
   "cell_type": "code",
   "execution_count": 14,
   "metadata": {},
   "outputs": [],
   "source": [
    "my_random_list = random_list()"
   ]
  },
  {
   "cell_type": "code",
   "execution_count": 15,
   "metadata": {},
   "outputs": [
    {
     "data": {
      "text/plain": [
       "[9, 6, 9]"
      ]
     },
     "execution_count": 15,
     "metadata": {},
     "output_type": "execute_result"
    }
   ],
   "source": [
    "my_random_list"
   ]
  },
  {
   "cell_type": "markdown",
   "metadata": {},
   "source": [
    "Im Folgenden noch ein Beispiel, bei dem die Funktion auch Input erwartet:"
   ]
  },
  {
   "cell_type": "code",
   "execution_count": 16,
   "metadata": {},
   "outputs": [],
   "source": [
    "def random_list(n, numbers):\n",
    "    l = []\n",
    "    for i in range(n):\n",
    "        # Wenn numbers == True\n",
    "        if numbers:\n",
    "            l.append(random.randint(0,10))\n",
    "        # Ansonsten\n",
    "        else:\n",
    "            l.append(random.choice(\n",
    "                [\"a\",\"b\",\"c\",\"d\",\"e\"]))\n",
    "    return l"
   ]
  },
  {
   "cell_type": "code",
   "execution_count": 17,
   "metadata": {},
   "outputs": [
    {
     "data": {
      "text/plain": [
       "[0, 10, 5, 0, 8]"
      ]
     },
     "execution_count": 17,
     "metadata": {},
     "output_type": "execute_result"
    }
   ],
   "source": [
    "random_numbers = random_list(5, True)\n",
    "random_numbers"
   ]
  },
  {
   "cell_type": "code",
   "execution_count": 18,
   "metadata": {},
   "outputs": [
    {
     "data": {
      "text/plain": [
       "['b', 'e', 'd']"
      ]
     },
     "execution_count": 18,
     "metadata": {},
     "output_type": "execute_result"
    }
   ],
   "source": [
    "random_letters = random_list(3, False)\n",
    "random_letters"
   ]
  },
  {
   "cell_type": "markdown",
   "metadata": {},
   "source": [
    "Übrigens muss hinter dem Schlüsselwort `return` nicht unbedingt eine Variable stehen, sondern wir können auch unmittelbar das Ergebnis einer Berechnung oder anderen Funktion zurückgeben. So wie hier:"
   ]
  },
  {
   "cell_type": "code",
   "execution_count": 19,
   "metadata": {},
   "outputs": [],
   "source": [
    "def square_it(number):\n",
    "    return number * number"
   ]
  },
  {
   "cell_type": "code",
   "execution_count": 20,
   "metadata": {},
   "outputs": [
    {
     "data": {
      "text/plain": [
       "3025"
      ]
     },
     "execution_count": 20,
     "metadata": {},
     "output_type": "execute_result"
    }
   ],
   "source": [
    "squared_number = square_it(55)\n",
    "squared_number"
   ]
  },
  {
   "cell_type": "markdown",
   "metadata": {},
   "source": [
    "Nun noch eine eigentlich nicht ganz so wichtige Sache, dennoch ist es manchmal hilfreich das zu wissen: Genaugenommen gibt jede Funktion **immer** einen Output zurück - egal, ob wir `return` verwenden oder nicht. Wenn wir kein `return` in einer Funktion verwenden, dann gibt eine Funktion standardmäßig den Wert `None` zurück. Das demonstriere ich unten an der Funktion `random_list()` von oben, wobei ich die `return`-Zeile entfernt habe."
   ]
  },
  {
   "cell_type": "code",
   "execution_count": 21,
   "metadata": {},
   "outputs": [],
   "source": [
    "def random_list():\n",
    "    l = []\n",
    "    for i in range(3):\n",
    "        l.append(random.randint(0,10))"
   ]
  },
  {
   "cell_type": "code",
   "execution_count": 22,
   "metadata": {},
   "outputs": [],
   "source": [
    "my_random_list = random_list()"
   ]
  },
  {
   "cell_type": "code",
   "execution_count": 23,
   "metadata": {},
   "outputs": [
    {
     "name": "stdout",
     "output_type": "stream",
     "text": [
      "None\n"
     ]
    }
   ],
   "source": [
    "print(my_random_list)"
   ]
  },
  {
   "cell_type": "markdown",
   "metadata": {},
   "source": [
    "D.h. wenn wir keinen Output explizit definieren, dann ist der Output einer jeden Funktion gleich `None`. Das ist hilfreich zu wissen, wenn im Programm plötzlich und auf unerklärliche Weise eine Variable mit dem Wert `None` auftaucht. Dann hat man vielleicht in einer Funktion das `return` vergessen. :)"
   ]
  },
  {
   "cell_type": "markdown",
   "metadata": {},
   "source": [
    "## Standardwerte für Parameter\n",
    "\n",
    "In vielen Fällen kann es sinnvoll sein, einen Default-Wert für die Parameter d.h. die Inputs anzugeben. So kann man einen oft genutzten oder sinnvollen Input vorgeben, sodass man bei der Benutzung der Funktion diesen nicht immer eingeben muss, ihn aber bei Bedarf trotzdem ändern kann.\n",
    "\n",
    "Wir setzen Standardwerte für die Parameter einer Funktion, indem wir bei der Definition der Funktion den gewünschten Standardwert zusammen mit einem Gleichheitsszeichen hinter den entsprechenden Parameter schreiben. Wichtig ist dabei, dass die Parameter **ohne** Standardwert immer **vorne** und die Parameter **mit** Standardwert **hinten** in der Parameterliste stehen. Allgemein sieht das dann so aus:\n",
    "\n",
    "```python\n",
    "def FUNCTION_NAME(INPUT1, INPUT2, ..., INPUT3 = X, INPUT4 = Y, ...):\n",
    "    DO_SOMETHING_WITH_INPUT\n",
    "    ```\n",
    "Im Folgenden setze ich in der Funktion `say_hello_several_times_to()` für den Parameter `name` den Standardwert `\"Monty\"`. "
   ]
  },
  {
   "cell_type": "code",
   "execution_count": 24,
   "metadata": {},
   "outputs": [],
   "source": [
    "def say_hello_several_times_to(n, name = \"Monty\"):\n",
    "    for i in range(n):\n",
    "        print(\"Hello\", name, \"!\")"
   ]
  },
  {
   "cell_type": "markdown",
   "metadata": {},
   "source": [
    "Führt man die Funktion aus und möchte sowieso den Monty grüßen, dann muss man dies nicht mehr explizit angeben."
   ]
  },
  {
   "cell_type": "code",
   "execution_count": 25,
   "metadata": {},
   "outputs": [
    {
     "name": "stdout",
     "output_type": "stream",
     "text": [
      "Hello Monty !\n",
      "Hello Monty !\n",
      "Hello Monty !\n"
     ]
    }
   ],
   "source": [
    "say_hello_several_times_to(3)"
   ]
  },
  {
   "cell_type": "markdown",
   "metadata": {},
   "source": [
    "Möchte man hingegen jemand anderes grüßen, kann man wie gewohnt einen Wert angeben:"
   ]
  },
  {
   "cell_type": "code",
   "execution_count": 26,
   "metadata": {},
   "outputs": [
    {
     "name": "stdout",
     "output_type": "stream",
     "text": [
      "Hello Python !\n",
      "Hello Python !\n",
      "Hello Python !\n"
     ]
    }
   ],
   "source": [
    "say_hello_several_times_to(3, \"Python\")"
   ]
  },
  {
   "cell_type": "markdown",
   "metadata": {},
   "source": [
    "Nun setze ich auch für den Input `n` einen Standardwert."
   ]
  },
  {
   "cell_type": "code",
   "execution_count": 27,
   "metadata": {},
   "outputs": [],
   "source": [
    "def say_hello_several_times_to(n = 3, name = \"Monty\"):\n",
    "    for i in range(n):\n",
    "        print(\"Hello\", name, \"!\")"
   ]
  },
  {
   "cell_type": "markdown",
   "metadata": {},
   "source": [
    "Ist man mit den Standardwerten zufrieden, dann muss man nun gar nichts mehr eingeben."
   ]
  },
  {
   "cell_type": "code",
   "execution_count": 28,
   "metadata": {},
   "outputs": [
    {
     "name": "stdout",
     "output_type": "stream",
     "text": [
      "Hello Monty !\n",
      "Hello Monty !\n",
      "Hello Monty !\n"
     ]
    }
   ],
   "source": [
    "say_hello_several_times_to()"
   ]
  },
  {
   "cell_type": "markdown",
   "metadata": {},
   "source": [
    "Was ist aber, wenn ich mit dem Standardwert für `n` zufrieden bin, aber gerne einen eigenen Wert für `name` eingeben möchte? Einen einzelnen Input-Wert würde Python ja dem ersten Parameter und somit `n`, nicht aber wie gewollt `name` zuweisen. Für solche Fälle kann man beim Aufruf der Funktion den entsprechenden Input-Wert mit einem Gleichheitszeichen explizit dem entsprechenden Parameter zuweisen. Das sieht dann so aus:"
   ]
  },
  {
   "cell_type": "code",
   "execution_count": 29,
   "metadata": {
    "scrolled": true
   },
   "outputs": [
    {
     "name": "stdout",
     "output_type": "stream",
     "text": [
      "Hello Python !\n",
      "Hello Python !\n",
      "Hello Python !\n"
     ]
    }
   ],
   "source": [
    "say_hello_several_times_to(name=\"Python\")"
   ]
  },
  {
   "cell_type": "markdown",
   "metadata": {},
   "source": [
    "Eine solche explizite Zuweisung kann man übrigens immer machen, auch wenn es sich nicht um Parameter mit Standardwert handelt. Dies kann sehr sinnvoll sein, wenn man z.B. bei einer Funktion sehr viele Input-Werte hat und man sonst den Überblick verlieren würde, was man da eigentlich welchem Parameter zuweist."
   ]
  },
  {
   "cell_type": "markdown",
   "metadata": {},
   "source": [
    "## Lokale und globale Variablen\n",
    "\n",
    "Fragt man Personen in Deutschland nach dem Namen \"Angela Merkel\", dann wird fast jede Person sofort wissen, wer mit diesem Namen gemeint ist - egal wo man in Deutschland ist. Fragt man aber jemanden nach dem Namen \"Katja Oldenburg-Schmidt\", dann weiß fast niemand etwas mit diesem Namen anzufangen - außer in Buxtehude. Angela Merkel ist fast allen Leuten in Deutschland ein Begriff, weil sie die Bundeskanzlerin ist und der Gültigkeitsberich ihres Amtes ist sich auf ganz Deutschland bezieht. Katja Oldenburg-Schmidt ist hingegen die Bürgermeisterin der Stadt Buxtehude, der \"Gültigkeitsbereich\" ihres Amtes liegt nur im Bereich Buxtehude. Deswegen kennt man sie auch nur dort.\n",
    "\n",
    "Auch Variablen in Python haben bestimmte Gültigkeitsbereiche. Jede Variablendefinition gilt jeweils nur in einem bestimmten Bereich (auch Scope genannt), in dem diese Zuweisung auch definiert wurde. Bisher haben wir davon nichts gemerkt, weil wir uns immer im allumfassenden, globalen Gültigkeitsbereich befunden haben. Wir haben bisher nur sogenannte globale Variablen, vergleichbar mit Angela Merkel, definiert. Man kennt sie überall (in Deutschland).\n",
    "\n",
    "Alle Variablen, die innerhalb von Funktionen definiert sind, sind jedoch sogenannte lokale Variablen, vergleichbar mit Katja Oldenburg-Schmidt. Man kennt sie nur in Buxtehude. Definieren wir innerhalb von Funktionen eine Variable, dann können wir sie innerhalb der Funktion unter diesem Namen aufrufen. Außerhalb der Funktionen kennt man sie jedoch nicht.\n",
    "\n",
    "Während man lokale Variablen nicht außerhalb des Gültigkeitsbereichs der Funktion kennt, kenn man globale Variablen überall und in jeder Funktion - auch wenn wir diese nicht explizit als Input eingegeben haben. Wir können in jeder Funktion den Wert globaler Variablen zwar abrufen, sie aber - und das ist wichtig - nicht verändern (hier gibt es leider Ausnahmen für bestimmte Datentypen). Jeder in Buxtehude kennt Angela Merkel, kann aber nicht direkt etwas daran ändern, dass sie Bundeskanzlerin ist - dies kann nur auf \"globaler\" Ebene verändert werden.\n",
    "\n",
    "Im Folgenden definiere ich innerhalb einer Funktion die Variable `oldenburg_schmidt`, führe die Funktion aus und versuche dann außerhalb der Funktion die Variable `oldenburg_schmidt` auszuführen."
   ]
  },
  {
   "cell_type": "code",
   "execution_count": 30,
   "metadata": {},
   "outputs": [],
   "source": [
    "def buxtehude():\n",
    "    oldenburg_schmidt = \"bürgermeisterin\"\n",
    "\n",
    "buxtehude()"
   ]
  },
  {
   "cell_type": "code",
   "execution_count": 31,
   "metadata": {},
   "outputs": [
    {
     "ename": "NameError",
     "evalue": "name 'oldenburg_schmidt' is not defined",
     "output_type": "error",
     "traceback": [
      "\u001b[1;31m---------------------------------------------------------------------------\u001b[0m",
      "\u001b[1;31mNameError\u001b[0m                                 Traceback (most recent call last)",
      "\u001b[1;32m<ipython-input-31-082194849cd5>\u001b[0m in \u001b[0;36m<module>\u001b[1;34m\u001b[0m\n\u001b[1;32m----> 1\u001b[1;33m \u001b[0mprint\u001b[0m\u001b[1;33m(\u001b[0m\u001b[0moldenburg_schmidt\u001b[0m\u001b[1;33m)\u001b[0m\u001b[1;33m\u001b[0m\u001b[1;33m\u001b[0m\u001b[0m\n\u001b[0m",
      "\u001b[1;31mNameError\u001b[0m: name 'oldenburg_schmidt' is not defined"
     ]
    }
   ],
   "source": [
    "print(oldenburg_schmidt)"
   ]
  },
  {
   "cell_type": "markdown",
   "metadata": {},
   "source": [
    "Dies ruft einen Fehler hervor, da die Variable außerhalb der Funktion gar nicht bekannt ist. Möchte man den Wert der lokalen Variable `oldenburg_schmidt` \"nach draußen schaffen\", dann müssen wir den Wert über das Schlüsselwort `return` explizit an den globalen Bereich übergeben und dort wahlweise einer Variable außerhalb der Funktion zuweisen. So wie hier:"
   ]
  },
  {
   "cell_type": "code",
   "execution_count": 32,
   "metadata": {},
   "outputs": [],
   "source": [
    "def buxtehude():\n",
    "    oldenburg_schmidt = \"bürgermeisterin\"\n",
    "    return oldenburg_schmidt\n",
    "x = buxtehude()"
   ]
  },
  {
   "cell_type": "code",
   "execution_count": 33,
   "metadata": {},
   "outputs": [
    {
     "name": "stdout",
     "output_type": "stream",
     "text": [
      "bürgermeisterin\n"
     ]
    }
   ],
   "source": [
    "print(x)"
   ]
  },
  {
   "cell_type": "markdown",
   "metadata": {},
   "source": [
    "Andersherum können wir aber innerhalb der Funktion auf die globale Variable `angela_merkel` immer lesend zugreifen."
   ]
  },
  {
   "cell_type": "code",
   "execution_count": 34,
   "metadata": {},
   "outputs": [
    {
     "name": "stdout",
     "output_type": "stream",
     "text": [
      "kanzlerin\n"
     ]
    }
   ],
   "source": [
    "angela_merkel = \"kanzlerin\"\n",
    "def buxtehude():\n",
    "    print(angela_merkel)\n",
    "\n",
    "buxtehude()"
   ]
  },
  {
   "cell_type": "markdown",
   "metadata": {},
   "source": [
    "Versuchen wir den Wert von `angela_merkel` innerhalb von `buxtehude()` zu verändern, bewirken wir nur innerhalb der Funktion etwas. Innerhalb der Funktion ist `angela_merkel` nun gleich dem Wert `\"bürgermeisterin\"`. Außerhalb der Funktion bleibt sie jedoch gleich dem Wert `\"kanzlerin\"`."
   ]
  },
  {
   "cell_type": "code",
   "execution_count": 35,
   "metadata": {},
   "outputs": [
    {
     "name": "stdout",
     "output_type": "stream",
     "text": [
      "lokal: bürgermeisterin\n",
      "global: kanzlerin\n"
     ]
    }
   ],
   "source": [
    "angela_merkel = \"kanzlerin\"\n",
    "def buxtehude():\n",
    "    angela_merkel = \"bürgermeisterin\"\n",
    "    print(\"lokal:\", angela_merkel)\n",
    "\n",
    "buxtehude()\n",
    "print(\"global:\", angela_merkel)"
   ]
  },
  {
   "cell_type": "markdown",
   "metadata": {},
   "source": [
    "Wir können zwar globale Variablen wie `angela_merkel` innerhalb von Funktionen wie`buxtehude()` lesen, es ist aber nicht bzw. nur in Ausnahmefällen zu empfehlen, diese Möglichkeit tatsächlich auch zu nutzen. Denn dadurch verliert die Funktion einerseits ihre Unabhängigkeit von der Außenwelt. Denn was ist, wenn außerhalb der Funktion die Variable `angela_merkel` umbenannt wird? Dann funktioniert die gesamte Funktio nicht mehr! Andererseits ist dies auch ein schlechter Programmierstil, da wir im Kopf der Funktion nicht explizit auflisten, was von außen in die Funktion hineingeht, was dort also an Variablen zum richtigen Funktionieren der Funktion benötigt wird. Wir sollten also jeden Funktions-Input immer explizit durch die runden Klammern der Funktion schleusen."
   ]
  },
  {
   "cell_type": "markdown",
   "metadata": {},
   "source": [
    "Das Thema ist insgesamt sehr umfassend und wir können hier nicht genau darauf eingehen. Was wir uns jedoch auf jeden Fall merken sollten bzw. in Zukunft beachten sollten ist Folgendens:\n",
    "\n",
    "- Jede Variable bzw. jedes Objekt, das nicht in einer Funktion selbst erstellt wird, wir aber innerhalb einer Funktion verwenden wollen, sollten wir explizit als Argument in die Funktion eingeben\n",
    "- Jede Variable, die wir innerhalb einer Funktion erstellen, existiert nur innerhalb der Funktion.\n",
    "- Alle Veränderungen, die wir mit einer Funktion im Programm bewirken wollen, müssen/sollten wir über die explizite Rückgabe eines Outputs mithilfe des Schlüsselwerts `return` vollziehen."
   ]
  },
  {
   "cell_type": "markdown",
   "metadata": {},
   "source": [
    "## Docstrings\n",
    "\n",
    "Eine sinnvolle und sorgfältige Dokumentation und Kommentierung des Codes ist immer zu empfehlen. Für Funktionen gibt es die Möglichkeit einen sogenannten Docstring hinzuzufügen. Dies ist ein Kommentar, der in zwei dreifachen Anführungszeichen unmittelbar nach dem Funktionskopf steht.\n",
    "\n",
    "Ich füge hier der Funktion `square_it()` einen entsprechenden Docstring hinzu:"
   ]
  },
  {
   "cell_type": "code",
   "execution_count": 36,
   "metadata": {},
   "outputs": [],
   "source": [
    "def square_it(number):\n",
    "    \"\"\"Gibt das Quadrat einer Zahl zurück.\"\"\"\n",
    "    return number * number"
   ]
  },
  {
   "cell_type": "markdown",
   "metadata": {},
   "source": [
    "Diesen Kommentar können wir nun nicht nur unmittelbar im Code lesen, sondern dieser wird auch angezeigt, wenn man die Funktion `help()` auf die Funktion anwendet."
   ]
  },
  {
   "cell_type": "code",
   "execution_count": 37,
   "metadata": {
    "scrolled": true
   },
   "outputs": [
    {
     "name": "stdout",
     "output_type": "stream",
     "text": [
      "Help on function square_it in module __main__:\n",
      "\n",
      "square_it(number)\n",
      "    Gibt das Quadrat einer Zahl zurück.\n",
      "\n"
     ]
    }
   ],
   "source": [
    "help(square_it)"
   ]
  },
  {
   "cell_type": "markdown",
   "metadata": {},
   "source": [
    "V.a. wenn Code auch von anderen genutzt und verstanden werden soll, sind Docstrings eine sinnvolle Sache. Aber auch, um selbst den Überblick über den eigenen Code zu behalten, lohnt es sich, sich die Verwendung von Docstrings anzugewöhnen."
   ]
  },
  {
   "cell_type": "markdown",
   "metadata": {},
   "source": [
    "Für ein Video, das allgemein das Thema Funktionen in Python behandelt, schau doch mal hier"
   ]
  },
  {
   "cell_type": "code",
   "execution_count": 38,
   "metadata": {},
   "outputs": [
    {
     "data": {
      "image/jpeg": "[encoded data removed]",
      "text/html": [
       "\n",
       "        <iframe\n",
       "            width=\"400\"\n",
       "            height=\"300\"\n",
       "            src=\"https://www.youtube.com/embed/jaZJ_djYA-I\"\n",
       "            frameborder=\"0\"\n",
       "            allowfullscreen\n",
       "        ></iframe>\n",
       "        "
      ],
      "text/plain": [
       "<IPython.lib.display.YouTubeVideo at 0x22ca22d8e08>"
      ]
     },
     "execution_count": 38,
     "metadata": {},
     "output_type": "execute_result"
    }
   ],
   "source": [
    "from IPython.display import YouTubeVideo\n",
    "YouTubeVideo(\"jaZJ_djYA-I\")"
   ]
  },
  {
   "cell_type": "markdown",
   "metadata": {},
   "source": [
    "oder hier rein"
   ]
  },
  {
   "cell_type": "code",
   "execution_count": 39,
   "metadata": {},
   "outputs": [
    {
     "data": {
      "image/jpeg": "[encoded data removed]",
      "text/html": [
       "\n",
       "        <iframe\n",
       "            width=\"400\"\n",
       "            height=\"300\"\n",
       "            src=\"https://www.youtube.com/embed/NE97ylAnrz4\"\n",
       "            frameborder=\"0\"\n",
       "            allowfullscreen\n",
       "        ></iframe>\n",
       "        "
      ],
      "text/plain": [
       "<IPython.lib.display.YouTubeVideo at 0x22ca22d8988>"
      ]
     },
     "execution_count": 39,
     "metadata": {},
     "output_type": "execute_result"
    }
   ],
   "source": [
    "YouTubeVideo(\"NE97ylAnrz4\")"
   ]
  },
  {
   "cell_type": "markdown",
   "metadata": {},
   "source": [
    "# Aufgabenteil 1 - Übungsaufgaben zum Thema Funktionen\n",
    "\n",
    "1. Schreibe eine Funktion, die die Länge einer Liste misst und zurückgibt, ohne dabei selbst die Funktion `len()` zu benutzen.\n",
    "2. Schreibe eine Funktion, welche aus einem eingegebenen Preis und der eingegebenen Höhe des bezahlten Geldes das entsprechende Rückgeld berechnet und als Output ausgibt.\n",
    "3. Schreibe eine Funktion, welche für einen eingegebenen Betrag Geld in Cents die Anzahl an 5-, 2- und 1-Centmünzen, die in Summe dem eingegebenen Betrag gleichwertig sind, in der Konsole anzeigt. Die Menge an Münzen soll dabei insgesamt immer so gering wie möglich sein. Gibt man z.B. einen Betrag von 18 Cent ein, sollte die Funktion anzeigen, dass insgesamt drei 5-Centmünzen, eine 2-Centmünze und eine 1-Centmünze diesem Geldbetrag entsprechen."
   ]
  }
 ],
 "metadata": {
  "kernelspec": {
   "display_name": "Python 3",
   "language": "python",
   "name": "python3"
  },
  "language_info": {
   "codemirror_mode": {
    "name": "ipython",
    "version": 3
   },
   "file_extension": ".py",
   "mimetype": "text/x-python",
   "name": "python",
   "nbconvert_exporter": "python",
   "pygments_lexer": "ipython3",
   "version": "3.8.5"
  }
 },
 "nbformat": 4,
 "nbformat_minor": 4
}
