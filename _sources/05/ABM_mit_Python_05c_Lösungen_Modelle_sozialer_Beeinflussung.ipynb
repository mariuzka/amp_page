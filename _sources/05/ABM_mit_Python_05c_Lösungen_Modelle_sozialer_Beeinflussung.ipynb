{
 "cells": [
  {
   "cell_type": "markdown",
   "metadata": {},
   "source": [
    "# Lösungen Kapitel 5\n",
    "\n",
    "# Aufgabenteil 1"
   ]
  },
  {
   "cell_type": "markdown",
   "metadata": {},
   "source": [
    "## 1.1"
   ]
  },
  {
   "cell_type": "code",
   "execution_count": 1,
   "metadata": {},
   "outputs": [],
   "source": [
    "def length(sequence):\n",
    "    \"\"\"Gibt Länge eines sequentiellen Datentyps zurück.\"\"\"\n",
    "    \n",
    "    # Zählvariable\n",
    "    length = 0\n",
    "    \n",
    "    # für jedes Element in Sequenz (z.B. Liste)\n",
    "    for element in sequence:\n",
    "        # Zählvariable um 1 erhöhen\n",
    "        length += 1\n",
    "    \n",
    "    # Zählvariable ausgeben\n",
    "    return length"
   ]
  },
  {
   "cell_type": "code",
   "execution_count": 2,
   "metadata": {},
   "outputs": [
    {
     "name": "stdout",
     "output_type": "stream",
     "text": [
      "4\n"
     ]
    }
   ],
   "source": [
    "test_list = [4,23,[1,2,], \"hallo\"]\n",
    "\n",
    "list_length = length(test_list)\n",
    "\n",
    "print(list_length)"
   ]
  },
  {
   "cell_type": "markdown",
   "metadata": {},
   "source": [
    "## 1.2"
   ]
  },
  {
   "cell_type": "code",
   "execution_count": 3,
   "metadata": {},
   "outputs": [],
   "source": [
    "def change(price, paid):\n",
    "    \"\"\"Berechnet Wechselgeld und gibt den Wert zurück.\"\"\"\n",
    "    \n",
    "    # Differenz berechnen und ausgeben\n",
    "    return paid - price"
   ]
  },
  {
   "cell_type": "code",
   "execution_count": 4,
   "metadata": {},
   "outputs": [
    {
     "name": "stdout",
     "output_type": "stream",
     "text": [
      "1\n"
     ]
    }
   ],
   "source": [
    "my_change = change(99, 100)\n",
    "\n",
    "print(my_change)"
   ]
  },
  {
   "cell_type": "markdown",
   "metadata": {},
   "source": [
    "## 1.3"
   ]
  },
  {
   "cell_type": "code",
   "execution_count": 5,
   "metadata": {},
   "outputs": [],
   "source": [
    "def coins(cents):\n",
    "    \"\"\"\n",
    "    Übersetzt einen eingegeben Betrag an Cents in die gleichwertige Anzahl an 5-, 2- und 1-Cent-Münzen.\n",
    "    Die Gesamtanzahl an Münzen wird dabei minimiert.\n",
    "    \"\"\"\n",
    "    \n",
    "    # zählt, wie viele Cents bereits in Cent-Münzen \"übersetzt\" wurden\n",
    "    counter = 0\n",
    "    \n",
    "    # zählen die Anzahl der jeweils benötigten Münzen\n",
    "    cent5_counter = 0\n",
    "    cent2_counter = 0\n",
    "    cent1_counter = 0\n",
    "    \n",
    "    # For-Loop, der mindestens so lange läuft, wie Cents eingegeben wurden\n",
    "    # Hier hätte man eigentlich am \n",
    "    for i in range(cents):\n",
    "        \n",
    "        # Wie viele Cents noch in Münzen übersetzt werden müssen\n",
    "        difference = cents - counter\n",
    "        \n",
    "        # Wenn noch 5 oder mehr Cents in Münzen übersetzt werden müssen\n",
    "        if difference >= 5:\n",
    "            # Anzahl der 5-Cent-Münzen um 1 erhöhen\n",
    "            cent5_counter += 1\n",
    "            # Anzahl der schon in Münzen übersetzte Cents um 5 erhöhen\n",
    "            counter += 5\n",
    "        \n",
    "        # Wenn noch 2 oder mehr (bzw. 2 bis 4) Cents in Münzen übersetzt werden müssen\n",
    "        elif difference >= 2:\n",
    "            # Anzahl der 2-Cent-Münzen um 1 erhöhen\n",
    "            cent2_counter += 1\n",
    "            # Anzahl der schon in Münzen übersetzte Cents um 2 erhöhen\n",
    "            counter += 2\n",
    "        \n",
    "        # Wenn noch 1 Cent in Münzen übersetzt werden müssen\n",
    "        elif difference == 1:\n",
    "            # Anzahl der 1-Cent-Münzen um 1 erhöhen\n",
    "            cent1_counter += 1\n",
    "            # Anzahl der schon in Münzen übersetzte Cents um 1 erhöhen\n",
    "            counter += 1\n",
    "        \n",
    "        # Ansonsten:\n",
    "        else:\n",
    "            # Loop abbrechen\n",
    "            break\n",
    "    \n",
    "    # Ergebnisse \"schön\" darstellen und in der Konsole anzeigen\n",
    "    print(\n",
    "        \"5-Cent:\", cent5_counter, \n",
    "        \"2-Cent:\", cent2_counter, \n",
    "        \"1-Cent:\", cent1_counter,\n",
    "         )     "
   ]
  },
  {
   "cell_type": "code",
   "execution_count": 6,
   "metadata": {},
   "outputs": [
    {
     "name": "stdout",
     "output_type": "stream",
     "text": [
      "5-Cent: 6 2-Cent: 2 1-Cent: 0\n"
     ]
    }
   ],
   "source": [
    "coins(34)"
   ]
  },
  {
   "cell_type": "markdown",
   "metadata": {},
   "source": [
    "# Aufgabenteil 2"
   ]
  },
  {
   "cell_type": "markdown",
   "metadata": {},
   "source": [
    "## Modell 1 (vorgegeben)"
   ]
  },
  {
   "cell_type": "code",
   "execution_count": 12,
   "metadata": {},
   "outputs": [
    {
     "data": {
      "image/png": "[encoded data removed]",
      "text/plain": [
       "<Figure size 432x288 with 1 Axes>"
      ]
     },
     "metadata": {
      "needs_background": "light"
     },
     "output_type": "display_data"
    }
   ],
   "source": [
    "import random\n",
    "from matplotlib import pyplot as plt\n",
    "\n",
    "def get_weights_1(population, focal_position):\n",
    "    \n",
    "    \"\"\"Ermittelt die Beeinflussungsgewichte nach den Regeln von Modell 1.\"\"\"\n",
    "    \n",
    "    # Gewichts-Liste\n",
    "    weights = []\n",
    "    \n",
    "    # für jede Position in Population\n",
    "    for j in range(len(population)):\n",
    "        \n",
    "        # Distanz zwischen Position des fokalen Agenten i und des Agenten j berechnen\n",
    "        distance = abs(j - focal_position)\n",
    "        \n",
    "        # Wenn Distanz kleiner gleich 1\n",
    "        if distance <= 1:\n",
    "            # Gewicht von 1 an Gewichts-Liste hängen\n",
    "            weights.append(1)\n",
    "        # Ansonsten:\n",
    "        else:\n",
    "            # Gewicht von 0 an Gewichts-Liste hängen\n",
    "            weights.append(0)\n",
    "    \n",
    "    # Gewichts-Liste ausgeben\n",
    "    return weights\n",
    "\n",
    "\n",
    "def calculate_opinion_change(population, focal_position, weights):\n",
    "    \n",
    "    \"\"\"Berechnet die Meinungsveränderung des fokalen Agenten i nach der Beeinflussung durch die Population.\"\"\"\n",
    "    \n",
    "    ############################################################\n",
    "    # Oberhalb des Bruchstriches\n",
    "    ############################################################\n",
    "    \n",
    "    # Meinung des fokalen Agenten i ermitteln\n",
    "    opinion_focal_agent = population[focal_position]\n",
    "    \n",
    "    # Liste für die gewichteten Meinungsunterschiede, die später aufsummiert werden\n",
    "    weighted_diffs = []\n",
    "    \n",
    "    # Für jede Position in Population\n",
    "    for j in range(len(population)):\n",
    "        \n",
    "        # Meinung des Agenten j ermitteln\n",
    "        opinion_agent_j = population[j]\n",
    "        \n",
    "        # Meinungsdifferenz berechnen\n",
    "        difference = opinion_agent_j - opinion_focal_agent\n",
    "        \n",
    "        # Meinungsdifferenz mit entsprechendem Gewicht aus Gewichts-Liste gewichten\n",
    "        weighted_diff = difference * weights[j]\n",
    "        \n",
    "        # gewichtete Meinungsdifferenz an entsprechende Liste anhängen\n",
    "        weighted_diffs.append(weighted_diff)\n",
    "    \n",
    "    # gewichtete Meinungsunterschiede aufsummieren\n",
    "    sum_of_weighted_diffs = sum(weighted_diffs)\n",
    "    \n",
    "    \n",
    "    ############################################################\n",
    "    # Unterhalb des Bruchstriches\n",
    "    ############################################################\n",
    "    \n",
    "    # Achtung: Fehler in Formel in Original-Text\n",
    "    # Es muss korrekterweise die Summe der Beträge der Gewichte berechnet werden\n",
    "    \n",
    "    # Liste für absolute Beträge der Gewichte\n",
    "    abs_weights = []\n",
    "    \n",
    "    # für jedes Gewicht in weights\n",
    "    for w in weights:\n",
    "        # absoluten Betrag des Gewichts an abs_weights hängen\n",
    "        abs_weights.append(abs(w))\n",
    "    \n",
    "    # Summe der absoluten Gewichte ermitteln\n",
    "    sum_of_abs_weights = sum(abs_weights)\n",
    "    \n",
    "    \n",
    "    ############################################################\n",
    "    # Dividieren / Durchschnitt berechnen\n",
    "    ############################################################\n",
    "    \n",
    "    # Meinungsveränderung berechnen\n",
    "    opinion_change = sum_of_weighted_diffs / sum_of_abs_weights\n",
    "    \n",
    "    # Meinungsveränderung ausgeben\n",
    "    return opinion_change\n",
    "\n",
    "\n",
    "def run_model_1():\n",
    "\n",
    "    \"\"\"Modell mit Beeinflussung durch direkte Nachbarn. Reproduziert Modell 1 in Mäs 2015. \"\"\"\n",
    "    \n",
    "    #############################################################\n",
    "    # Initialisierung\n",
    "    #############################################################\n",
    "\n",
    "    # Population erstellen\n",
    "    population = []\n",
    "    for i in range(1, 11):\n",
    "        population.append(i)\n",
    "\n",
    "\n",
    "    # Liste für Sammlung der Output-Daten erstellen\n",
    "    opinion_history = []\n",
    "    for i in range(len(population)):\n",
    "        opinion_history.append([])\n",
    "\n",
    "\n",
    "    #############################################################\n",
    "    # Simulationsloop\n",
    "    #############################################################\n",
    "\n",
    "    # für 1500 Zeitschritte\n",
    "    for t in range(1500):\n",
    "\n",
    "        # zufälligen Index ziehen\n",
    "        focal_position = random.choice(list(range(len(population))))\n",
    "\n",
    "        # Gewichte ermitteln\n",
    "        weights = get_weights_1(population, focal_position)\n",
    "\n",
    "        # Meinungsveränderung berechnen\n",
    "        opinion_change = calculate_opinion_change(population, focal_position, weights)\n",
    "\n",
    "        # Meinung verändern / neue Meinung berechnen aus momentaner Meinung und Meinungsveränderung\n",
    "        new_opinion = population[focal_position] + opinion_change\n",
    "\n",
    "        # Alte Meinung durch neue Meinung in Population ersetzen\n",
    "        population[focal_position] = new_opinion\n",
    "\n",
    "        # Für jede Position in Population\n",
    "        for j in range(len(population)):\n",
    "            # An die opinion_history-Unterliste an Position j die Meinung des Agenten j hängen\n",
    "            opinion_history[j].append(population[j])\n",
    "    \n",
    "    \n",
    "    # Output-Daten plotten\n",
    "    for opinion_data in opinion_history:\n",
    "        plt.plot(opinion_data, color = \"black\")\n",
    "    plt.show()\n",
    "\n",
    "run_model_1()"
   ]
  },
  {
   "cell_type": "markdown",
   "metadata": {},
   "source": [
    "## 2.2 - Modell 2"
   ]
  },
  {
   "cell_type": "code",
   "execution_count": 8,
   "metadata": {},
   "outputs": [],
   "source": [
    "def get_weights_2(population, focal_position):\n",
    "    \n",
    "    \"\"\"Ermittelt die Beeinflussungsgewichte nach den Regeln von Modell 2.\"\"\"\n",
    "    \n",
    "    # Liste für Gewichte\n",
    "    weights = []\n",
    "    \n",
    "    # für jeden Agenten bzw. jede Position in Population\n",
    "    for j in range(len(population)):\n",
    "        \n",
    "        # Absoluten Meinungsunterschied (nicht Positionsunterschied wie in Modell 1) berechnen\n",
    "        abs_diff = abs(population[j] - population[focal_position])\n",
    "        \n",
    "        # Wenn Meinungsunterschied kleinergleich Grenzwert\n",
    "        if abs_diff <= 0.2:\n",
    "            # Gewicht von 1 anhängen\n",
    "            weights.append(1)\n",
    "        \n",
    "        # Ansonsten: \n",
    "        else:\n",
    "            # Gewicht von 0 anhängen\n",
    "            weights.append(0)\n",
    "    \n",
    "    # Liste der Gewichte ausgeben\n",
    "    return weights\n",
    "\n",
    "\n",
    "def run_model_2():\n",
    "\n",
    "    \"\"\"Modell mit Beeinflussung durch ähnliche Agenten. Reproduziert Modell 2 in Mäs 2015. \"\"\"\n",
    "    \n",
    "    #############################################################\n",
    "    # Initialisierung\n",
    "    #############################################################\n",
    "    \n",
    "    # Population erstellen\n",
    "    population = []\n",
    "    for i in range(100):\n",
    "        agent = random.random()\n",
    "        population.append(agent)\n",
    "\n",
    "\n",
    "    # Liste für Sammlung der Output-Daten erstellen\n",
    "    opinion_history = []\n",
    "    for i in range(len(population)):\n",
    "        opinion_history.append([])\n",
    "\n",
    "\n",
    "    #############################################################\n",
    "    # Simulationsloop\n",
    "    #############################################################\n",
    "\n",
    "    # für 1000 Zeitschritte\n",
    "    for t in range(1000):\n",
    "\n",
    "        # zufälligen Index ziehen\n",
    "        focal_position = random.choice(list(range(len(population))))\n",
    "        \n",
    "        # Gewichte ermitteln\n",
    "        weights = get_weights_2(population, focal_position)\n",
    "\n",
    "        # Meinungsveränderung berechnen\n",
    "        opinion_change = calculate_opinion_change(population, focal_position, weights)\n",
    "\n",
    "        # Meinung verändern / neue Meinung berechnen aus momentaner Meinung und Meinungsveränderung\n",
    "        new_opinion = population[focal_position] + opinion_change\n",
    "\n",
    "        # Alte Meinung durch neue Meinung in Population ersetzen\n",
    "        population[focal_position] = new_opinion\n",
    "\n",
    "        # Für jede Position in Population\n",
    "        for j in range(len(population)):\n",
    "            # An die opinion_history-Unterliste an Position j die Meinung des Agenten j hängen\n",
    "            opinion_history[j].append(population[j])\n",
    "    \n",
    "    \n",
    "    # Output-Daten plotten\n",
    "    for opinion_data in opinion_history:\n",
    "        plt.plot(opinion_data, color = \"black\")\n",
    "    plt.show()"
   ]
  },
  {
   "cell_type": "code",
   "execution_count": 9,
   "metadata": {},
   "outputs": [
    {
     "data": {
      "image/png": "[encoded data removed]",
      "text/plain": [
       "<Figure size 432x288 with 1 Axes>"
      ]
     },
     "metadata": {
      "needs_background": "light"
     },
     "output_type": "display_data"
    }
   ],
   "source": [
    "run_model_2()"
   ]
  },
  {
   "cell_type": "markdown",
   "metadata": {},
   "source": [
    "## 2.3 - Modell 3"
   ]
  },
  {
   "cell_type": "code",
   "execution_count": 10,
   "metadata": {},
   "outputs": [],
   "source": [
    "def get_weights_3(population, focal_position):\n",
    "    \n",
    "    \"\"\"Ermittelt die Beeinflussungsgewichte nach den Regeln von Modell 3.\"\"\"\n",
    "    \n",
    "    # Liste für Gewichte\n",
    "    weights = []\n",
    "    \n",
    "    # für jeden Agenten bzw. jede Position in Population\n",
    "    for j in range(len(population)):\n",
    "        \n",
    "        # absoluten Meinungsunterschied berechnen\n",
    "        abs_diff = abs(population[j] - population[focal_position])\n",
    "        \n",
    "        \n",
    "        \"\"\"Anmerkung zu Gewichten:\n",
    "        Die Gewichte werden nun auf einen kontinuierlichen Bereich zwischen -1 bis 1 skaliert.\n",
    "        Meinungsunterschiede von >0.5 bis 1 führen zu Gewichten von <0 bis -1.\n",
    "        Meinungsunterschiede von 0 bis 0.5 führen zu Gewichten von 1 bis 0,\n",
    "        \"\"\"\n",
    "        \n",
    "        # Wenn Meinungsunterschied größer Grenzwert\n",
    "        if abs_diff > 0.5:\n",
    "            # negatives Gewicht anhängen\n",
    "            w = -1 * (2 * abs_diff - 1)\n",
    "       \n",
    "        # ansonsten:\n",
    "        else:\n",
    "            # positives Gewicht anhängen\n",
    "            w = (1 - 2 * abs_diff)\n",
    "        \n",
    "        # Gewicht anhängen\n",
    "        weights.append(w)\n",
    "    \n",
    "    # Liste der Gewichte ausgeben\n",
    "    return weights\n",
    "\n",
    "\n",
    "def run_model_3():\n",
    "\n",
    "    \"\"\"Modell mit negativer Beeinflussung. Reproduziert Modell 3 in Mäs 2015. \"\"\"\n",
    "    \n",
    "    #############################################################\n",
    "    # Initialisierung\n",
    "    #############################################################\n",
    "\n",
    "    # Population erstellen\n",
    "    population = []\n",
    "    for i in range(100):\n",
    "        agent = random.random()\n",
    "        population.append(agent)\n",
    "\n",
    "\n",
    "    # Liste für Sammlung der Output-Daten erstellen\n",
    "    opinion_history = []\n",
    "    for i in range(len(population)):\n",
    "        opinion_history.append([])\n",
    "\n",
    "\n",
    "    #############################################################\n",
    "    # Simulationsloop\n",
    "    #############################################################\n",
    "\n",
    "    # für 1000 Zeitschritte\n",
    "    for t in range(1000):\n",
    "\n",
    "        # zufälligen Index ziehen\n",
    "        focal_position = random.choice(list(range(len(population))))\n",
    "\n",
    "        # Gewichte ermitteln\n",
    "        weights = get_weights_3(population, focal_position)\n",
    "\n",
    "        # Meinungsveränderung berechnen\n",
    "        opinion_change = calculate_opinion_change(population, focal_position, weights)\n",
    "\n",
    "        # Meinung verändern / neue Meinung berechnen aus momentaner Meinung und Meinungsveränderung\n",
    "        new_opinion = population[focal_position] + opinion_change\n",
    "        \n",
    "        # Meinung in zulässigem Bereich halten\n",
    "        if new_opinion < 0:\n",
    "            new_opinion = 0\n",
    "        elif new_opinion > 1:\n",
    "            new_opinion = 1\n",
    "\n",
    "        # Alte Meinung durch neue Meinung in Population ersetzen\n",
    "        population[focal_position] = new_opinion\n",
    "\n",
    "        # Für jede Position in Population\n",
    "        for j in range(len(population)):\n",
    "            # An die opinion_history-Unterliste an Position j die Meinung des Agenten j hängen\n",
    "            opinion_history[j].append(population[j])\n",
    "    \n",
    "    \n",
    "    # Output-Daten plotten\n",
    "    for opinion_data in opinion_history:\n",
    "        plt.plot(opinion_data, color = \"black\")\n",
    "    plt.show()"
   ]
  },
  {
   "cell_type": "code",
   "execution_count": 11,
   "metadata": {
    "scrolled": true
   },
   "outputs": [
    {
     "data": {
      "image/png": "[encoded data removed]",
      "text/plain": [
       "<Figure size 432x288 with 1 Axes>"
      ]
     },
     "metadata": {
      "needs_background": "light"
     },
     "output_type": "display_data"
    }
   ],
   "source": [
    "run_model_3()"
   ]
  }
 ],
 "metadata": {
  "kernelspec": {
   "display_name": "Python 3",
   "language": "python",
   "name": "python3"
  },
  "language_info": {
   "codemirror_mode": {
    "name": "ipython",
    "version": 3
   },
   "file_extension": ".py",
   "mimetype": "text/x-python",
   "name": "python",
   "nbconvert_exporter": "python",
   "pygments_lexer": "ipython3",
   "version": "3.7.10"
  }
 },
 "nbformat": 4,
 "nbformat_minor": 2
}
