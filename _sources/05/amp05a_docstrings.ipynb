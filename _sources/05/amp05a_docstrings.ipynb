{
 "cells": [
  {
   "cell_type": "markdown",
   "id": "c7daf8d2",
   "metadata": {},
   "source": [
    "# Docstrings\n",
    "\n",
    "Eine sinnvolle und sorgfältige Dokumentation und Kommentierung des Codes ist immer zu empfehlen. Für Funktionen gibt es die Möglichkeit einen sogenannten Docstring hinzuzufügen. Dies ist ein Kommentar, der in zwei dreifachen Anführungszeichen unmittelbar nach dem Funktionskopf steht.\n",
    "\n",
    "Ich füge hier der Funktion `square_it()` einen entsprechenden Docstring hinzu:"
   ]
  },
  {
   "cell_type": "code",
   "execution_count": 1,
   "id": "1e86f575",
   "metadata": {},
   "outputs": [],
   "source": [
    "def square_it(number):\n",
    "    \"\"\"Gibt das Quadrat einer Zahl zurück.\"\"\"\n",
    "    return number * number"
   ]
  },
  {
   "cell_type": "markdown",
   "id": "0c00379a",
   "metadata": {},
   "source": [
    "Diesen Kommentar können wir nun nicht nur unmittelbar im Code lesen, sondern dieser wird auch angezeigt, wenn man die Funktion `help()` auf die Funktion anwendet."
   ]
  },
  {
   "cell_type": "code",
   "execution_count": 2,
   "id": "84fbc3ae",
   "metadata": {
    "scrolled": true
   },
   "outputs": [
    {
     "name": "stdout",
     "output_type": "stream",
     "text": [
      "Help on function square_it in module __main__:\n",
      "\n",
      "square_it(number)\n",
      "    Gibt das Quadrat einer Zahl zurück.\n",
      "\n"
     ]
    }
   ],
   "source": [
    "help(square_it)"
   ]
  },
  {
   "cell_type": "markdown",
   "id": "e211a3c6",
   "metadata": {},
   "source": [
    "V.a. wenn Code auch von anderen genutzt und verstanden werden soll, sind Docstrings eine sinnvolle Sache. Aber auch, um selbst den Überblick über den eigenen Code zu behalten, lohnt es sich, sich die Verwendung von Docstrings anzugewöhnen."
   ]
  }
 ],
 "metadata": {
  "kernelspec": {
   "display_name": "Python [conda env:amp_book]",
   "language": "python",
   "name": "conda-env-amp_book-py"
  },
  "language_info": {
   "codemirror_mode": {
    "name": "ipython",
    "version": 3
   },
   "file_extension": ".py",
   "mimetype": "text/x-python",
   "name": "python",
   "nbconvert_exporter": "python",
   "pygments_lexer": "ipython3",
   "version": "3.7.10"
  }
 },
 "nbformat": 4,
 "nbformat_minor": 5
}
