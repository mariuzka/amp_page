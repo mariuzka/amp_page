{
 "cells": [
  {
   "cell_type": "markdown",
   "id": "1a72f0c1",
   "metadata": {},
   "source": [
    "# Lösungen\n",
    "\n",
    "Auch wenn dies in einem Jupyter Notebook eigentlich nicht notwendig wäre, verwende ich in diesen Lösungen die Funktion `print()`, um Variablenwerte oder den Output von Funktionen anzeigen zu lassen. Dies tue ich, da innerhalb eines Python-Skriptes in Spyder die Funktion `print()` notwendig ist, um die Werte in der Konsole anzeigen zu lassen."
   ]
  },
  {
   "cell_type": "markdown",
   "id": "1c59e18a",
   "metadata": {},
   "source": [
    "**1. Erstelle folgende Variablen. Vor dem Doppelpunkt steht jeweils der Variablenname und hinter dem Doppelpunkt, was in die Variable eingespeichert werden soll.**\n",
    "    \n",
    "- `first_name`: Speichere hier einen beliebigen Vornamen als String ein.\n",
    "- `family_name`: Speichere hier einen beliebigen Nachnamen ein\n",
    "- `full_name`: Erstelle einen String, welcher die beiden obigen Variablen mithilfe des Plus-Zeichens zu einem String zusammenfügt\n",
    "- `year_of_birth`: Speichere hier ein beliebiges Jahr als Integer ein.\n",
    "- `age`: Berechne aus der Variable `year_of_birth` und dem aktuellen Jahr das (ungefähre) Alter und speichere dies in die Variable ein.\n",
    "- `weight`: Speichere ein beliebiges Gewicht in Kilogramm ein.\n",
    "- `height`: speichere eine beliebige Körpergröße in Metern ein.\n",
    "- `bmi`: Berechne den Body-Mass-Index (BMI) der Person und speichere das Ergebnis in die Variable ein. Die Formel für den BMI lautet: \n",
    "    \n",
    "    $ BMI = \\frac{Körpergewicht}{Körpergröße^{2}} $"
   ]
  },
  {
   "cell_type": "code",
   "execution_count": 1,
   "id": "6a7643a4",
   "metadata": {},
   "outputs": [],
   "source": [
    "first_name = \"Otto\"\n",
    "family_name = \"Normalverbraucher\"\n",
    "full_name = first_name + \" \" + family_name\n",
    "year_of_birth = 1948\n",
    "age = 2021 - 1948\n",
    "weight = 85\n",
    "height = 1.77\n",
    "bmi = weight / (height*height)"
   ]
  },
  {
   "cell_type": "markdown",
   "id": "7cbdb97d",
   "metadata": {},
   "source": [
    "**2. Um welchen Datentyp handelt es sich bei der Variable `bmi`? Verwende die geeignete Funktion, um dies herauszufinden.**"
   ]
  },
  {
   "cell_type": "code",
   "execution_count": 2,
   "id": "26c42d08",
   "metadata": {},
   "outputs": [
    {
     "name": "stdout",
     "output_type": "stream",
     "text": [
      "<class 'float'>\n"
     ]
    }
   ],
   "source": [
    "print(type(bmi))"
   ]
  },
  {
   "cell_type": "markdown",
   "id": "c31af17c",
   "metadata": {},
   "source": [
    "**3. Stelle mit einer Funktion sicher, dass die Variable `bmi` den Datentyp Integer aufweist.**"
   ]
  },
  {
   "cell_type": "code",
   "execution_count": 3,
   "id": "0df57092",
   "metadata": {},
   "outputs": [],
   "source": [
    "bmi = int(bmi)"
   ]
  },
  {
   "cell_type": "markdown",
   "id": "de10fc20",
   "metadata": {},
   "source": [
    "**4. Wandele die Variable `year_of_birth` in einen String um.**"
   ]
  },
  {
   "cell_type": "code",
   "execution_count": 4,
   "id": "1547bbcd",
   "metadata": {},
   "outputs": [],
   "source": [
    "year_of_birth = str(year_of_birth)"
   ]
  },
  {
   "cell_type": "markdown",
   "id": "89f87c76",
   "metadata": {},
   "source": [
    "**5. Addiere die Variable `year_of_birth` mit dem Gewicht. Geht das? Ja oder Nein? Warum?**"
   ]
  },
  {
   "cell_type": "code",
   "execution_count": 5,
   "id": "69087119",
   "metadata": {
    "scrolled": true
   },
   "outputs": [
    {
     "ename": "TypeError",
     "evalue": "can only concatenate str (not \"int\") to str",
     "output_type": "error",
     "traceback": [
      "\u001b[1;31m---------------------------------------------------------------------------\u001b[0m",
      "\u001b[1;31mTypeError\u001b[0m                                 Traceback (most recent call last)",
      "\u001b[1;32m<ipython-input-5-25915f97146a>\u001b[0m in \u001b[0;36m<module>\u001b[1;34m\u001b[0m\n\u001b[1;32m----> 1\u001b[1;33m \u001b[0myear_of_birth\u001b[0m \u001b[1;33m+\u001b[0m \u001b[0mweight\u001b[0m\u001b[1;33m\u001b[0m\u001b[1;33m\u001b[0m\u001b[0m\n\u001b[0m",
      "\u001b[1;31mTypeError\u001b[0m: can only concatenate str (not \"int\") to str"
     ]
    }
   ],
   "source": [
    "year_of_birth + weight"
   ]
  },
  {
   "cell_type": "markdown",
   "id": "228542f2",
   "metadata": {},
   "source": [
    "Das funktioniert nicht, da man ein Objekt vom Typ String und ein Objekt vom Typ Integer nicht miteinander \"verrechnen\" kann."
   ]
  },
  {
   "cell_type": "markdown",
   "id": "7bd0fdc6",
   "metadata": {},
   "source": [
    "**6. Erstelle eine Liste, welche all die Variablen aus Aufgabe 1 enthält und speichere diese unter dem Variablennamen `person_1` ab.**"
   ]
  },
  {
   "cell_type": "code",
   "execution_count": 6,
   "id": "519878de",
   "metadata": {},
   "outputs": [],
   "source": [
    "person_1 = [first_name, family_name, full_name, year_of_birth, age, weight, height, bmi]\n",
    "\n",
    "# Folgender \"Schreibstil\" ist ebenfalls verbreitet:\n",
    "person_1 = [\n",
    "    first_name,\n",
    "    family_name,\n",
    "    full_name,\n",
    "    year_of_birth,\n",
    "    age,\n",
    "    weight,\n",
    "    height,\n",
    "    bmi,\n",
    "]"
   ]
  },
  {
   "cell_type": "markdown",
   "id": "a25269bd",
   "metadata": {},
   "source": [
    "**7. Lasse dir die Liste `person_1` mithilfe der Funktion `print()` anzeigen.**"
   ]
  },
  {
   "cell_type": "code",
   "execution_count": 7,
   "id": "39dcde4f",
   "metadata": {},
   "outputs": [
    {
     "name": "stdout",
     "output_type": "stream",
     "text": [
      "['Otto', 'Normalverbraucher', 'Otto Normalverbraucher', '1948', 73, 85, 1.77, 27]\n"
     ]
    }
   ],
   "source": [
    "print(person_1)"
   ]
  },
  {
   "cell_type": "markdown",
   "id": "ff2ed95e",
   "metadata": {},
   "source": [
    "**8. Überprüfe mit einer geeigneten Funktion, welche Länge die Liste `person_1` aufweist.**"
   ]
  },
  {
   "cell_type": "code",
   "execution_count": 8,
   "id": "348a5ad1",
   "metadata": {},
   "outputs": [
    {
     "name": "stdout",
     "output_type": "stream",
     "text": [
      "8\n"
     ]
    }
   ],
   "source": [
    "print(len(person_1))"
   ]
  }
 ],
 "metadata": {
  "kernelspec": {
   "display_name": "Python [conda env:amp]",
   "language": "python",
   "name": "conda-env-amp-py"
  },
  "language_info": {
   "codemirror_mode": {
    "name": "ipython",
    "version": 3
   },
   "file_extension": ".py",
   "mimetype": "text/x-python",
   "name": "python",
   "nbconvert_exporter": "python",
   "pygments_lexer": "ipython3",
   "version": "3.7.10"
  }
 },
 "nbformat": 4,
 "nbformat_minor": 5
}
