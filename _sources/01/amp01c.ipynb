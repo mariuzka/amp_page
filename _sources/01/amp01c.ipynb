{
 "cells": [
  {
   "cell_type": "markdown",
   "id": "09371f17",
   "metadata": {},
   "source": [
    "# Lösungen\n",
    "\n",
    "Auch wenn dies in einem Jupyter Notebook eigentlich nicht notwendig wäre, verwende ich in diesen Lösungen die Funktion `print()`, um Variablenwerte oder den Output von Funktionen anzeigen zu lassen. Dies tue ich, da innerhalb eines Python-Skriptes in Spyder die Funktion `print()` notwendig ist, um die Werte in der Konsole anzeigen zu lassen."
   ]
  },
  {
   "cell_type": "markdown",
   "id": "f747964d",
   "metadata": {},
   "source": [
    "## Aufgabe 1\n",
    "\n",
    "- Erstelle folgende Variablen. Vor dem Doppelpunkt steht jeweils der Variablenname und hinter dem Doppelpunkt, was in die Variable eingespeichert werden soll.\n",
    "    - `first_name`: Speichere hier einen beliebigen Vornamen als String ein.\n",
    "        \n",
    "    - `family_name`: Speichere hier einen beliebigen Nachnamen ein\n",
    "    \n",
    "    - `full_name`: Erstelle einen String, welcher die beiden obigen Variablen mithilfe des Plus-Zeichens zu einem String zusammenfügt\n",
    "        \n",
    "    - `year_of_birth`: Speichere hier ein beliebiges Jahr als Integer ein.\n",
    "    \n",
    "    - `age`: Berechne aus der Variable `year_of_birth` und dem aktuellen Jahr das (ungefähre) Alter und speichere dies in die Variable ein.\n",
    "    \n",
    "    - `weight`: Speichere ein beliebiges Gewicht in Kilogramm ein.\n",
    "    \n",
    "    - `height`: speichere eine beliebige Körpergröße in Metern ein.\n",
    "    \n",
    "    - `bmi`: Berechne den Body-Mass-Index (BMI) der Person und speichere das Ergebnis in die Variable ein. Die Formel für den BMI lautet: \n",
    "    \n",
    "    $ BMI = \\frac{Körpergewicht}{Körpergröße^{2}} $"
   ]
  },
  {
   "cell_type": "code",
   "execution_count": 1,
   "id": "d205dd70",
   "metadata": {},
   "outputs": [],
   "source": [
    "first_name = \"Otto\"\n",
    "family_name = \"Normalverbraucher\"\n",
    "full_name = first_name + \" \" + family_name\n",
    "year_of_birth = 1948\n",
    "age = 2021 - 1948\n",
    "weight = 85\n",
    "height = 1.77\n",
    "bmi = weight / (height*height)"
   ]
  },
  {
   "cell_type": "markdown",
   "id": "883d4731",
   "metadata": {},
   "source": [
    "## Aufgabe 2\n",
    "\n",
    "- Um welchen Datentyp handelt es sich bei der Variable `bmi`? Verwende die geeignete Funktion, um dies herauszufinden."
   ]
  },
  {
   "cell_type": "code",
   "execution_count": 2,
   "id": "1aeb210f",
   "metadata": {},
   "outputs": [
    {
     "name": "stdout",
     "output_type": "stream",
     "text": [
      "<class 'float'>\n"
     ]
    }
   ],
   "source": [
    "print(type(bmi))"
   ]
  },
  {
   "cell_type": "markdown",
   "id": "9d2a871f",
   "metadata": {},
   "source": [
    "## Aufgabe 3\n",
    "\n",
    "- Stelle mit einer Funktion sicher, dass die Variable `bmi` den Datentyp Integer aufweist."
   ]
  },
  {
   "cell_type": "code",
   "execution_count": 3,
   "id": "ef2fc03d",
   "metadata": {},
   "outputs": [],
   "source": [
    "bmi = int(bmi)"
   ]
  },
  {
   "cell_type": "markdown",
   "id": "ae34510b",
   "metadata": {},
   "source": [
    "## Aufgabe 4\n",
    "\n",
    "- Wandele die Variable `year_of_birth` in einen String um.\n"
   ]
  },
  {
   "cell_type": "code",
   "execution_count": 4,
   "id": "a6e94be9",
   "metadata": {},
   "outputs": [],
   "source": [
    "year_of_birth = str(year_of_birth)"
   ]
  },
  {
   "cell_type": "markdown",
   "id": "3b6be57d",
   "metadata": {},
   "source": [
    "## Aufgabe 5\n",
    "\n",
    "- Addiere die Variable `year_of_birth` mit dem Gewicht. Geht das? Ja oder Nein? Warum?"
   ]
  },
  {
   "cell_type": "code",
   "execution_count": 5,
   "id": "6ffd0a0a",
   "metadata": {
    "scrolled": true
   },
   "outputs": [
    {
     "ename": "TypeError",
     "evalue": "can only concatenate str (not \"int\") to str",
     "output_type": "error",
     "traceback": [
      "\u001b[1;31m---------------------------------------------------------------------------\u001b[0m",
      "\u001b[1;31mTypeError\u001b[0m                                 Traceback (most recent call last)",
      "\u001b[1;32m<ipython-input-5-25915f97146a>\u001b[0m in \u001b[0;36m<module>\u001b[1;34m\u001b[0m\n\u001b[1;32m----> 1\u001b[1;33m \u001b[0myear_of_birth\u001b[0m \u001b[1;33m+\u001b[0m \u001b[0mweight\u001b[0m\u001b[1;33m\u001b[0m\u001b[1;33m\u001b[0m\u001b[0m\n\u001b[0m",
      "\u001b[1;31mTypeError\u001b[0m: can only concatenate str (not \"int\") to str"
     ]
    }
   ],
   "source": [
    "year_of_birth + weight"
   ]
  },
  {
   "cell_type": "markdown",
   "id": "74bc7758",
   "metadata": {},
   "source": [
    "Das funktioniert nicht, da man ein Objekt vom Typ String und ein Objekt vom Typ Integer nicht miteinander \"verrechnen\" kann."
   ]
  },
  {
   "cell_type": "markdown",
   "id": "c03b8486",
   "metadata": {},
   "source": [
    "## Aufgabe 6\n",
    "\n",
    "- Erstelle eine Liste, welche all die Variablen aus Aufgabe 1 enthält und speichere diese unter dem Variablennamen `person_1` ab."
   ]
  },
  {
   "cell_type": "code",
   "execution_count": 6,
   "id": "582d877e",
   "metadata": {},
   "outputs": [],
   "source": [
    "person_1 = [first_name, family_name, full_name, year_of_birth, age, weight, height, bmi]\n",
    "\n",
    "# Folgender \"Schreibstil\" ist ebenfalls verbreitet:\n",
    "person_1 = [\n",
    "    first_name,\n",
    "    family_name,\n",
    "    full_name,\n",
    "    year_of_birth,\n",
    "    age,\n",
    "    weight,\n",
    "    height,\n",
    "    bmi,\n",
    "]"
   ]
  },
  {
   "cell_type": "markdown",
   "id": "cd6504a7",
   "metadata": {},
   "source": [
    "## Aufgabe 7\n",
    "\n",
    "- Lasse dir die Liste `person_1` mithilfe der Funktion `print()` anzeigen."
   ]
  },
  {
   "cell_type": "code",
   "execution_count": 7,
   "id": "76fcd94a",
   "metadata": {},
   "outputs": [
    {
     "name": "stdout",
     "output_type": "stream",
     "text": [
      "['Otto', 'Normalverbraucher', 'Otto Normalverbraucher', '1948', 73, 85, 1.77, 27]\n"
     ]
    }
   ],
   "source": [
    "print(person_1)"
   ]
  },
  {
   "cell_type": "markdown",
   "id": "79cc15f0",
   "metadata": {},
   "source": [
    "## Aufgabe 8\n",
    "\n",
    "- Überprüfe mit einer geeigneten Funktion, welche Länge die Liste `person_1` aufweist."
   ]
  },
  {
   "cell_type": "code",
   "execution_count": 8,
   "id": "00b85ffd",
   "metadata": {},
   "outputs": [
    {
     "name": "stdout",
     "output_type": "stream",
     "text": [
      "8\n"
     ]
    }
   ],
   "source": [
    "print(len(person_1))"
   ]
  }
 ],
 "metadata": {
  "kernelspec": {
   "display_name": "Python [conda env:amp] *",
   "language": "python",
   "name": "conda-env-amp-py"
  },
  "language_info": {
   "codemirror_mode": {
    "name": "ipython",
    "version": 3
   },
   "file_extension": ".py",
   "mimetype": "text/x-python",
   "name": "python",
   "nbconvert_exporter": "python",
   "pygments_lexer": "ipython3",
   "version": "3.7.10"
  }
 },
 "nbformat": 4,
 "nbformat_minor": 5
}
