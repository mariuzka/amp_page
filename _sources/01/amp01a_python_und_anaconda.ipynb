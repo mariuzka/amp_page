{
 "cells": [
  {
   "cell_type": "markdown",
   "id": "296f0cab",
   "metadata": {},
   "source": [
    "# Verwendete Software\n",
    "\n",
    "\n",
    "## Python\n",
    "Wir nutzen im Kurs die Programmiersprache Python. Python ist eine professionelle und universell einsetzbare Programmiersprache, die momentan zu den [populärsten Programmiersprachen weltweit](https://www.northeastern.edu/graduate/blog/most-popular-programming-languages/) zählt. Zur offiziellen Website von Python geht es [hier](https://www.python.org/).\n",
    "\n",
    "**Wir benutzen Python in diesem Seminar aus folgenden Gründen:**\n",
    "\n",
    "- Python ist im Vergleich zu anderen Programmiersprachen *relativ einfach zu lernen* und besitzt eine *gut lesbare Syntax* .\n",
    "\n",
    "- Python setzt die sogenannte Objektorientierte Programmierung (kurz: OOP) sehr gut um. Das ist nützlich, da wir einen Agenten später als ein selbstdefiniertes Software-Objekt mit gewissen Eigenschaften umsetzen werden.\n",
    "\n",
    "- Mit Python als professioneller Programmiersprache ist man im Vergleich zu [NetLogo](https://ccl.northwestern.edu/netlogo/), einer extra für die Einführung in ABM entworfene Programmiersprache, deutlich mächtiger und flexibler in der Programmierung von ABM.\n",
    "\n",
    "- Mit Python könnt ihr nicht nur ABM programmieren, sondern verfügt über eine sowohl in der Wissenschaft als auch in sonstigen Arbeitsfeldern universal einsetzbare und äußerst gefragte Kompetenz.\n",
    "\n",
    "- Python ist zur Zeit extrem populär und verfügt über eine sehr aktive Community. Dadurch findet man durch eine Google-Suche (auf Englisch) zu fast jedem Problem mit Python eine Lösung. \n",
    "\n",
    "\n",
    "**Nachteile von Python für die Entwicklung von ABM:**\n",
    "\n",
    "- Anders als z.B. Netlogo wurde Python nicht speziell für die Programmierung von ABM entwickelt. Das macht den Einstieg in die Programmierung von ABM etwas schwerer, zahlt sich langfristig aber aus.\n",
    "\n",
    "- Während beispeilsweise in NetLogo die graphische Darstellung nicht selbst programmiert werden muss, müssen wir dies in Python selber programmieren. Aus diesem Grund werden wir in diesem Kurs nur sehr einfache Methoden der graphischen Darstellung verwenden.\n",
    "\n",
    "- Python ist im Vergleich zu anderen professionellen Programmiersprachen etwas, für uns jedoch unmerklich, langsamer."
   ]
  },
  {
   "cell_type": "markdown",
   "id": "d8327738",
   "metadata": {},
   "source": [
    "## Anaconda\n",
    "\n",
    "Ich empfehle für diesen Kurs Python über Anaconda zu installieren und zu nutzen. Anaconda bündelt alle wichtigen Pakete und Programmierumgebungen wie [Spyder](https://www.spyder-ide.org/) und [Jupyter Notebook](https://jupyter.org/), macht den Einstieg in die Programmierung mit Python etwas einfacher, hift einem aber auch langfristig all die Python-Zusatzpakete (in sogenannten virtuellen Umgebungen) zu managen.\n",
    "\n",
    "Anaconda kann [hier](https://www.anaconda.com/distribution/) heruntergeladen werden.\n",
    "\n",
    "Nach der Installation von Anaconda kann der **Anaconda-Navigator** geöffnet werden. Dort stehen eine Reihe von Programmen zur Auswahl, u.a. auch Spyder, welches wir in diesem Kurs zur Programmierung mit Python verwenden werden."
   ]
  },
  {
   "cell_type": "markdown",
   "id": "f69d6b09",
   "metadata": {},
   "source": [
    "![bild](img/anaconda_navigator.png)"
   ]
  },
  {
   "cell_type": "markdown",
   "id": "7a2c08dc",
   "metadata": {},
   "source": [
    "## Spyder\n",
    "\n",
    "Wir werden zunächst v.a. mit der Programmierumgebung Spyder arbeiten. Spyder ist eine Integrierte-Entwicklungs-Umgebung (integrated development environment, kurz: IDE), welche auf die wissenschaftliche Anwendung von Python spezialisiert ist. Wir können in dieser sowohl den Code unseres Programmes schreiben, unsere Daten/Variablen untersuchen, Graphiken anzeigen lassen als auch interaktiv mit Python kommunizieren. Wenn du vielleicht schonmal mit R und R-Studio gearbeitet hast: Spyder ist quasi das R-Studio für Python.\n",
    "\n",
    "Spyder besteht aus drei zentralen Fenstern:\n",
    "\n",
    "**Editor**: \n",
    "- Im Editor schreiben wir unser *Programm* bzw. unseren *Code*.\n",
    "- Wir können das dort geschriebene Programm als .py-Datei abspeichern. Wir nennen ein solches Dokument auch \"Skript\".\n",
    "- Das gesamte Programm des aktuellen Skripts können wir ausführen, indem wir auf das grüne Dreieck am oberen Rand von Spyder drücken\n",
    "- Einzelne Code-Ausschnitte können u.a. ausgeführt werden, indem wir diese markieren und F9 drücken\n",
    "\n",
    "**Konsole**:\n",
    "- In der Konsole \"verbirgt\" sich Python bzw. der sogenannte Python-Kernel. Vereinfacht kann man sich vorstellen, dass hier unser geschriebener Code ausgeführt wird.\n",
    "- Wir bekommen in der Konsole auch Feedback von Python. Hier werden beispielsweise Ergebnisse oder Fehlermeldungen eines Programmes angezeigt.\n",
    "- In die Konsole können wir auch direkt Code eintippen, mit Enter bestätigen und wir bekommen unmittelbar das Ergebnis angezeigt. Die Konsole kann also auch für eine \"interaktive\" Benutzung von Python, beispielsweise wie bei einem Taschenrechner, verwendet werden.\n",
    "\n",
    "**Variablenexplorer**:\n",
    "- Im Variablenmanager bekommen wir die Werte von Variablen bzw. Software-Objekten angezeigt.\n",
    "- Sehr hilfreich, um zu prüfen, inwiefern das Programm richtig läuft und um den Überblick zu behalten."
   ]
  },
  {
   "cell_type": "markdown",
   "id": "7f9d37e3",
   "metadata": {},
   "source": [
    "![](img/spyder_mit_beschriftung.png)"
   ]
  }
 ],
 "metadata": {
  "kernelspec": {
   "display_name": "Python [conda env:amp_book] *",
   "language": "python",
   "name": "conda-env-amp_book-py"
  },
  "language_info": {
   "codemirror_mode": {
    "name": "ipython",
    "version": 3
   },
   "file_extension": ".py",
   "mimetype": "text/x-python",
   "name": "python",
   "nbconvert_exporter": "python",
   "pygments_lexer": "ipython3",
   "version": "3.7.10"
  }
 },
 "nbformat": 4,
 "nbformat_minor": 5
}
