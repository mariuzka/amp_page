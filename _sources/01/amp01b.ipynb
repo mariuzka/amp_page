{
 "cells": [
  {
   "cell_type": "markdown",
   "id": "f2f60a74",
   "metadata": {},
   "source": [
    "# 1.2 Warm-up\n",
    "\n",
    "1. Erstelle folgende Variablen. Vor dem Doppelpunkt steht jeweils der Variablenname und hinter dem Doppelpunkt, was in die Variable eingespeichert werden soll.\n",
    "    - `first_name`: Speichere hier einen beliebigen Vornamen als String ein.\n",
    "        \n",
    "    - `family_name`: Speichere hier einen beliebigen Nachnamen ein\n",
    "    \n",
    "    - `full_name`: Erstelle einen String, welcher die beiden obigen Variablen mithilfe des Plus-Zeichens zu einem String zusammenfügt\n",
    "        \n",
    "    - `year_of_birth`: Speichere hier ein beliebiges Jahr als Integer ein.\n",
    "    \n",
    "    - `age`: Berechne aus der Variable `year_of_birth` und dem aktuellen Jahr das (ungefähre) Alter und speichere dies in die Variable ein.\n",
    "    \n",
    "    - `weight`: Speichere ein beliebiges Gewicht in Kilogramm ein.\n",
    "    \n",
    "    - `height`: speichere eine beliebige Körpergröße in Metern ein.\n",
    "    \n",
    "    - `bmi`: Berechne den Body-Mass-Index (BMI) der Person und speichere das Ergebnis in die Variable ein. Die Formel für den BMI lautet: \n",
    "    \n",
    "    $ BMI = \\frac{Körpergewicht}{Körpergröße^{2}} $\n",
    "2. Um welchen Datentyp handelt es sich bei der Variable `bmi`? Verwende die geeignete Funktion, um dies herauszufinden.\n",
    "3. Stelle mit einer Funktion sicher, dass die Variable `bmi` den Datentyp Integer aufweist.\n",
    "4. Wandele die Variable `year_of_birth` in einen String um.\n",
    "5. Addiere die Variable `year_of_birth` mit dem Gewicht. Geht das? Ja oder Nein? Warum?\n",
    "6. Erstelle eine Liste, welche all die Variablen aus Aufgabe 1 enthält und speichere diese unter dem Variablennamen `person_1` ab.\n",
    "7. Lasse dir die Liste `person_1` mithilfe der Funktion `print()` anzeigen.\n",
    "8. Überprüfe mit einer geeigneten Funktion, welche Länge die Liste `person_1` aufweist."
   ]
  }
 ],
 "metadata": {
  "kernelspec": {
   "display_name": "Python 3",
   "language": "python",
   "name": "python3"
  },
  "language_info": {
   "codemirror_mode": {
    "name": "ipython",
    "version": 3
   },
   "file_extension": ".py",
   "mimetype": "text/x-python",
   "name": "python",
   "nbconvert_exporter": "python",
   "pygments_lexer": "ipython3",
   "version": "3.7.10"
  }
 },
 "nbformat": 4,
 "nbformat_minor": 5
}
